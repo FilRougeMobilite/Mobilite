{
 "cells": [
  {
   "cell_type": "code",
   "execution_count": 1,
   "id": "db109aaf-eb9e-4042-8f98-791e317b2d1c",
   "metadata": {
    "tags": []
   },
   "outputs": [],
   "source": [
    "import pandas as pd\n",
    "import glob\n",
    "import numpy as np\n",
    "#pd.set_option('display.max_rows', None)\n",
    "#pd.set_option('display.max_columns', None)\n",
    "import matplotlib.pyplot as plt\n",
    "import seaborn as sns"
   ]
  },
  {
   "cell_type": "code",
   "execution_count": 2,
   "id": "a26d1132-df14-4514-ad54-384a1c252aec",
   "metadata": {},
   "outputs": [
    {
     "data": {
      "text/plain": [
       "'C:\\\\Users\\\\plele\\\\OneDrive - Université de Technologie de Troyes\\\\Fil_rouge'"
      ]
     },
     "execution_count": 2,
     "metadata": {},
     "output_type": "execute_result"
    }
   ],
   "source": [
    "pwd"
   ]
  },
  {
   "cell_type": "code",
   "execution_count": 3,
   "id": "49248214-918d-4685-8d1e-9947f33b1271",
   "metadata": {
    "tags": []
   },
   "outputs": [
    {
     "data": {
      "text/plain": [
       "['./Tables_traitees\\\\Communes_manquantes.csv',\n",
       " './Tables_traitees\\\\Infos_communes.csv',\n",
       " './Tables_traitees\\\\Infos_communes_avec_prix_estimé.csv',\n",
       " './Tables_traitees\\\\Population-Superficie_communes.csv',\n",
       " './Tables_traitees\\\\PrixMoy_m2_avec_code_commune.csv',\n",
       " './Tables_traitees\\\\Stations_carburant_avec_code_commune.csv',\n",
       " './Tables_traitees\\\\Stations_electriques_avec_code_commune.csv']"
      ]
     },
     "execution_count": 3,
     "metadata": {},
     "output_type": "execute_result"
    }
   ],
   "source": [
    "glob.glob('./Tables_traitees/*')"
   ]
  },
  {
   "cell_type": "markdown",
   "id": "c403829a-7da6-4aa4-94fc-a84c7213b55f",
   "metadata": {},
   "source": [
    "| N° | Dataframe | Description |\n",
    "| -- | -- | -- |  \n",
    "| 1. | df_elec | Bornes électriques |\n",
    "| 2. | df_carb | Stations Carburant | \n",
    "| 3. | df_pop | Population et supéerficie commune | \n",
    "| 4. | df_com | Infos communes | \n",
    "| 5. | df_commune_immo | Prix au m2 | \n",
    "| 6. | df_commune_adj | Communes adjacentes | |"
   ]
  },
  {
   "cell_type": "markdown",
   "id": "94ea35c2-a39d-4e24-bbbe-18a1a6d90811",
   "metadata": {
    "execution": {
     "iopub.execute_input": "2024-01-07T09:21:28.476863Z",
     "iopub.status.busy": "2024-01-07T09:21:28.476863Z",
     "iopub.status.idle": "2024-01-07T09:21:28.487862Z",
     "shell.execute_reply": "2024-01-07T09:21:28.486950Z",
     "shell.execute_reply.started": "2024-01-07T09:21:28.476863Z"
    }
   },
   "source": [
    "# Analyse des tables traitées"
   ]
  },
  {
   "cell_type": "markdown",
   "id": "b46b2c15-656c-4c09-b07c-3ddd6f1c0d9c",
   "metadata": {},
   "source": [
    "## df_elec - Bornes électriques"
   ]
  },
  {
   "cell_type": "code",
   "execution_count": 4,
   "id": "65249c0a-915a-48bb-9138-54b72f255bab",
   "metadata": {},
   "outputs": [
    {
     "name": "stderr",
     "output_type": "stream",
     "text": [
      "C:\\Users\\plele\\AppData\\Local\\Temp\\ipykernel_10608\\2994795067.py:1: DtypeWarning: Columns (12,52,63) have mixed types. Specify dtype option on import or set low_memory=False.\n",
      "  df_elec = pd.read_csv('./Tables_traitees\\\\Stations_electriques_avec_code_commune.csv', sep=';')\n"
     ]
    }
   ],
   "source": [
    "df_elec = pd.read_csv('./Tables_traitees\\\\Stations_electriques_avec_code_commune.csv', sep=';')"
   ]
  },
  {
   "cell_type": "code",
   "execution_count": 5,
   "id": "54317adf-64f7-4d6a-8b2d-f10d15d9d88f",
   "metadata": {},
   "outputs": [],
   "source": [
    "rename = {col:\"1_\"+col for col in df_elec.columns}\n",
    "df_elec.rename(columns = rename, inplace=True)"
   ]
  },
  {
   "cell_type": "code",
   "execution_count": 6,
   "id": "9e0c119b-7a7c-42e3-91f5-7ccc0177c240",
   "metadata": {},
   "outputs": [
    {
     "data": {
      "text/plain": [
       "(63715, 64)"
      ]
     },
     "execution_count": 6,
     "metadata": {},
     "output_type": "execute_result"
    }
   ],
   "source": [
    "df_elec.shape"
   ]
  },
  {
   "cell_type": "code",
   "execution_count": 7,
   "id": "3328bd72-1199-44a2-805d-0bb6b120084d",
   "metadata": {},
   "outputs": [
    {
     "data": {
      "text/plain": [
       "Index(['1_Nom aménageur', '1_SIREN aménageur', '1_Contact aménageur',\n",
       "       '1_Nom opérateur', '1_Contact opérateur', '1_Téléphone opérateur',\n",
       "       '1_Nom enseigne', '1_ID station itinérance', '1_ID station local',\n",
       "       '1_Nom station', '1_Implantation station', '1_Adresse station',\n",
       "       '1_Code INSEE commune', '1_Coordonnées', '1_Nombre Points de charge',\n",
       "       '1_ID PDC itinérance', '1_ID PDC local', '1_Puissance nominale',\n",
       "       '1_Prise type E/F', '1_Prise type 2', '1_Prise type combo ccs',\n",
       "       '1_Prise type chademo', '1_Prise type autre', '1_Gratuit',\n",
       "       '1_Paiement acte', '1_Paiement CB', '1_Paiement autre',\n",
       "       '1_Tarification', '1_Condition accès', '1_Réservation', '1_Horaires',\n",
       "       '1_Accessibilité PMR', '1_Restriction gabarit', '1_Station deux roues',\n",
       "       '1_Raccordement', '1_Num PDL', '1_Date mise en service',\n",
       "       '1_Observations', '1_Date de Mise à Jour', '1_cable_t2_attache',\n",
       "       '1_Dernière modification', '1_datagouv dataset id',\n",
       "       '1_datagouv resource id', '1_datagouv organization or owner',\n",
       "       '1_created_at', '1_consolidated_longitude', '1_consolidated_latitude',\n",
       "       '1_consolidated_code_postal', '1_consolidated_commune',\n",
       "       '1_consolidated_is_lon_lat_correct',\n",
       "       '1_consolidated_is_code_insee_verified', '1_coord', '1_longitude',\n",
       "       '1_latitude', '1_point_geo',\n",
       "       '1_Nom de la commune ou de l'arrondissement municipal',\n",
       "       '1_Code de la commune ou de l'arrondissement', '1_Code EPCI',\n",
       "       '1_Nom de l'EPCI', '1_Code Officiel Département',\n",
       "       '1_Nom Officiel Département', '1_Code Officiel Région',\n",
       "       '1_Nom Officiel Région', '1_code_commune_n'],\n",
       "      dtype='object')"
      ]
     },
     "execution_count": 7,
     "metadata": {},
     "output_type": "execute_result"
    }
   ],
   "source": [
    "df_elec.columns"
   ]
  },
  {
   "cell_type": "code",
   "execution_count": 8,
   "id": "8fec07d6-f68a-46d9-89b7-fb54ee6aeaaa",
   "metadata": {},
   "outputs": [
    {
     "data": {
      "text/plain": [
       "(55, 64)"
      ]
     },
     "execution_count": 8,
     "metadata": {},
     "output_type": "execute_result"
    }
   ],
   "source": [
    "df_elec[df_elec['1_code_commune_n'].isna()].shape"
   ]
  },
  {
   "cell_type": "code",
   "execution_count": 9,
   "id": "f47e5ada-6f8f-44ab-a406-837607a0b8cc",
   "metadata": {},
   "outputs": [],
   "source": [
    "# df_elec[df_elec['1_code_commune_n'].isna()].to_csv('./Tables_traitees\\\\Communes_manquantes.csv', sep=';',index=False)"
   ]
  },
  {
   "cell_type": "markdown",
   "id": "463852c4-0007-4522-9fea-cd9d61fdb83a",
   "metadata": {},
   "source": [
    "## df_carb - Stations Carburant"
   ]
  },
  {
   "cell_type": "code",
   "execution_count": 10,
   "id": "3be16777-32c9-4d98-bfb5-5f7824d40a0a",
   "metadata": {},
   "outputs": [],
   "source": [
    "df_carb = pd.read_csv('./Tables_traitees\\\\Stations_carburant_avec_code_commune.csv', sep=';')"
   ]
  },
  {
   "cell_type": "code",
   "execution_count": 11,
   "id": "af9215e9-3a85-4e84-a83c-e6929c5786d8",
   "metadata": {},
   "outputs": [],
   "source": [
    "rename = {col:\"2_\"+col for col in df_carb.columns}\n",
    "df_carb.rename(columns = rename, inplace=True)"
   ]
  },
  {
   "cell_type": "code",
   "execution_count": 12,
   "id": "b671e293-d139-4c3b-ab20-7c63891d8bcb",
   "metadata": {},
   "outputs": [
    {
     "data": {
      "text/plain": [
       "(12450, 25)"
      ]
     },
     "execution_count": 12,
     "metadata": {},
     "output_type": "execute_result"
    }
   ],
   "source": [
    "df_carb.shape"
   ]
  },
  {
   "cell_type": "code",
   "execution_count": 13,
   "id": "d2740704-c826-4d21-aa91-a60cff60321b",
   "metadata": {},
   "outputs": [
    {
     "data": {
      "text/plain": [
       "Index(['2_Identifiant', '2_Code Postal', '2_Présence', '2_Adresse', '2_Ville',\n",
       "       '2_Automate 24-24', '2_Timetable', '2_Carburant', '2_Rupture',\n",
       "       '2_Mise à jour', '2_Prix Gazole', '2_Prix SP95', '2_Prix SP98',\n",
       "       '2_Prix GPLc', '2_Prix E10', '2_Prix E85', '2_Services', '2_Marque',\n",
       "       '2_Nom', '2_Geo Point', '2_Code INSEE', '2_Commune', '2_code_commune_n',\n",
       "       '2_lat', '2_lon'],\n",
       "      dtype='object')"
      ]
     },
     "execution_count": 13,
     "metadata": {},
     "output_type": "execute_result"
    }
   ],
   "source": [
    "df_carb.columns"
   ]
  },
  {
   "cell_type": "code",
   "execution_count": 14,
   "id": "936801fc-f329-4339-b0b2-f3361ac6f26c",
   "metadata": {},
   "outputs": [
    {
     "data": {
      "text/plain": [
       "2_Identifiant         int64\n",
       "2_Code Postal         int64\n",
       "2_Présence           object\n",
       "2_Adresse            object\n",
       "2_Ville              object\n",
       "2_Automate 24-24     object\n",
       "2_Timetable          object\n",
       "2_Carburant          object\n",
       "2_Rupture            object\n",
       "2_Mise à jour        object\n",
       "2_Prix Gazole       float64\n",
       "2_Prix SP95         float64\n",
       "2_Prix SP98         float64\n",
       "2_Prix GPLc         float64\n",
       "2_Prix E10          float64\n",
       "2_Prix E85          float64\n",
       "2_Services           object\n",
       "2_Marque             object\n",
       "2_Nom                object\n",
       "2_Geo Point          object\n",
       "2_Code INSEE         object\n",
       "2_Commune            object\n",
       "2_code_commune_n     object\n",
       "2_lat               float64\n",
       "2_lon               float64\n",
       "dtype: object"
      ]
     },
     "execution_count": 14,
     "metadata": {},
     "output_type": "execute_result"
    }
   ],
   "source": [
    "df_carb.dtypes"
   ]
  },
  {
   "cell_type": "code",
   "execution_count": 15,
   "id": "7febbbdf-8aa5-4c45-a1c6-8f902823d825",
   "metadata": {},
   "outputs": [
    {
     "data": {
      "text/html": [
       "<div>\n",
       "<style scoped>\n",
       "    .dataframe tbody tr th:only-of-type {\n",
       "        vertical-align: middle;\n",
       "    }\n",
       "\n",
       "    .dataframe tbody tr th {\n",
       "        vertical-align: top;\n",
       "    }\n",
       "\n",
       "    .dataframe thead th {\n",
       "        text-align: right;\n",
       "    }\n",
       "</style>\n",
       "<table border=\"1\" class=\"dataframe\">\n",
       "  <thead>\n",
       "    <tr style=\"text-align: right;\">\n",
       "      <th></th>\n",
       "      <th>2_Identifiant</th>\n",
       "      <th>2_Code Postal</th>\n",
       "      <th>2_Présence</th>\n",
       "      <th>2_Adresse</th>\n",
       "      <th>2_Ville</th>\n",
       "      <th>2_Automate 24-24</th>\n",
       "      <th>2_Timetable</th>\n",
       "      <th>2_Carburant</th>\n",
       "      <th>2_Rupture</th>\n",
       "      <th>2_Mise à jour</th>\n",
       "      <th>...</th>\n",
       "      <th>2_Prix E85</th>\n",
       "      <th>2_Services</th>\n",
       "      <th>2_Marque</th>\n",
       "      <th>2_Nom</th>\n",
       "      <th>2_Geo Point</th>\n",
       "      <th>2_Code INSEE</th>\n",
       "      <th>2_Commune</th>\n",
       "      <th>2_code_commune_n</th>\n",
       "      <th>2_lat</th>\n",
       "      <th>2_lon</th>\n",
       "    </tr>\n",
       "  </thead>\n",
       "  <tbody>\n",
       "    <tr>\n",
       "      <th>0</th>\n",
       "      <td>14730002</td>\n",
       "      <td>14730</td>\n",
       "      <td>A</td>\n",
       "      <td>Autoroute de Normandie</td>\n",
       "      <td>GIBERVILLE</td>\n",
       "      <td>NaN</td>\n",
       "      <td>NaN</td>\n",
       "      <td>Gazole</td>\n",
       "      <td>SP95,E85,GPLc</td>\n",
       "      <td>2020-01-06T12:44:00+01:00</td>\n",
       "      <td>...</td>\n",
       "      <td>NaN</td>\n",
       "      <td>NaN</td>\n",
       "      <td>Esso</td>\n",
       "      <td>ESSO GIBERVILLE</td>\n",
       "      <td>49.16711, -0.28803</td>\n",
       "      <td>14301</td>\n",
       "      <td>GIBERVILLE</td>\n",
       "      <td>14301</td>\n",
       "      <td>49.167110</td>\n",
       "      <td>-0.288030</td>\n",
       "    </tr>\n",
       "    <tr>\n",
       "      <th>1</th>\n",
       "      <td>84550001</td>\n",
       "      <td>84550</td>\n",
       "      <td>A</td>\n",
       "      <td>A7 AIRE DE MORNAS VILLAGE</td>\n",
       "      <td>MORNAS</td>\n",
       "      <td>NaN</td>\n",
       "      <td>NaN</td>\n",
       "      <td>Gazole,SP95,E85,GPLc,E10,SP98</td>\n",
       "      <td>NaN</td>\n",
       "      <td>2020-01-12T09:51:06+01:00</td>\n",
       "      <td>...</td>\n",
       "      <td>0.749000</td>\n",
       "      <td>Restauration à emporter,Carburant additivé,Toi...</td>\n",
       "      <td>Carrefour</td>\n",
       "      <td>AIRE DE MORNAS VILLAGE (LES CROUSILLES)</td>\n",
       "      <td>44.2036953693, 4.72398720666</td>\n",
       "      <td>84083</td>\n",
       "      <td>MORNAS</td>\n",
       "      <td>84083</td>\n",
       "      <td>44.203695</td>\n",
       "      <td>4.723987</td>\n",
       "    </tr>\n",
       "    <tr>\n",
       "      <th>2</th>\n",
       "      <td>67202004</td>\n",
       "      <td>67202</td>\n",
       "      <td>R</td>\n",
       "      <td>RN 4 Route de Saverne, Station Total Access</td>\n",
       "      <td>WOLFISHEIM</td>\n",
       "      <td>Oui</td>\n",
       "      <td>{\"Dimanche\": {\"fermeture\": \"20.00\", \"ouvert\": ...</td>\n",
       "      <td>E85,E10,SP98</td>\n",
       "      <td>GPLc,SP95</td>\n",
       "      <td>2022-11-22T08:52:37+01:00</td>\n",
       "      <td>...</td>\n",
       "      <td>0.000929</td>\n",
       "      <td>Relais colis,Boutique alimentaire,Boutique non...</td>\n",
       "      <td>NaN</td>\n",
       "      <td>NaN</td>\n",
       "      <td>NaN</td>\n",
       "      <td>67551</td>\n",
       "      <td>WOLFISHEIM</td>\n",
       "      <td>67551</td>\n",
       "      <td>NaN</td>\n",
       "      <td>NaN</td>\n",
       "    </tr>\n",
       "  </tbody>\n",
       "</table>\n",
       "<p>3 rows × 25 columns</p>\n",
       "</div>"
      ],
      "text/plain": [
       "   2_Identifiant  2_Code Postal 2_Présence  \\\n",
       "0       14730002          14730          A   \n",
       "1       84550001          84550          A   \n",
       "2       67202004          67202          R   \n",
       "\n",
       "                                     2_Adresse     2_Ville 2_Automate 24-24  \\\n",
       "0                       Autoroute de Normandie  GIBERVILLE              NaN   \n",
       "1                    A7 AIRE DE MORNAS VILLAGE      MORNAS              NaN   \n",
       "2  RN 4 Route de Saverne, Station Total Access  WOLFISHEIM              Oui   \n",
       "\n",
       "                                         2_Timetable  \\\n",
       "0                                                NaN   \n",
       "1                                                NaN   \n",
       "2  {\"Dimanche\": {\"fermeture\": \"20.00\", \"ouvert\": ...   \n",
       "\n",
       "                     2_Carburant      2_Rupture              2_Mise à jour  \\\n",
       "0                         Gazole  SP95,E85,GPLc  2020-01-06T12:44:00+01:00   \n",
       "1  Gazole,SP95,E85,GPLc,E10,SP98            NaN  2020-01-12T09:51:06+01:00   \n",
       "2                   E85,E10,SP98      GPLc,SP95  2022-11-22T08:52:37+01:00   \n",
       "\n",
       "   ...  2_Prix E85                                         2_Services  \\\n",
       "0  ...         NaN                                                NaN   \n",
       "1  ...    0.749000  Restauration à emporter,Carburant additivé,Toi...   \n",
       "2  ...    0.000929  Relais colis,Boutique alimentaire,Boutique non...   \n",
       "\n",
       "    2_Marque                                    2_Nom  \\\n",
       "0       Esso                          ESSO GIBERVILLE   \n",
       "1  Carrefour  AIRE DE MORNAS VILLAGE (LES CROUSILLES)   \n",
       "2        NaN                                      NaN   \n",
       "\n",
       "                    2_Geo Point  2_Code INSEE   2_Commune 2_code_commune_n  \\\n",
       "0            49.16711, -0.28803         14301  GIBERVILLE            14301   \n",
       "1  44.2036953693, 4.72398720666         84083      MORNAS            84083   \n",
       "2                           NaN         67551  WOLFISHEIM            67551   \n",
       "\n",
       "       2_lat     2_lon  \n",
       "0  49.167110 -0.288030  \n",
       "1  44.203695  4.723987  \n",
       "2        NaN       NaN  \n",
       "\n",
       "[3 rows x 25 columns]"
      ]
     },
     "execution_count": 15,
     "metadata": {},
     "output_type": "execute_result"
    }
   ],
   "source": [
    "df_carb[:3]"
   ]
  },
  {
   "cell_type": "code",
   "execution_count": 16,
   "id": "bdc234b7-d2bc-4c17-9c4f-38c1b28deafd",
   "metadata": {},
   "outputs": [
    {
     "data": {
      "text/plain": [
       "10962"
      ]
     },
     "execution_count": 16,
     "metadata": {},
     "output_type": "execute_result"
    }
   ],
   "source": [
    "len(df_carb['2_Identifiant'].unique())"
   ]
  },
  {
   "cell_type": "code",
   "execution_count": 17,
   "id": "65204639-518f-458c-a098-2b8c31064179",
   "metadata": {
    "scrolled": true
   },
   "outputs": [
    {
     "data": {
      "text/html": [
       "<div>\n",
       "<style scoped>\n",
       "    .dataframe tbody tr th:only-of-type {\n",
       "        vertical-align: middle;\n",
       "    }\n",
       "\n",
       "    .dataframe tbody tr th {\n",
       "        vertical-align: top;\n",
       "    }\n",
       "\n",
       "    .dataframe thead th {\n",
       "        text-align: right;\n",
       "    }\n",
       "</style>\n",
       "<table border=\"1\" class=\"dataframe\">\n",
       "  <thead>\n",
       "    <tr style=\"text-align: right;\">\n",
       "      <th></th>\n",
       "      <th>2_Identifiant</th>\n",
       "      <th>2_Code Postal</th>\n",
       "      <th>2_Présence</th>\n",
       "      <th>2_Adresse</th>\n",
       "      <th>2_Ville</th>\n",
       "      <th>2_Automate 24-24</th>\n",
       "      <th>2_Timetable</th>\n",
       "      <th>2_Carburant</th>\n",
       "      <th>2_Rupture</th>\n",
       "      <th>2_Mise à jour</th>\n",
       "      <th>...</th>\n",
       "      <th>2_Prix E85</th>\n",
       "      <th>2_Services</th>\n",
       "      <th>2_Marque</th>\n",
       "      <th>2_Nom</th>\n",
       "      <th>2_Geo Point</th>\n",
       "      <th>2_Code INSEE</th>\n",
       "      <th>2_Commune</th>\n",
       "      <th>2_code_commune_n</th>\n",
       "      <th>2_lat</th>\n",
       "      <th>2_lon</th>\n",
       "    </tr>\n",
       "  </thead>\n",
       "  <tbody>\n",
       "    <tr>\n",
       "      <th>79</th>\n",
       "      <td>13014014</td>\n",
       "      <td>13014</td>\n",
       "      <td>R</td>\n",
       "      <td>26 CHEMIN DE SAINTE MARTHE</td>\n",
       "      <td>MARSEILLE</td>\n",
       "      <td>Oui</td>\n",
       "      <td>{\"Mardi\": {\"ouverture\": \"00.00\", \"fermeture\": ...</td>\n",
       "      <td>Gazole,E10,SP98</td>\n",
       "      <td>NaN</td>\n",
       "      <td>2020-11-17T06:00:00+01:00</td>\n",
       "      <td>...</td>\n",
       "      <td>NaN</td>\n",
       "      <td>Carburant additivé,Toilettes publiques,Boutiqu...</td>\n",
       "      <td>NaN</td>\n",
       "      <td>NaN</td>\n",
       "      <td>NaN</td>\n",
       "      <td>NaN</td>\n",
       "      <td>NaN</td>\n",
       "      <td>11220</td>\n",
       "      <td>NaN</td>\n",
       "      <td>NaN</td>\n",
       "    </tr>\n",
       "    <tr>\n",
       "      <th>206</th>\n",
       "      <td>13012023</td>\n",
       "      <td>13012</td>\n",
       "      <td>R</td>\n",
       "      <td>56 rue Saint Jean du desert</td>\n",
       "      <td>MARSEILLE</td>\n",
       "      <td>NaN</td>\n",
       "      <td>NaN</td>\n",
       "      <td>SP95,SP98</td>\n",
       "      <td>E85,GPLc,E10</td>\n",
       "      <td>2018-05-18T09:32:57+02:00</td>\n",
       "      <td>...</td>\n",
       "      <td>NaN</td>\n",
       "      <td>Carburant additivé,Toilettes publiques,Boutiqu...</td>\n",
       "      <td>NaN</td>\n",
       "      <td>NaN</td>\n",
       "      <td>NaN</td>\n",
       "      <td>NaN</td>\n",
       "      <td>NaN</td>\n",
       "      <td>11220</td>\n",
       "      <td>NaN</td>\n",
       "      <td>NaN</td>\n",
       "    </tr>\n",
       "    <tr>\n",
       "      <th>221</th>\n",
       "      <td>13014008</td>\n",
       "      <td>13014</td>\n",
       "      <td>R</td>\n",
       "      <td>26 Chemin de Sainte-Marthe</td>\n",
       "      <td>MARSEILLE</td>\n",
       "      <td>NaN</td>\n",
       "      <td>NaN</td>\n",
       "      <td>Gazole,E10,SP98</td>\n",
       "      <td>SP95,E85,GPLc</td>\n",
       "      <td>2019-12-01T06:00:00+01:00</td>\n",
       "      <td>...</td>\n",
       "      <td>NaN</td>\n",
       "      <td>Carburant additivé,Toilettes publiques,Boutiqu...</td>\n",
       "      <td>Agip</td>\n",
       "      <td>AGIP MARSEILLE SAINTE MARTHE</td>\n",
       "      <td>43.3177505955, 5.37430169143</td>\n",
       "      <td>NaN</td>\n",
       "      <td>NaN</td>\n",
       "      <td>11220</td>\n",
       "      <td>43.317751</td>\n",
       "      <td>5.374302</td>\n",
       "    </tr>\n",
       "    <tr>\n",
       "      <th>275</th>\n",
       "      <td>13010012</td>\n",
       "      <td>13010</td>\n",
       "      <td>R</td>\n",
       "      <td>260 BOULEVARD PAUL CLAUDEL</td>\n",
       "      <td>MARSEILLE</td>\n",
       "      <td>Oui</td>\n",
       "      <td>{\"Dimanche\": {\"ouvert\": 0}, \"Jeudi\": {\"fermetu...</td>\n",
       "      <td>Gazole,SP98</td>\n",
       "      <td>E85,GPLc,E10,SP95</td>\n",
       "      <td>2022-09-29T15:20:30+02:00</td>\n",
       "      <td>...</td>\n",
       "      <td>NaN</td>\n",
       "      <td>Boutique non alimentaire,Restauration à emport...</td>\n",
       "      <td>NaN</td>\n",
       "      <td>NaN</td>\n",
       "      <td>NaN</td>\n",
       "      <td>NaN</td>\n",
       "      <td>NaN</td>\n",
       "      <td>11220</td>\n",
       "      <td>NaN</td>\n",
       "      <td>NaN</td>\n",
       "    </tr>\n",
       "    <tr>\n",
       "      <th>415</th>\n",
       "      <td>13012015</td>\n",
       "      <td>13012</td>\n",
       "      <td>R</td>\n",
       "      <td>7 Chemin des Amaryllis</td>\n",
       "      <td>MARSEILLE</td>\n",
       "      <td>Non</td>\n",
       "      <td>{\"Dimanche\": {\"ouvert\": 1}, \"Jeudi\": {\"ouvert\"...</td>\n",
       "      <td>Gazole</td>\n",
       "      <td>NaN</td>\n",
       "      <td>2021-08-05T08:00:00+02:00</td>\n",
       "      <td>...</td>\n",
       "      <td>NaN</td>\n",
       "      <td>DAB (Distributeur automatique de billets),Lava...</td>\n",
       "      <td>Carrefour Market</td>\n",
       "      <td>SUPERMARCHÉ CARREFOUR MARKET</td>\n",
       "      <td>43.31733, 5.43951</td>\n",
       "      <td>NaN</td>\n",
       "      <td>NaN</td>\n",
       "      <td>11220</td>\n",
       "      <td>43.317330</td>\n",
       "      <td>5.439510</td>\n",
       "    </tr>\n",
       "    <tr>\n",
       "      <th>...</th>\n",
       "      <td>...</td>\n",
       "      <td>...</td>\n",
       "      <td>...</td>\n",
       "      <td>...</td>\n",
       "      <td>...</td>\n",
       "      <td>...</td>\n",
       "      <td>...</td>\n",
       "      <td>...</td>\n",
       "      <td>...</td>\n",
       "      <td>...</td>\n",
       "      <td>...</td>\n",
       "      <td>...</td>\n",
       "      <td>...</td>\n",
       "      <td>...</td>\n",
       "      <td>...</td>\n",
       "      <td>...</td>\n",
       "      <td>...</td>\n",
       "      <td>...</td>\n",
       "      <td>...</td>\n",
       "      <td>...</td>\n",
       "      <td>...</td>\n",
       "    </tr>\n",
       "    <tr>\n",
       "      <th>11137</th>\n",
       "      <td>13012022</td>\n",
       "      <td>13012</td>\n",
       "      <td>R</td>\n",
       "      <td>67 AVENUE DES CAILLOLS</td>\n",
       "      <td>MARSEILLE</td>\n",
       "      <td>NaN</td>\n",
       "      <td>NaN</td>\n",
       "      <td>Gazole,E85,E10,SP98</td>\n",
       "      <td>GPLc</td>\n",
       "      <td>2023-10-14T00:01:00+02:00</td>\n",
       "      <td>...</td>\n",
       "      <td>0.000994</td>\n",
       "      <td>Boutique alimentaire,Restauration à emporter,S...</td>\n",
       "      <td>NaN</td>\n",
       "      <td>NaN</td>\n",
       "      <td>NaN</td>\n",
       "      <td>NaN</td>\n",
       "      <td>NaN</td>\n",
       "      <td>11220</td>\n",
       "      <td>NaN</td>\n",
       "      <td>NaN</td>\n",
       "    </tr>\n",
       "    <tr>\n",
       "      <th>11594</th>\n",
       "      <td>13003004</td>\n",
       "      <td>13003</td>\n",
       "      <td>R</td>\n",
       "      <td>83 BD DE PLOMBIERES</td>\n",
       "      <td>MARSEILLE</td>\n",
       "      <td>Non</td>\n",
       "      <td>{\"Dimanche\": {\"fermeture\": \"20.00\", \"ouvert\": ...</td>\n",
       "      <td>Gazole,E85,E10,SP98</td>\n",
       "      <td>GPLc</td>\n",
       "      <td>2023-10-14T00:01:00+02:00</td>\n",
       "      <td>...</td>\n",
       "      <td>0.000994</td>\n",
       "      <td>Boutique alimentaire,Boutique non alimentaire,...</td>\n",
       "      <td>NaN</td>\n",
       "      <td>NaN</td>\n",
       "      <td>NaN</td>\n",
       "      <td>NaN</td>\n",
       "      <td>NaN</td>\n",
       "      <td>11220</td>\n",
       "      <td>NaN</td>\n",
       "      <td>NaN</td>\n",
       "    </tr>\n",
       "    <tr>\n",
       "      <th>11595</th>\n",
       "      <td>13008014</td>\n",
       "      <td>13008</td>\n",
       "      <td>R</td>\n",
       "      <td>1 Avenue d'Odessa</td>\n",
       "      <td>MARSEILLE</td>\n",
       "      <td>Oui</td>\n",
       "      <td>{\"Dimanche\": {\"ouvert\": 1}, \"Jeudi\": {\"ouvert\"...</td>\n",
       "      <td>Gazole,SP95,SP98</td>\n",
       "      <td>E85,GPLc,E10,E85,GPLc,E10</td>\n",
       "      <td>2023-10-11T07:08:32+02:00</td>\n",
       "      <td>...</td>\n",
       "      <td>NaN</td>\n",
       "      <td>Boutique alimentaire,Boutique non alimentaire,...</td>\n",
       "      <td>NaN</td>\n",
       "      <td>NaN</td>\n",
       "      <td>NaN</td>\n",
       "      <td>NaN</td>\n",
       "      <td>NaN</td>\n",
       "      <td>11220</td>\n",
       "      <td>NaN</td>\n",
       "      <td>NaN</td>\n",
       "    </tr>\n",
       "    <tr>\n",
       "      <th>11596</th>\n",
       "      <td>13013016</td>\n",
       "      <td>13013</td>\n",
       "      <td>R</td>\n",
       "      <td>AVENUE FREDERIC MISTRAL</td>\n",
       "      <td>MARSEILLE</td>\n",
       "      <td>Oui</td>\n",
       "      <td>{\"Dimanche\": {\"ouvert\": 1}, \"Jeudi\": {\"ouvert\"...</td>\n",
       "      <td>Gazole,E85,GPLc,E10,SP98</td>\n",
       "      <td>SP95</td>\n",
       "      <td>2023-10-14T00:01:00+02:00</td>\n",
       "      <td>...</td>\n",
       "      <td>0.000994</td>\n",
       "      <td>Boutique alimentaire,Restauration à emporter,S...</td>\n",
       "      <td>NaN</td>\n",
       "      <td>NaN</td>\n",
       "      <td>NaN</td>\n",
       "      <td>NaN</td>\n",
       "      <td>NaN</td>\n",
       "      <td>11220</td>\n",
       "      <td>NaN</td>\n",
       "      <td>NaN</td>\n",
       "    </tr>\n",
       "    <tr>\n",
       "      <th>11806</th>\n",
       "      <td>13014010</td>\n",
       "      <td>13014</td>\n",
       "      <td>R</td>\n",
       "      <td>33 Avenue Alexandre Ansaldi</td>\n",
       "      <td>MARSEILLE</td>\n",
       "      <td>Non</td>\n",
       "      <td>{\"Dimanche\": {\"fermeture\": \"22.00\", \"ouvert\": ...</td>\n",
       "      <td>E85,E10,SP98</td>\n",
       "      <td>GPLc,SP95</td>\n",
       "      <td>2023-10-13T06:10:04+02:00</td>\n",
       "      <td>...</td>\n",
       "      <td>0.001199</td>\n",
       "      <td>Boutique alimentaire,Boutique non alimentaire,...</td>\n",
       "      <td>Avia</td>\n",
       "      <td>AVIA</td>\n",
       "      <td>43.3354, 5.40006</td>\n",
       "      <td>NaN</td>\n",
       "      <td>NaN</td>\n",
       "      <td>11220</td>\n",
       "      <td>43.335400</td>\n",
       "      <td>5.400060</td>\n",
       "    </tr>\n",
       "  </tbody>\n",
       "</table>\n",
       "<p>75 rows × 25 columns</p>\n",
       "</div>"
      ],
      "text/plain": [
       "       2_Identifiant  2_Code Postal 2_Présence                    2_Adresse  \\\n",
       "79          13014014          13014          R   26 CHEMIN DE SAINTE MARTHE   \n",
       "206         13012023          13012          R  56 rue Saint Jean du desert   \n",
       "221         13014008          13014          R   26 Chemin de Sainte-Marthe   \n",
       "275         13010012          13010          R   260 BOULEVARD PAUL CLAUDEL   \n",
       "415         13012015          13012          R       7 Chemin des Amaryllis   \n",
       "...              ...            ...        ...                          ...   \n",
       "11137       13012022          13012          R       67 AVENUE DES CAILLOLS   \n",
       "11594       13003004          13003          R          83 BD DE PLOMBIERES   \n",
       "11595       13008014          13008          R            1 Avenue d'Odessa   \n",
       "11596       13013016          13013          R      AVENUE FREDERIC MISTRAL   \n",
       "11806       13014010          13014          R  33 Avenue Alexandre Ansaldi   \n",
       "\n",
       "         2_Ville 2_Automate 24-24  \\\n",
       "79     MARSEILLE              Oui   \n",
       "206    MARSEILLE              NaN   \n",
       "221    MARSEILLE              NaN   \n",
       "275    MARSEILLE              Oui   \n",
       "415    MARSEILLE              Non   \n",
       "...          ...              ...   \n",
       "11137  MARSEILLE              NaN   \n",
       "11594  MARSEILLE              Non   \n",
       "11595  MARSEILLE              Oui   \n",
       "11596  MARSEILLE              Oui   \n",
       "11806  MARSEILLE              Non   \n",
       "\n",
       "                                             2_Timetable  \\\n",
       "79     {\"Mardi\": {\"ouverture\": \"00.00\", \"fermeture\": ...   \n",
       "206                                                  NaN   \n",
       "221                                                  NaN   \n",
       "275    {\"Dimanche\": {\"ouvert\": 0}, \"Jeudi\": {\"fermetu...   \n",
       "415    {\"Dimanche\": {\"ouvert\": 1}, \"Jeudi\": {\"ouvert\"...   \n",
       "...                                                  ...   \n",
       "11137                                                NaN   \n",
       "11594  {\"Dimanche\": {\"fermeture\": \"20.00\", \"ouvert\": ...   \n",
       "11595  {\"Dimanche\": {\"ouvert\": 1}, \"Jeudi\": {\"ouvert\"...   \n",
       "11596  {\"Dimanche\": {\"ouvert\": 1}, \"Jeudi\": {\"ouvert\"...   \n",
       "11806  {\"Dimanche\": {\"fermeture\": \"22.00\", \"ouvert\": ...   \n",
       "\n",
       "                    2_Carburant                  2_Rupture  \\\n",
       "79              Gazole,E10,SP98                        NaN   \n",
       "206                   SP95,SP98               E85,GPLc,E10   \n",
       "221             Gazole,E10,SP98              SP95,E85,GPLc   \n",
       "275                 Gazole,SP98          E85,GPLc,E10,SP95   \n",
       "415                      Gazole                        NaN   \n",
       "...                         ...                        ...   \n",
       "11137       Gazole,E85,E10,SP98                       GPLc   \n",
       "11594       Gazole,E85,E10,SP98                       GPLc   \n",
       "11595          Gazole,SP95,SP98  E85,GPLc,E10,E85,GPLc,E10   \n",
       "11596  Gazole,E85,GPLc,E10,SP98                       SP95   \n",
       "11806              E85,E10,SP98                  GPLc,SP95   \n",
       "\n",
       "                   2_Mise à jour  ...  2_Prix E85  \\\n",
       "79     2020-11-17T06:00:00+01:00  ...         NaN   \n",
       "206    2018-05-18T09:32:57+02:00  ...         NaN   \n",
       "221    2019-12-01T06:00:00+01:00  ...         NaN   \n",
       "275    2022-09-29T15:20:30+02:00  ...         NaN   \n",
       "415    2021-08-05T08:00:00+02:00  ...         NaN   \n",
       "...                          ...  ...         ...   \n",
       "11137  2023-10-14T00:01:00+02:00  ...    0.000994   \n",
       "11594  2023-10-14T00:01:00+02:00  ...    0.000994   \n",
       "11595  2023-10-11T07:08:32+02:00  ...         NaN   \n",
       "11596  2023-10-14T00:01:00+02:00  ...    0.000994   \n",
       "11806  2023-10-13T06:10:04+02:00  ...    0.001199   \n",
       "\n",
       "                                              2_Services          2_Marque  \\\n",
       "79     Carburant additivé,Toilettes publiques,Boutiqu...               NaN   \n",
       "206    Carburant additivé,Toilettes publiques,Boutiqu...               NaN   \n",
       "221    Carburant additivé,Toilettes publiques,Boutiqu...              Agip   \n",
       "275    Boutique non alimentaire,Restauration à emport...               NaN   \n",
       "415    DAB (Distributeur automatique de billets),Lava...  Carrefour Market   \n",
       "...                                                  ...               ...   \n",
       "11137  Boutique alimentaire,Restauration à emporter,S...               NaN   \n",
       "11594  Boutique alimentaire,Boutique non alimentaire,...               NaN   \n",
       "11595  Boutique alimentaire,Boutique non alimentaire,...               NaN   \n",
       "11596  Boutique alimentaire,Restauration à emporter,S...               NaN   \n",
       "11806  Boutique alimentaire,Boutique non alimentaire,...              Avia   \n",
       "\n",
       "                              2_Nom                   2_Geo Point  \\\n",
       "79                              NaN                           NaN   \n",
       "206                             NaN                           NaN   \n",
       "221    AGIP MARSEILLE SAINTE MARTHE  43.3177505955, 5.37430169143   \n",
       "275                             NaN                           NaN   \n",
       "415    SUPERMARCHÉ CARREFOUR MARKET             43.31733, 5.43951   \n",
       "...                             ...                           ...   \n",
       "11137                           NaN                           NaN   \n",
       "11594                           NaN                           NaN   \n",
       "11595                           NaN                           NaN   \n",
       "11596                           NaN                           NaN   \n",
       "11806                          AVIA              43.3354, 5.40006   \n",
       "\n",
       "       2_Code INSEE 2_Commune 2_code_commune_n      2_lat     2_lon  \n",
       "79              NaN       NaN            11220        NaN       NaN  \n",
       "206             NaN       NaN            11220        NaN       NaN  \n",
       "221             NaN       NaN            11220  43.317751  5.374302  \n",
       "275             NaN       NaN            11220        NaN       NaN  \n",
       "415             NaN       NaN            11220  43.317330  5.439510  \n",
       "...             ...       ...              ...        ...       ...  \n",
       "11137           NaN       NaN            11220        NaN       NaN  \n",
       "11594           NaN       NaN            11220        NaN       NaN  \n",
       "11595           NaN       NaN            11220        NaN       NaN  \n",
       "11596           NaN       NaN            11220        NaN       NaN  \n",
       "11806           NaN       NaN            11220  43.335400  5.400060  \n",
       "\n",
       "[75 rows x 25 columns]"
      ]
     },
     "execution_count": 17,
     "metadata": {},
     "output_type": "execute_result"
    }
   ],
   "source": [
    "df_carb[df_carb['2_code_commune_n']=='11220']"
   ]
  },
  {
   "cell_type": "markdown",
   "id": "86e0f060-4de2-456e-b9a8-7f70df94a34c",
   "metadata": {},
   "source": [
    "## df_pop - Population & superficie communes"
   ]
  },
  {
   "cell_type": "code",
   "execution_count": 18,
   "id": "72cd448f-15cf-49eb-9429-11d24b6c226d",
   "metadata": {},
   "outputs": [],
   "source": [
    "df_pop = pd.read_csv('./Tables_traitees\\\\Population-Superficie_communes.csv', sep=';',dtype={'Code département':str,'Code INSEE (commune ou arrondissement)':str })"
   ]
  },
  {
   "cell_type": "code",
   "execution_count": 19,
   "id": "3b59c545-5cef-4fef-8741-647eba683649",
   "metadata": {},
   "outputs": [],
   "source": [
    "rename = {col:\"3_\"+col for col in df_pop.columns}\n",
    "df_pop.rename(columns = rename, inplace=True)"
   ]
  },
  {
   "cell_type": "code",
   "execution_count": 20,
   "id": "0f15a9af-4780-4887-8b2f-f39ad2939764",
   "metadata": {},
   "outputs": [
    {
     "data": {
      "text/plain": [
       "(36750, 16)"
      ]
     },
     "execution_count": 20,
     "metadata": {},
     "output_type": "execute_result"
    }
   ],
   "source": [
    "df_pop.shape"
   ]
  },
  {
   "cell_type": "code",
   "execution_count": 21,
   "id": "9b1103fe-ce99-4e8c-a085-424b6b683e0c",
   "metadata": {},
   "outputs": [
    {
     "data": {
      "text/plain": [
       "Index(['3_Code région', '3_Nom de la région', '3_Code département',\n",
       "       '3_Code commune', '3_Nom de la commune', '3_Population municipale',\n",
       "       '3_Population comptée à part', '3_Population totale',\n",
       "       '3_Année recensement', '3_Année utilisation',\n",
       "       '3_Code INSEE (commune ou arrondissement)',\n",
       "       '3_Superficie de la commune', '3_Statut', '3_Code EPCI', '3_EPCI',\n",
       "       '3_Densité_hab_par_km2'],\n",
       "      dtype='object')"
      ]
     },
     "execution_count": 21,
     "metadata": {},
     "output_type": "execute_result"
    }
   ],
   "source": [
    "df_pop.columns"
   ]
  },
  {
   "cell_type": "code",
   "execution_count": 22,
   "id": "3eac2029-8508-476e-bfc7-1a5e79c965d6",
   "metadata": {},
   "outputs": [
    {
     "data": {
      "text/html": [
       "<div>\n",
       "<style scoped>\n",
       "    .dataframe tbody tr th:only-of-type {\n",
       "        vertical-align: middle;\n",
       "    }\n",
       "\n",
       "    .dataframe tbody tr th {\n",
       "        vertical-align: top;\n",
       "    }\n",
       "\n",
       "    .dataframe thead th {\n",
       "        text-align: right;\n",
       "    }\n",
       "</style>\n",
       "<table border=\"1\" class=\"dataframe\">\n",
       "  <thead>\n",
       "    <tr style=\"text-align: right;\">\n",
       "      <th></th>\n",
       "      <th>3_Code région</th>\n",
       "      <th>3_Nom de la région</th>\n",
       "      <th>3_Code département</th>\n",
       "      <th>3_Code commune</th>\n",
       "      <th>3_Nom de la commune</th>\n",
       "      <th>3_Population municipale</th>\n",
       "      <th>3_Population comptée à part</th>\n",
       "      <th>3_Population totale</th>\n",
       "      <th>3_Année recensement</th>\n",
       "      <th>3_Année utilisation</th>\n",
       "      <th>3_Code INSEE (commune ou arrondissement)</th>\n",
       "      <th>3_Superficie de la commune</th>\n",
       "      <th>3_Statut</th>\n",
       "      <th>3_Code EPCI</th>\n",
       "      <th>3_EPCI</th>\n",
       "      <th>3_Densité_hab_par_km2</th>\n",
       "    </tr>\n",
       "  </thead>\n",
       "  <tbody>\n",
       "    <tr>\n",
       "      <th>0</th>\n",
       "      <td>84.0</td>\n",
       "      <td>Auvergne-Rhône-Alpes</td>\n",
       "      <td>01</td>\n",
       "      <td>1.0</td>\n",
       "      <td>L' Abergement-Clémenciat</td>\n",
       "      <td>767.0</td>\n",
       "      <td>18.0</td>\n",
       "      <td>785.0</td>\n",
       "      <td>2016</td>\n",
       "      <td>2019</td>\n",
       "      <td>01001</td>\n",
       "      <td>15.65</td>\n",
       "      <td>Commune</td>\n",
       "      <td>200035210</td>\n",
       "      <td>CC Chalaronne Centre</td>\n",
       "      <td>49.009585</td>\n",
       "    </tr>\n",
       "    <tr>\n",
       "      <th>1</th>\n",
       "      <td>84.0</td>\n",
       "      <td>Auvergne-Rhône-Alpes</td>\n",
       "      <td>01</td>\n",
       "      <td>2.0</td>\n",
       "      <td>L' Abergement-de-Varey</td>\n",
       "      <td>243.0</td>\n",
       "      <td>1.0</td>\n",
       "      <td>244.0</td>\n",
       "      <td>2016</td>\n",
       "      <td>2019</td>\n",
       "      <td>01002</td>\n",
       "      <td>9.13</td>\n",
       "      <td>Commune</td>\n",
       "      <td>240100883</td>\n",
       "      <td>CC de la Plaine de l'Ain</td>\n",
       "      <td>26.615553</td>\n",
       "    </tr>\n",
       "    <tr>\n",
       "      <th>2</th>\n",
       "      <td>84.0</td>\n",
       "      <td>Auvergne-Rhône-Alpes</td>\n",
       "      <td>01</td>\n",
       "      <td>4.0</td>\n",
       "      <td>Ambérieu-en-Bugey</td>\n",
       "      <td>14081.0</td>\n",
       "      <td>437.0</td>\n",
       "      <td>14518.0</td>\n",
       "      <td>2016</td>\n",
       "      <td>2019</td>\n",
       "      <td>01004</td>\n",
       "      <td>24.49</td>\n",
       "      <td>Commune</td>\n",
       "      <td>240100883</td>\n",
       "      <td>CC de la Plaine de l'Ain</td>\n",
       "      <td>574.969375</td>\n",
       "    </tr>\n",
       "  </tbody>\n",
       "</table>\n",
       "</div>"
      ],
      "text/plain": [
       "   3_Code région    3_Nom de la région 3_Code département  3_Code commune  \\\n",
       "0           84.0  Auvergne-Rhône-Alpes                 01             1.0   \n",
       "1           84.0  Auvergne-Rhône-Alpes                 01             2.0   \n",
       "2           84.0  Auvergne-Rhône-Alpes                 01             4.0   \n",
       "\n",
       "        3_Nom de la commune  3_Population municipale  \\\n",
       "0  L' Abergement-Clémenciat                    767.0   \n",
       "1    L' Abergement-de-Varey                    243.0   \n",
       "2         Ambérieu-en-Bugey                  14081.0   \n",
       "\n",
       "   3_Population comptée à part  3_Population totale  3_Année recensement  \\\n",
       "0                         18.0                785.0                 2016   \n",
       "1                          1.0                244.0                 2016   \n",
       "2                        437.0              14518.0                 2016   \n",
       "\n",
       "   3_Année utilisation 3_Code INSEE (commune ou arrondissement)  \\\n",
       "0                 2019                                    01001   \n",
       "1                 2019                                    01002   \n",
       "2                 2019                                    01004   \n",
       "\n",
       "   3_Superficie de la commune 3_Statut 3_Code EPCI                    3_EPCI  \\\n",
       "0                       15.65  Commune   200035210      CC Chalaronne Centre   \n",
       "1                        9.13  Commune   240100883  CC de la Plaine de l'Ain   \n",
       "2                       24.49  Commune   240100883  CC de la Plaine de l'Ain   \n",
       "\n",
       "   3_Densité_hab_par_km2  \n",
       "0              49.009585  \n",
       "1              26.615553  \n",
       "2             574.969375  "
      ]
     },
     "execution_count": 22,
     "metadata": {},
     "output_type": "execute_result"
    }
   ],
   "source": [
    "df_pop[:3]"
   ]
  },
  {
   "cell_type": "markdown",
   "id": "fae70b48-43ad-4a26-b917-a03a5a682d75",
   "metadata": {},
   "source": [
    "## df_com - Infos Communes"
   ]
  },
  {
   "cell_type": "code",
   "execution_count": 23,
   "id": "47b31129-34f7-4a3b-b0cf-01908d785c0b",
   "metadata": {},
   "outputs": [],
   "source": [
    "df_com = pd.read_csv('./Tables_traitees\\\\Infos_communes.csv', sep=';')"
   ]
  },
  {
   "cell_type": "code",
   "execution_count": 24,
   "id": "a03029ff-3d2d-4418-905f-613b09ea909d",
   "metadata": {},
   "outputs": [],
   "source": [
    "rename = {col:\"4_\"+col for col in df_com.columns}\n",
    "df_com.rename(columns = rename, inplace=True)"
   ]
  },
  {
   "cell_type": "code",
   "execution_count": 25,
   "id": "bee318f5-d2fd-428c-a2ad-da96a29806bb",
   "metadata": {},
   "outputs": [
    {
     "data": {
      "text/plain": [
       "(36742, 20)"
      ]
     },
     "execution_count": 25,
     "metadata": {},
     "output_type": "execute_result"
    }
   ],
   "source": [
    "df_com.shape"
   ]
  },
  {
   "cell_type": "code",
   "execution_count": 26,
   "id": "149b102a-83c2-40cc-b5c1-31d73b11a903",
   "metadata": {},
   "outputs": [
    {
     "data": {
      "text/plain": [
       "4_Code INSEE              object\n",
       "4_Code Postal             object\n",
       "4_Commune                 object\n",
       "4_Département             object\n",
       "4_Région                  object\n",
       "4_Statut                  object\n",
       "4_Altitude Moyenne       float64\n",
       "4_Superficie             float64\n",
       "4_Population             float64\n",
       "4_geo_point_2d            object\n",
       "4_geo_shape               object\n",
       "4_ID Geofla                int64\n",
       "4_Code Commune             int64\n",
       "4_Code Canton              int64\n",
       "4_Code Arrondissement      int64\n",
       "4_Code Département        object\n",
       "4_Code Région              int64\n",
       "4_lat                    float64\n",
       "4_lon                    float64\n",
       "4_Densité_hab_par_km2    float64\n",
       "dtype: object"
      ]
     },
     "execution_count": 26,
     "metadata": {},
     "output_type": "execute_result"
    }
   ],
   "source": [
    "df_com.dtypes"
   ]
  },
  {
   "cell_type": "markdown",
   "id": "3b037f4e-2f6e-4cac-8ee0-8d7be1d362d1",
   "metadata": {},
   "source": [
    "## df_commune_immo - Prix au m2"
   ]
  },
  {
   "cell_type": "code",
   "execution_count": 27,
   "id": "688cbd90-0256-4b7f-8db0-05df1361a907",
   "metadata": {},
   "outputs": [],
   "source": [
    "df_commune_immo = pd.read_csv('./Tables_traitees\\\\PrixMoy_m2_avec_code_commune.csv', sep=';')"
   ]
  },
  {
   "cell_type": "code",
   "execution_count": 28,
   "id": "b0c326f9-b92f-40ce-b726-a02ad21dc94e",
   "metadata": {},
   "outputs": [],
   "source": [
    "rename = {col:\"5_\"+col for col in df_commune_immo.columns}\n",
    "df_commune_immo.rename(columns = rename, inplace=True)"
   ]
  },
  {
   "cell_type": "code",
   "execution_count": 29,
   "id": "b20c464c-7b9e-4ca7-bf40-facfc93a8fb6",
   "metadata": {},
   "outputs": [
    {
     "data": {
      "text/plain": [
       "(34886, 11)"
      ]
     },
     "execution_count": 29,
     "metadata": {},
     "output_type": "execute_result"
    }
   ],
   "source": [
    "df_commune_immo.shape"
   ]
  },
  {
   "cell_type": "code",
   "execution_count": 30,
   "id": "ad133b4a-8e33-49a7-93d9-90e61e906415",
   "metadata": {},
   "outputs": [
    {
     "data": {
      "text/plain": [
       "Index(['5_ID', '5_INSEE_COM', '5_INSEE_DEP', '5_INSEE_REG', '5_CODE_EPCI',\n",
       "       '5_NOM_COM_M', '5_POPULATION', '5_Nb_Ventes', '5_PrixMoyen_M2',\n",
       "       '5_nb_digits_code_INSEE', '5_code_commune_n'],\n",
       "      dtype='object')"
      ]
     },
     "execution_count": 30,
     "metadata": {},
     "output_type": "execute_result"
    }
   ],
   "source": [
    "df_commune_immo.columns"
   ]
  },
  {
   "cell_type": "code",
   "execution_count": 31,
   "id": "ecd22742-57a2-421a-8f8b-e992c6a4f579",
   "metadata": {},
   "outputs": [
    {
     "data": {
      "text/plain": [
       "5_ID                       object\n",
       "5_INSEE_COM                object\n",
       "5_INSEE_DEP                object\n",
       "5_INSEE_REG                 int64\n",
       "5_CODE_EPCI               float64\n",
       "5_NOM_COM_M                object\n",
       "5_POPULATION                int64\n",
       "5_Nb_Ventes               float64\n",
       "5_PrixMoyen_M2            float64\n",
       "5_nb_digits_code_INSEE      int64\n",
       "5_code_commune_n           object\n",
       "dtype: object"
      ]
     },
     "execution_count": 31,
     "metadata": {},
     "output_type": "execute_result"
    }
   ],
   "source": [
    "df_commune_immo.dtypes"
   ]
  },
  {
   "cell_type": "code",
   "execution_count": 32,
   "id": "13c03141-d24c-4cab-91b5-e9e5facbc06f",
   "metadata": {
    "scrolled": true
   },
   "outputs": [
    {
     "data": {
      "text/html": [
       "<div>\n",
       "<style scoped>\n",
       "    .dataframe tbody tr th:only-of-type {\n",
       "        vertical-align: middle;\n",
       "    }\n",
       "\n",
       "    .dataframe tbody tr th {\n",
       "        vertical-align: top;\n",
       "    }\n",
       "\n",
       "    .dataframe thead th {\n",
       "        text-align: right;\n",
       "    }\n",
       "</style>\n",
       "<table border=\"1\" class=\"dataframe\">\n",
       "  <thead>\n",
       "    <tr style=\"text-align: right;\">\n",
       "      <th></th>\n",
       "      <th>5_ID</th>\n",
       "      <th>5_INSEE_COM</th>\n",
       "      <th>5_INSEE_DEP</th>\n",
       "      <th>5_INSEE_REG</th>\n",
       "      <th>5_CODE_EPCI</th>\n",
       "      <th>5_NOM_COM_M</th>\n",
       "      <th>5_POPULATION</th>\n",
       "      <th>5_Nb_Ventes</th>\n",
       "      <th>5_PrixMoyen_M2</th>\n",
       "      <th>5_nb_digits_code_INSEE</th>\n",
       "      <th>5_code_commune_n</th>\n",
       "    </tr>\n",
       "  </thead>\n",
       "  <tbody>\n",
       "    <tr>\n",
       "      <th>0</th>\n",
       "      <td>COMMUNE_0000000009760754</td>\n",
       "      <td>32216</td>\n",
       "      <td>32</td>\n",
       "      <td>76</td>\n",
       "      <td>200072320.0</td>\n",
       "      <td>LOURTIES MONBRUN</td>\n",
       "      <td>152</td>\n",
       "      <td>NaN</td>\n",
       "      <td>NaN</td>\n",
       "      <td>5</td>\n",
       "      <td>32216</td>\n",
       "    </tr>\n",
       "    <tr>\n",
       "      <th>1</th>\n",
       "      <td>COMMUNE_0000000009756744</td>\n",
       "      <td>47033</td>\n",
       "      <td>47</td>\n",
       "      <td>75</td>\n",
       "      <td>200036523.0</td>\n",
       "      <td>BOUDY DE BEAUREGARD</td>\n",
       "      <td>412</td>\n",
       "      <td>4.0</td>\n",
       "      <td>1421.0</td>\n",
       "      <td>5</td>\n",
       "      <td>47033</td>\n",
       "    </tr>\n",
       "    <tr>\n",
       "      <th>2</th>\n",
       "      <td>COMMUNE_0000000009760252</td>\n",
       "      <td>32009</td>\n",
       "      <td>32</td>\n",
       "      <td>76</td>\n",
       "      <td>243200425.0</td>\n",
       "      <td>ARMOUS ET CAU</td>\n",
       "      <td>86</td>\n",
       "      <td>NaN</td>\n",
       "      <td>NaN</td>\n",
       "      <td>5</td>\n",
       "      <td>32009</td>\n",
       "    </tr>\n",
       "  </tbody>\n",
       "</table>\n",
       "</div>"
      ],
      "text/plain": [
       "                       5_ID 5_INSEE_COM 5_INSEE_DEP  5_INSEE_REG  5_CODE_EPCI  \\\n",
       "0  COMMUNE_0000000009760754       32216          32           76  200072320.0   \n",
       "1  COMMUNE_0000000009756744       47033          47           75  200036523.0   \n",
       "2  COMMUNE_0000000009760252       32009          32           76  243200425.0   \n",
       "\n",
       "           5_NOM_COM_M  5_POPULATION  5_Nb_Ventes  5_PrixMoyen_M2  \\\n",
       "0     LOURTIES MONBRUN           152          NaN             NaN   \n",
       "1  BOUDY DE BEAUREGARD           412          4.0          1421.0   \n",
       "2        ARMOUS ET CAU            86          NaN             NaN   \n",
       "\n",
       "   5_nb_digits_code_INSEE 5_code_commune_n  \n",
       "0                       5            32216  \n",
       "1                       5            47033  \n",
       "2                       5            32009  "
      ]
     },
     "execution_count": 32,
     "metadata": {},
     "output_type": "execute_result"
    }
   ],
   "source": [
    "df_commune_immo[:3]"
   ]
  },
  {
   "cell_type": "code",
   "execution_count": 33,
   "id": "1cf9e261-9d00-4c5a-a906-733021ba5b9a",
   "metadata": {},
   "outputs": [
    {
     "data": {
      "text/plain": [
       "34886"
      ]
     },
     "execution_count": 33,
     "metadata": {},
     "output_type": "execute_result"
    }
   ],
   "source": [
    "len(df_commune_immo['5_code_commune_n'].unique())"
   ]
  },
  {
   "cell_type": "markdown",
   "id": "9f3d00d7-7f20-419c-8f3d-5671f90b7a8f",
   "metadata": {},
   "source": [
    "## df_commune_adj - Communes adjacentes"
   ]
  },
  {
   "cell_type": "code",
   "execution_count": 34,
   "id": "f5e27a46-87ce-44fd-9faf-b99c648f979b",
   "metadata": {
    "tags": []
   },
   "outputs": [],
   "source": [
    "df_commune_adj = pd.read_csv('.\\\\Tables_brutes\\\\Communes_adjacentes\\\\communes_adjacentes_2022.csv',sep=',',dtype= {'insee':str})"
   ]
  },
  {
   "cell_type": "code",
   "execution_count": 35,
   "id": "56510246-e996-4410-9f78-d3ad9ba9d2c4",
   "metadata": {},
   "outputs": [],
   "source": [
    "rename = {col:\"6_\"+col for col in df_commune_adj.columns}\n",
    "df_commune_adj.rename(columns = rename, inplace=True)"
   ]
  },
  {
   "cell_type": "code",
   "execution_count": 36,
   "id": "cebb69c3-9ecb-42f3-abb6-7324a5894261",
   "metadata": {
    "tags": []
   },
   "outputs": [
    {
     "data": {
      "text/plain": [
       "6_insee            object\n",
       "6_nom              object\n",
       "6_nb_voisins        int64\n",
       "6_insee_voisins    object\n",
       "6_noms_voisins     object\n",
       "6_cap_voisins      object\n",
       "6_type             object\n",
       "dtype: object"
      ]
     },
     "execution_count": 36,
     "metadata": {},
     "output_type": "execute_result"
    }
   ],
   "source": [
    "df_commune_adj.dtypes"
   ]
  },
  {
   "cell_type": "code",
   "execution_count": 37,
   "id": "f01f35ef-cfbd-499c-8ffd-40c9c05bd80f",
   "metadata": {
    "tags": []
   },
   "outputs": [
    {
     "data": {
      "text/plain": [
       "(34990, 7)"
      ]
     },
     "execution_count": 37,
     "metadata": {},
     "output_type": "execute_result"
    }
   ],
   "source": [
    "df_commune_adj.shape"
   ]
  },
  {
   "cell_type": "code",
   "execution_count": 38,
   "id": "e5d4ab22-0899-4288-b2c1-bbe559cf3866",
   "metadata": {
    "tags": []
   },
   "outputs": [
    {
     "data": {
      "text/html": [
       "<div>\n",
       "<style scoped>\n",
       "    .dataframe tbody tr th:only-of-type {\n",
       "        vertical-align: middle;\n",
       "    }\n",
       "\n",
       "    .dataframe tbody tr th {\n",
       "        vertical-align: top;\n",
       "    }\n",
       "\n",
       "    .dataframe thead th {\n",
       "        text-align: right;\n",
       "    }\n",
       "</style>\n",
       "<table border=\"1\" class=\"dataframe\">\n",
       "  <thead>\n",
       "    <tr style=\"text-align: right;\">\n",
       "      <th></th>\n",
       "      <th>6_insee</th>\n",
       "      <th>6_nom</th>\n",
       "      <th>6_nb_voisins</th>\n",
       "      <th>6_insee_voisins</th>\n",
       "      <th>6_noms_voisins</th>\n",
       "      <th>6_cap_voisins</th>\n",
       "      <th>6_type</th>\n",
       "    </tr>\n",
       "  </thead>\n",
       "  <tbody>\n",
       "    <tr>\n",
       "      <th>0</th>\n",
       "      <td>01001</td>\n",
       "      <td>L'Abergement-Clémenciat</td>\n",
       "      <td>6</td>\n",
       "      <td>01412|01093|01028|01146|01351|01188</td>\n",
       "      <td>Sulignat|Châtillon-sur-Chalaronne|Baneins|Domp...</td>\n",
       "      <td>48|144|203|234|260|322</td>\n",
       "      <td>NaN</td>\n",
       "    </tr>\n",
       "    <tr>\n",
       "      <th>1</th>\n",
       "      <td>01002</td>\n",
       "      <td>L'Abergement-de-Varey</td>\n",
       "      <td>6</td>\n",
       "      <td>01056|01277|01384|01007|01363|01199</td>\n",
       "      <td>Boyeux-Saint-Jérôme|Nivollet-Montgriffon|Saint...</td>\n",
       "      <td>43|115|172|265|302|344</td>\n",
       "      <td>NaN</td>\n",
       "    </tr>\n",
       "    <tr>\n",
       "      <th>2</th>\n",
       "      <td>01004</td>\n",
       "      <td>Ambérieu-en-Bugey</td>\n",
       "      <td>7</td>\n",
       "      <td>01384|01421|01041|01345|01089|01007|01149</td>\n",
       "      <td>Saint-Rambert-en-Bugey|Torcieu|Bettant|Saint-D...</td>\n",
       "      <td>102|151|190|250|284|347|360</td>\n",
       "      <td>NaN</td>\n",
       "    </tr>\n",
       "  </tbody>\n",
       "</table>\n",
       "</div>"
      ],
      "text/plain": [
       "  6_insee                    6_nom  6_nb_voisins  \\\n",
       "0   01001  L'Abergement-Clémenciat             6   \n",
       "1   01002    L'Abergement-de-Varey             6   \n",
       "2   01004        Ambérieu-en-Bugey             7   \n",
       "\n",
       "                             6_insee_voisins  \\\n",
       "0        01412|01093|01028|01146|01351|01188   \n",
       "1        01056|01277|01384|01007|01363|01199   \n",
       "2  01384|01421|01041|01345|01089|01007|01149   \n",
       "\n",
       "                                      6_noms_voisins  \\\n",
       "0  Sulignat|Châtillon-sur-Chalaronne|Baneins|Domp...   \n",
       "1  Boyeux-Saint-Jérôme|Nivollet-Montgriffon|Saint...   \n",
       "2  Saint-Rambert-en-Bugey|Torcieu|Bettant|Saint-D...   \n",
       "\n",
       "                 6_cap_voisins 6_type  \n",
       "0       48|144|203|234|260|322    NaN  \n",
       "1       43|115|172|265|302|344    NaN  \n",
       "2  102|151|190|250|284|347|360    NaN  "
      ]
     },
     "execution_count": 38,
     "metadata": {},
     "output_type": "execute_result"
    }
   ],
   "source": [
    "df_commune_adj[:3]"
   ]
  },
  {
   "cell_type": "code",
   "execution_count": 39,
   "id": "140a827a-388a-4f7a-841b-99285a2dbab6",
   "metadata": {
    "scrolled": true,
    "tags": []
   },
   "outputs": [
    {
     "data": {
      "text/html": [
       "<div>\n",
       "<style scoped>\n",
       "    .dataframe tbody tr th:only-of-type {\n",
       "        vertical-align: middle;\n",
       "    }\n",
       "\n",
       "    .dataframe tbody tr th {\n",
       "        vertical-align: top;\n",
       "    }\n",
       "\n",
       "    .dataframe thead th {\n",
       "        text-align: right;\n",
       "    }\n",
       "</style>\n",
       "<table border=\"1\" class=\"dataframe\">\n",
       "  <thead>\n",
       "    <tr style=\"text-align: right;\">\n",
       "      <th></th>\n",
       "      <th>6_insee</th>\n",
       "      <th>6_nom</th>\n",
       "      <th>6_nb_voisins</th>\n",
       "      <th>6_insee_voisins</th>\n",
       "      <th>6_noms_voisins</th>\n",
       "      <th>6_cap_voisins</th>\n",
       "      <th>6_type</th>\n",
       "    </tr>\n",
       "  </thead>\n",
       "  <tbody>\n",
       "  </tbody>\n",
       "</table>\n",
       "</div>"
      ],
      "text/plain": [
       "Empty DataFrame\n",
       "Columns: [6_insee, 6_nom, 6_nb_voisins, 6_insee_voisins, 6_noms_voisins, 6_cap_voisins, 6_type]\n",
       "Index: []"
      ]
     },
     "execution_count": 39,
     "metadata": {},
     "output_type": "execute_result"
    }
   ],
   "source": [
    "df_commune_adj[df_commune_adj['6_insee']==\"01059\"]"
   ]
  },
  {
   "cell_type": "markdown",
   "id": "56a96b7a-12bc-4ad0-8ea4-0f760cefe0fe",
   "metadata": {
    "execution": {
     "iopub.execute_input": "2024-01-07T09:23:20.069214Z",
     "iopub.status.busy": "2024-01-07T09:23:20.069214Z",
     "iopub.status.idle": "2024-01-07T09:23:20.077981Z",
     "shell.execute_reply": "2024-01-07T09:23:20.077189Z",
     "shell.execute_reply.started": "2024-01-07T09:23:20.069214Z"
    }
   },
   "source": [
    "# Merge des dataframe"
   ]
  },
  {
   "cell_type": "code",
   "execution_count": 40,
   "id": "c9ef640a-204f-4758-8fe2-b09e0ba267da",
   "metadata": {},
   "outputs": [],
   "source": [
    "df = pd.DataFrame()\n",
    "df = pd.merge(df_pop,df_commune_immo, left_on=\"3_Code INSEE (commune ou arrondissement)\",\n",
    "              right_on=\"5_code_commune_n\",how=\"left\")"
   ]
  },
  {
   "cell_type": "code",
   "execution_count": 41,
   "id": "af0ea4d3-b124-46a0-a2e3-1e46a542fa2a",
   "metadata": {},
   "outputs": [],
   "source": [
    "df = pd.merge(df,df_commune_adj, left_on=\"3_Code INSEE (commune ou arrondissement)\",\n",
    "              right_on=\"6_insee\",how=\"left\")"
   ]
  },
  {
   "cell_type": "code",
   "execution_count": 42,
   "id": "af843cc9-53a1-466b-a833-f9d0b6768d29",
   "metadata": {},
   "outputs": [],
   "source": [
    "df = pd.merge(df, df_com, left_on=\"3_Code INSEE (commune ou arrondissement)\",\n",
    "              right_on=\"4_Code INSEE\",how=\"left\")"
   ]
  },
  {
   "cell_type": "code",
   "execution_count": 43,
   "id": "41fdc751-a554-4c16-b783-024d28ede55d",
   "metadata": {
    "scrolled": true,
    "tags": []
   },
   "outputs": [],
   "source": [
    "# # ATTENTION\n",
    "# df['Prix_estimé'] = df.apply(lambda x: estim_prix(x['Code INSEE (commune ou arrondissement)']),axis=1)\n",
    "# df = pd.read_csv('./Tables_traitees\\\\Infos_communes_avec_prix_estimé.csv',sep=';',dtype={'Code département':str,'Code INSEE (commune ou arrondissement)':str,\n",
    "                    # \"INSEE_DEP\":str,\"ID\":str,\"INSEE_COM\":str,\"code_commune_n\":str,\"insee\":str,\"Code INSEE\":str,\"Code Département\":str })"
   ]
  },
  {
   "cell_type": "code",
   "execution_count": 44,
   "id": "95ff8bca-15a9-42ca-9724-fa2ed39b00d3",
   "metadata": {
    "tags": []
   },
   "outputs": [
    {
     "data": {
      "text/plain": [
       "(36750, 54)"
      ]
     },
     "execution_count": 44,
     "metadata": {},
     "output_type": "execute_result"
    }
   ],
   "source": [
    "df.shape"
   ]
  },
  {
   "cell_type": "code",
   "execution_count": 45,
   "id": "c79f7a51-4cad-4a9a-aba8-1108c33c3a4d",
   "metadata": {
    "tags": []
   },
   "outputs": [
    {
     "data": {
      "text/plain": [
       "Index(['3_Code région', '3_Nom de la région', '3_Code département',\n",
       "       '3_Code commune', '3_Nom de la commune', '3_Population municipale',\n",
       "       '3_Population comptée à part', '3_Population totale',\n",
       "       '3_Année recensement', '3_Année utilisation',\n",
       "       '3_Code INSEE (commune ou arrondissement)',\n",
       "       '3_Superficie de la commune', '3_Statut', '3_Code EPCI', '3_EPCI',\n",
       "       '3_Densité_hab_par_km2', '5_ID', '5_INSEE_COM', '5_INSEE_DEP',\n",
       "       '5_INSEE_REG', '5_CODE_EPCI', '5_NOM_COM_M', '5_POPULATION',\n",
       "       '5_Nb_Ventes', '5_PrixMoyen_M2', '5_nb_digits_code_INSEE',\n",
       "       '5_code_commune_n', '6_insee', '6_nom', '6_nb_voisins',\n",
       "       '6_insee_voisins', '6_noms_voisins', '6_cap_voisins', '6_type',\n",
       "       '4_Code INSEE', '4_Code Postal', '4_Commune', '4_Département',\n",
       "       '4_Région', '4_Statut', '4_Altitude Moyenne', '4_Superficie',\n",
       "       '4_Population', '4_geo_point_2d', '4_geo_shape', '4_ID Geofla',\n",
       "       '4_Code Commune', '4_Code Canton', '4_Code Arrondissement',\n",
       "       '4_Code Département', '4_Code Région', '4_lat', '4_lon',\n",
       "       '4_Densité_hab_par_km2'],\n",
       "      dtype='object')"
      ]
     },
     "execution_count": 45,
     "metadata": {},
     "output_type": "execute_result"
    }
   ],
   "source": [
    "df.columns"
   ]
  },
  {
   "cell_type": "markdown",
   "id": "ff29b936-0ee2-4581-a193-bf832774e7e2",
   "metadata": {},
   "source": [
    "## Estimation des manquants prix moyen m2 "
   ]
  },
  {
   "cell_type": "markdown",
   "id": "92959a83-406f-4e66-930e-62c78647991c",
   "metadata": {},
   "source": [
    "On commence par choisir les variables qui vont participer à l'imputation"
   ]
  },
  {
   "cell_type": "code",
   "execution_count": 46,
   "id": "9d95b0fc-d1ee-41f6-835f-63b4e3eb4a70",
   "metadata": {
    "tags": []
   },
   "outputs": [],
   "source": [
    "sel_col = ['3_Code INSEE (commune ou arrondissement)','3_Code département', '5_PrixMoyen_M2', \n",
    "           'A_Prix_estimé_mean', 'A_Prix_consolidé_mean', 'B_Prix_estimé_median', 'B_Prix_consolidé_median', \n",
    "           '6_insee_voisins']"
   ]
  },
  {
   "cell_type": "code",
   "execution_count": 47,
   "id": "269f9936-aed6-4f73-a7de-78cd93f3e155",
   "metadata": {
    "tags": []
   },
   "outputs": [
    {
     "data": {
      "text/plain": [
       "3_Code région                                                                            28.0\n",
       "3_Nom de la région                                                                  Normandie\n",
       "3_Code département                                                                         76\n",
       "3_Code commune                                                                          601.0\n",
       "3_Nom de la commune                                                              Saint-Lucien\n",
       "3_Population municipale                                                                 252.0\n",
       "3_Population comptée à part                                                               2.0\n",
       "3_Population totale                                                                     254.0\n",
       "3_Année recensement                                                                      2016\n",
       "3_Année utilisation                                                                      2019\n",
       "3_Code INSEE (commune ou arrondissement)                                                76601\n",
       "3_Superficie de la commune                                                               8.71\n",
       "3_Statut                                                                              Commune\n",
       "3_Code EPCI                                                                               NaN\n",
       "3_EPCI                                                                                    NaN\n",
       "3_Densité_hab_par_km2                                                               29.161883\n",
       "5_ID                                                                 COMMUNE_0000002000704162\n",
       "5_INSEE_COM                                                                             76601\n",
       "5_INSEE_DEP                                                                                76\n",
       "5_INSEE_REG                                                                              28.0\n",
       "5_CODE_EPCI                                                                       200069730.0\n",
       "5_NOM_COM_M                                                                      SAINT LUCIEN\n",
       "5_POPULATION                                                                            252.0\n",
       "5_Nb_Ventes                                                                               6.0\n",
       "5_PrixMoyen_M2                                                                         1548.0\n",
       "5_nb_digits_code_INSEE                                                                    5.0\n",
       "5_code_commune_n                                                                        76601\n",
       "6_insee                                                                                 76601\n",
       "6_nom                                                                            Saint-Lucien\n",
       "6_nb_voisins                                                                              5.0\n",
       "6_insee_voisins                                                 76338|76469|76455|76358|76171\n",
       "6_noms_voisins                              La Hallotière|Nolléval|Morville-sur-Andelle|Le...\n",
       "6_cap_voisins                                                              43|119|209|246|318\n",
       "6_type                                                                                commune\n",
       "4_Code INSEE                                                                              NaN\n",
       "4_Code Postal                                                                             NaN\n",
       "4_Commune                                                                                 NaN\n",
       "4_Département                                                                             NaN\n",
       "4_Région                                                                                  NaN\n",
       "4_Statut                                                                                  NaN\n",
       "4_Altitude Moyenne                                                                        NaN\n",
       "4_Superficie                                                                              NaN\n",
       "4_Population                                                                              NaN\n",
       "4_geo_point_2d                                                                            NaN\n",
       "4_geo_shape                                                                               NaN\n",
       "4_ID Geofla                                                                               NaN\n",
       "4_Code Commune                                                                            NaN\n",
       "4_Code Canton                                                                             NaN\n",
       "4_Code Arrondissement                                                                     NaN\n",
       "4_Code Département                                                                        NaN\n",
       "4_Code Région                                                                             NaN\n",
       "4_lat                                                                                     NaN\n",
       "4_lon                                                                                     NaN\n",
       "4_Densité_hab_par_km2                                                                     NaN\n",
       "Name: 31441, dtype: object"
      ]
     },
     "execution_count": 47,
     "metadata": {},
     "output_type": "execute_result"
    }
   ],
   "source": [
    "# correction d'une ligne (la seule, dont la superficie et la densité n'étaient pas remplies\n",
    "df.loc[31441, '3_Superficie de la commune'] = 8.71\n",
    "df.loc[31441, '3_Densité_hab_par_km2'] = 254.0/8.71\n",
    "df.loc[31441,:]"
   ]
  },
  {
   "cell_type": "code",
   "execution_count": 48,
   "id": "2acf624d-c661-4bb4-86da-824e5861ef60",
   "metadata": {},
   "outputs": [],
   "source": [
    "df_m2 = df[df['5_PrixMoyen_M2'].isna()==False]\n",
    "# df_m2[sel_col]"
   ]
  },
  {
   "cell_type": "code",
   "execution_count": 49,
   "id": "da02045d-6f81-439d-81ab-005d89a08861",
   "metadata": {},
   "outputs": [
    {
     "data": {
      "text/plain": [
       "Index(['3_Code région', '3_Nom de la région', '3_Code département',\n",
       "       '3_Code commune', '3_Nom de la commune', '3_Population municipale',\n",
       "       '3_Population comptée à part', '3_Population totale',\n",
       "       '3_Année recensement', '3_Année utilisation',\n",
       "       '3_Code INSEE (commune ou arrondissement)',\n",
       "       '3_Superficie de la commune', '3_Statut', '3_Code EPCI', '3_EPCI',\n",
       "       '3_Densité_hab_par_km2', '5_ID', '5_INSEE_COM', '5_INSEE_DEP',\n",
       "       '5_INSEE_REG', '5_CODE_EPCI', '5_NOM_COM_M', '5_POPULATION',\n",
       "       '5_Nb_Ventes', '5_PrixMoyen_M2', '5_nb_digits_code_INSEE',\n",
       "       '5_code_commune_n', '6_insee', '6_nom', '6_nb_voisins',\n",
       "       '6_insee_voisins', '6_noms_voisins', '6_cap_voisins', '6_type',\n",
       "       '4_Code INSEE', '4_Code Postal', '4_Commune', '4_Département',\n",
       "       '4_Région', '4_Statut', '4_Altitude Moyenne', '4_Superficie',\n",
       "       '4_Population', '4_geo_point_2d', '4_geo_shape', '4_ID Geofla',\n",
       "       '4_Code Commune', '4_Code Canton', '4_Code Arrondissement',\n",
       "       '4_Code Département', '4_Code Région', '4_lat', '4_lon',\n",
       "       '4_Densité_hab_par_km2'],\n",
       "      dtype='object')"
      ]
     },
     "execution_count": 49,
     "metadata": {},
     "output_type": "execute_result"
    }
   ],
   "source": [
    "df_m2.columns"
   ]
  },
  {
   "cell_type": "code",
   "execution_count": 50,
   "id": "76a16cd8-ef41-4ff2-8f83-298753aba84a",
   "metadata": {},
   "outputs": [],
   "source": [
    "from sklearn.model_selection import KFold\n",
    "nb_kfold = 5\n",
    "rdm_state = 97\n",
    "kf = KFold(n_splits=nb_kfold,shuffle=True, random_state = rdm_state)"
   ]
  },
  {
   "cell_type": "markdown",
   "id": "42cd0c6b-0397-4713-a98d-b8c61af0861a",
   "metadata": {
    "execution": {
     "iopub.execute_input": "2024-01-16T12:32:06.719435Z",
     "iopub.status.busy": "2024-01-16T12:32:06.719435Z",
     "iopub.status.idle": "2024-01-16T12:32:06.732932Z",
     "shell.execute_reply": "2024-01-16T12:32:06.732305Z",
     "shell.execute_reply.started": "2024-01-16T12:32:06.719435Z"
    }
   },
   "source": [
    "### A-Par moyenne et B-médiane des communes avoisinantes"
   ]
  },
  {
   "cell_type": "code",
   "execution_count": 51,
   "id": "aea791c2-1500-4cad-83b2-3fd3c8c5f5fa",
   "metadata": {
    "tags": []
   },
   "outputs": [],
   "source": [
    "# On initialise les nouvelles variables\n",
    "df['A_Prix_consolidé_mean'] = np.nan\n",
    "df['A_Prix_estimé_mean'] = np.nan\n",
    "df['B_Prix_consolidé_median'] = np.nan\n",
    "df['B_Prix_estimé_median'] = np.nan\n",
    "df['5_PrixMoyen_M2'] = df['5_PrixMoyen_M2'].astype(float)"
   ]
  },
  {
   "cell_type": "code",
   "execution_count": 52,
   "id": "a64970ef-8ec5-4d5f-ba56-b4ef1686c7ad",
   "metadata": {},
   "outputs": [],
   "source": [
    "# On crée un dictionnaire pour aller plus vite dans la recherche des communes voisines \n",
    "voisins_dict = df_commune_adj.set_index('6_insee')['6_insee_voisins'].to_dict()\n",
    "df['A_Prix_consolidé_mean'] = df['5_PrixMoyen_M2']\n",
    "df['B_Prix_consolidé_median'] = df['5_PrixMoyen_M2']"
   ]
  },
  {
   "cell_type": "code",
   "execution_count": 53,
   "id": "58ed3f9b-e77e-42cf-b6b9-100e9f26d744",
   "metadata": {
    "tags": []
   },
   "outputs": [],
   "source": [
    "def estim_prix(code, vois, prix_mean, prix_median):\n",
    "    try:\n",
    "        # voisins = df_commune_adj.loc[df_commune_adj['insee']==code,'insee_voisins'].values[0].split('|')\n",
    "        voisins = vois[str(code)].split('|')\n",
    "        # print(voisins)\n",
    "        prix_voisins_mean = list()\n",
    "        prix_voisins_median = list()\n",
    "        for v in voisins:\n",
    "            try:\n",
    "                # p = df.loc[df['Code INSEE (commune ou arrondissement)']==v,'Prix_consolidé'].values[0]\n",
    "                p1 = prix_mean[str(v)]\n",
    "                p2 = prix_median[str(v)]\n",
    "            except:\n",
    "                p1, p2 = None, None\n",
    "            # nb = df.loc[df['Code INSEE (commune ou arrondissement)']==v,'Nb_Ventes'].values[0]\n",
    "            prix_voisins_mean.append(float(p1))\n",
    "            prix_voisins_median.append(float(p2))\n",
    "        # print(code, voisins,prix_voisins)\n",
    "        mean = np.nanmean(prix_voisins_mean)\n",
    "        median = np.nanmedian(prix_voisins_median)\n",
    "    except:\n",
    "        mean = np.nan\n",
    "        median = np.nan\n",
    "    # print(code, mean, median)\n",
    "    # print('-------')\n",
    "    return pd.Series({'A_Prix_estimé_mean': mean, 'B_Prix_estimé_median': median})"
   ]
  },
  {
   "cell_type": "code",
   "execution_count": 54,
   "id": "36f6b2c7-6174-4d16-9cec-669e307fd4c2",
   "metadata": {
    "scrolled": true,
    "tags": []
   },
   "outputs": [
    {
     "name": "stdout",
     "output_type": "stream",
     "text": [
      "iteration: 0 nbre de manquants: 9928\n"
     ]
    },
    {
     "name": "stderr",
     "output_type": "stream",
     "text": [
      "C:\\Users\\plele\\AppData\\Local\\Temp\\ipykernel_10608\\3912908387.py:19: RuntimeWarning: Mean of empty slice\n",
      "  mean = np.nanmean(prix_voisins_mean)\n",
      "C:\\Users\\plele\\anaconda3\\Lib\\site-packages\\numpy\\lib\\nanfunctions.py:1217: RuntimeWarning: All-NaN slice encountered\n",
      "  return function_base._ureduce(a, func=_nanmedian, keepdims=keepdims,\n"
     ]
    },
    {
     "name": "stdout",
     "output_type": "stream",
     "text": [
      "iteration: 1 nbre de manquants: 4075\n"
     ]
    },
    {
     "name": "stderr",
     "output_type": "stream",
     "text": [
      "C:\\Users\\plele\\AppData\\Local\\Temp\\ipykernel_10608\\3912908387.py:19: RuntimeWarning: Mean of empty slice\n",
      "  mean = np.nanmean(prix_voisins_mean)\n",
      "C:\\Users\\plele\\anaconda3\\Lib\\site-packages\\numpy\\lib\\nanfunctions.py:1217: RuntimeWarning: All-NaN slice encountered\n",
      "  return function_base._ureduce(a, func=_nanmedian, keepdims=keepdims,\n"
     ]
    },
    {
     "name": "stdout",
     "output_type": "stream",
     "text": [
      "iteration: 2 nbre de manquants: 3495\n"
     ]
    },
    {
     "name": "stderr",
     "output_type": "stream",
     "text": [
      "C:\\Users\\plele\\AppData\\Local\\Temp\\ipykernel_10608\\3912908387.py:19: RuntimeWarning: Mean of empty slice\n",
      "  mean = np.nanmean(prix_voisins_mean)\n",
      "C:\\Users\\plele\\anaconda3\\Lib\\site-packages\\numpy\\lib\\nanfunctions.py:1217: RuntimeWarning: All-NaN slice encountered\n",
      "  return function_base._ureduce(a, func=_nanmedian, keepdims=keepdims,\n"
     ]
    },
    {
     "name": "stdout",
     "output_type": "stream",
     "text": [
      "iteration: 3 nbre de manquants: 3238\n"
     ]
    },
    {
     "name": "stderr",
     "output_type": "stream",
     "text": [
      "C:\\Users\\plele\\AppData\\Local\\Temp\\ipykernel_10608\\3912908387.py:19: RuntimeWarning: Mean of empty slice\n",
      "  mean = np.nanmean(prix_voisins_mean)\n",
      "C:\\Users\\plele\\anaconda3\\Lib\\site-packages\\numpy\\lib\\nanfunctions.py:1217: RuntimeWarning: All-NaN slice encountered\n",
      "  return function_base._ureduce(a, func=_nanmedian, keepdims=keepdims,\n"
     ]
    },
    {
     "name": "stdout",
     "output_type": "stream",
     "text": [
      "iteration: 4 nbre de manquants: 3047\n"
     ]
    },
    {
     "name": "stderr",
     "output_type": "stream",
     "text": [
      "C:\\Users\\plele\\AppData\\Local\\Temp\\ipykernel_10608\\3912908387.py:19: RuntimeWarning: Mean of empty slice\n",
      "  mean = np.nanmean(prix_voisins_mean)\n",
      "C:\\Users\\plele\\anaconda3\\Lib\\site-packages\\numpy\\lib\\nanfunctions.py:1217: RuntimeWarning: All-NaN slice encountered\n",
      "  return function_base._ureduce(a, func=_nanmedian, keepdims=keepdims,\n"
     ]
    },
    {
     "name": "stdout",
     "output_type": "stream",
     "text": [
      "iteration: 5 nbre de manquants: 2868\n",
      "CPU times: total: 1min 7s\n",
      "Wall time: 1min 37s\n"
     ]
    }
   ],
   "source": [
    "%%time\n",
    "n_iterations = 5\n",
    "i=0\n",
    "print('iteration:',i,'nbre de manquants:', sum(pd.isna(df['A_Prix_consolidé_mean'])))\n",
    "while i<n_iterations:\n",
    "    Prix_consolidé_dict_mean = df.set_index('3_Code INSEE (commune ou arrondissement)')['A_Prix_consolidé_mean'].to_dict()\n",
    "    Prix_consolidé_dict_median = df.set_index('3_Code INSEE (commune ou arrondissement)')['B_Prix_consolidé_median'].to_dict()\n",
    "    df[['A_Prix_estimé_mean', 'B_Prix_estimé_median']] = df.apply(lambda x: estim_prix(x['3_Code INSEE (commune ou arrondissement)'], \n",
    "                                                                                      voisins_dict, Prix_consolidé_dict_mean, \n",
    "                                                                                       Prix_consolidé_dict_median ),axis=1)\n",
    "    df['A_Prix_consolidé_mean'] = df['A_Prix_estimé_mean']\n",
    "    df['B_Prix_consolidé_median'] = df['B_Prix_estimé_median']\n",
    "    df.loc[pd.notna(df['5_PrixMoyen_M2']),'A_Prix_consolidé_mean'] = df.loc[pd.notna(df['5_PrixMoyen_M2']), '5_PrixMoyen_M2'] \n",
    "    df.loc[pd.notna(df['5_PrixMoyen_M2']),'B_Prix_consolidé_median'] = df.loc[pd.notna(df['5_PrixMoyen_M2']), '5_PrixMoyen_M2'] \n",
    "    nb_manquants = sum(pd.isna(df['A_Prix_consolidé_mean']))\n",
    "    i+=1\n",
    "    print('iteration:',i,'nbre de manquants:',nb_manquants)"
   ]
  },
  {
   "cell_type": "code",
   "execution_count": 55,
   "id": "aaa7283e-b032-4486-bc36-556a4470c2ba",
   "metadata": {
    "scrolled": true
   },
   "outputs": [
    {
     "data": {
      "text/plain": [
       "A_Prix_estimé_mean      2167.5\n",
       "B_Prix_estimé_median    2080.5\n",
       "dtype: float64"
      ]
     },
     "execution_count": 55,
     "metadata": {},
     "output_type": "execute_result"
    }
   ],
   "source": [
    "estim_prix(df.loc[0,'3_Code INSEE (commune ou arrondissement)'], voisins_dict, Prix_consolidé_dict_mean, Prix_consolidé_dict_median)"
   ]
  },
  {
   "cell_type": "code",
   "execution_count": 56,
   "id": "7142c6e9-aaee-449d-8549-b97d3b2e301e",
   "metadata": {
    "scrolled": true
   },
   "outputs": [
    {
     "data": {
      "text/plain": [
       "A_Prix_estimé_mean     NaN\n",
       "B_Prix_estimé_median   NaN\n",
       "dtype: float64"
      ]
     },
     "execution_count": 56,
     "metadata": {},
     "output_type": "execute_result"
    }
   ],
   "source": [
    "estim_prix(df.loc[53,'3_Code INSEE (commune ou arrondissement)'], voisins_dict, Prix_consolidé_dict_mean, Prix_consolidé_dict_median)"
   ]
  },
  {
   "cell_type": "code",
   "execution_count": 57,
   "id": "33102f1f-fa73-4d99-9311-5b86c8038123",
   "metadata": {
    "scrolled": true
   },
   "outputs": [
    {
     "name": "stderr",
     "output_type": "stream",
     "text": [
      "C:\\Users\\plele\\AppData\\Local\\Temp\\ipykernel_10608\\3912908387.py:19: RuntimeWarning: Mean of empty slice\n",
      "  mean = np.nanmean(prix_voisins_mean)\n",
      "C:\\Users\\plele\\anaconda3\\Lib\\site-packages\\numpy\\lib\\nanfunctions.py:1217: RuntimeWarning: All-NaN slice encountered\n",
      "  return function_base._ureduce(a, func=_nanmedian, keepdims=keepdims,\n"
     ]
    },
    {
     "data": {
      "text/plain": [
       "A_Prix_estimé_mean     NaN\n",
       "B_Prix_estimé_median   NaN\n",
       "dtype: float64"
      ]
     },
     "execution_count": 57,
     "metadata": {},
     "output_type": "execute_result"
    }
   ],
   "source": [
    "estim_prix(df.loc[36745,'3_Code INSEE (commune ou arrondissement)'], voisins_dict, Prix_consolidé_dict_mean, Prix_consolidé_dict_median)"
   ]
  },
  {
   "cell_type": "code",
   "execution_count": 58,
   "id": "4bc649d7-a6b7-409b-a923-077b64fb6cbf",
   "metadata": {
    "tags": []
   },
   "outputs": [
    {
     "data": {
      "text/html": [
       "<div>\n",
       "<style scoped>\n",
       "    .dataframe tbody tr th:only-of-type {\n",
       "        vertical-align: middle;\n",
       "    }\n",
       "\n",
       "    .dataframe tbody tr th {\n",
       "        vertical-align: top;\n",
       "    }\n",
       "\n",
       "    .dataframe thead th {\n",
       "        text-align: right;\n",
       "    }\n",
       "</style>\n",
       "<table border=\"1\" class=\"dataframe\">\n",
       "  <thead>\n",
       "    <tr style=\"text-align: right;\">\n",
       "      <th></th>\n",
       "      <th>3_Code INSEE (commune ou arrondissement)</th>\n",
       "      <th>3_Code département</th>\n",
       "      <th>5_PrixMoyen_M2</th>\n",
       "      <th>A_Prix_estimé_mean</th>\n",
       "      <th>A_Prix_consolidé_mean</th>\n",
       "      <th>B_Prix_estimé_median</th>\n",
       "      <th>B_Prix_consolidé_median</th>\n",
       "      <th>6_insee_voisins</th>\n",
       "    </tr>\n",
       "  </thead>\n",
       "  <tbody>\n",
       "    <tr>\n",
       "      <th>0</th>\n",
       "      <td>01001</td>\n",
       "      <td>01</td>\n",
       "      <td>1938.0</td>\n",
       "      <td>2167.500000</td>\n",
       "      <td>1938.000000</td>\n",
       "      <td>2080.5</td>\n",
       "      <td>1938.0</td>\n",
       "      <td>01412|01093|01028|01146|01351|01188</td>\n",
       "    </tr>\n",
       "    <tr>\n",
       "      <th>1</th>\n",
       "      <td>01002</td>\n",
       "      <td>01</td>\n",
       "      <td>1130.0</td>\n",
       "      <td>1503.894444</td>\n",
       "      <td>1130.000000</td>\n",
       "      <td>1458.5</td>\n",
       "      <td>1130.0</td>\n",
       "      <td>01056|01277|01384|01007|01363|01199</td>\n",
       "    </tr>\n",
       "    <tr>\n",
       "      <th>2</th>\n",
       "      <td>01004</td>\n",
       "      <td>01</td>\n",
       "      <td>2005.0</td>\n",
       "      <td>1725.714286</td>\n",
       "      <td>2005.000000</td>\n",
       "      <td>1678.0</td>\n",
       "      <td>2005.0</td>\n",
       "      <td>01384|01421|01041|01345|01089|01007|01149</td>\n",
       "    </tr>\n",
       "    <tr>\n",
       "      <th>3</th>\n",
       "      <td>01005</td>\n",
       "      <td>01</td>\n",
       "      <td>2442.0</td>\n",
       "      <td>2647.857143</td>\n",
       "      <td>2442.000000</td>\n",
       "      <td>2701.0</td>\n",
       "      <td>2442.0</td>\n",
       "      <td>01382|01207|01261|01362|01318|01398|01446</td>\n",
       "    </tr>\n",
       "    <tr>\n",
       "      <th>4</th>\n",
       "      <td>01006</td>\n",
       "      <td>01</td>\n",
       "      <td>1155.0</td>\n",
       "      <td>1460.333333</td>\n",
       "      <td>1155.000000</td>\n",
       "      <td>1287.0</td>\n",
       "      <td>1155.0</td>\n",
       "      <td>01358|01110|01117|01216|01233|01190</td>\n",
       "    </tr>\n",
       "    <tr>\n",
       "      <th>5</th>\n",
       "      <td>01007</td>\n",
       "      <td>01</td>\n",
       "      <td>1963.0</td>\n",
       "      <td>1739.555556</td>\n",
       "      <td>1963.000000</td>\n",
       "      <td>1731.0</td>\n",
       "      <td>1963.0</td>\n",
       "      <td>01363|01002|01384|01149|01004|01089|01314|0143...</td>\n",
       "    </tr>\n",
       "    <tr>\n",
       "      <th>6</th>\n",
       "      <td>01008</td>\n",
       "      <td>01</td>\n",
       "      <td>1940.0</td>\n",
       "      <td>1789.200000</td>\n",
       "      <td>1940.000000</td>\n",
       "      <td>1693.0</td>\n",
       "      <td>1940.0</td>\n",
       "      <td>01041|01431|01202|01213|01345</td>\n",
       "    </tr>\n",
       "    <tr>\n",
       "      <th>7</th>\n",
       "      <td>01009</td>\n",
       "      <td>01</td>\n",
       "      <td>966.0</td>\n",
       "      <td>1388.400000</td>\n",
       "      <td>966.000000</td>\n",
       "      <td>1286.0</td>\n",
       "      <td>966.0</td>\n",
       "      <td>01098|01034|01015|01358|01116</td>\n",
       "    </tr>\n",
       "    <tr>\n",
       "      <th>8</th>\n",
       "      <td>01010</td>\n",
       "      <td>01</td>\n",
       "      <td>1970.0</td>\n",
       "      <td>1812.571429</td>\n",
       "      <td>1970.000000</td>\n",
       "      <td>1723.0</td>\n",
       "      <td>1970.0</td>\n",
       "      <td>01407|74269|73180|73286|01138|01453|01118</td>\n",
       "    </tr>\n",
       "    <tr>\n",
       "      <th>9</th>\n",
       "      <td>01011</td>\n",
       "      <td>01</td>\n",
       "      <td>889.0</td>\n",
       "      <td>1569.142857</td>\n",
       "      <td>889.000000</td>\n",
       "      <td>1552.0</td>\n",
       "      <td>889.0</td>\n",
       "      <td>01087|01269|01265|01237|01181|01031|01283</td>\n",
       "    </tr>\n",
       "    <tr>\n",
       "      <th>10</th>\n",
       "      <td>01012</td>\n",
       "      <td>01</td>\n",
       "      <td>1185.0</td>\n",
       "      <td>1584.419238</td>\n",
       "      <td>1185.000000</td>\n",
       "      <td>1470.0</td>\n",
       "      <td>1185.0</td>\n",
       "      <td>01191|01080|01185|01155|01279|01277|01121</td>\n",
       "    </tr>\n",
       "    <tr>\n",
       "      <th>11</th>\n",
       "      <td>01013</td>\n",
       "      <td>01</td>\n",
       "      <td>1182.0</td>\n",
       "      <td>1145.000000</td>\n",
       "      <td>1182.000000</td>\n",
       "      <td>1166.0</td>\n",
       "      <td>1182.0</td>\n",
       "      <td>01416|01066|01280|01111|01384|01017</td>\n",
       "    </tr>\n",
       "    <tr>\n",
       "      <th>12</th>\n",
       "      <td>01014</td>\n",
       "      <td>01</td>\n",
       "      <td>2082.0</td>\n",
       "      <td>1606.750000</td>\n",
       "      <td>2082.000000</td>\n",
       "      <td>1623.5</td>\n",
       "      <td>2082.0</td>\n",
       "      <td>39579|01152|01283|01148</td>\n",
       "    </tr>\n",
       "    <tr>\n",
       "      <th>13</th>\n",
       "      <td>01015</td>\n",
       "      <td>01</td>\n",
       "      <td>1065.0</td>\n",
       "      <td>1415.444444</td>\n",
       "      <td>1065.000000</td>\n",
       "      <td>1588.0</td>\n",
       "      <td>1065.0</td>\n",
       "      <td>01009|01034|01061|01294|01310|01338|01117|0111...</td>\n",
       "    </tr>\n",
       "    <tr>\n",
       "      <th>14</th>\n",
       "      <td>01016</td>\n",
       "      <td>01</td>\n",
       "      <td>672.0</td>\n",
       "      <td>1587.666667</td>\n",
       "      <td>672.000000</td>\n",
       "      <td>1562.0</td>\n",
       "      <td>672.0</td>\n",
       "      <td>01402|01437|01094|01337|71550|71195</td>\n",
       "    </tr>\n",
       "    <tr>\n",
       "      <th>15</th>\n",
       "      <td>01017</td>\n",
       "      <td>01</td>\n",
       "      <td>968.0</td>\n",
       "      <td>1454.600000</td>\n",
       "      <td>968.000000</td>\n",
       "      <td>1349.0</td>\n",
       "      <td>968.0</td>\n",
       "      <td>01155|01416|01013|01384|01279</td>\n",
       "    </tr>\n",
       "    <tr>\n",
       "      <th>16</th>\n",
       "      <td>01019</td>\n",
       "      <td>01</td>\n",
       "      <td>NaN</td>\n",
       "      <td>1157.567778</td>\n",
       "      <td>1157.567778</td>\n",
       "      <td>1239.5</td>\n",
       "      <td>1239.5</td>\n",
       "      <td>01185|01452|01329|01066|01311</td>\n",
       "    </tr>\n",
       "    <tr>\n",
       "      <th>17</th>\n",
       "      <td>01021</td>\n",
       "      <td>01</td>\n",
       "      <td>2124.0</td>\n",
       "      <td>2684.428571</td>\n",
       "      <td>2124.000000</td>\n",
       "      <td>2697.0</td>\n",
       "      <td>2124.0</td>\n",
       "      <td>01446|01398|01318|01423|01250|01166|01075</td>\n",
       "    </tr>\n",
       "    <tr>\n",
       "      <th>18</th>\n",
       "      <td>01022</td>\n",
       "      <td>01</td>\n",
       "      <td>1498.0</td>\n",
       "      <td>1450.250000</td>\n",
       "      <td>1498.000000</td>\n",
       "      <td>1590.0</td>\n",
       "      <td>1498.0</td>\n",
       "      <td>01415|01073|01372|01036</td>\n",
       "    </tr>\n",
       "    <tr>\n",
       "      <th>19</th>\n",
       "      <td>01023</td>\n",
       "      <td>01</td>\n",
       "      <td>NaN</td>\n",
       "      <td>1653.666667</td>\n",
       "      <td>1653.666667</td>\n",
       "      <td>1652.5</td>\n",
       "      <td>1652.5</td>\n",
       "      <td>01057|01284|01231|01439|71448|71513</td>\n",
       "    </tr>\n",
       "    <tr>\n",
       "      <th>20</th>\n",
       "      <td>01024</td>\n",
       "      <td>01</td>\n",
       "      <td>2462.0</td>\n",
       "      <td>1724.200000</td>\n",
       "      <td>2462.000000</td>\n",
       "      <td>1813.0</td>\n",
       "      <td>2462.0</td>\n",
       "      <td>01130|01232|01451|01301|01375</td>\n",
       "    </tr>\n",
       "  </tbody>\n",
       "</table>\n",
       "</div>"
      ],
      "text/plain": [
       "   3_Code INSEE (commune ou arrondissement) 3_Code département  \\\n",
       "0                                     01001                 01   \n",
       "1                                     01002                 01   \n",
       "2                                     01004                 01   \n",
       "3                                     01005                 01   \n",
       "4                                     01006                 01   \n",
       "5                                     01007                 01   \n",
       "6                                     01008                 01   \n",
       "7                                     01009                 01   \n",
       "8                                     01010                 01   \n",
       "9                                     01011                 01   \n",
       "10                                    01012                 01   \n",
       "11                                    01013                 01   \n",
       "12                                    01014                 01   \n",
       "13                                    01015                 01   \n",
       "14                                    01016                 01   \n",
       "15                                    01017                 01   \n",
       "16                                    01019                 01   \n",
       "17                                    01021                 01   \n",
       "18                                    01022                 01   \n",
       "19                                    01023                 01   \n",
       "20                                    01024                 01   \n",
       "\n",
       "    5_PrixMoyen_M2  A_Prix_estimé_mean  A_Prix_consolidé_mean  \\\n",
       "0           1938.0         2167.500000            1938.000000   \n",
       "1           1130.0         1503.894444            1130.000000   \n",
       "2           2005.0         1725.714286            2005.000000   \n",
       "3           2442.0         2647.857143            2442.000000   \n",
       "4           1155.0         1460.333333            1155.000000   \n",
       "5           1963.0         1739.555556            1963.000000   \n",
       "6           1940.0         1789.200000            1940.000000   \n",
       "7            966.0         1388.400000             966.000000   \n",
       "8           1970.0         1812.571429            1970.000000   \n",
       "9            889.0         1569.142857             889.000000   \n",
       "10          1185.0         1584.419238            1185.000000   \n",
       "11          1182.0         1145.000000            1182.000000   \n",
       "12          2082.0         1606.750000            2082.000000   \n",
       "13          1065.0         1415.444444            1065.000000   \n",
       "14           672.0         1587.666667             672.000000   \n",
       "15           968.0         1454.600000             968.000000   \n",
       "16             NaN         1157.567778            1157.567778   \n",
       "17          2124.0         2684.428571            2124.000000   \n",
       "18          1498.0         1450.250000            1498.000000   \n",
       "19             NaN         1653.666667            1653.666667   \n",
       "20          2462.0         1724.200000            2462.000000   \n",
       "\n",
       "    B_Prix_estimé_median  B_Prix_consolidé_median  \\\n",
       "0                 2080.5                   1938.0   \n",
       "1                 1458.5                   1130.0   \n",
       "2                 1678.0                   2005.0   \n",
       "3                 2701.0                   2442.0   \n",
       "4                 1287.0                   1155.0   \n",
       "5                 1731.0                   1963.0   \n",
       "6                 1693.0                   1940.0   \n",
       "7                 1286.0                    966.0   \n",
       "8                 1723.0                   1970.0   \n",
       "9                 1552.0                    889.0   \n",
       "10                1470.0                   1185.0   \n",
       "11                1166.0                   1182.0   \n",
       "12                1623.5                   2082.0   \n",
       "13                1588.0                   1065.0   \n",
       "14                1562.0                    672.0   \n",
       "15                1349.0                    968.0   \n",
       "16                1239.5                   1239.5   \n",
       "17                2697.0                   2124.0   \n",
       "18                1590.0                   1498.0   \n",
       "19                1652.5                   1652.5   \n",
       "20                1813.0                   2462.0   \n",
       "\n",
       "                                      6_insee_voisins  \n",
       "0                 01412|01093|01028|01146|01351|01188  \n",
       "1                 01056|01277|01384|01007|01363|01199  \n",
       "2           01384|01421|01041|01345|01089|01007|01149  \n",
       "3           01382|01207|01261|01362|01318|01398|01446  \n",
       "4                 01358|01110|01117|01216|01233|01190  \n",
       "5   01363|01002|01384|01149|01004|01089|01314|0143...  \n",
       "6                       01041|01431|01202|01213|01345  \n",
       "7                       01098|01034|01015|01358|01116  \n",
       "8           01407|74269|73180|73286|01138|01453|01118  \n",
       "9           01087|01269|01265|01237|01181|01031|01283  \n",
       "10          01191|01080|01185|01155|01279|01277|01121  \n",
       "11                01416|01066|01280|01111|01384|01017  \n",
       "12                            39579|01152|01283|01148  \n",
       "13  01009|01034|01061|01294|01310|01338|01117|0111...  \n",
       "14                01402|01437|01094|01337|71550|71195  \n",
       "15                      01155|01416|01013|01384|01279  \n",
       "16                      01185|01452|01329|01066|01311  \n",
       "17          01446|01398|01318|01423|01250|01166|01075  \n",
       "18                            01415|01073|01372|01036  \n",
       "19                01057|01284|01231|01439|71448|71513  \n",
       "20                      01130|01232|01451|01301|01375  "
      ]
     },
     "execution_count": 58,
     "metadata": {},
     "output_type": "execute_result"
    }
   ],
   "source": [
    "df.loc[:20, sel_col]"
   ]
  },
  {
   "cell_type": "code",
   "execution_count": 59,
   "id": "33f8a052-b49d-49d9-8d4c-1542ed0ab0c3",
   "metadata": {
    "tags": []
   },
   "outputs": [],
   "source": [
    "df_prix_na = df[df['A_Prix_consolidé_mean'].isna()]"
   ]
  },
  {
   "cell_type": "code",
   "execution_count": 60,
   "id": "8e4f29d7-61e5-4317-8188-d82fb5a60a05",
   "metadata": {
    "tags": []
   },
   "outputs": [
    {
     "data": {
      "text/plain": [
       "(2868, 58)"
      ]
     },
     "execution_count": 60,
     "metadata": {},
     "output_type": "execute_result"
    }
   ],
   "source": [
    "df_prix_na.shape"
   ]
  },
  {
   "cell_type": "code",
   "execution_count": 61,
   "id": "9fb2c700-bf1a-4a6f-bc62-676afc9161eb",
   "metadata": {
    "scrolled": true,
    "tags": []
   },
   "outputs": [
    {
     "name": "stdout",
     "output_type": "stream",
     "text": [
      "1750\n"
     ]
    },
    {
     "data": {
      "text/html": [
       "<div>\n",
       "<style scoped>\n",
       "    .dataframe tbody tr th:only-of-type {\n",
       "        vertical-align: middle;\n",
       "    }\n",
       "\n",
       "    .dataframe tbody tr th {\n",
       "        vertical-align: top;\n",
       "    }\n",
       "\n",
       "    .dataframe thead th {\n",
       "        text-align: right;\n",
       "    }\n",
       "</style>\n",
       "<table border=\"1\" class=\"dataframe\">\n",
       "  <thead>\n",
       "    <tr style=\"text-align: right;\">\n",
       "      <th></th>\n",
       "      <th>3_Code INSEE (commune ou arrondissement)</th>\n",
       "      <th>3_Code département</th>\n",
       "      <th>5_PrixMoyen_M2</th>\n",
       "      <th>A_Prix_estimé_mean</th>\n",
       "      <th>A_Prix_consolidé_mean</th>\n",
       "      <th>B_Prix_estimé_median</th>\n",
       "      <th>B_Prix_consolidé_median</th>\n",
       "      <th>6_insee_voisins</th>\n",
       "    </tr>\n",
       "  </thead>\n",
       "  <tbody>\n",
       "    <tr>\n",
       "      <th>53</th>\n",
       "      <td>01059</td>\n",
       "      <td>01</td>\n",
       "      <td>NaN</td>\n",
       "      <td>NaN</td>\n",
       "      <td>NaN</td>\n",
       "      <td>NaN</td>\n",
       "      <td>NaN</td>\n",
       "      <td>NaN</td>\n",
       "    </tr>\n",
       "    <tr>\n",
       "      <th>83</th>\n",
       "      <td>01091</td>\n",
       "      <td>01</td>\n",
       "      <td>NaN</td>\n",
       "      <td>NaN</td>\n",
       "      <td>NaN</td>\n",
       "      <td>NaN</td>\n",
       "      <td>NaN</td>\n",
       "      <td>NaN</td>\n",
       "    </tr>\n",
       "    <tr>\n",
       "      <th>89</th>\n",
       "      <td>01097</td>\n",
       "      <td>01</td>\n",
       "      <td>NaN</td>\n",
       "      <td>NaN</td>\n",
       "      <td>NaN</td>\n",
       "      <td>NaN</td>\n",
       "      <td>NaN</td>\n",
       "      <td>NaN</td>\n",
       "    </tr>\n",
       "    <tr>\n",
       "      <th>111</th>\n",
       "      <td>01119</td>\n",
       "      <td>01</td>\n",
       "      <td>NaN</td>\n",
       "      <td>NaN</td>\n",
       "      <td>NaN</td>\n",
       "      <td>NaN</td>\n",
       "      <td>NaN</td>\n",
       "      <td>NaN</td>\n",
       "    </tr>\n",
       "    <tr>\n",
       "      <th>113</th>\n",
       "      <td>01122</td>\n",
       "      <td>01</td>\n",
       "      <td>NaN</td>\n",
       "      <td>NaN</td>\n",
       "      <td>NaN</td>\n",
       "      <td>NaN</td>\n",
       "      <td>NaN</td>\n",
       "      <td>NaN</td>\n",
       "    </tr>\n",
       "    <tr>\n",
       "      <th>...</th>\n",
       "      <td>...</td>\n",
       "      <td>...</td>\n",
       "      <td>...</td>\n",
       "      <td>...</td>\n",
       "      <td>...</td>\n",
       "      <td>...</td>\n",
       "      <td>...</td>\n",
       "      <td>...</td>\n",
       "    </tr>\n",
       "    <tr>\n",
       "      <th>36183</th>\n",
       "      <td>91222</td>\n",
       "      <td>91</td>\n",
       "      <td>NaN</td>\n",
       "      <td>NaN</td>\n",
       "      <td>NaN</td>\n",
       "      <td>NaN</td>\n",
       "      <td>NaN</td>\n",
       "      <td>NaN</td>\n",
       "    </tr>\n",
       "    <tr>\n",
       "      <th>36510</th>\n",
       "      <td>95259</td>\n",
       "      <td>95</td>\n",
       "      <td>NaN</td>\n",
       "      <td>NaN</td>\n",
       "      <td>NaN</td>\n",
       "      <td>NaN</td>\n",
       "      <td>NaN</td>\n",
       "      <td>NaN</td>\n",
       "    </tr>\n",
       "    <tr>\n",
       "      <th>36630</th>\n",
       "      <td>97110</td>\n",
       "      <td>971</td>\n",
       "      <td>NaN</td>\n",
       "      <td>NaN</td>\n",
       "      <td>NaN</td>\n",
       "      <td>NaN</td>\n",
       "      <td>NaN</td>\n",
       "      <td>NaN</td>\n",
       "    </tr>\n",
       "    <tr>\n",
       "      <th>36648</th>\n",
       "      <td>97130</td>\n",
       "      <td>971</td>\n",
       "      <td>NaN</td>\n",
       "      <td>NaN</td>\n",
       "      <td>NaN</td>\n",
       "      <td>NaN</td>\n",
       "      <td>NaN</td>\n",
       "      <td>NaN</td>\n",
       "    </tr>\n",
       "    <tr>\n",
       "      <th>36649</th>\n",
       "      <td>97131</td>\n",
       "      <td>971</td>\n",
       "      <td>NaN</td>\n",
       "      <td>NaN</td>\n",
       "      <td>NaN</td>\n",
       "      <td>NaN</td>\n",
       "      <td>NaN</td>\n",
       "      <td>NaN</td>\n",
       "    </tr>\n",
       "  </tbody>\n",
       "</table>\n",
       "<p>1750 rows × 8 columns</p>\n",
       "</div>"
      ],
      "text/plain": [
       "      3_Code INSEE (commune ou arrondissement) 3_Code département  \\\n",
       "53                                       01059                 01   \n",
       "83                                       01091                 01   \n",
       "89                                       01097                 01   \n",
       "111                                      01119                 01   \n",
       "113                                      01122                 01   \n",
       "...                                        ...                ...   \n",
       "36183                                    91222                 91   \n",
       "36510                                    95259                 95   \n",
       "36630                                    97110                971   \n",
       "36648                                    97130                971   \n",
       "36649                                    97131                971   \n",
       "\n",
       "       5_PrixMoyen_M2  A_Prix_estimé_mean  A_Prix_consolidé_mean  \\\n",
       "53                NaN                 NaN                    NaN   \n",
       "83                NaN                 NaN                    NaN   \n",
       "89                NaN                 NaN                    NaN   \n",
       "111               NaN                 NaN                    NaN   \n",
       "113               NaN                 NaN                    NaN   \n",
       "...               ...                 ...                    ...   \n",
       "36183             NaN                 NaN                    NaN   \n",
       "36510             NaN                 NaN                    NaN   \n",
       "36630             NaN                 NaN                    NaN   \n",
       "36648             NaN                 NaN                    NaN   \n",
       "36649             NaN                 NaN                    NaN   \n",
       "\n",
       "       B_Prix_estimé_median  B_Prix_consolidé_median 6_insee_voisins  \n",
       "53                      NaN                      NaN             NaN  \n",
       "83                      NaN                      NaN             NaN  \n",
       "89                      NaN                      NaN             NaN  \n",
       "111                     NaN                      NaN             NaN  \n",
       "113                     NaN                      NaN             NaN  \n",
       "...                     ...                      ...             ...  \n",
       "36183                   NaN                      NaN             NaN  \n",
       "36510                   NaN                      NaN             NaN  \n",
       "36630                   NaN                      NaN             NaN  \n",
       "36648                   NaN                      NaN             NaN  \n",
       "36649                   NaN                      NaN             NaN  \n",
       "\n",
       "[1750 rows x 8 columns]"
      ]
     },
     "execution_count": 61,
     "metadata": {},
     "output_type": "execute_result"
    }
   ],
   "source": [
    "print(len(df_prix_na.loc[pd.isna(df_prix_na['6_insee_voisins']),sel_col]))\n",
    "df_prix_na.loc[pd.isna(df_prix_na['6_insee_voisins']),sel_col]"
   ]
  },
  {
   "cell_type": "code",
   "execution_count": 62,
   "id": "501789ff-1fca-436c-8931-0a355116d574",
   "metadata": {
    "scrolled": true,
    "tags": []
   },
   "outputs": [
    {
     "name": "stdout",
     "output_type": "stream",
     "text": [
      "1118\n"
     ]
    },
    {
     "data": {
      "text/html": [
       "<div>\n",
       "<style scoped>\n",
       "    .dataframe tbody tr th:only-of-type {\n",
       "        vertical-align: middle;\n",
       "    }\n",
       "\n",
       "    .dataframe tbody tr th {\n",
       "        vertical-align: top;\n",
       "    }\n",
       "\n",
       "    .dataframe thead th {\n",
       "        text-align: right;\n",
       "    }\n",
       "</style>\n",
       "<table border=\"1\" class=\"dataframe\">\n",
       "  <thead>\n",
       "    <tr style=\"text-align: right;\">\n",
       "      <th></th>\n",
       "      <th>3_Code INSEE (commune ou arrondissement)</th>\n",
       "      <th>3_Code département</th>\n",
       "      <th>5_PrixMoyen_M2</th>\n",
       "      <th>A_Prix_estimé_mean</th>\n",
       "      <th>A_Prix_consolidé_mean</th>\n",
       "      <th>B_Prix_estimé_median</th>\n",
       "      <th>B_Prix_consolidé_median</th>\n",
       "      <th>6_insee_voisins</th>\n",
       "    </tr>\n",
       "  </thead>\n",
       "  <tbody>\n",
       "    <tr>\n",
       "      <th>11330</th>\n",
       "      <td>2B052</td>\n",
       "      <td>2B</td>\n",
       "      <td>NaN</td>\n",
       "      <td>NaN</td>\n",
       "      <td>NaN</td>\n",
       "      <td>NaN</td>\n",
       "      <td>NaN</td>\n",
       "      <td>2B176|2B219|2B222|2B304|2B267</td>\n",
       "    </tr>\n",
       "    <tr>\n",
       "      <th>11337</th>\n",
       "      <td>2B063</td>\n",
       "      <td>2B</td>\n",
       "      <td>NaN</td>\n",
       "      <td>NaN</td>\n",
       "      <td>NaN</td>\n",
       "      <td>NaN</td>\n",
       "      <td>NaN</td>\n",
       "      <td>2B291|2B256|2B067|2B234|2B045|2B068|2B221</td>\n",
       "    </tr>\n",
       "    <tr>\n",
       "      <th>11338</th>\n",
       "      <td>2B067</td>\n",
       "      <td>2B</td>\n",
       "      <td>NaN</td>\n",
       "      <td>NaN</td>\n",
       "      <td>NaN</td>\n",
       "      <td>NaN</td>\n",
       "      <td>NaN</td>\n",
       "      <td>2B256|2B338|2B234|2B063</td>\n",
       "    </tr>\n",
       "    <tr>\n",
       "      <th>11340</th>\n",
       "      <td>2B069</td>\n",
       "      <td>2B</td>\n",
       "      <td>NaN</td>\n",
       "      <td>NaN</td>\n",
       "      <td>NaN</td>\n",
       "      <td>NaN</td>\n",
       "      <td>NaN</td>\n",
       "      <td>2B206|2B166|2B214|2B246|2B255|2B241|2B125|2B195</td>\n",
       "    </tr>\n",
       "    <tr>\n",
       "      <th>11341</th>\n",
       "      <td>2B072</td>\n",
       "      <td>2B</td>\n",
       "      <td>NaN</td>\n",
       "      <td>NaN</td>\n",
       "      <td>NaN</td>\n",
       "      <td>NaN</td>\n",
       "      <td>NaN</td>\n",
       "      <td>2B245|2B252|2B299|2B273|2B214|2B280</td>\n",
       "    </tr>\n",
       "    <tr>\n",
       "      <th>...</th>\n",
       "      <td>...</td>\n",
       "      <td>...</td>\n",
       "      <td>...</td>\n",
       "      <td>...</td>\n",
       "      <td>...</td>\n",
       "      <td>...</td>\n",
       "      <td>...</td>\n",
       "      <td>...</td>\n",
       "    </tr>\n",
       "    <tr>\n",
       "      <th>36745</th>\n",
       "      <td>97613</td>\n",
       "      <td>976</td>\n",
       "      <td>NaN</td>\n",
       "      <td>NaN</td>\n",
       "      <td>NaN</td>\n",
       "      <td>NaN</td>\n",
       "      <td>NaN</td>\n",
       "      <td>97602|97617|97601</td>\n",
       "    </tr>\n",
       "    <tr>\n",
       "      <th>36746</th>\n",
       "      <td>97614</td>\n",
       "      <td>976</td>\n",
       "      <td>NaN</td>\n",
       "      <td>NaN</td>\n",
       "      <td>NaN</td>\n",
       "      <td>NaN</td>\n",
       "      <td>NaN</td>\n",
       "      <td>97611|97607|97606|97616|97605|97617</td>\n",
       "    </tr>\n",
       "    <tr>\n",
       "      <th>36747</th>\n",
       "      <td>97615</td>\n",
       "      <td>976</td>\n",
       "      <td>NaN</td>\n",
       "      <td>NaN</td>\n",
       "      <td>NaN</td>\n",
       "      <td>NaN</td>\n",
       "      <td>NaN</td>\n",
       "      <td>97608</td>\n",
       "    </tr>\n",
       "    <tr>\n",
       "      <th>36748</th>\n",
       "      <td>97616</td>\n",
       "      <td>976</td>\n",
       "      <td>NaN</td>\n",
       "      <td>NaN</td>\n",
       "      <td>NaN</td>\n",
       "      <td>NaN</td>\n",
       "      <td>NaN</td>\n",
       "      <td>97614|97606|97605</td>\n",
       "    </tr>\n",
       "    <tr>\n",
       "      <th>36749</th>\n",
       "      <td>97617</td>\n",
       "      <td>976</td>\n",
       "      <td>NaN</td>\n",
       "      <td>NaN</td>\n",
       "      <td>NaN</td>\n",
       "      <td>NaN</td>\n",
       "      <td>NaN</td>\n",
       "      <td>97610|97611|97614|97605|97613|97602</td>\n",
       "    </tr>\n",
       "  </tbody>\n",
       "</table>\n",
       "<p>1118 rows × 8 columns</p>\n",
       "</div>"
      ],
      "text/plain": [
       "      3_Code INSEE (commune ou arrondissement) 3_Code département  \\\n",
       "11330                                    2B052                 2B   \n",
       "11337                                    2B063                 2B   \n",
       "11338                                    2B067                 2B   \n",
       "11340                                    2B069                 2B   \n",
       "11341                                    2B072                 2B   \n",
       "...                                        ...                ...   \n",
       "36745                                    97613                976   \n",
       "36746                                    97614                976   \n",
       "36747                                    97615                976   \n",
       "36748                                    97616                976   \n",
       "36749                                    97617                976   \n",
       "\n",
       "       5_PrixMoyen_M2  A_Prix_estimé_mean  A_Prix_consolidé_mean  \\\n",
       "11330             NaN                 NaN                    NaN   \n",
       "11337             NaN                 NaN                    NaN   \n",
       "11338             NaN                 NaN                    NaN   \n",
       "11340             NaN                 NaN                    NaN   \n",
       "11341             NaN                 NaN                    NaN   \n",
       "...               ...                 ...                    ...   \n",
       "36745             NaN                 NaN                    NaN   \n",
       "36746             NaN                 NaN                    NaN   \n",
       "36747             NaN                 NaN                    NaN   \n",
       "36748             NaN                 NaN                    NaN   \n",
       "36749             NaN                 NaN                    NaN   \n",
       "\n",
       "       B_Prix_estimé_median  B_Prix_consolidé_median  \\\n",
       "11330                   NaN                      NaN   \n",
       "11337                   NaN                      NaN   \n",
       "11338                   NaN                      NaN   \n",
       "11340                   NaN                      NaN   \n",
       "11341                   NaN                      NaN   \n",
       "...                     ...                      ...   \n",
       "36745                   NaN                      NaN   \n",
       "36746                   NaN                      NaN   \n",
       "36747                   NaN                      NaN   \n",
       "36748                   NaN                      NaN   \n",
       "36749                   NaN                      NaN   \n",
       "\n",
       "                                       6_insee_voisins  \n",
       "11330                    2B176|2B219|2B222|2B304|2B267  \n",
       "11337        2B291|2B256|2B067|2B234|2B045|2B068|2B221  \n",
       "11338                          2B256|2B338|2B234|2B063  \n",
       "11340  2B206|2B166|2B214|2B246|2B255|2B241|2B125|2B195  \n",
       "11341              2B245|2B252|2B299|2B273|2B214|2B280  \n",
       "...                                                ...  \n",
       "36745                                97602|97617|97601  \n",
       "36746              97611|97607|97606|97616|97605|97617  \n",
       "36747                                            97608  \n",
       "36748                                97614|97606|97605  \n",
       "36749              97610|97611|97614|97605|97613|97602  \n",
       "\n",
       "[1118 rows x 8 columns]"
      ]
     },
     "execution_count": 62,
     "metadata": {},
     "output_type": "execute_result"
    }
   ],
   "source": [
    "print(len(df_prix_na.loc[~pd.isna(df_prix_na['6_insee_voisins']),sel_col]))\n",
    "df_prix_na.loc[~pd.isna(df_prix_na['6_insee_voisins']),sel_col]"
   ]
  },
  {
   "cell_type": "code",
   "execution_count": 63,
   "id": "59d47e03-5a65-48a2-8343-6dc2671746c4",
   "metadata": {},
   "outputs": [
    {
     "data": {
      "text/plain": [
       "array(['2B', '57', '67', '68', '971', '972', '973', '974', '976'],\n",
       "      dtype=object)"
      ]
     },
     "execution_count": 63,
     "metadata": {},
     "output_type": "execute_result"
    }
   ],
   "source": [
    "df_prix_na.loc[~pd.isna(df_prix_na['6_insee_voisins']),'3_Code département'].unique()"
   ]
  },
  {
   "cell_type": "markdown",
   "id": "0bcf26b8-87a9-4574-96ee-d9a82ed08873",
   "metadata": {},
   "source": [
    "2 cas pour ceux qui n'ont pas de prix consolidé\n",
    "- soit ils n'ont pas de voisins identifiés\n",
    "- soit ils ont des voisins mais n'ont pas de prix, en DOM TOM, départements 97X"
   ]
  },
  {
   "cell_type": "code",
   "execution_count": 64,
   "id": "6cd00cb6-9166-4e08-ac04-70048746851b",
   "metadata": {
    "scrolled": true
   },
   "outputs": [
    {
     "data": {
      "text/html": [
       "<div>\n",
       "<style scoped>\n",
       "    .dataframe tbody tr th:only-of-type {\n",
       "        vertical-align: middle;\n",
       "    }\n",
       "\n",
       "    .dataframe tbody tr th {\n",
       "        vertical-align: top;\n",
       "    }\n",
       "\n",
       "    .dataframe thead th {\n",
       "        text-align: right;\n",
       "    }\n",
       "</style>\n",
       "<table border=\"1\" class=\"dataframe\">\n",
       "  <thead>\n",
       "    <tr style=\"text-align: right;\">\n",
       "      <th></th>\n",
       "      <th>Variable</th>\n",
       "      <th>type</th>\n",
       "      <th>Nb_val_unique</th>\n",
       "      <th>Nb_manquant</th>\n",
       "    </tr>\n",
       "  </thead>\n",
       "  <tbody>\n",
       "    <tr>\n",
       "      <th>33</th>\n",
       "      <td>6_type</td>\n",
       "      <td>object</td>\n",
       "      <td>9</td>\n",
       "      <td>35990</td>\n",
       "    </tr>\n",
       "    <tr>\n",
       "      <th>24</th>\n",
       "      <td>5_PrixMoyen_M2</td>\n",
       "      <td>float64</td>\n",
       "      <td>3709</td>\n",
       "      <td>9928</td>\n",
       "    </tr>\n",
       "    <tr>\n",
       "      <th>23</th>\n",
       "      <td>5_Nb_Ventes</td>\n",
       "      <td>float64</td>\n",
       "      <td>554</td>\n",
       "      <td>9928</td>\n",
       "    </tr>\n",
       "    <tr>\n",
       "      <th>57</th>\n",
       "      <td>B_Prix_estimé_median</td>\n",
       "      <td>float64</td>\n",
       "      <td>8138</td>\n",
       "      <td>2985</td>\n",
       "    </tr>\n",
       "    <tr>\n",
       "      <th>55</th>\n",
       "      <td>A_Prix_estimé_mean</td>\n",
       "      <td>float64</td>\n",
       "      <td>28641</td>\n",
       "      <td>2985</td>\n",
       "    </tr>\n",
       "    <tr>\n",
       "      <th>56</th>\n",
       "      <td>B_Prix_consolidé_median</td>\n",
       "      <td>float64</td>\n",
       "      <td>6226</td>\n",
       "      <td>2868</td>\n",
       "    </tr>\n",
       "    <tr>\n",
       "      <th>54</th>\n",
       "      <td>A_Prix_consolidé_mean</td>\n",
       "      <td>float64</td>\n",
       "      <td>10317</td>\n",
       "      <td>2868</td>\n",
       "    </tr>\n",
       "    <tr>\n",
       "      <th>20</th>\n",
       "      <td>5_CODE_EPCI</td>\n",
       "      <td>float64</td>\n",
       "      <td>1237</td>\n",
       "      <td>1916</td>\n",
       "    </tr>\n",
       "    <tr>\n",
       "      <th>21</th>\n",
       "      <td>5_NOM_COM_M</td>\n",
       "      <td>object</td>\n",
       "      <td>32430</td>\n",
       "      <td>1867</td>\n",
       "    </tr>\n",
       "    <tr>\n",
       "      <th>26</th>\n",
       "      <td>5_code_commune_n</td>\n",
       "      <td>object</td>\n",
       "      <td>34884</td>\n",
       "      <td>1867</td>\n",
       "    </tr>\n",
       "    <tr>\n",
       "      <th>25</th>\n",
       "      <td>5_nb_digits_code_INSEE</td>\n",
       "      <td>float64</td>\n",
       "      <td>2</td>\n",
       "      <td>1867</td>\n",
       "    </tr>\n",
       "    <tr>\n",
       "      <th>22</th>\n",
       "      <td>5_POPULATION</td>\n",
       "      <td>float64</td>\n",
       "      <td>5734</td>\n",
       "      <td>1867</td>\n",
       "    </tr>\n",
       "    <tr>\n",
       "      <th>16</th>\n",
       "      <td>5_ID</td>\n",
       "      <td>object</td>\n",
       "      <td>34884</td>\n",
       "      <td>1867</td>\n",
       "    </tr>\n",
       "    <tr>\n",
       "      <th>17</th>\n",
       "      <td>5_INSEE_COM</td>\n",
       "      <td>object</td>\n",
       "      <td>34884</td>\n",
       "      <td>1867</td>\n",
       "    </tr>\n",
       "    <tr>\n",
       "      <th>18</th>\n",
       "      <td>5_INSEE_DEP</td>\n",
       "      <td>object</td>\n",
       "      <td>97</td>\n",
       "      <td>1867</td>\n",
       "    </tr>\n",
       "    <tr>\n",
       "      <th>19</th>\n",
       "      <td>5_INSEE_REG</td>\n",
       "      <td>float64</td>\n",
       "      <td>14</td>\n",
       "      <td>1867</td>\n",
       "    </tr>\n",
       "    <tr>\n",
       "      <th>30</th>\n",
       "      <td>6_insee_voisins</td>\n",
       "      <td>object</td>\n",
       "      <td>34935</td>\n",
       "      <td>1813</td>\n",
       "    </tr>\n",
       "    <tr>\n",
       "      <th>28</th>\n",
       "      <td>6_nom</td>\n",
       "      <td>object</td>\n",
       "      <td>32684</td>\n",
       "      <td>1813</td>\n",
       "    </tr>\n",
       "    <tr>\n",
       "      <th>31</th>\n",
       "      <td>6_noms_voisins</td>\n",
       "      <td>object</td>\n",
       "      <td>34935</td>\n",
       "      <td>1813</td>\n",
       "    </tr>\n",
       "    <tr>\n",
       "      <th>32</th>\n",
       "      <td>6_cap_voisins</td>\n",
       "      <td>object</td>\n",
       "      <td>34932</td>\n",
       "      <td>1813</td>\n",
       "    </tr>\n",
       "    <tr>\n",
       "      <th>27</th>\n",
       "      <td>6_insee</td>\n",
       "      <td>object</td>\n",
       "      <td>34938</td>\n",
       "      <td>1813</td>\n",
       "    </tr>\n",
       "    <tr>\n",
       "      <th>29</th>\n",
       "      <td>6_nb_voisins</td>\n",
       "      <td>float64</td>\n",
       "      <td>23</td>\n",
       "      <td>1813</td>\n",
       "    </tr>\n",
       "    <tr>\n",
       "      <th>15</th>\n",
       "      <td>3_Densité_hab_par_km2</td>\n",
       "      <td>float64</td>\n",
       "      <td>34728</td>\n",
       "      <td>822</td>\n",
       "    </tr>\n",
       "    <tr>\n",
       "      <th>11</th>\n",
       "      <td>3_Superficie de la commune</td>\n",
       "      <td>float64</td>\n",
       "      <td>5236</td>\n",
       "      <td>822</td>\n",
       "    </tr>\n",
       "    <tr>\n",
       "      <th>13</th>\n",
       "      <td>3_Code EPCI</td>\n",
       "      <td>object</td>\n",
       "      <td>2143</td>\n",
       "      <td>26</td>\n",
       "    </tr>\n",
       "    <tr>\n",
       "      <th>14</th>\n",
       "      <td>3_EPCI</td>\n",
       "      <td>object</td>\n",
       "      <td>2216</td>\n",
       "      <td>26</td>\n",
       "    </tr>\n",
       "    <tr>\n",
       "      <th>47</th>\n",
       "      <td>4_Code Canton</td>\n",
       "      <td>float64</td>\n",
       "      <td>95</td>\n",
       "      <td>8</td>\n",
       "    </tr>\n",
       "    <tr>\n",
       "      <th>42</th>\n",
       "      <td>4_Population</td>\n",
       "      <td>float64</td>\n",
       "      <td>510</td>\n",
       "      <td>8</td>\n",
       "    </tr>\n",
       "    <tr>\n",
       "      <th>43</th>\n",
       "      <td>4_geo_point_2d</td>\n",
       "      <td>object</td>\n",
       "      <td>36743</td>\n",
       "      <td>8</td>\n",
       "    </tr>\n",
       "    <tr>\n",
       "      <th>44</th>\n",
       "      <td>4_geo_shape</td>\n",
       "      <td>object</td>\n",
       "      <td>36743</td>\n",
       "      <td>8</td>\n",
       "    </tr>\n",
       "    <tr>\n",
       "      <th>45</th>\n",
       "      <td>4_ID Geofla</td>\n",
       "      <td>float64</td>\n",
       "      <td>36614</td>\n",
       "      <td>8</td>\n",
       "    </tr>\n",
       "    <tr>\n",
       "      <th>46</th>\n",
       "      <td>4_Code Commune</td>\n",
       "      <td>float64</td>\n",
       "      <td>909</td>\n",
       "      <td>8</td>\n",
       "    </tr>\n",
       "    <tr>\n",
       "      <th>49</th>\n",
       "      <td>4_Code Département</td>\n",
       "      <td>object</td>\n",
       "      <td>98</td>\n",
       "      <td>8</td>\n",
       "    </tr>\n",
       "    <tr>\n",
       "      <th>48</th>\n",
       "      <td>4_Code Arrondissement</td>\n",
       "      <td>float64</td>\n",
       "      <td>11</td>\n",
       "      <td>8</td>\n",
       "    </tr>\n",
       "    <tr>\n",
       "      <th>50</th>\n",
       "      <td>4_Code Région</td>\n",
       "      <td>float64</td>\n",
       "      <td>28</td>\n",
       "      <td>8</td>\n",
       "    </tr>\n",
       "    <tr>\n",
       "      <th>51</th>\n",
       "      <td>4_lat</td>\n",
       "      <td>float64</td>\n",
       "      <td>36743</td>\n",
       "      <td>8</td>\n",
       "    </tr>\n",
       "    <tr>\n",
       "      <th>52</th>\n",
       "      <td>4_lon</td>\n",
       "      <td>float64</td>\n",
       "      <td>36743</td>\n",
       "      <td>8</td>\n",
       "    </tr>\n",
       "    <tr>\n",
       "      <th>53</th>\n",
       "      <td>4_Densité_hab_par_km2</td>\n",
       "      <td>float64</td>\n",
       "      <td>18651</td>\n",
       "      <td>8</td>\n",
       "    </tr>\n",
       "    <tr>\n",
       "      <th>41</th>\n",
       "      <td>4_Superficie</td>\n",
       "      <td>float64</td>\n",
       "      <td>5247</td>\n",
       "      <td>8</td>\n",
       "    </tr>\n",
       "    <tr>\n",
       "      <th>40</th>\n",
       "      <td>4_Altitude Moyenne</td>\n",
       "      <td>float64</td>\n",
       "      <td>1653</td>\n",
       "      <td>8</td>\n",
       "    </tr>\n",
       "    <tr>\n",
       "      <th>39</th>\n",
       "      <td>4_Statut</td>\n",
       "      <td>object</td>\n",
       "      <td>28</td>\n",
       "      <td>8</td>\n",
       "    </tr>\n",
       "    <tr>\n",
       "      <th>37</th>\n",
       "      <td>4_Département</td>\n",
       "      <td>object</td>\n",
       "      <td>102</td>\n",
       "      <td>8</td>\n",
       "    </tr>\n",
       "    <tr>\n",
       "      <th>36</th>\n",
       "      <td>4_Commune</td>\n",
       "      <td>object</td>\n",
       "      <td>34131</td>\n",
       "      <td>8</td>\n",
       "    </tr>\n",
       "    <tr>\n",
       "      <th>35</th>\n",
       "      <td>4_Code Postal</td>\n",
       "      <td>object</td>\n",
       "      <td>6102</td>\n",
       "      <td>8</td>\n",
       "    </tr>\n",
       "    <tr>\n",
       "      <th>34</th>\n",
       "      <td>4_Code INSEE</td>\n",
       "      <td>object</td>\n",
       "      <td>36743</td>\n",
       "      <td>8</td>\n",
       "    </tr>\n",
       "    <tr>\n",
       "      <th>38</th>\n",
       "      <td>4_Région</td>\n",
       "      <td>object</td>\n",
       "      <td>28</td>\n",
       "      <td>8</td>\n",
       "    </tr>\n",
       "    <tr>\n",
       "      <th>10</th>\n",
       "      <td>3_Code INSEE (commune ou arrondissement)</td>\n",
       "      <td>object</td>\n",
       "      <td>36750</td>\n",
       "      <td>0</td>\n",
       "    </tr>\n",
       "    <tr>\n",
       "      <th>2</th>\n",
       "      <td>3_Code département</td>\n",
       "      <td>object</td>\n",
       "      <td>101</td>\n",
       "      <td>0</td>\n",
       "    </tr>\n",
       "    <tr>\n",
       "      <th>3</th>\n",
       "      <td>3_Code commune</td>\n",
       "      <td>float64</td>\n",
       "      <td>908</td>\n",
       "      <td>0</td>\n",
       "    </tr>\n",
       "    <tr>\n",
       "      <th>4</th>\n",
       "      <td>3_Nom de la commune</td>\n",
       "      <td>object</td>\n",
       "      <td>34250</td>\n",
       "      <td>0</td>\n",
       "    </tr>\n",
       "    <tr>\n",
       "      <th>12</th>\n",
       "      <td>3_Statut</td>\n",
       "      <td>object</td>\n",
       "      <td>2</td>\n",
       "      <td>0</td>\n",
       "    </tr>\n",
       "    <tr>\n",
       "      <th>8</th>\n",
       "      <td>3_Année recensement</td>\n",
       "      <td>int64</td>\n",
       "      <td>10</td>\n",
       "      <td>0</td>\n",
       "    </tr>\n",
       "    <tr>\n",
       "      <th>9</th>\n",
       "      <td>3_Année utilisation</td>\n",
       "      <td>int64</td>\n",
       "      <td>10</td>\n",
       "      <td>0</td>\n",
       "    </tr>\n",
       "    <tr>\n",
       "      <th>1</th>\n",
       "      <td>3_Nom de la région</td>\n",
       "      <td>object</td>\n",
       "      <td>36</td>\n",
       "      <td>0</td>\n",
       "    </tr>\n",
       "    <tr>\n",
       "      <th>7</th>\n",
       "      <td>3_Population totale</td>\n",
       "      <td>float64</td>\n",
       "      <td>5942</td>\n",
       "      <td>0</td>\n",
       "    </tr>\n",
       "    <tr>\n",
       "      <th>6</th>\n",
       "      <td>3_Population comptée à part</td>\n",
       "      <td>float64</td>\n",
       "      <td>793</td>\n",
       "      <td>0</td>\n",
       "    </tr>\n",
       "    <tr>\n",
       "      <th>5</th>\n",
       "      <td>3_Population municipale</td>\n",
       "      <td>float64</td>\n",
       "      <td>5845</td>\n",
       "      <td>0</td>\n",
       "    </tr>\n",
       "    <tr>\n",
       "      <th>0</th>\n",
       "      <td>3_Code région</td>\n",
       "      <td>float64</td>\n",
       "      <td>34</td>\n",
       "      <td>0</td>\n",
       "    </tr>\n",
       "  </tbody>\n",
       "</table>\n",
       "</div>"
      ],
      "text/plain": [
       "                                    Variable     type  Nb_val_unique  \\\n",
       "33                                    6_type   object              9   \n",
       "24                            5_PrixMoyen_M2  float64           3709   \n",
       "23                               5_Nb_Ventes  float64            554   \n",
       "57                      B_Prix_estimé_median  float64           8138   \n",
       "55                        A_Prix_estimé_mean  float64          28641   \n",
       "56                   B_Prix_consolidé_median  float64           6226   \n",
       "54                     A_Prix_consolidé_mean  float64          10317   \n",
       "20                               5_CODE_EPCI  float64           1237   \n",
       "21                               5_NOM_COM_M   object          32430   \n",
       "26                          5_code_commune_n   object          34884   \n",
       "25                    5_nb_digits_code_INSEE  float64              2   \n",
       "22                              5_POPULATION  float64           5734   \n",
       "16                                      5_ID   object          34884   \n",
       "17                               5_INSEE_COM   object          34884   \n",
       "18                               5_INSEE_DEP   object             97   \n",
       "19                               5_INSEE_REG  float64             14   \n",
       "30                           6_insee_voisins   object          34935   \n",
       "28                                     6_nom   object          32684   \n",
       "31                            6_noms_voisins   object          34935   \n",
       "32                             6_cap_voisins   object          34932   \n",
       "27                                   6_insee   object          34938   \n",
       "29                              6_nb_voisins  float64             23   \n",
       "15                     3_Densité_hab_par_km2  float64          34728   \n",
       "11                3_Superficie de la commune  float64           5236   \n",
       "13                               3_Code EPCI   object           2143   \n",
       "14                                    3_EPCI   object           2216   \n",
       "47                             4_Code Canton  float64             95   \n",
       "42                              4_Population  float64            510   \n",
       "43                            4_geo_point_2d   object          36743   \n",
       "44                               4_geo_shape   object          36743   \n",
       "45                               4_ID Geofla  float64          36614   \n",
       "46                            4_Code Commune  float64            909   \n",
       "49                        4_Code Département   object             98   \n",
       "48                     4_Code Arrondissement  float64             11   \n",
       "50                             4_Code Région  float64             28   \n",
       "51                                     4_lat  float64          36743   \n",
       "52                                     4_lon  float64          36743   \n",
       "53                     4_Densité_hab_par_km2  float64          18651   \n",
       "41                              4_Superficie  float64           5247   \n",
       "40                        4_Altitude Moyenne  float64           1653   \n",
       "39                                  4_Statut   object             28   \n",
       "37                             4_Département   object            102   \n",
       "36                                 4_Commune   object          34131   \n",
       "35                             4_Code Postal   object           6102   \n",
       "34                              4_Code INSEE   object          36743   \n",
       "38                                  4_Région   object             28   \n",
       "10  3_Code INSEE (commune ou arrondissement)   object          36750   \n",
       "2                         3_Code département   object            101   \n",
       "3                             3_Code commune  float64            908   \n",
       "4                        3_Nom de la commune   object          34250   \n",
       "12                                  3_Statut   object              2   \n",
       "8                        3_Année recensement    int64             10   \n",
       "9                        3_Année utilisation    int64             10   \n",
       "1                         3_Nom de la région   object             36   \n",
       "7                        3_Population totale  float64           5942   \n",
       "6                3_Population comptée à part  float64            793   \n",
       "5                    3_Population municipale  float64           5845   \n",
       "0                              3_Code région  float64             34   \n",
       "\n",
       "    Nb_manquant  \n",
       "33        35990  \n",
       "24         9928  \n",
       "23         9928  \n",
       "57         2985  \n",
       "55         2985  \n",
       "56         2868  \n",
       "54         2868  \n",
       "20         1916  \n",
       "21         1867  \n",
       "26         1867  \n",
       "25         1867  \n",
       "22         1867  \n",
       "16         1867  \n",
       "17         1867  \n",
       "18         1867  \n",
       "19         1867  \n",
       "30         1813  \n",
       "28         1813  \n",
       "31         1813  \n",
       "32         1813  \n",
       "27         1813  \n",
       "29         1813  \n",
       "15          822  \n",
       "11          822  \n",
       "13           26  \n",
       "14           26  \n",
       "47            8  \n",
       "42            8  \n",
       "43            8  \n",
       "44            8  \n",
       "45            8  \n",
       "46            8  \n",
       "49            8  \n",
       "48            8  \n",
       "50            8  \n",
       "51            8  \n",
       "52            8  \n",
       "53            8  \n",
       "41            8  \n",
       "40            8  \n",
       "39            8  \n",
       "37            8  \n",
       "36            8  \n",
       "35            8  \n",
       "34            8  \n",
       "38            8  \n",
       "10            0  \n",
       "2             0  \n",
       "3             0  \n",
       "4             0  \n",
       "12            0  \n",
       "8             0  \n",
       "9             0  \n",
       "1             0  \n",
       "7             0  \n",
       "6             0  \n",
       "5             0  \n",
       "0             0  "
      ]
     },
     "execution_count": 64,
     "metadata": {},
     "output_type": "execute_result"
    }
   ],
   "source": [
    "# Valeurs uniques par colonne\n",
    "df_analyse = []\n",
    "manquantes = df.isna().sum()\n",
    "for t in df.columns:\n",
    "    row = {}\n",
    "    row['Variable']=t\n",
    "    row['type']= df[t].dtypes\n",
    "    row['Nb_val_unique']=len(df[t].unique())\n",
    "    row['Nb_manquant']=manquantes[t]\n",
    "    df_analyse.append(row)\n",
    "df_analyse = pd.DataFrame(df_analyse)\n",
    "df_analyse.sort_values(by='Nb_manquant',ascending=False)"
   ]
  },
  {
   "cell_type": "code",
   "execution_count": 65,
   "id": "6bc05b72-a2d5-44eb-8bcb-cf533b6e0621",
   "metadata": {
    "tags": []
   },
   "outputs": [
    {
     "data": {
      "text/html": [
       "<div>\n",
       "<style scoped>\n",
       "    .dataframe tbody tr th:only-of-type {\n",
       "        vertical-align: middle;\n",
       "    }\n",
       "\n",
       "    .dataframe tbody tr th {\n",
       "        vertical-align: top;\n",
       "    }\n",
       "\n",
       "    .dataframe thead th {\n",
       "        text-align: right;\n",
       "    }\n",
       "</style>\n",
       "<table border=\"1\" class=\"dataframe\">\n",
       "  <thead>\n",
       "    <tr style=\"text-align: right;\">\n",
       "      <th></th>\n",
       "      <th>3_Code région</th>\n",
       "      <th>3_Nom de la région</th>\n",
       "      <th>3_Code département</th>\n",
       "      <th>3_Code commune</th>\n",
       "      <th>3_Nom de la commune</th>\n",
       "      <th>3_Population municipale</th>\n",
       "      <th>3_Population comptée à part</th>\n",
       "      <th>3_Population totale</th>\n",
       "      <th>3_Année recensement</th>\n",
       "      <th>3_Année utilisation</th>\n",
       "      <th>...</th>\n",
       "      <th>4_Code Arrondissement</th>\n",
       "      <th>4_Code Département</th>\n",
       "      <th>4_Code Région</th>\n",
       "      <th>4_lat</th>\n",
       "      <th>4_lon</th>\n",
       "      <th>4_Densité_hab_par_km2</th>\n",
       "      <th>A_Prix_consolidé_mean</th>\n",
       "      <th>A_Prix_estimé_mean</th>\n",
       "      <th>B_Prix_consolidé_median</th>\n",
       "      <th>B_Prix_estimé_median</th>\n",
       "    </tr>\n",
       "  </thead>\n",
       "  <tbody>\n",
       "    <tr>\n",
       "      <th>4405</th>\n",
       "      <td>93.0</td>\n",
       "      <td>Provence-Alpes-Côte d'Azur</td>\n",
       "      <td>13</td>\n",
       "      <td>2.0</td>\n",
       "      <td>Allauch</td>\n",
       "      <td>21228.0</td>\n",
       "      <td>256.0</td>\n",
       "      <td>21484.0</td>\n",
       "      <td>2016</td>\n",
       "      <td>2019</td>\n",
       "      <td>...</td>\n",
       "      <td>3.0</td>\n",
       "      <td>13</td>\n",
       "      <td>93.0</td>\n",
       "      <td>43.353315</td>\n",
       "      <td>5.511348</td>\n",
       "      <td>369.267421</td>\n",
       "      <td>3731.0</td>\n",
       "      <td>NaN</td>\n",
       "      <td>3731.0</td>\n",
       "      <td>NaN</td>\n",
       "    </tr>\n",
       "    <tr>\n",
       "      <th>4408</th>\n",
       "      <td>93.0</td>\n",
       "      <td>Provence-Alpes-Côte d'Azur</td>\n",
       "      <td>13</td>\n",
       "      <td>5.0</td>\n",
       "      <td>Aubagne</td>\n",
       "      <td>45290.0</td>\n",
       "      <td>421.0</td>\n",
       "      <td>45711.0</td>\n",
       "      <td>2016</td>\n",
       "      <td>2019</td>\n",
       "      <td>...</td>\n",
       "      <td>3.0</td>\n",
       "      <td>13</td>\n",
       "      <td>93.0</td>\n",
       "      <td>43.293484</td>\n",
       "      <td>5.563313</td>\n",
       "      <td>849.744712</td>\n",
       "      <td>3046.0</td>\n",
       "      <td>NaN</td>\n",
       "      <td>3046.0</td>\n",
       "      <td>NaN</td>\n",
       "    </tr>\n",
       "    <tr>\n",
       "      <th>4425</th>\n",
       "      <td>93.0</td>\n",
       "      <td>Provence-Alpes-Côte d'Azur</td>\n",
       "      <td>13</td>\n",
       "      <td>22.0</td>\n",
       "      <td>Cassis</td>\n",
       "      <td>7162.0</td>\n",
       "      <td>103.0</td>\n",
       "      <td>7265.0</td>\n",
       "      <td>2016</td>\n",
       "      <td>2019</td>\n",
       "      <td>...</td>\n",
       "      <td>3.0</td>\n",
       "      <td>13</td>\n",
       "      <td>93.0</td>\n",
       "      <td>43.223047</td>\n",
       "      <td>5.551178</td>\n",
       "      <td>298.051204</td>\n",
       "      <td>6303.0</td>\n",
       "      <td>NaN</td>\n",
       "      <td>6303.0</td>\n",
       "      <td>NaN</td>\n",
       "    </tr>\n",
       "  </tbody>\n",
       "</table>\n",
       "<p>3 rows × 58 columns</p>\n",
       "</div>"
      ],
      "text/plain": [
       "      3_Code région          3_Nom de la région 3_Code département  \\\n",
       "4405           93.0  Provence-Alpes-Côte d'Azur                 13   \n",
       "4408           93.0  Provence-Alpes-Côte d'Azur                 13   \n",
       "4425           93.0  Provence-Alpes-Côte d'Azur                 13   \n",
       "\n",
       "      3_Code commune 3_Nom de la commune  3_Population municipale  \\\n",
       "4405             2.0             Allauch                  21228.0   \n",
       "4408             5.0             Aubagne                  45290.0   \n",
       "4425            22.0              Cassis                   7162.0   \n",
       "\n",
       "      3_Population comptée à part  3_Population totale  3_Année recensement  \\\n",
       "4405                        256.0              21484.0                 2016   \n",
       "4408                        421.0              45711.0                 2016   \n",
       "4425                        103.0               7265.0                 2016   \n",
       "\n",
       "      3_Année utilisation  ... 4_Code Arrondissement  4_Code Département  \\\n",
       "4405                 2019  ...                   3.0                  13   \n",
       "4408                 2019  ...                   3.0                  13   \n",
       "4425                 2019  ...                   3.0                  13   \n",
       "\n",
       "     4_Code Région      4_lat     4_lon  4_Densité_hab_par_km2  \\\n",
       "4405          93.0  43.353315  5.511348             369.267421   \n",
       "4408          93.0  43.293484  5.563313             849.744712   \n",
       "4425          93.0  43.223047  5.551178             298.051204   \n",
       "\n",
       "     A_Prix_consolidé_mean A_Prix_estimé_mean B_Prix_consolidé_median  \\\n",
       "4405                3731.0                NaN                  3731.0   \n",
       "4408                3046.0                NaN                  3046.0   \n",
       "4425                6303.0                NaN                  6303.0   \n",
       "\n",
       "      B_Prix_estimé_median  \n",
       "4405                   NaN  \n",
       "4408                   NaN  \n",
       "4425                   NaN  \n",
       "\n",
       "[3 rows x 58 columns]"
      ]
     },
     "execution_count": 65,
     "metadata": {},
     "output_type": "execute_result"
    }
   ],
   "source": [
    "# Ceux qui n'ont pas de prix estimé parce les voisins n'en n'ont pas\n",
    "df_na = df[df['A_Prix_estimé_mean'].isna() & df['6_insee_voisins'].notna()]\n",
    "len(df_na)\n",
    "df_na[:3]"
   ]
  },
  {
   "cell_type": "code",
   "execution_count": 66,
   "id": "87f90edf-16ce-481d-bba2-fa5301f23253",
   "metadata": {},
   "outputs": [
    {
     "name": "stdout",
     "output_type": "stream",
     "text": [
      "9928\n",
      "2868\n",
      "2868\n"
     ]
    }
   ],
   "source": [
    "print(len(df[df['5_PrixMoyen_M2'].isna()]))\n",
    "print(len(df[df['A_Prix_consolidé_mean'].isna()]))\n",
    "print(len(df[df['B_Prix_consolidé_median'].isna()]))"
   ]
  },
  {
   "cell_type": "code",
   "execution_count": 67,
   "id": "b103b370-ba9d-4882-a3c1-2c5da0059d85",
   "metadata": {},
   "outputs": [
    {
     "data": {
      "text/html": [
       "<div>\n",
       "<style scoped>\n",
       "    .dataframe tbody tr th:only-of-type {\n",
       "        vertical-align: middle;\n",
       "    }\n",
       "\n",
       "    .dataframe tbody tr th {\n",
       "        vertical-align: top;\n",
       "    }\n",
       "\n",
       "    .dataframe thead th {\n",
       "        text-align: right;\n",
       "    }\n",
       "</style>\n",
       "<table border=\"1\" class=\"dataframe\">\n",
       "  <thead>\n",
       "    <tr style=\"text-align: right;\">\n",
       "      <th></th>\n",
       "      <th>3_Code région</th>\n",
       "      <th>3_Nom de la région</th>\n",
       "      <th>3_Code département</th>\n",
       "      <th>3_Code commune</th>\n",
       "      <th>3_Nom de la commune</th>\n",
       "      <th>3_Population municipale</th>\n",
       "      <th>3_Population comptée à part</th>\n",
       "      <th>3_Population totale</th>\n",
       "      <th>3_Année recensement</th>\n",
       "      <th>3_Année utilisation</th>\n",
       "      <th>...</th>\n",
       "      <th>4_Code Arrondissement</th>\n",
       "      <th>4_Code Département</th>\n",
       "      <th>4_Code Région</th>\n",
       "      <th>4_lat</th>\n",
       "      <th>4_lon</th>\n",
       "      <th>4_Densité_hab_par_km2</th>\n",
       "      <th>A_Prix_consolidé_mean</th>\n",
       "      <th>A_Prix_estimé_mean</th>\n",
       "      <th>B_Prix_consolidé_median</th>\n",
       "      <th>B_Prix_estimé_median</th>\n",
       "    </tr>\n",
       "  </thead>\n",
       "  <tbody>\n",
       "    <tr>\n",
       "      <th>4405</th>\n",
       "      <td>93.0</td>\n",
       "      <td>Provence-Alpes-Côte d'Azur</td>\n",
       "      <td>13</td>\n",
       "      <td>2.0</td>\n",
       "      <td>Allauch</td>\n",
       "      <td>21228.0</td>\n",
       "      <td>256.0</td>\n",
       "      <td>21484.0</td>\n",
       "      <td>2016</td>\n",
       "      <td>2019</td>\n",
       "      <td>...</td>\n",
       "      <td>3.0</td>\n",
       "      <td>13</td>\n",
       "      <td>93.0</td>\n",
       "      <td>43.353315</td>\n",
       "      <td>5.511348</td>\n",
       "      <td>369.267421</td>\n",
       "      <td>3731.0</td>\n",
       "      <td>NaN</td>\n",
       "      <td>3731.0</td>\n",
       "      <td>NaN</td>\n",
       "    </tr>\n",
       "    <tr>\n",
       "      <th>4408</th>\n",
       "      <td>93.0</td>\n",
       "      <td>Provence-Alpes-Côte d'Azur</td>\n",
       "      <td>13</td>\n",
       "      <td>5.0</td>\n",
       "      <td>Aubagne</td>\n",
       "      <td>45290.0</td>\n",
       "      <td>421.0</td>\n",
       "      <td>45711.0</td>\n",
       "      <td>2016</td>\n",
       "      <td>2019</td>\n",
       "      <td>...</td>\n",
       "      <td>3.0</td>\n",
       "      <td>13</td>\n",
       "      <td>93.0</td>\n",
       "      <td>43.293484</td>\n",
       "      <td>5.563313</td>\n",
       "      <td>849.744712</td>\n",
       "      <td>3046.0</td>\n",
       "      <td>NaN</td>\n",
       "      <td>3046.0</td>\n",
       "      <td>NaN</td>\n",
       "    </tr>\n",
       "    <tr>\n",
       "      <th>4425</th>\n",
       "      <td>93.0</td>\n",
       "      <td>Provence-Alpes-Côte d'Azur</td>\n",
       "      <td>13</td>\n",
       "      <td>22.0</td>\n",
       "      <td>Cassis</td>\n",
       "      <td>7162.0</td>\n",
       "      <td>103.0</td>\n",
       "      <td>7265.0</td>\n",
       "      <td>2016</td>\n",
       "      <td>2019</td>\n",
       "      <td>...</td>\n",
       "      <td>3.0</td>\n",
       "      <td>13</td>\n",
       "      <td>93.0</td>\n",
       "      <td>43.223047</td>\n",
       "      <td>5.551178</td>\n",
       "      <td>298.051204</td>\n",
       "      <td>6303.0</td>\n",
       "      <td>NaN</td>\n",
       "      <td>6303.0</td>\n",
       "      <td>NaN</td>\n",
       "    </tr>\n",
       "    <tr>\n",
       "      <th>4472</th>\n",
       "      <td>93.0</td>\n",
       "      <td>Provence-Alpes-Côte d'Azur</td>\n",
       "      <td>13</td>\n",
       "      <td>70.0</td>\n",
       "      <td>La Penne-sur-Huveaune</td>\n",
       "      <td>6433.0</td>\n",
       "      <td>60.0</td>\n",
       "      <td>6493.0</td>\n",
       "      <td>2016</td>\n",
       "      <td>2019</td>\n",
       "      <td>...</td>\n",
       "      <td>3.0</td>\n",
       "      <td>13</td>\n",
       "      <td>93.0</td>\n",
       "      <td>43.277208</td>\n",
       "      <td>5.518509</td>\n",
       "      <td>1730.769231</td>\n",
       "      <td>3486.0</td>\n",
       "      <td>NaN</td>\n",
       "      <td>3486.0</td>\n",
       "      <td>NaN</td>\n",
       "    </tr>\n",
       "    <tr>\n",
       "      <th>4473</th>\n",
       "      <td>93.0</td>\n",
       "      <td>Provence-Alpes-Côte d'Azur</td>\n",
       "      <td>13</td>\n",
       "      <td>71.0</td>\n",
       "      <td>Les Pennes-Mirabeau</td>\n",
       "      <td>21361.0</td>\n",
       "      <td>276.0</td>\n",
       "      <td>21637.0</td>\n",
       "      <td>2016</td>\n",
       "      <td>2019</td>\n",
       "      <td>...</td>\n",
       "      <td>1.0</td>\n",
       "      <td>13</td>\n",
       "      <td>93.0</td>\n",
       "      <td>43.402679</td>\n",
       "      <td>5.315471</td>\n",
       "      <td>581.257414</td>\n",
       "      <td>3457.0</td>\n",
       "      <td>NaN</td>\n",
       "      <td>3457.0</td>\n",
       "      <td>NaN</td>\n",
       "    </tr>\n",
       "  </tbody>\n",
       "</table>\n",
       "<p>5 rows × 58 columns</p>\n",
       "</div>"
      ],
      "text/plain": [
       "      3_Code région          3_Nom de la région 3_Code département  \\\n",
       "4405           93.0  Provence-Alpes-Côte d'Azur                 13   \n",
       "4408           93.0  Provence-Alpes-Côte d'Azur                 13   \n",
       "4425           93.0  Provence-Alpes-Côte d'Azur                 13   \n",
       "4472           93.0  Provence-Alpes-Côte d'Azur                 13   \n",
       "4473           93.0  Provence-Alpes-Côte d'Azur                 13   \n",
       "\n",
       "      3_Code commune    3_Nom de la commune  3_Population municipale  \\\n",
       "4405             2.0                Allauch                  21228.0   \n",
       "4408             5.0                Aubagne                  45290.0   \n",
       "4425            22.0                 Cassis                   7162.0   \n",
       "4472            70.0  La Penne-sur-Huveaune                   6433.0   \n",
       "4473            71.0    Les Pennes-Mirabeau                  21361.0   \n",
       "\n",
       "      3_Population comptée à part  3_Population totale  3_Année recensement  \\\n",
       "4405                        256.0              21484.0                 2016   \n",
       "4408                        421.0              45711.0                 2016   \n",
       "4425                        103.0               7265.0                 2016   \n",
       "4472                         60.0               6493.0                 2016   \n",
       "4473                        276.0              21637.0                 2016   \n",
       "\n",
       "      3_Année utilisation  ... 4_Code Arrondissement  4_Code Département  \\\n",
       "4405                 2019  ...                   3.0                  13   \n",
       "4408                 2019  ...                   3.0                  13   \n",
       "4425                 2019  ...                   3.0                  13   \n",
       "4472                 2019  ...                   3.0                  13   \n",
       "4473                 2019  ...                   1.0                  13   \n",
       "\n",
       "     4_Code Région      4_lat     4_lon  4_Densité_hab_par_km2  \\\n",
       "4405          93.0  43.353315  5.511348             369.267421   \n",
       "4408          93.0  43.293484  5.563313             849.744712   \n",
       "4425          93.0  43.223047  5.551178             298.051204   \n",
       "4472          93.0  43.277208  5.518509            1730.769231   \n",
       "4473          93.0  43.402679  5.315471             581.257414   \n",
       "\n",
       "     A_Prix_consolidé_mean A_Prix_estimé_mean B_Prix_consolidé_median  \\\n",
       "4405                3731.0                NaN                  3731.0   \n",
       "4408                3046.0                NaN                  3046.0   \n",
       "4425                6303.0                NaN                  6303.0   \n",
       "4472                3486.0                NaN                  3486.0   \n",
       "4473                3457.0                NaN                  3457.0   \n",
       "\n",
       "      B_Prix_estimé_median  \n",
       "4405                   NaN  \n",
       "4408                   NaN  \n",
       "4425                   NaN  \n",
       "4472                   NaN  \n",
       "4473                   NaN  \n",
       "\n",
       "[5 rows x 58 columns]"
      ]
     },
     "execution_count": 67,
     "metadata": {},
     "output_type": "execute_result"
    }
   ],
   "source": [
    "df[df['A_Prix_estimé_mean'].isna() & df['A_Prix_consolidé_mean'].notna()].head()"
   ]
  },
  {
   "cell_type": "code",
   "execution_count": 68,
   "id": "f7d9f0e3-388a-43bb-a11b-bfb68ba4c624",
   "metadata": {},
   "outputs": [],
   "source": [
    "for i,x in df.iterrows():\n",
    "    if pd.notna(x['5_PrixMoyen_M2']) & pd.notna(x['A_Prix_estimé_mean']):\n",
    "        df.loc[i,'A_delta_prix_mean']=x['5_PrixMoyen_M2']-x['A_Prix_estimé_mean']\n",
    "        df.loc[i,'B_delta_prix_median']=x['5_PrixMoyen_M2']-x['B_Prix_estimé_median']\n",
    "    else:\n",
    "        df.loc[i,'A_delta_prix_mean']= np.nan\n",
    "        df.loc[i,'B_delta_prix_median']= np.nan"
   ]
  },
  {
   "cell_type": "code",
   "execution_count": 69,
   "id": "0864e103-f6be-4c1c-80ea-1f4d904bef0b",
   "metadata": {},
   "outputs": [],
   "source": [
    "# df.to_csv(r'C:\\Users\\nimod\\OneDrive - Université de Technologie de Troyes\\Fil_rouge\\Tables_traitees\\Infos_communes_avec_prix_estimé.csv',sep=';',index=False)"
   ]
  },
  {
   "cell_type": "code",
   "execution_count": 70,
   "id": "436c5f61-305b-4284-b392-604954e816ba",
   "metadata": {},
   "outputs": [
    {
     "name": "stderr",
     "output_type": "stream",
     "text": [
      "C:\\Users\\plele\\anaconda3\\Lib\\site-packages\\seaborn\\_oldcore.py:1119: FutureWarning: use_inf_as_na option is deprecated and will be removed in a future version. Convert inf values to NaN before operating instead.\n",
      "  with pd.option_context('mode.use_inf_as_na', True):\n",
      "C:\\Users\\plele\\anaconda3\\Lib\\site-packages\\seaborn\\_oldcore.py:1119: FutureWarning: use_inf_as_na option is deprecated and will be removed in a future version. Convert inf values to NaN before operating instead.\n",
      "  with pd.option_context('mode.use_inf_as_na', True):\n"
     ]
    },
    {
     "data": {
      "text/plain": [
       "<Axes: xlabel='A_delta_prix_mean', ylabel='Count'>"
      ]
     },
     "execution_count": 70,
     "metadata": {},
     "output_type": "execute_result"
    },
    {
     "data": {
      "image/png": "[encoded data removed]",
      "text/plain": [
       "<Figure size 640x480 with 1 Axes>"
      ]
     },
     "metadata": {},
     "output_type": "display_data"
    }
   ],
   "source": [
    "sns.histplot(data=df, x='A_delta_prix_mean', bins=50, kde=False, color='blue')\n",
    "sns.histplot(data=df, x='B_delta_prix_median', bins=50, kde=False, color='orange')"
   ]
  },
  {
   "cell_type": "code",
   "execution_count": 71,
   "id": "f47c730a-d50f-4cd6-a18e-f79422fe78e4",
   "metadata": {},
   "outputs": [
    {
     "data": {
      "text/html": [
       "<div>\n",
       "<style scoped>\n",
       "    .dataframe tbody tr th:only-of-type {\n",
       "        vertical-align: middle;\n",
       "    }\n",
       "\n",
       "    .dataframe tbody tr th {\n",
       "        vertical-align: top;\n",
       "    }\n",
       "\n",
       "    .dataframe thead th {\n",
       "        text-align: right;\n",
       "    }\n",
       "</style>\n",
       "<table border=\"1\" class=\"dataframe\">\n",
       "  <thead>\n",
       "    <tr style=\"text-align: right;\">\n",
       "      <th></th>\n",
       "      <th>A_delta_prix_mean</th>\n",
       "      <th>B_delta_prix_median</th>\n",
       "    </tr>\n",
       "  </thead>\n",
       "  <tbody>\n",
       "    <tr>\n",
       "      <th>count</th>\n",
       "      <td>26705.000000</td>\n",
       "      <td>26705.000000</td>\n",
       "    </tr>\n",
       "    <tr>\n",
       "      <th>mean</th>\n",
       "      <td>2.715839</td>\n",
       "      <td>33.783485</td>\n",
       "    </tr>\n",
       "    <tr>\n",
       "      <th>std</th>\n",
       "      <td>462.609521</td>\n",
       "      <td>460.227477</td>\n",
       "    </tr>\n",
       "    <tr>\n",
       "      <th>min</th>\n",
       "      <td>-4384.000000</td>\n",
       "      <td>-4384.000000</td>\n",
       "    </tr>\n",
       "    <tr>\n",
       "      <th>25%</th>\n",
       "      <td>-221.333333</td>\n",
       "      <td>-186.500000</td>\n",
       "    </tr>\n",
       "    <tr>\n",
       "      <th>50%</th>\n",
       "      <td>-21.666667</td>\n",
       "      <td>0.000000</td>\n",
       "    </tr>\n",
       "    <tr>\n",
       "      <th>75%</th>\n",
       "      <td>186.900000</td>\n",
       "      <td>197.500000</td>\n",
       "    </tr>\n",
       "    <tr>\n",
       "      <th>max</th>\n",
       "      <td>13294.111111</td>\n",
       "      <td>13705.000000</td>\n",
       "    </tr>\n",
       "  </tbody>\n",
       "</table>\n",
       "</div>"
      ],
      "text/plain": [
       "       A_delta_prix_mean  B_delta_prix_median\n",
       "count       26705.000000         26705.000000\n",
       "mean            2.715839            33.783485\n",
       "std           462.609521           460.227477\n",
       "min         -4384.000000         -4384.000000\n",
       "25%          -221.333333          -186.500000\n",
       "50%           -21.666667             0.000000\n",
       "75%           186.900000           197.500000\n",
       "max         13294.111111         13705.000000"
      ]
     },
     "execution_count": 71,
     "metadata": {},
     "output_type": "execute_result"
    }
   ],
   "source": [
    "df[['A_delta_prix_mean','B_delta_prix_median']].describe()"
   ]
  },
  {
   "cell_type": "code",
   "execution_count": 72,
   "id": "2d1512e3-62a9-4bb3-86fa-24b7da54c5ed",
   "metadata": {
    "tags": []
   },
   "outputs": [
    {
     "data": {
      "text/plain": [
       "<Axes: >"
      ]
     },
     "execution_count": 72,
     "metadata": {},
     "output_type": "execute_result"
    },
    {
     "data": {
      "image/png": "[encoded data removed]",
      "text/plain": [
       "<Figure size 640x480 with 1 Axes>"
      ]
     },
     "metadata": {},
     "output_type": "display_data"
    }
   ],
   "source": [
    "sns.boxplot(data=df[['A_delta_prix_mean','B_delta_prix_median']])"
   ]
  },
  {
   "cell_type": "code",
   "execution_count": 73,
   "id": "1dc96611-2e45-40ba-af9c-a13828990ba0",
   "metadata": {
    "tags": []
   },
   "outputs": [
    {
     "data": {
      "text/plain": [
       "Index(['3_Code région', '3_Nom de la région', '3_Code département',\n",
       "       '3_Code commune', '3_Nom de la commune', '3_Population municipale',\n",
       "       '3_Population comptée à part', '3_Population totale',\n",
       "       '3_Année recensement', '3_Année utilisation',\n",
       "       '3_Code INSEE (commune ou arrondissement)',\n",
       "       '3_Superficie de la commune', '3_Statut', '3_Code EPCI', '3_EPCI',\n",
       "       '3_Densité_hab_par_km2', '5_ID', '5_INSEE_COM', '5_INSEE_DEP',\n",
       "       '5_INSEE_REG', '5_CODE_EPCI', '5_NOM_COM_M', '5_POPULATION',\n",
       "       '5_Nb_Ventes', '5_PrixMoyen_M2', '5_nb_digits_code_INSEE',\n",
       "       '5_code_commune_n', '6_insee', '6_nom', '6_nb_voisins',\n",
       "       '6_insee_voisins', '6_noms_voisins', '6_cap_voisins', '6_type',\n",
       "       '4_Code INSEE', '4_Code Postal', '4_Commune', '4_Département',\n",
       "       '4_Région', '4_Statut', '4_Altitude Moyenne', '4_Superficie',\n",
       "       '4_Population', '4_geo_point_2d', '4_geo_shape', '4_ID Geofla',\n",
       "       '4_Code Commune', '4_Code Canton', '4_Code Arrondissement',\n",
       "       '4_Code Département', '4_Code Région', '4_lat', '4_lon',\n",
       "       '4_Densité_hab_par_km2', 'A_Prix_consolidé_mean', 'A_Prix_estimé_mean',\n",
       "       'B_Prix_consolidé_median', 'B_Prix_estimé_median', 'A_delta_prix_mean',\n",
       "       'B_delta_prix_median'],\n",
       "      dtype='object')"
      ]
     },
     "execution_count": 73,
     "metadata": {},
     "output_type": "execute_result"
    }
   ],
   "source": [
    "df.columns"
   ]
  },
  {
   "cell_type": "code",
   "execution_count": 74,
   "id": "a4f92225-b0ce-4450-bd58-46c0750f24ad",
   "metadata": {
    "tags": []
   },
   "outputs": [
    {
     "data": {
      "text/plain": [
       "(26822, 54)"
      ]
     },
     "execution_count": 74,
     "metadata": {},
     "output_type": "execute_result"
    }
   ],
   "source": [
    "df_m2.shape"
   ]
  },
  {
   "cell_type": "code",
   "execution_count": 75,
   "id": "e0e2d164-e7a5-4b6b-ad9f-4701b2f7d653",
   "metadata": {
    "tags": []
   },
   "outputs": [
    {
     "name": "stderr",
     "output_type": "stream",
     "text": [
      "C:\\Users\\plele\\AppData\\Local\\Temp\\ipykernel_10608\\3233834944.py:1: SettingWithCopyWarning: \n",
      "A value is trying to be set on a copy of a slice from a DataFrame.\n",
      "Try using .loc[row_indexer,col_indexer] = value instead\n",
      "\n",
      "See the caveats in the documentation: https://pandas.pydata.org/pandas-docs/stable/user_guide/indexing.html#returning-a-view-versus-a-copy\n",
      "  df_m2['A_Prix_estimé_mean'] = df['A_Prix_estimé_mean'][df['5_PrixMoyen_M2'].isna() == False]\n",
      "C:\\Users\\plele\\AppData\\Local\\Temp\\ipykernel_10608\\3233834944.py:2: SettingWithCopyWarning: \n",
      "A value is trying to be set on a copy of a slice from a DataFrame.\n",
      "Try using .loc[row_indexer,col_indexer] = value instead\n",
      "\n",
      "See the caveats in the documentation: https://pandas.pydata.org/pandas-docs/stable/user_guide/indexing.html#returning-a-view-versus-a-copy\n",
      "  df_m2['B_Prix_estimé_median'] = df['B_Prix_estimé_median'][df['5_PrixMoyen_M2'].isna() == False]\n"
     ]
    }
   ],
   "source": [
    "df_m2['A_Prix_estimé_mean'] = df['A_Prix_estimé_mean'][df['5_PrixMoyen_M2'].isna() == False]\n",
    "df_m2['B_Prix_estimé_median'] = df['B_Prix_estimé_median'][df['5_PrixMoyen_M2'].isna() == False]"
   ]
  },
  {
   "cell_type": "code",
   "execution_count": 76,
   "id": "3db3512d-7538-4e39-9f3b-99e739ab4e9d",
   "metadata": {
    "tags": []
   },
   "outputs": [
    {
     "data": {
      "text/plain": [
       "(26822, 56)"
      ]
     },
     "execution_count": 76,
     "metadata": {},
     "output_type": "execute_result"
    }
   ],
   "source": [
    "df_m2.shape"
   ]
  },
  {
   "cell_type": "markdown",
   "id": "6e5c4f24-7706-4f37-b994-9e34daa5a5ae",
   "metadata": {
    "execution": {
     "iopub.execute_input": "2024-01-16T12:38:33.219410Z",
     "iopub.status.busy": "2024-01-16T12:38:33.219410Z",
     "iopub.status.idle": "2024-01-16T12:38:33.226486Z",
     "shell.execute_reply": "2024-01-16T12:38:33.226486Z",
     "shell.execute_reply.started": "2024-01-16T12:38:33.219410Z"
    }
   },
   "source": [
    "### C-Par moyenne et mediane de toute la variable PAUL"
   ]
  },
  {
   "cell_type": "code",
   "execution_count": 77,
   "id": "f6f2ae3b-1263-4337-85c0-bbf208293a97",
   "metadata": {
    "tags": []
   },
   "outputs": [
    {
     "name": "stderr",
     "output_type": "stream",
     "text": [
      "C:\\Users\\plele\\AppData\\Local\\Temp\\ipykernel_10608\\404998799.py:1: SettingWithCopyWarning: \n",
      "A value is trying to be set on a copy of a slice from a DataFrame.\n",
      "Try using .loc[row_indexer,col_indexer] = value instead\n",
      "\n",
      "See the caveats in the documentation: https://pandas.pydata.org/pandas-docs/stable/user_guide/indexing.html#returning-a-view-versus-a-copy\n",
      "  df_m2['C_Prix_estime_mean'] = np.round(np.mean(df_m2['5_PrixMoyen_M2']))\n"
     ]
    },
    {
     "data": {
      "text/plain": [
       "(26822, 57)"
      ]
     },
     "execution_count": 77,
     "metadata": {},
     "output_type": "execute_result"
    }
   ],
   "source": [
    "df_m2['C_Prix_estime_mean'] = np.round(np.mean(df_m2['5_PrixMoyen_M2']))\n",
    "df_m2.shape"
   ]
  },
  {
   "cell_type": "markdown",
   "id": "09519ce0-188a-4b36-96ef-8a3ace424230",
   "metadata": {},
   "source": [
    "### D-Par KNN OUMAR"
   ]
  },
  {
   "cell_type": "code",
   "execution_count": 78,
   "id": "3f9607e0-adb1-4ad4-944f-925c450f2227",
   "metadata": {},
   "outputs": [
    {
     "name": "stderr",
     "output_type": "stream",
     "text": [
      "C:\\Users\\plele\\AppData\\Local\\Temp\\ipykernel_10608\\3688732853.py:14: SettingWithCopyWarning: \n",
      "A value is trying to be set on a copy of a slice from a DataFrame.\n",
      "Try using .loc[row_indexer,col_indexer] = value instead\n",
      "\n",
      "See the caveats in the documentation: https://pandas.pydata.org/pandas-docs/stable/user_guide/indexing.html#returning-a-view-versus-a-copy\n",
      "  data_subset['5_PrixMoyen_M2'] = data_subset['5_PrixMoyen_M2'].replace(0, np.nan)  # Assurez-vous de choisir la valeur qui représente une valeur manquante\n",
      "C:\\Users\\plele\\AppData\\Local\\Temp\\ipykernel_10608\\3688732853.py:15: SettingWithCopyWarning: \n",
      "A value is trying to be set on a copy of a slice from a DataFrame.\n",
      "Try using .loc[row_indexer,col_indexer] = value instead\n",
      "\n",
      "See the caveats in the documentation: https://pandas.pydata.org/pandas-docs/stable/user_guide/indexing.html#returning-a-view-versus-a-copy\n",
      "  data_subset['5_PrixMoyen_M2'] = pd.to_numeric(data_subset['5_PrixMoyen_M2'], errors='coerce')\n"
     ]
    },
    {
     "name": "stdout",
     "output_type": "stream",
     "text": [
      "       3_Population municipale  5_PrixMoyen_M2  3_Densité_hab_par_km2  \\\n",
      "0                     0.001613        0.109873               0.001220   \n",
      "1                     0.000511        0.053968               0.000663   \n",
      "2                     0.029617        0.114509               0.014314   \n",
      "3                     0.003515        0.144745               0.002592   \n",
      "4                     0.000231        0.055698               0.000454   \n",
      "...                        ...             ...                    ...   \n",
      "36745                 0.013529        0.092175               0.007479   \n",
      "36746                 0.021460        0.119657               0.013827   \n",
      "36747                 0.024066        0.202768               0.065332   \n",
      "36748                 0.023465        0.151249               0.025248   \n",
      "36749                 0.029308        0.084827               0.010128   \n",
      "\n",
      "       3_Superficie de la commune  4_Superficie  4_Altitude Moyenne     4_lat  \\\n",
      "0                        0.000838      0.000835            0.089200  0.932062   \n",
      "1                        0.000488      0.000486            0.178032  0.930070   \n",
      "2                        0.001312      0.001307            0.139698  0.929402   \n",
      "3                        0.000859      0.000856            0.106893  0.929890   \n",
      "4                        0.000322      0.000321            0.217103  0.926484   \n",
      "...                           ...           ...                 ...       ...   \n",
      "36745                    0.001147      0.001150            0.035385  0.118608   \n",
      "36746                    0.000984      0.000976            0.064504  0.117424   \n",
      "36747                    0.000232      0.000227            0.019167  0.117989   \n",
      "36748                    0.000588      0.000579            0.047917  0.117091   \n",
      "36749                    0.001835      0.001829            0.054184  0.118182   \n",
      "\n",
      "          4_lon  0_KNN_predicted  \n",
      "0      0.567543           1938.0  \n",
      "1      0.571814           1130.0  \n",
      "2      0.571345           2005.0  \n",
      "3      0.567426           2442.0  \n",
      "4      0.573229           1155.0  \n",
      "...         ...              ...  \n",
      "36745  0.909240           1682.2  \n",
      "36746  0.909672           2079.4  \n",
      "36747  0.910917           3280.6  \n",
      "36748  0.909507           2536.0  \n",
      "36749  0.909642           1576.0  \n",
      "\n",
      "[36750 rows x 9 columns]\n"
     ]
    }
   ],
   "source": [
    "import pandas as pd\n",
    "from sklearn.impute import KNNImputer\n",
    "from sklearn.preprocessing import MinMaxScaler\n",
    "from sklearn.metrics import mean_squared_error\n",
    "from math import sqrt\n",
    "\n",
    "# Sélection des caractéristiques\n",
    "features = ['3_Population municipale','5_PrixMoyen_M2', '3_Densité_hab_par_km2', '3_Superficie de la commune', '4_Superficie','4_Altitude Moyenne','4_lat','4_lon']\n",
    "\n",
    "# Création d'un DataFrame avec seulement les caractéristiques sélectionnées\n",
    "data_subset = df[features]\n",
    "\n",
    "# Remplacer les valeurs manquantes dans \"5_PrixMoyen_M2\" par NaN\n",
    "data_subset['5_PrixMoyen_M2'] = data_subset['5_PrixMoyen_M2'].replace(0, np.nan)  # Assurez-vous de choisir la valeur qui représente une valeur manquante\n",
    "data_subset['5_PrixMoyen_M2'] = pd.to_numeric(data_subset['5_PrixMoyen_M2'], errors='coerce')\n",
    "\n",
    "# Imputer les valeurs manquantes avec KNNImputer\n",
    "imputer = KNNImputer(n_neighbors=5)\n",
    "data_imputed = imputer.fit_transform(data_subset)\n",
    "\n",
    "# Normalisation des données\n",
    "scaler = MinMaxScaler()\n",
    "data_normalized = scaler.fit_transform(data_imputed)\n",
    "\n",
    "# Créer un DataFrame avec les données normalisées et le nom des colonnes\n",
    "columns = data_subset.columns\n",
    "data_normalized_df = pd.DataFrame(data_normalized, columns=columns)\n",
    "\n",
    "# Ajouter une colonne pour stocker les valeurs prédites par le KNN\n",
    "data_normalized_df['0_KNN_predicted'] = imputer.transform(data_subset)[:, 1]\n",
    "\n",
    "# Afficher toutes les données\n",
    "print(data_normalized_df)\n"
   ]
  },
  {
   "cell_type": "code",
   "execution_count": 79,
   "id": "48b8e5d2",
   "metadata": {},
   "outputs": [
    {
     "data": {
      "text/plain": [
       "0        1938.0\n",
       "1        1130.0\n",
       "2        2005.0\n",
       "3        2442.0\n",
       "4        1155.0\n",
       "          ...  \n",
       "36745       NaN\n",
       "36746       NaN\n",
       "36747       NaN\n",
       "36748       NaN\n",
       "36749       NaN\n",
       "Name: 5_PrixMoyen_M2, Length: 36750, dtype: float64"
      ]
     },
     "execution_count": 79,
     "metadata": {},
     "output_type": "execute_result"
    }
   ],
   "source": [
    "df['5_PrixMoyen_M2']"
   ]
  },
  {
   "cell_type": "code",
   "execution_count": 80,
   "id": "6b97659f",
   "metadata": {},
   "outputs": [
    {
     "data": {
      "text/plain": [
       "0        1938.0\n",
       "1        1130.0\n",
       "2        2005.0\n",
       "3        2442.0\n",
       "4        1155.0\n",
       "          ...  \n",
       "36745    1682.2\n",
       "36746    2079.4\n",
       "36747    3280.6\n",
       "36748    2536.0\n",
       "36749    1576.0\n",
       "Name: 0_KNN_predicted, Length: 36750, dtype: float64"
      ]
     },
     "execution_count": 80,
     "metadata": {},
     "output_type": "execute_result"
    }
   ],
   "source": [
    "data_normalized_df['0_KNN_predicted']"
   ]
  },
  {
   "cell_type": "code",
   "execution_count": 81,
   "id": "9c1b8c0c",
   "metadata": {},
   "outputs": [],
   "source": [
    "# Vérifier les valeurs manquantes dans la colonne d'origine\n",
    "#missing_values_before = df['5_PrixMoyen_M2'].isnull().sum()\n",
    "#print(f\"Nombre de valeurs manquantes dans '5_PrixMoyen_M2' avant l'imputation : {missing_values_before}\")\n",
    "\n",
    "# Imputer les valeurs manquantes avec KNNImputer dans le DataFrame d'origine\n",
    "#df['5_PrixMoyen_M2'] = imputer.transform(df[features])[:, 1]\n",
    "\n",
    "# Vérifier à nouveau les valeurs manquantes après l'imputation\n",
    "#missing_values_after = df['5_PrixMoyen_M2'].isnull().sum()\n",
    "#print(f\"Nombre de valeurs manquantes dans '5_PrixMoyen_M2' après l'imputation : {missing_values_after}\")"
   ]
  },
  {
   "cell_type": "code",
   "execution_count": 82,
   "id": "d9cbbe76",
   "metadata": {},
   "outputs": [
    {
     "ename": "KeyError",
     "evalue": "'5_PrixMoyen_M2_predicted'",
     "output_type": "error",
     "traceback": [
      "\u001b[1;31m---------------------------------------------------------------------------\u001b[0m",
      "\u001b[1;31mKeyError\u001b[0m                                  Traceback (most recent call last)",
      "File \u001b[1;32m~\\anaconda3\\Lib\\site-packages\\pandas\\core\\indexes\\base.py:3791\u001b[0m, in \u001b[0;36mIndex.get_loc\u001b[1;34m(self, key)\u001b[0m\n\u001b[0;32m   3790\u001b[0m \u001b[38;5;28;01mtry\u001b[39;00m:\n\u001b[1;32m-> 3791\u001b[0m     \u001b[38;5;28;01mreturn\u001b[39;00m \u001b[38;5;28mself\u001b[39m\u001b[38;5;241m.\u001b[39m_engine\u001b[38;5;241m.\u001b[39mget_loc(casted_key)\n\u001b[0;32m   3792\u001b[0m \u001b[38;5;28;01mexcept\u001b[39;00m \u001b[38;5;167;01mKeyError\u001b[39;00m \u001b[38;5;28;01mas\u001b[39;00m err:\n",
      "File \u001b[1;32mindex.pyx:152\u001b[0m, in \u001b[0;36mpandas._libs.index.IndexEngine.get_loc\u001b[1;34m()\u001b[0m\n",
      "File \u001b[1;32mindex.pyx:181\u001b[0m, in \u001b[0;36mpandas._libs.index.IndexEngine.get_loc\u001b[1;34m()\u001b[0m\n",
      "File \u001b[1;32mpandas\\_libs\\hashtable_class_helper.pxi:7080\u001b[0m, in \u001b[0;36mpandas._libs.hashtable.PyObjectHashTable.get_item\u001b[1;34m()\u001b[0m\n",
      "File \u001b[1;32mpandas\\_libs\\hashtable_class_helper.pxi:7088\u001b[0m, in \u001b[0;36mpandas._libs.hashtable.PyObjectHashTable.get_item\u001b[1;34m()\u001b[0m\n",
      "\u001b[1;31mKeyError\u001b[0m: '5_PrixMoyen_M2_predicted'",
      "\nThe above exception was the direct cause of the following exception:\n",
      "\u001b[1;31mKeyError\u001b[0m                                  Traceback (most recent call last)",
      "Cell \u001b[1;32mIn[82], line 5\u001b[0m\n\u001b[0;32m      3\u001b[0m \u001b[38;5;66;03m# Extraire les valeurs réelles et prédites\u001b[39;00m\n\u001b[0;32m      4\u001b[0m actual_values \u001b[38;5;241m=\u001b[39m data_subset[\u001b[38;5;124m'\u001b[39m\u001b[38;5;124m5_PrixMoyen_M2\u001b[39m\u001b[38;5;124m'\u001b[39m]\u001b[38;5;241m.\u001b[39mvalues\n\u001b[1;32m----> 5\u001b[0m predicted_values \u001b[38;5;241m=\u001b[39m data_normalized_df[\u001b[38;5;124m'\u001b[39m\u001b[38;5;124m5_PrixMoyen_M2_predicted\u001b[39m\u001b[38;5;124m'\u001b[39m]\u001b[38;5;241m.\u001b[39mvalues\n\u001b[0;32m      7\u001b[0m \u001b[38;5;66;03m# Créer un graphique de dispersion\u001b[39;00m\n\u001b[0;32m      8\u001b[0m plt\u001b[38;5;241m.\u001b[39mfigure(figsize\u001b[38;5;241m=\u001b[39m(\u001b[38;5;241m10\u001b[39m, \u001b[38;5;241m6\u001b[39m))\n",
      "File \u001b[1;32m~\\anaconda3\\Lib\\site-packages\\pandas\\core\\frame.py:3893\u001b[0m, in \u001b[0;36mDataFrame.__getitem__\u001b[1;34m(self, key)\u001b[0m\n\u001b[0;32m   3891\u001b[0m \u001b[38;5;28;01mif\u001b[39;00m \u001b[38;5;28mself\u001b[39m\u001b[38;5;241m.\u001b[39mcolumns\u001b[38;5;241m.\u001b[39mnlevels \u001b[38;5;241m>\u001b[39m \u001b[38;5;241m1\u001b[39m:\n\u001b[0;32m   3892\u001b[0m     \u001b[38;5;28;01mreturn\u001b[39;00m \u001b[38;5;28mself\u001b[39m\u001b[38;5;241m.\u001b[39m_getitem_multilevel(key)\n\u001b[1;32m-> 3893\u001b[0m indexer \u001b[38;5;241m=\u001b[39m \u001b[38;5;28mself\u001b[39m\u001b[38;5;241m.\u001b[39mcolumns\u001b[38;5;241m.\u001b[39mget_loc(key)\n\u001b[0;32m   3894\u001b[0m \u001b[38;5;28;01mif\u001b[39;00m is_integer(indexer):\n\u001b[0;32m   3895\u001b[0m     indexer \u001b[38;5;241m=\u001b[39m [indexer]\n",
      "File \u001b[1;32m~\\anaconda3\\Lib\\site-packages\\pandas\\core\\indexes\\base.py:3798\u001b[0m, in \u001b[0;36mIndex.get_loc\u001b[1;34m(self, key)\u001b[0m\n\u001b[0;32m   3793\u001b[0m     \u001b[38;5;28;01mif\u001b[39;00m \u001b[38;5;28misinstance\u001b[39m(casted_key, \u001b[38;5;28mslice\u001b[39m) \u001b[38;5;129;01mor\u001b[39;00m (\n\u001b[0;32m   3794\u001b[0m         \u001b[38;5;28misinstance\u001b[39m(casted_key, abc\u001b[38;5;241m.\u001b[39mIterable)\n\u001b[0;32m   3795\u001b[0m         \u001b[38;5;129;01mand\u001b[39;00m \u001b[38;5;28many\u001b[39m(\u001b[38;5;28misinstance\u001b[39m(x, \u001b[38;5;28mslice\u001b[39m) \u001b[38;5;28;01mfor\u001b[39;00m x \u001b[38;5;129;01min\u001b[39;00m casted_key)\n\u001b[0;32m   3796\u001b[0m     ):\n\u001b[0;32m   3797\u001b[0m         \u001b[38;5;28;01mraise\u001b[39;00m InvalidIndexError(key)\n\u001b[1;32m-> 3798\u001b[0m     \u001b[38;5;28;01mraise\u001b[39;00m \u001b[38;5;167;01mKeyError\u001b[39;00m(key) \u001b[38;5;28;01mfrom\u001b[39;00m \u001b[38;5;21;01merr\u001b[39;00m\n\u001b[0;32m   3799\u001b[0m \u001b[38;5;28;01mexcept\u001b[39;00m \u001b[38;5;167;01mTypeError\u001b[39;00m:\n\u001b[0;32m   3800\u001b[0m     \u001b[38;5;66;03m# If we have a listlike key, _check_indexing_error will raise\u001b[39;00m\n\u001b[0;32m   3801\u001b[0m     \u001b[38;5;66;03m#  InvalidIndexError. Otherwise we fall through and re-raise\u001b[39;00m\n\u001b[0;32m   3802\u001b[0m     \u001b[38;5;66;03m#  the TypeError.\u001b[39;00m\n\u001b[0;32m   3803\u001b[0m     \u001b[38;5;28mself\u001b[39m\u001b[38;5;241m.\u001b[39m_check_indexing_error(key)\n",
      "\u001b[1;31mKeyError\u001b[0m: '5_PrixMoyen_M2_predicted'"
     ]
    }
   ],
   "source": [
    "import matplotlib.pyplot as plt\n",
    "\n",
    "# Extraire les valeurs réelles et prédites\n",
    "actual_values = data_subset['5_PrixMoyen_M2'].values\n",
    "predicted_values = data_normalized_df['5_PrixMoyen_M2_predicted'].values\n",
    "\n",
    "# Créer un graphique de dispersion\n",
    "plt.figure(figsize=(10, 6))\n",
    "plt.scatter(actual_values, predicted_values, alpha=0.5)\n",
    "plt.plot([min(actual_values), max(actual_values)], [min(actual_values), max(actual_values)], color='red', linestyle='--', linewidth=2)\n",
    "plt.title('Valeurs Réelles vs Valeurs Prédites')\n",
    "plt.xlabel('Valeurs Réelles')\n",
    "plt.ylabel('Valeurs Prédites')\n",
    "plt.show()\n"
   ]
  },
  {
   "cell_type": "code",
   "execution_count": null,
   "id": "8a0c6262",
   "metadata": {},
   "outputs": [],
   "source": [
    "import matplotlib.pyplot as plt\n",
    "\n",
    "# Extraire les valeurs réelles et prédites\n",
    "actual_values = data_subset['5_PrixMoyen_M2'].values\n",
    "predicted_values = data_normalized_df['5_PrixMoyen_M2_predicted'].values\n",
    "\n",
    "# Créer un histogramme\n",
    "plt.figure(figsize=(10, 6))\n",
    "plt.hist([actual_values, predicted_values], bins=30, label=['Réel', 'Prédit'], alpha=0.7)\n",
    "plt.legend()\n",
    "plt.title('Histogramme des Valeurs Réelles et Prédites')\n",
    "plt.xlabel('Valeurs')\n",
    "plt.ylabel('Fréquence')\n",
    "plt.show()\n"
   ]
  },
  {
   "cell_type": "code",
   "execution_count": null,
   "id": "f3bd12aa",
   "metadata": {},
   "outputs": [],
   "source": [
    "import seaborn as sns\n",
    "import matplotlib.pyplot as plt\n",
    "\n",
    "# Extraire les valeurs réelles et prédites\n",
    "actual_values = data_subset['5_PrixMoyen_M2'].values\n",
    "predicted_values = data_normalized_df['5_PrixMoyen_M2_predicted'].values\n",
    "\n",
    "# Créer un DataFrame pour Seaborn\n",
    "data_for_seaborn = pd.DataFrame({'Réel': actual_values, 'Prédit': predicted_values})\n",
    "\n",
    "# Créer un histogramme avec Seaborn\n",
    "plt.figure(figsize=(10, 6))\n",
    "sns.histplot(data=data_for_seaborn, bins=30, kde=True)\n",
    "plt.title('Histogramme des Valeurs Réelles et Prédites avec Seaborn')\n",
    "plt.xlabel('Valeurs')\n",
    "plt.ylabel('Fréquence')\n",
    "plt.show()\n"
   ]
  },
  {
   "cell_type": "code",
   "execution_count": null,
   "id": "3236a4e5",
   "metadata": {},
   "outputs": [],
   "source": [
    "Delta= y_test - Y_pred"
   ]
  },
  {
   "cell_type": "code",
   "execution_count": null,
   "id": "94809a1d",
   "metadata": {},
   "outputs": [],
   "source": [
    "df.columns"
   ]
  },
  {
   "cell_type": "markdown",
   "id": "db2a42bb-31b2-4175-895c-47a9854eb54e",
   "metadata": {
    "execution": {
     "iopub.execute_input": "2024-01-16T12:35:01.416140Z",
     "iopub.status.busy": "2024-01-16T12:35:01.415142Z",
     "iopub.status.idle": "2024-01-16T12:35:01.427777Z",
     "shell.execute_reply": "2024-01-16T12:35:01.427236Z",
     "shell.execute_reply.started": "2024-01-16T12:35:01.416140Z"
    }
   },
   "source": [
    "### E-Par KNeighborsRegressor OUMAR"
   ]
  },
  {
   "cell_type": "code",
   "execution_count": null,
   "id": "c957a5ae",
   "metadata": {},
   "outputs": [],
   "source": [
    "from sklearn.neighbors import KNeighborsRegressor \n",
    "\n",
    "data1=df[['3_Population municipale', '3_Densité_hab_par_km2', '3_Superficie de la commune', '4_Superficie','4_Altitude Moyenne','4_lat','4_lon','5_PrixMoyen_M2']]\n",
    "data1=data1.dropna()\n",
    "data2=data1.sample(n=data1.shape[0],random_state=1)\n",
    "\n",
    "\n",
    "data_train= data2[:16819]\n",
    "data_test= data2[16820:data1.shape[0]]\n",
    "\n",
    "X_train = data_train[['3_Population municipale', '3_Densité_hab_par_km2', '3_Superficie de la commune', '4_Superficie','4_Altitude Moyenne','4_lat','4_lon']]\n",
    "y_train=data_train[['5_PrixMoyen_M2']]\n",
    "X_test = data_test[['3_Population municipale', '3_Densité_hab_par_km2', '3_Superficie de la commune', '4_Superficie','4_Altitude Moyenne','4_lat','4_lon']]\n",
    "y_test =data_test[['5_PrixMoyen_M2']]\n",
    "neigh = KNeighborsRegressor(n_neighbors=50)\n",
    "\n",
    "neigh.fit(X_train, y_train)\n"
   ]
  },
  {
   "cell_type": "code",
   "execution_count": null,
   "id": "d31a9a28",
   "metadata": {},
   "outputs": [],
   "source": [
    "neigh.score(X_test,y_test)"
   ]
  },
  {
   "cell_type": "code",
   "execution_count": null,
   "id": "20f6885a",
   "metadata": {},
   "outputs": [],
   "source": [
    "Y_pred=neigh.predict(X_test)\n",
    "Delta= y_test - Y_pred\n"
   ]
  },
  {
   "cell_type": "code",
   "execution_count": null,
   "id": "8857fff0",
   "metadata": {},
   "outputs": [],
   "source": [
    "Delta.describe()"
   ]
  },
  {
   "cell_type": "markdown",
   "id": "794a8605-27cd-4cc1-8e3e-2728ca4db4bf",
   "metadata": {
    "execution": {
     "iopub.execute_input": "2024-01-16T12:35:35.158453Z",
     "iopub.status.busy": "2024-01-16T12:35:35.155661Z",
     "iopub.status.idle": "2024-01-16T12:35:35.165381Z",
     "shell.execute_reply": "2024-01-16T12:35:35.164377Z",
     "shell.execute_reply.started": "2024-01-16T12:35:35.158453Z"
    }
   },
   "source": [
    "### F-Par RandomForestRegressor PAUL"
   ]
  },
  {
   "cell_type": "code",
   "execution_count": 88,
   "id": "e079e756-cc1a-41c6-ad98-abd069390cc9",
   "metadata": {
    "tags": []
   },
   "outputs": [
    {
     "data": {
      "text/html": [
       "<div>\n",
       "<style scoped>\n",
       "    .dataframe tbody tr th:only-of-type {\n",
       "        vertical-align: middle;\n",
       "    }\n",
       "\n",
       "    .dataframe tbody tr th {\n",
       "        vertical-align: top;\n",
       "    }\n",
       "\n",
       "    .dataframe thead th {\n",
       "        text-align: right;\n",
       "    }\n",
       "</style>\n",
       "<table border=\"1\" class=\"dataframe\">\n",
       "  <thead>\n",
       "    <tr style=\"text-align: right;\">\n",
       "      <th></th>\n",
       "      <th>3_Code région</th>\n",
       "      <th>3_Nom de la région</th>\n",
       "      <th>3_Code département</th>\n",
       "      <th>3_Code commune</th>\n",
       "      <th>3_Nom de la commune</th>\n",
       "      <th>3_Population municipale</th>\n",
       "      <th>3_Population comptée à part</th>\n",
       "      <th>3_Population totale</th>\n",
       "      <th>3_Année recensement</th>\n",
       "      <th>3_Année utilisation</th>\n",
       "      <th>3_Code INSEE (commune ou arrondissement)</th>\n",
       "      <th>3_Superficie de la commune</th>\n",
       "      <th>3_Statut</th>\n",
       "      <th>3_Code EPCI</th>\n",
       "      <th>3_EPCI</th>\n",
       "      <th>3_Densité_hab_par_km2</th>\n",
       "      <th>5_ID</th>\n",
       "      <th>5_INSEE_COM</th>\n",
       "      <th>5_INSEE_DEP</th>\n",
       "      <th>5_INSEE_REG</th>\n",
       "      <th>5_CODE_EPCI</th>\n",
       "      <th>5_NOM_COM_M</th>\n",
       "      <th>5_POPULATION</th>\n",
       "      <th>5_Nb_Ventes</th>\n",
       "      <th>5_PrixMoyen_M2</th>\n",
       "      <th>5_nb_digits_code_INSEE</th>\n",
       "      <th>5_code_commune_n</th>\n",
       "      <th>6_insee</th>\n",
       "      <th>6_nom</th>\n",
       "      <th>6_nb_voisins</th>\n",
       "      <th>6_insee_voisins</th>\n",
       "      <th>6_noms_voisins</th>\n",
       "      <th>6_cap_voisins</th>\n",
       "      <th>6_type</th>\n",
       "      <th>4_Code INSEE</th>\n",
       "      <th>4_Code Postal</th>\n",
       "      <th>4_Commune</th>\n",
       "      <th>4_Département</th>\n",
       "      <th>4_Région</th>\n",
       "      <th>4_Statut</th>\n",
       "      <th>4_Altitude Moyenne</th>\n",
       "      <th>4_Superficie</th>\n",
       "      <th>4_Population</th>\n",
       "      <th>4_geo_point_2d</th>\n",
       "      <th>4_geo_shape</th>\n",
       "      <th>4_ID Geofla</th>\n",
       "      <th>4_Code Commune</th>\n",
       "      <th>4_Code Canton</th>\n",
       "      <th>4_Code Arrondissement</th>\n",
       "      <th>4_Code Département</th>\n",
       "      <th>4_Code Région</th>\n",
       "      <th>4_lat</th>\n",
       "      <th>4_lon</th>\n",
       "      <th>4_Densité_hab_par_km2</th>\n",
       "      <th>A_Prix_estimé_mean</th>\n",
       "      <th>B_Prix_estimé_median</th>\n",
       "      <th>C_Prix_estime_mean</th>\n",
       "    </tr>\n",
       "  </thead>\n",
       "  <tbody>\n",
       "    <tr>\n",
       "      <th>0</th>\n",
       "      <td>84.0</td>\n",
       "      <td>Auvergne-Rhône-Alpes</td>\n",
       "      <td>01</td>\n",
       "      <td>1.0</td>\n",
       "      <td>L' Abergement-Clémenciat</td>\n",
       "      <td>767.0</td>\n",
       "      <td>18.0</td>\n",
       "      <td>785.0</td>\n",
       "      <td>2016</td>\n",
       "      <td>2019</td>\n",
       "      <td>01001</td>\n",
       "      <td>15.65</td>\n",
       "      <td>Commune</td>\n",
       "      <td>200035210</td>\n",
       "      <td>CC Chalaronne Centre</td>\n",
       "      <td>49.009585</td>\n",
       "      <td>COMMUNE_0000000009750236</td>\n",
       "      <td>1001</td>\n",
       "      <td>1</td>\n",
       "      <td>84.0</td>\n",
       "      <td>200069193.0</td>\n",
       "      <td>ABERGEMENT CLEMENCIAT</td>\n",
       "      <td>767.0</td>\n",
       "      <td>7.0</td>\n",
       "      <td>1938.0</td>\n",
       "      <td>5.0</td>\n",
       "      <td>01001</td>\n",
       "      <td>01001</td>\n",
       "      <td>L'Abergement-Clémenciat</td>\n",
       "      <td>6.0</td>\n",
       "      <td>01412|01093|01028|01146|01351|01188</td>\n",
       "      <td>Sulignat|Châtillon-sur-Chalaronne|Baneins|Domp...</td>\n",
       "      <td>48|144|203|234|260|322</td>\n",
       "      <td>NaN</td>\n",
       "      <td>01001</td>\n",
       "      <td>01400</td>\n",
       "      <td>L'ABERGEMENT-CLEMENCIAT</td>\n",
       "      <td>AIN</td>\n",
       "      <td>RHONE-ALPES</td>\n",
       "      <td>RHONE-ALPES</td>\n",
       "      <td>242.0</td>\n",
       "      <td>1565.0</td>\n",
       "      <td>0.8</td>\n",
       "      <td>46.153425521369456, 4.926113542231843</td>\n",
       "      <td>{\"coordinates\": [[[4.92627342692396, 46.120051...</td>\n",
       "      <td>7342.0</td>\n",
       "      <td>1.0</td>\n",
       "      <td>10.0</td>\n",
       "      <td>2.0</td>\n",
       "      <td>01</td>\n",
       "      <td>82.0</td>\n",
       "      <td>46.153426</td>\n",
       "      <td>4.926114</td>\n",
       "      <td>51.118211</td>\n",
       "      <td>2167.500000</td>\n",
       "      <td>2080.5</td>\n",
       "      <td>1636.0</td>\n",
       "    </tr>\n",
       "    <tr>\n",
       "      <th>1</th>\n",
       "      <td>84.0</td>\n",
       "      <td>Auvergne-Rhône-Alpes</td>\n",
       "      <td>01</td>\n",
       "      <td>2.0</td>\n",
       "      <td>L' Abergement-de-Varey</td>\n",
       "      <td>243.0</td>\n",
       "      <td>1.0</td>\n",
       "      <td>244.0</td>\n",
       "      <td>2016</td>\n",
       "      <td>2019</td>\n",
       "      <td>01002</td>\n",
       "      <td>9.13</td>\n",
       "      <td>Commune</td>\n",
       "      <td>240100883</td>\n",
       "      <td>CC de la Plaine de l'Ain</td>\n",
       "      <td>26.615553</td>\n",
       "      <td>COMMUNE_0000000009750692</td>\n",
       "      <td>1002</td>\n",
       "      <td>1</td>\n",
       "      <td>84.0</td>\n",
       "      <td>240100883.0</td>\n",
       "      <td>ABERGEMENT DE VAREY</td>\n",
       "      <td>243.0</td>\n",
       "      <td>8.0</td>\n",
       "      <td>1130.0</td>\n",
       "      <td>5.0</td>\n",
       "      <td>01002</td>\n",
       "      <td>01002</td>\n",
       "      <td>L'Abergement-de-Varey</td>\n",
       "      <td>6.0</td>\n",
       "      <td>01056|01277|01384|01007|01363|01199</td>\n",
       "      <td>Boyeux-Saint-Jérôme|Nivollet-Montgriffon|Saint...</td>\n",
       "      <td>43|115|172|265|302|344</td>\n",
       "      <td>NaN</td>\n",
       "      <td>01002</td>\n",
       "      <td>01640</td>\n",
       "      <td>L'ABERGEMENT-DE-VAREY</td>\n",
       "      <td>AIN</td>\n",
       "      <td>RHONE-ALPES</td>\n",
       "      <td>RHONE-ALPES</td>\n",
       "      <td>483.0</td>\n",
       "      <td>912.0</td>\n",
       "      <td>0.2</td>\n",
       "      <td>46.009187877601306, 5.428016963625987</td>\n",
       "      <td>{\"coordinates\": [[[5.430089291292173, 45.98275...</td>\n",
       "      <td>32385.0</td>\n",
       "      <td>2.0</td>\n",
       "      <td>1.0</td>\n",
       "      <td>1.0</td>\n",
       "      <td>01</td>\n",
       "      <td>82.0</td>\n",
       "      <td>46.009188</td>\n",
       "      <td>5.428017</td>\n",
       "      <td>21.929825</td>\n",
       "      <td>1503.894444</td>\n",
       "      <td>1458.5</td>\n",
       "      <td>1636.0</td>\n",
       "    </tr>\n",
       "    <tr>\n",
       "      <th>2</th>\n",
       "      <td>84.0</td>\n",
       "      <td>Auvergne-Rhône-Alpes</td>\n",
       "      <td>01</td>\n",
       "      <td>4.0</td>\n",
       "      <td>Ambérieu-en-Bugey</td>\n",
       "      <td>14081.0</td>\n",
       "      <td>437.0</td>\n",
       "      <td>14518.0</td>\n",
       "      <td>2016</td>\n",
       "      <td>2019</td>\n",
       "      <td>01004</td>\n",
       "      <td>24.49</td>\n",
       "      <td>Commune</td>\n",
       "      <td>240100883</td>\n",
       "      <td>CC de la Plaine de l'Ain</td>\n",
       "      <td>574.969375</td>\n",
       "      <td>COMMUNE_0000000009750944</td>\n",
       "      <td>1004</td>\n",
       "      <td>1</td>\n",
       "      <td>84.0</td>\n",
       "      <td>240100883.0</td>\n",
       "      <td>AMBERIEU EN BUGEY</td>\n",
       "      <td>14081.0</td>\n",
       "      <td>168.0</td>\n",
       "      <td>2005.0</td>\n",
       "      <td>5.0</td>\n",
       "      <td>01004</td>\n",
       "      <td>01004</td>\n",
       "      <td>Ambérieu-en-Bugey</td>\n",
       "      <td>7.0</td>\n",
       "      <td>01384|01421|01041|01345|01089|01007|01149</td>\n",
       "      <td>Saint-Rambert-en-Bugey|Torcieu|Bettant|Saint-D...</td>\n",
       "      <td>102|151|190|250|284|347|360</td>\n",
       "      <td>NaN</td>\n",
       "      <td>01004</td>\n",
       "      <td>01500</td>\n",
       "      <td>AMBERIEU-EN-BUGEY</td>\n",
       "      <td>AIN</td>\n",
       "      <td>RHONE-ALPES</td>\n",
       "      <td>RHONE-ALPES</td>\n",
       "      <td>379.0</td>\n",
       "      <td>2448.0</td>\n",
       "      <td>13.4</td>\n",
       "      <td>45.96084751144621, 5.372925777699918</td>\n",
       "      <td>{\"coordinates\": [[[5.386190824025674, 45.93092...</td>\n",
       "      <td>463.0</td>\n",
       "      <td>4.0</td>\n",
       "      <td>1.0</td>\n",
       "      <td>1.0</td>\n",
       "      <td>01</td>\n",
       "      <td>82.0</td>\n",
       "      <td>45.960848</td>\n",
       "      <td>5.372926</td>\n",
       "      <td>547.385621</td>\n",
       "      <td>1725.714286</td>\n",
       "      <td>1678.0</td>\n",
       "      <td>1636.0</td>\n",
       "    </tr>\n",
       "    <tr>\n",
       "      <th>3</th>\n",
       "      <td>84.0</td>\n",
       "      <td>Auvergne-Rhône-Alpes</td>\n",
       "      <td>01</td>\n",
       "      <td>5.0</td>\n",
       "      <td>Ambérieux-en-Dombes</td>\n",
       "      <td>1671.0</td>\n",
       "      <td>34.0</td>\n",
       "      <td>1705.0</td>\n",
       "      <td>2016</td>\n",
       "      <td>2019</td>\n",
       "      <td>01005</td>\n",
       "      <td>16.05</td>\n",
       "      <td>Commune</td>\n",
       "      <td>200042497</td>\n",
       "      <td>CC Dombes Saône Vallée</td>\n",
       "      <td>104.112150</td>\n",
       "      <td>COMMUNE_0000000009750958</td>\n",
       "      <td>1005</td>\n",
       "      <td>1</td>\n",
       "      <td>84.0</td>\n",
       "      <td>200042497.0</td>\n",
       "      <td>AMBERIEUX EN DOMBES</td>\n",
       "      <td>1671.0</td>\n",
       "      <td>13.0</td>\n",
       "      <td>2442.0</td>\n",
       "      <td>5.0</td>\n",
       "      <td>01005</td>\n",
       "      <td>01005</td>\n",
       "      <td>Ambérieux-en-Dombes</td>\n",
       "      <td>7.0</td>\n",
       "      <td>01382|01207|01261|01362|01318|01398|01446</td>\n",
       "      <td>Sainte-Olive|Lapeyrouse|Monthieux|Saint-Jean-d...</td>\n",
       "      <td>43|102|145|193|230|272|310</td>\n",
       "      <td>NaN</td>\n",
       "      <td>01005</td>\n",
       "      <td>01330</td>\n",
       "      <td>AMBERIEUX-EN-DOMBES</td>\n",
       "      <td>AIN</td>\n",
       "      <td>RHONE-ALPES</td>\n",
       "      <td>RHONE-ALPES</td>\n",
       "      <td>290.0</td>\n",
       "      <td>1605.0</td>\n",
       "      <td>1.6</td>\n",
       "      <td>45.99617998724963, 4.912272507964576</td>\n",
       "      <td>{\"coordinates\": [[[4.895580369408855, 45.97991...</td>\n",
       "      <td>344.0</td>\n",
       "      <td>5.0</td>\n",
       "      <td>30.0</td>\n",
       "      <td>2.0</td>\n",
       "      <td>01</td>\n",
       "      <td>82.0</td>\n",
       "      <td>45.996180</td>\n",
       "      <td>4.912273</td>\n",
       "      <td>99.688474</td>\n",
       "      <td>2647.857143</td>\n",
       "      <td>2701.0</td>\n",
       "      <td>1636.0</td>\n",
       "    </tr>\n",
       "    <tr>\n",
       "      <th>4</th>\n",
       "      <td>84.0</td>\n",
       "      <td>Auvergne-Rhône-Alpes</td>\n",
       "      <td>01</td>\n",
       "      <td>6.0</td>\n",
       "      <td>Ambléon</td>\n",
       "      <td>110.0</td>\n",
       "      <td>6.0</td>\n",
       "      <td>116.0</td>\n",
       "      <td>2016</td>\n",
       "      <td>2019</td>\n",
       "      <td>01006</td>\n",
       "      <td>6.03</td>\n",
       "      <td>Commune</td>\n",
       "      <td>200040350</td>\n",
       "      <td>CC Bugey Sud</td>\n",
       "      <td>18.242123</td>\n",
       "      <td>COMMUNE_0000000009751732</td>\n",
       "      <td>1006</td>\n",
       "      <td>1</td>\n",
       "      <td>84.0</td>\n",
       "      <td>200040350.0</td>\n",
       "      <td>AMBLEON</td>\n",
       "      <td>110.0</td>\n",
       "      <td>1.0</td>\n",
       "      <td>1155.0</td>\n",
       "      <td>5.0</td>\n",
       "      <td>01006</td>\n",
       "      <td>01006</td>\n",
       "      <td>Ambléon</td>\n",
       "      <td>6.0</td>\n",
       "      <td>01358|01110|01117|01216|01233|01190</td>\n",
       "      <td>Saint-Germain-les-Paroisses|Colomieu|Conzieu|L...</td>\n",
       "      <td>37|120|164|263|308|341</td>\n",
       "      <td>NaN</td>\n",
       "      <td>01006</td>\n",
       "      <td>01300</td>\n",
       "      <td>AMBLEON</td>\n",
       "      <td>AIN</td>\n",
       "      <td>RHONE-ALPES</td>\n",
       "      <td>RHONE-ALPES</td>\n",
       "      <td>589.0</td>\n",
       "      <td>602.0</td>\n",
       "      <td>0.1</td>\n",
       "      <td>45.749498904386975, 5.594320173657713</td>\n",
       "      <td>{\"coordinates\": [[[5.6148546250532725, 45.7346...</td>\n",
       "      <td>16853.0</td>\n",
       "      <td>6.0</td>\n",
       "      <td>4.0</td>\n",
       "      <td>1.0</td>\n",
       "      <td>01</td>\n",
       "      <td>82.0</td>\n",
       "      <td>45.749499</td>\n",
       "      <td>5.594320</td>\n",
       "      <td>16.611296</td>\n",
       "      <td>1460.333333</td>\n",
       "      <td>1287.0</td>\n",
       "      <td>1636.0</td>\n",
       "    </tr>\n",
       "  </tbody>\n",
       "</table>\n",
       "</div>"
      ],
      "text/plain": [
       "   3_Code région    3_Nom de la région 3_Code département  3_Code commune  \\\n",
       "0           84.0  Auvergne-Rhône-Alpes                 01             1.0   \n",
       "1           84.0  Auvergne-Rhône-Alpes                 01             2.0   \n",
       "2           84.0  Auvergne-Rhône-Alpes                 01             4.0   \n",
       "3           84.0  Auvergne-Rhône-Alpes                 01             5.0   \n",
       "4           84.0  Auvergne-Rhône-Alpes                 01             6.0   \n",
       "\n",
       "        3_Nom de la commune  3_Population municipale  \\\n",
       "0  L' Abergement-Clémenciat                    767.0   \n",
       "1    L' Abergement-de-Varey                    243.0   \n",
       "2         Ambérieu-en-Bugey                  14081.0   \n",
       "3       Ambérieux-en-Dombes                   1671.0   \n",
       "4                   Ambléon                    110.0   \n",
       "\n",
       "   3_Population comptée à part  3_Population totale  3_Année recensement  \\\n",
       "0                         18.0                785.0                 2016   \n",
       "1                          1.0                244.0                 2016   \n",
       "2                        437.0              14518.0                 2016   \n",
       "3                         34.0               1705.0                 2016   \n",
       "4                          6.0                116.0                 2016   \n",
       "\n",
       "   3_Année utilisation 3_Code INSEE (commune ou arrondissement)  \\\n",
       "0                 2019                                    01001   \n",
       "1                 2019                                    01002   \n",
       "2                 2019                                    01004   \n",
       "3                 2019                                    01005   \n",
       "4                 2019                                    01006   \n",
       "\n",
       "   3_Superficie de la commune 3_Statut 3_Code EPCI                    3_EPCI  \\\n",
       "0                       15.65  Commune   200035210      CC Chalaronne Centre   \n",
       "1                        9.13  Commune   240100883  CC de la Plaine de l'Ain   \n",
       "2                       24.49  Commune   240100883  CC de la Plaine de l'Ain   \n",
       "3                       16.05  Commune   200042497    CC Dombes Saône Vallée   \n",
       "4                        6.03  Commune   200040350              CC Bugey Sud   \n",
       "\n",
       "   3_Densité_hab_par_km2                      5_ID 5_INSEE_COM 5_INSEE_DEP  \\\n",
       "0              49.009585  COMMUNE_0000000009750236        1001           1   \n",
       "1              26.615553  COMMUNE_0000000009750692        1002           1   \n",
       "2             574.969375  COMMUNE_0000000009750944        1004           1   \n",
       "3             104.112150  COMMUNE_0000000009750958        1005           1   \n",
       "4              18.242123  COMMUNE_0000000009751732        1006           1   \n",
       "\n",
       "   5_INSEE_REG  5_CODE_EPCI            5_NOM_COM_M  5_POPULATION  5_Nb_Ventes  \\\n",
       "0         84.0  200069193.0  ABERGEMENT CLEMENCIAT         767.0          7.0   \n",
       "1         84.0  240100883.0    ABERGEMENT DE VAREY         243.0          8.0   \n",
       "2         84.0  240100883.0      AMBERIEU EN BUGEY       14081.0        168.0   \n",
       "3         84.0  200042497.0    AMBERIEUX EN DOMBES        1671.0         13.0   \n",
       "4         84.0  200040350.0                AMBLEON         110.0          1.0   \n",
       "\n",
       "   5_PrixMoyen_M2  5_nb_digits_code_INSEE 5_code_commune_n 6_insee  \\\n",
       "0          1938.0                     5.0            01001   01001   \n",
       "1          1130.0                     5.0            01002   01002   \n",
       "2          2005.0                     5.0            01004   01004   \n",
       "3          2442.0                     5.0            01005   01005   \n",
       "4          1155.0                     5.0            01006   01006   \n",
       "\n",
       "                     6_nom  6_nb_voisins  \\\n",
       "0  L'Abergement-Clémenciat           6.0   \n",
       "1    L'Abergement-de-Varey           6.0   \n",
       "2        Ambérieu-en-Bugey           7.0   \n",
       "3      Ambérieux-en-Dombes           7.0   \n",
       "4                  Ambléon           6.0   \n",
       "\n",
       "                             6_insee_voisins  \\\n",
       "0        01412|01093|01028|01146|01351|01188   \n",
       "1        01056|01277|01384|01007|01363|01199   \n",
       "2  01384|01421|01041|01345|01089|01007|01149   \n",
       "3  01382|01207|01261|01362|01318|01398|01446   \n",
       "4        01358|01110|01117|01216|01233|01190   \n",
       "\n",
       "                                      6_noms_voisins  \\\n",
       "0  Sulignat|Châtillon-sur-Chalaronne|Baneins|Domp...   \n",
       "1  Boyeux-Saint-Jérôme|Nivollet-Montgriffon|Saint...   \n",
       "2  Saint-Rambert-en-Bugey|Torcieu|Bettant|Saint-D...   \n",
       "3  Sainte-Olive|Lapeyrouse|Monthieux|Saint-Jean-d...   \n",
       "4  Saint-Germain-les-Paroisses|Colomieu|Conzieu|L...   \n",
       "\n",
       "                 6_cap_voisins 6_type 4_Code INSEE 4_Code Postal  \\\n",
       "0       48|144|203|234|260|322    NaN        01001         01400   \n",
       "1       43|115|172|265|302|344    NaN        01002         01640   \n",
       "2  102|151|190|250|284|347|360    NaN        01004         01500   \n",
       "3   43|102|145|193|230|272|310    NaN        01005         01330   \n",
       "4       37|120|164|263|308|341    NaN        01006         01300   \n",
       "\n",
       "                 4_Commune 4_Département     4_Région     4_Statut  \\\n",
       "0  L'ABERGEMENT-CLEMENCIAT           AIN  RHONE-ALPES  RHONE-ALPES   \n",
       "1    L'ABERGEMENT-DE-VAREY           AIN  RHONE-ALPES  RHONE-ALPES   \n",
       "2        AMBERIEU-EN-BUGEY           AIN  RHONE-ALPES  RHONE-ALPES   \n",
       "3      AMBERIEUX-EN-DOMBES           AIN  RHONE-ALPES  RHONE-ALPES   \n",
       "4                  AMBLEON           AIN  RHONE-ALPES  RHONE-ALPES   \n",
       "\n",
       "   4_Altitude Moyenne  4_Superficie  4_Population  \\\n",
       "0               242.0        1565.0           0.8   \n",
       "1               483.0         912.0           0.2   \n",
       "2               379.0        2448.0          13.4   \n",
       "3               290.0        1605.0           1.6   \n",
       "4               589.0         602.0           0.1   \n",
       "\n",
       "                          4_geo_point_2d  \\\n",
       "0  46.153425521369456, 4.926113542231843   \n",
       "1  46.009187877601306, 5.428016963625987   \n",
       "2   45.96084751144621, 5.372925777699918   \n",
       "3   45.99617998724963, 4.912272507964576   \n",
       "4  45.749498904386975, 5.594320173657713   \n",
       "\n",
       "                                         4_geo_shape  4_ID Geofla  \\\n",
       "0  {\"coordinates\": [[[4.92627342692396, 46.120051...       7342.0   \n",
       "1  {\"coordinates\": [[[5.430089291292173, 45.98275...      32385.0   \n",
       "2  {\"coordinates\": [[[5.386190824025674, 45.93092...        463.0   \n",
       "3  {\"coordinates\": [[[4.895580369408855, 45.97991...        344.0   \n",
       "4  {\"coordinates\": [[[5.6148546250532725, 45.7346...      16853.0   \n",
       "\n",
       "   4_Code Commune  4_Code Canton  4_Code Arrondissement 4_Code Département  \\\n",
       "0             1.0           10.0                    2.0                 01   \n",
       "1             2.0            1.0                    1.0                 01   \n",
       "2             4.0            1.0                    1.0                 01   \n",
       "3             5.0           30.0                    2.0                 01   \n",
       "4             6.0            4.0                    1.0                 01   \n",
       "\n",
       "   4_Code Région      4_lat     4_lon  4_Densité_hab_par_km2  \\\n",
       "0           82.0  46.153426  4.926114              51.118211   \n",
       "1           82.0  46.009188  5.428017              21.929825   \n",
       "2           82.0  45.960848  5.372926             547.385621   \n",
       "3           82.0  45.996180  4.912273              99.688474   \n",
       "4           82.0  45.749499  5.594320              16.611296   \n",
       "\n",
       "   A_Prix_estimé_mean  B_Prix_estimé_median  C_Prix_estime_mean  \n",
       "0         2167.500000                2080.5              1636.0  \n",
       "1         1503.894444                1458.5              1636.0  \n",
       "2         1725.714286                1678.0              1636.0  \n",
       "3         2647.857143                2701.0              1636.0  \n",
       "4         1460.333333                1287.0              1636.0  "
      ]
     },
     "execution_count": 88,
     "metadata": {},
     "output_type": "execute_result"
    }
   ],
   "source": [
    "pd.set_option('display.max_columns', None)\n",
    "df_m2.head()\n",
    "# pd.reset_option('max_columns')"
   ]
  },
  {
   "cell_type": "code",
   "execution_count": 115,
   "id": "39bb6264-ef2a-4149-8e5a-931bd2c9f144",
   "metadata": {
    "tags": []
   },
   "outputs": [],
   "source": [
    "df_verif_na = df_m2.drop(['6_type', 'A_Prix_estimé_mean', 'B_Prix_estimé_median', 'C_Prix_estime_mean', '5_CODE_EPCI', \n",
    "                         '6_insee', '6_nom', '6_nb_voisins', '6_insee_voisins', '6_noms_voisins', '6_cap_voisins'], axis=1)"
   ]
  },
  {
   "cell_type": "code",
   "execution_count": 155,
   "id": "2f76dda6-9c91-407e-8209-ff4350519857",
   "metadata": {
    "tags": []
   },
   "outputs": [
    {
     "data": {
      "text/html": [
       "<div>\n",
       "<style scoped>\n",
       "    .dataframe tbody tr th:only-of-type {\n",
       "        vertical-align: middle;\n",
       "    }\n",
       "\n",
       "    .dataframe tbody tr th {\n",
       "        vertical-align: top;\n",
       "    }\n",
       "\n",
       "    .dataframe thead th {\n",
       "        text-align: right;\n",
       "    }\n",
       "</style>\n",
       "<table border=\"1\" class=\"dataframe\">\n",
       "  <thead>\n",
       "    <tr style=\"text-align: right;\">\n",
       "      <th></th>\n",
       "      <th>3_Code région</th>\n",
       "      <th>3_Nom de la région</th>\n",
       "      <th>3_Code département</th>\n",
       "      <th>3_Code commune</th>\n",
       "      <th>3_Nom de la commune</th>\n",
       "      <th>3_Population municipale</th>\n",
       "      <th>3_Population comptée à part</th>\n",
       "      <th>3_Population totale</th>\n",
       "      <th>3_Année recensement</th>\n",
       "      <th>3_Année utilisation</th>\n",
       "      <th>3_Code INSEE (commune ou arrondissement)</th>\n",
       "      <th>3_Superficie de la commune</th>\n",
       "      <th>3_Statut</th>\n",
       "      <th>3_Code EPCI</th>\n",
       "      <th>3_EPCI</th>\n",
       "      <th>3_Densité_hab_par_km2</th>\n",
       "      <th>5_ID</th>\n",
       "      <th>5_INSEE_COM</th>\n",
       "      <th>5_INSEE_DEP</th>\n",
       "      <th>5_INSEE_REG</th>\n",
       "      <th>5_NOM_COM_M</th>\n",
       "      <th>5_POPULATION</th>\n",
       "      <th>5_Nb_Ventes</th>\n",
       "      <th>5_PrixMoyen_M2</th>\n",
       "      <th>5_nb_digits_code_INSEE</th>\n",
       "      <th>5_code_commune_n</th>\n",
       "      <th>4_Code INSEE</th>\n",
       "      <th>4_Code Postal</th>\n",
       "      <th>4_Commune</th>\n",
       "      <th>4_Département</th>\n",
       "      <th>4_Région</th>\n",
       "      <th>4_Statut</th>\n",
       "      <th>4_Altitude Moyenne</th>\n",
       "      <th>4_Superficie</th>\n",
       "      <th>4_Population</th>\n",
       "      <th>4_geo_point_2d</th>\n",
       "      <th>4_geo_shape</th>\n",
       "      <th>4_ID Geofla</th>\n",
       "      <th>4_Code Commune</th>\n",
       "      <th>4_Code Canton</th>\n",
       "      <th>4_Code Arrondissement</th>\n",
       "      <th>4_Code Département</th>\n",
       "      <th>4_Code Région</th>\n",
       "      <th>4_lat</th>\n",
       "      <th>4_lon</th>\n",
       "      <th>4_Densité_hab_par_km2</th>\n",
       "    </tr>\n",
       "  </thead>\n",
       "  <tbody>\n",
       "    <tr>\n",
       "      <th>21385</th>\n",
       "      <td>44.0</td>\n",
       "      <td>Grand Est</td>\n",
       "      <td>55</td>\n",
       "      <td>138.0</td>\n",
       "      <td>Culey</td>\n",
       "      <td>146.0</td>\n",
       "      <td>3.0</td>\n",
       "      <td>149.0</td>\n",
       "      <td>2016</td>\n",
       "      <td>2019</td>\n",
       "      <td>55138</td>\n",
       "      <td>11.02</td>\n",
       "      <td>Commune</td>\n",
       "      <td>200033025</td>\n",
       "      <td>CA de Bar-Le-Duc - Sud Meuse</td>\n",
       "      <td>13.248639</td>\n",
       "      <td>COMMUNE_0000000333083363</td>\n",
       "      <td>55138</td>\n",
       "      <td>55</td>\n",
       "      <td>44.0</td>\n",
       "      <td>CULEY</td>\n",
       "      <td>146.0</td>\n",
       "      <td>1.0</td>\n",
       "      <td>972.0</td>\n",
       "      <td>5.0</td>\n",
       "      <td>55138</td>\n",
       "      <td>NaN</td>\n",
       "      <td>NaN</td>\n",
       "      <td>NaN</td>\n",
       "      <td>NaN</td>\n",
       "      <td>NaN</td>\n",
       "      <td>NaN</td>\n",
       "      <td>NaN</td>\n",
       "      <td>NaN</td>\n",
       "      <td>NaN</td>\n",
       "      <td>NaN</td>\n",
       "      <td>NaN</td>\n",
       "      <td>NaN</td>\n",
       "      <td>NaN</td>\n",
       "      <td>NaN</td>\n",
       "      <td>NaN</td>\n",
       "      <td>NaN</td>\n",
       "      <td>NaN</td>\n",
       "      <td>NaN</td>\n",
       "      <td>NaN</td>\n",
       "      <td>NaN</td>\n",
       "    </tr>\n",
       "    <tr>\n",
       "      <th>30942</th>\n",
       "      <td>28.0</td>\n",
       "      <td>Normandie</td>\n",
       "      <td>76</td>\n",
       "      <td>95.0</td>\n",
       "      <td>Bihorel</td>\n",
       "      <td>8301.0</td>\n",
       "      <td>186.0</td>\n",
       "      <td>8487.0</td>\n",
       "      <td>2016</td>\n",
       "      <td>2019</td>\n",
       "      <td>76095</td>\n",
       "      <td>2.54</td>\n",
       "      <td>Commune</td>\n",
       "      <td>200023414</td>\n",
       "      <td>Métropole Rouen Normandie</td>\n",
       "      <td>3268.110236</td>\n",
       "      <td>COMMUNE_0000000331921304</td>\n",
       "      <td>76095</td>\n",
       "      <td>76</td>\n",
       "      <td>28.0</td>\n",
       "      <td>BIHOREL</td>\n",
       "      <td>8301.0</td>\n",
       "      <td>77.0</td>\n",
       "      <td>2076.0</td>\n",
       "      <td>5.0</td>\n",
       "      <td>76095</td>\n",
       "      <td>NaN</td>\n",
       "      <td>NaN</td>\n",
       "      <td>NaN</td>\n",
       "      <td>NaN</td>\n",
       "      <td>NaN</td>\n",
       "      <td>NaN</td>\n",
       "      <td>NaN</td>\n",
       "      <td>NaN</td>\n",
       "      <td>NaN</td>\n",
       "      <td>NaN</td>\n",
       "      <td>NaN</td>\n",
       "      <td>NaN</td>\n",
       "      <td>NaN</td>\n",
       "      <td>NaN</td>\n",
       "      <td>NaN</td>\n",
       "      <td>NaN</td>\n",
       "      <td>NaN</td>\n",
       "      <td>NaN</td>\n",
       "      <td>NaN</td>\n",
       "      <td>NaN</td>\n",
       "    </tr>\n",
       "    <tr>\n",
       "      <th>31441</th>\n",
       "      <td>28.0</td>\n",
       "      <td>Normandie</td>\n",
       "      <td>76</td>\n",
       "      <td>601.0</td>\n",
       "      <td>Saint-Lucien</td>\n",
       "      <td>252.0</td>\n",
       "      <td>2.0</td>\n",
       "      <td>254.0</td>\n",
       "      <td>2016</td>\n",
       "      <td>2019</td>\n",
       "      <td>76601</td>\n",
       "      <td>8.71</td>\n",
       "      <td>Commune</td>\n",
       "      <td>NaN</td>\n",
       "      <td>NaN</td>\n",
       "      <td>29.161883</td>\n",
       "      <td>COMMUNE_0000002000704162</td>\n",
       "      <td>76601</td>\n",
       "      <td>76</td>\n",
       "      <td>28.0</td>\n",
       "      <td>SAINT LUCIEN</td>\n",
       "      <td>252.0</td>\n",
       "      <td>6.0</td>\n",
       "      <td>1548.0</td>\n",
       "      <td>5.0</td>\n",
       "      <td>76601</td>\n",
       "      <td>NaN</td>\n",
       "      <td>NaN</td>\n",
       "      <td>NaN</td>\n",
       "      <td>NaN</td>\n",
       "      <td>NaN</td>\n",
       "      <td>NaN</td>\n",
       "      <td>NaN</td>\n",
       "      <td>NaN</td>\n",
       "      <td>NaN</td>\n",
       "      <td>NaN</td>\n",
       "      <td>NaN</td>\n",
       "      <td>NaN</td>\n",
       "      <td>NaN</td>\n",
       "      <td>NaN</td>\n",
       "      <td>NaN</td>\n",
       "      <td>NaN</td>\n",
       "      <td>NaN</td>\n",
       "      <td>NaN</td>\n",
       "      <td>NaN</td>\n",
       "      <td>NaN</td>\n",
       "    </tr>\n",
       "  </tbody>\n",
       "</table>\n",
       "</div>"
      ],
      "text/plain": [
       "       3_Code région 3_Nom de la région 3_Code département  3_Code commune  \\\n",
       "21385           44.0          Grand Est                 55           138.0   \n",
       "30942           28.0          Normandie                 76            95.0   \n",
       "31441           28.0          Normandie                 76           601.0   \n",
       "\n",
       "      3_Nom de la commune  3_Population municipale  \\\n",
       "21385               Culey                    146.0   \n",
       "30942             Bihorel                   8301.0   \n",
       "31441        Saint-Lucien                    252.0   \n",
       "\n",
       "       3_Population comptée à part  3_Population totale  3_Année recensement  \\\n",
       "21385                          3.0                149.0                 2016   \n",
       "30942                        186.0               8487.0                 2016   \n",
       "31441                          2.0                254.0                 2016   \n",
       "\n",
       "       3_Année utilisation 3_Code INSEE (commune ou arrondissement)  \\\n",
       "21385                 2019                                    55138   \n",
       "30942                 2019                                    76095   \n",
       "31441                 2019                                    76601   \n",
       "\n",
       "       3_Superficie de la commune 3_Statut 3_Code EPCI  \\\n",
       "21385                       11.02  Commune   200033025   \n",
       "30942                        2.54  Commune   200023414   \n",
       "31441                        8.71  Commune         NaN   \n",
       "\n",
       "                             3_EPCI  3_Densité_hab_par_km2  \\\n",
       "21385  CA de Bar-Le-Duc - Sud Meuse              13.248639   \n",
       "30942     Métropole Rouen Normandie            3268.110236   \n",
       "31441                           NaN              29.161883   \n",
       "\n",
       "                           5_ID 5_INSEE_COM 5_INSEE_DEP  5_INSEE_REG  \\\n",
       "21385  COMMUNE_0000000333083363       55138          55         44.0   \n",
       "30942  COMMUNE_0000000331921304       76095          76         28.0   \n",
       "31441  COMMUNE_0000002000704162       76601          76         28.0   \n",
       "\n",
       "        5_NOM_COM_M  5_POPULATION  5_Nb_Ventes  5_PrixMoyen_M2  \\\n",
       "21385         CULEY         146.0          1.0           972.0   \n",
       "30942       BIHOREL        8301.0         77.0          2076.0   \n",
       "31441  SAINT LUCIEN         252.0          6.0          1548.0   \n",
       "\n",
       "       5_nb_digits_code_INSEE 5_code_commune_n 4_Code INSEE 4_Code Postal  \\\n",
       "21385                     5.0            55138          NaN           NaN   \n",
       "30942                     5.0            76095          NaN           NaN   \n",
       "31441                     5.0            76601          NaN           NaN   \n",
       "\n",
       "      4_Commune 4_Département 4_Région 4_Statut  4_Altitude Moyenne  \\\n",
       "21385       NaN           NaN      NaN      NaN                 NaN   \n",
       "30942       NaN           NaN      NaN      NaN                 NaN   \n",
       "31441       NaN           NaN      NaN      NaN                 NaN   \n",
       "\n",
       "       4_Superficie  4_Population 4_geo_point_2d 4_geo_shape  4_ID Geofla  \\\n",
       "21385           NaN           NaN            NaN         NaN          NaN   \n",
       "30942           NaN           NaN            NaN         NaN          NaN   \n",
       "31441           NaN           NaN            NaN         NaN          NaN   \n",
       "\n",
       "       4_Code Commune  4_Code Canton  4_Code Arrondissement  \\\n",
       "21385             NaN            NaN                    NaN   \n",
       "30942             NaN            NaN                    NaN   \n",
       "31441             NaN            NaN                    NaN   \n",
       "\n",
       "      4_Code Département  4_Code Région  4_lat  4_lon  4_Densité_hab_par_km2  \n",
       "21385                NaN            NaN    NaN    NaN                    NaN  \n",
       "30942                NaN            NaN    NaN    NaN                    NaN  \n",
       "31441                NaN            NaN    NaN    NaN                    NaN  "
      ]
     },
     "execution_count": 155,
     "metadata": {},
     "output_type": "execute_result"
    }
   ],
   "source": [
    "df_verif_na[df_verif_na.isna().any(axis=1)]"
   ]
  },
  {
   "cell_type": "code",
   "execution_count": 82,
   "id": "4a67e653-9aae-4d52-a53a-3655425d87c7",
   "metadata": {
    "tags": []
   },
   "outputs": [
    {
     "data": {
      "text/plain": [
       "Index(['3_Code région', '3_Nom de la région', '3_Code département',\n",
       "       '3_Code commune', '3_Nom de la commune', '3_Population municipale',\n",
       "       '3_Population comptée à part', '3_Population totale',\n",
       "       '3_Année recensement', '3_Année utilisation',\n",
       "       '3_Code INSEE (commune ou arrondissement)',\n",
       "       '3_Superficie de la commune', '3_Statut', '3_Code EPCI', '3_EPCI',\n",
       "       '3_Densité_hab_par_km2', '5_ID', '5_INSEE_COM', '5_INSEE_DEP',\n",
       "       '5_INSEE_REG', '5_CODE_EPCI', '5_NOM_COM_M', '5_POPULATION',\n",
       "       '5_Nb_Ventes', '5_PrixMoyen_M2', '5_nb_digits_code_INSEE',\n",
       "       '5_code_commune_n', '6_insee', '6_nom', '6_nb_voisins',\n",
       "       '6_insee_voisins', '6_noms_voisins', '6_cap_voisins', '6_type',\n",
       "       '4_Code INSEE', '4_Code Postal', '4_Commune', '4_Département',\n",
       "       '4_Région', '4_Statut', '4_Altitude Moyenne', '4_Superficie',\n",
       "       '4_Population', '4_geo_point_2d', '4_geo_shape', '4_ID Geofla',\n",
       "       '4_Code Commune', '4_Code Canton', '4_Code Arrondissement',\n",
       "       '4_Code Département', '4_Code Région', '4_lat', '4_lon',\n",
       "       '4_Densité_hab_par_km2', 'A_Prix_estimé_mean', 'B_Prix_estimé_median',\n",
       "       'C_Prix_estime_mean'],\n",
       "      dtype='object')"
      ]
     },
     "execution_count": 82,
     "metadata": {},
     "output_type": "execute_result"
    }
   ],
   "source": [
    "df_m2.columns"
   ]
  },
  {
   "cell_type": "code",
   "execution_count": 109,
   "id": "95ed99af-11cf-47e1-a090-500117a07818",
   "metadata": {
    "tags": []
   },
   "outputs": [
    {
     "data": {
      "text/plain": [
       "0        01\n",
       "1        01\n",
       "2        01\n",
       "3        01\n",
       "4        01\n",
       "         ..\n",
       "36616    95\n",
       "36617    95\n",
       "36618    95\n",
       "36619    95\n",
       "36620    95\n",
       "Name: 3_Code département, Length: 26822, dtype: object"
      ]
     },
     "execution_count": 109,
     "metadata": {},
     "output_type": "execute_result"
    }
   ],
   "source": [
    "X_rf.loc[:,'3_Code département'].astype(object)"
   ]
  },
  {
   "cell_type": "code",
   "execution_count": 113,
   "id": "0725de62-5446-411e-b4f2-551ffd6d440f",
   "metadata": {
    "tags": []
   },
   "outputs": [
    {
     "data": {
      "text/plain": [
       "24139.8"
      ]
     },
     "execution_count": 113,
     "metadata": {},
     "output_type": "execute_result"
    }
   ],
   "source": [
    "26822*0.9\n"
   ]
  },
  {
   "cell_type": "code",
   "execution_count": 136,
   "id": "0ed436ac-b8dc-49aa-9d0f-b82e70b5b3d5",
   "metadata": {
    "tags": []
   },
   "outputs": [
    {
     "name": "stdout",
     "output_type": "stream",
     "text": [
      "['3_Code région', '3_Code département', '3_Statut']\n",
      "['3_Population municipale', '3_Population comptée à part', '3_Population totale', '3_Densité_hab_par_km2', '3_Superficie de la commune']\n"
     ]
    }
   ],
   "source": [
    "from sklearn.ensemble import RandomForestRegressor \n",
    "from sklearn.pipeline import make_pipeline\n",
    "from sklearn.compose import make_column_selector\n",
    "from sklearn.compose import make_column_transformer\n",
    "from sklearn.impute import SimpleImputer\n",
    "from sklearn.pipeline import make_pipeline\n",
    "from sklearn.preprocessing import OrdinalEncoder\n",
    "        \n",
    "# X=df_m2[['3_Code région', '3_Code département', '3_Population municipale', '3_Population comptée à part', \n",
    "#              '3_Population totale', '3_Densité_hab_par_km2', '3_Superficie de la commune', '3_Statut', \n",
    "#              '4_Superficie','4_Altitude Moyenne','4_lat','4_lon','5_PrixMoyen_M2']]\n",
    "X_rf = df_m2[['3_Code région', '3_Code département', '3_Population municipale', '3_Population comptée à part', \n",
    "             '3_Population totale', '3_Densité_hab_par_km2', '3_Superficie de la commune', '3_Statut']]\n",
    "y_rf = df_m2[['5_PrixMoyen_M2']]\n",
    "\n",
    "X_rf_train = X_rf.loc[:24000,:]\n",
    "y_rf_train = y_rf.loc[:24000]\n",
    "X_rf_test = X_rf.loc[24001:,:]\n",
    "y_rf_test = y_rf.loc[24001:]\n",
    "\n",
    "# X_rf_train = X_rf.loc[:10000,:]\n",
    "# y_rf_train = y_rf.loc[:10000]\n",
    "# X_rf_test = X_rf.loc[24001:,:]\n",
    "# y_rf_test = y_rf.loc[24001:]\n",
    "\n",
    "cat = ['3_Code région', '3_Code département', '3_Statut']\n",
    "for c in cat:\n",
    "     X_rf.loc[:,c] = X_rf.loc[:,c].astype(object)\n",
    "\n",
    "cat_selector = make_column_selector(dtype_include=object)\n",
    "num_selector = make_column_selector(dtype_include=np.number)\n",
    "print(cat_selector(X_rf))\n",
    "print(num_selector(X_rf))"
   ]
  },
  {
   "cell_type": "code",
   "execution_count": 137,
   "id": "d55a7b07-0123-41c8-867d-0c4faff1e9da",
   "metadata": {
    "tags": []
   },
   "outputs": [
    {
     "data": {
      "text/html": [
       "<style>#sk-container-id-7 {color: black;}#sk-container-id-7 pre{padding: 0;}#sk-container-id-7 div.sk-toggleable {background-color: white;}#sk-container-id-7 label.sk-toggleable__label {cursor: pointer;display: block;width: 100%;margin-bottom: 0;padding: 0.3em;box-sizing: border-box;text-align: center;}#sk-container-id-7 label.sk-toggleable__label-arrow:before {content: \"▸\";float: left;margin-right: 0.25em;color: #696969;}#sk-container-id-7 label.sk-toggleable__label-arrow:hover:before {color: black;}#sk-container-id-7 div.sk-estimator:hover label.sk-toggleable__label-arrow:before {color: black;}#sk-container-id-7 div.sk-toggleable__content {max-height: 0;max-width: 0;overflow: hidden;text-align: left;background-color: #f0f8ff;}#sk-container-id-7 div.sk-toggleable__content pre {margin: 0.2em;color: black;border-radius: 0.25em;background-color: #f0f8ff;}#sk-container-id-7 input.sk-toggleable__control:checked~div.sk-toggleable__content {max-height: 200px;max-width: 100%;overflow: auto;}#sk-container-id-7 input.sk-toggleable__control:checked~label.sk-toggleable__label-arrow:before {content: \"▾\";}#sk-container-id-7 div.sk-estimator input.sk-toggleable__control:checked~label.sk-toggleable__label {background-color: #d4ebff;}#sk-container-id-7 div.sk-label input.sk-toggleable__control:checked~label.sk-toggleable__label {background-color: #d4ebff;}#sk-container-id-7 input.sk-hidden--visually {border: 0;clip: rect(1px 1px 1px 1px);clip: rect(1px, 1px, 1px, 1px);height: 1px;margin: -1px;overflow: hidden;padding: 0;position: absolute;width: 1px;}#sk-container-id-7 div.sk-estimator {font-family: monospace;background-color: #f0f8ff;border: 1px dotted black;border-radius: 0.25em;box-sizing: border-box;margin-bottom: 0.5em;}#sk-container-id-7 div.sk-estimator:hover {background-color: #d4ebff;}#sk-container-id-7 div.sk-parallel-item::after {content: \"\";width: 100%;border-bottom: 1px solid gray;flex-grow: 1;}#sk-container-id-7 div.sk-label:hover label.sk-toggleable__label {background-color: #d4ebff;}#sk-container-id-7 div.sk-serial::before {content: \"\";position: absolute;border-left: 1px solid gray;box-sizing: border-box;top: 0;bottom: 0;left: 50%;z-index: 0;}#sk-container-id-7 div.sk-serial {display: flex;flex-direction: column;align-items: center;background-color: white;padding-right: 0.2em;padding-left: 0.2em;position: relative;}#sk-container-id-7 div.sk-item {position: relative;z-index: 1;}#sk-container-id-7 div.sk-parallel {display: flex;align-items: stretch;justify-content: center;background-color: white;position: relative;}#sk-container-id-7 div.sk-item::before, #sk-container-id-7 div.sk-parallel-item::before {content: \"\";position: absolute;border-left: 1px solid gray;box-sizing: border-box;top: 0;bottom: 0;left: 50%;z-index: -1;}#sk-container-id-7 div.sk-parallel-item {display: flex;flex-direction: column;z-index: 1;position: relative;background-color: white;}#sk-container-id-7 div.sk-parallel-item:first-child::after {align-self: flex-end;width: 50%;}#sk-container-id-7 div.sk-parallel-item:last-child::after {align-self: flex-start;width: 50%;}#sk-container-id-7 div.sk-parallel-item:only-child::after {width: 0;}#sk-container-id-7 div.sk-dashed-wrapped {border: 1px dashed gray;margin: 0 0.4em 0.5em 0.4em;box-sizing: border-box;padding-bottom: 0.4em;background-color: white;}#sk-container-id-7 div.sk-label label {font-family: monospace;font-weight: bold;display: inline-block;line-height: 1.2em;}#sk-container-id-7 div.sk-label-container {text-align: center;}#sk-container-id-7 div.sk-container {/* jupyter's `normalize.less` sets `[hidden] { display: none; }` but bootstrap.min.css set `[hidden] { display: none !important; }` so we also need the `!important` here to be able to override the default hidden behavior on the sphinx rendered scikit-learn.org. See: https://github.com/scikit-learn/scikit-learn/issues/21755 */display: inline-block !important;position: relative;}#sk-container-id-7 div.sk-text-repr-fallback {display: none;}</style><div id=\"sk-container-id-7\" class=\"sk-top-container\"><div class=\"sk-text-repr-fallback\"><pre>ColumnTransformer(transformers=[(&#x27;simpleimputer&#x27;,\n",
       "                                 SimpleImputer(add_indicator=True),\n",
       "                                 &lt;sklearn.compose._column_transformer.make_column_selector object at 0x00000180A96AF590&gt;),\n",
       "                                (&#x27;ordinalencoder&#x27;,\n",
       "                                 OrdinalEncoder(encoded_missing_value=-2,\n",
       "                                                handle_unknown=&#x27;use_encoded_value&#x27;,\n",
       "                                                unknown_value=-1),\n",
       "                                 &lt;sklearn.compose._column_transformer.make_column_selector object at 0x00000180AB6813D0&gt;)])</pre><b>In a Jupyter environment, please rerun this cell to show the HTML representation or trust the notebook. <br />On GitHub, the HTML representation is unable to render, please try loading this page with nbviewer.org.</b></div><div class=\"sk-container\" hidden><div class=\"sk-item sk-dashed-wrapped\"><div class=\"sk-label-container\"><div class=\"sk-label sk-toggleable\"><input class=\"sk-toggleable__control sk-hidden--visually\" id=\"sk-estimator-id-35\" type=\"checkbox\" ><label for=\"sk-estimator-id-35\" class=\"sk-toggleable__label sk-toggleable__label-arrow\">ColumnTransformer</label><div class=\"sk-toggleable__content\"><pre>ColumnTransformer(transformers=[(&#x27;simpleimputer&#x27;,\n",
       "                                 SimpleImputer(add_indicator=True),\n",
       "                                 &lt;sklearn.compose._column_transformer.make_column_selector object at 0x00000180A96AF590&gt;),\n",
       "                                (&#x27;ordinalencoder&#x27;,\n",
       "                                 OrdinalEncoder(encoded_missing_value=-2,\n",
       "                                                handle_unknown=&#x27;use_encoded_value&#x27;,\n",
       "                                                unknown_value=-1),\n",
       "                                 &lt;sklearn.compose._column_transformer.make_column_selector object at 0x00000180AB6813D0&gt;)])</pre></div></div></div><div class=\"sk-parallel\"><div class=\"sk-parallel-item\"><div class=\"sk-item\"><div class=\"sk-label-container\"><div class=\"sk-label sk-toggleable\"><input class=\"sk-toggleable__control sk-hidden--visually\" id=\"sk-estimator-id-36\" type=\"checkbox\" ><label for=\"sk-estimator-id-36\" class=\"sk-toggleable__label sk-toggleable__label-arrow\">simpleimputer</label><div class=\"sk-toggleable__content\"><pre>&lt;sklearn.compose._column_transformer.make_column_selector object at 0x00000180A96AF590&gt;</pre></div></div></div><div class=\"sk-serial\"><div class=\"sk-item\"><div class=\"sk-estimator sk-toggleable\"><input class=\"sk-toggleable__control sk-hidden--visually\" id=\"sk-estimator-id-37\" type=\"checkbox\" ><label for=\"sk-estimator-id-37\" class=\"sk-toggleable__label sk-toggleable__label-arrow\">SimpleImputer</label><div class=\"sk-toggleable__content\"><pre>SimpleImputer(add_indicator=True)</pre></div></div></div></div></div></div><div class=\"sk-parallel-item\"><div class=\"sk-item\"><div class=\"sk-label-container\"><div class=\"sk-label sk-toggleable\"><input class=\"sk-toggleable__control sk-hidden--visually\" id=\"sk-estimator-id-38\" type=\"checkbox\" ><label for=\"sk-estimator-id-38\" class=\"sk-toggleable__label sk-toggleable__label-arrow\">ordinalencoder</label><div class=\"sk-toggleable__content\"><pre>&lt;sklearn.compose._column_transformer.make_column_selector object at 0x00000180AB6813D0&gt;</pre></div></div></div><div class=\"sk-serial\"><div class=\"sk-item\"><div class=\"sk-estimator sk-toggleable\"><input class=\"sk-toggleable__control sk-hidden--visually\" id=\"sk-estimator-id-39\" type=\"checkbox\" ><label for=\"sk-estimator-id-39\" class=\"sk-toggleable__label sk-toggleable__label-arrow\">OrdinalEncoder</label><div class=\"sk-toggleable__content\"><pre>OrdinalEncoder(encoded_missing_value=-2, handle_unknown=&#x27;use_encoded_value&#x27;,\n",
       "               unknown_value=-1)</pre></div></div></div></div></div></div></div></div></div></div>"
      ],
      "text/plain": [
       "ColumnTransformer(transformers=[('simpleimputer',\n",
       "                                 SimpleImputer(add_indicator=True),\n",
       "                                 <sklearn.compose._column_transformer.make_column_selector object at 0x00000180A96AF590>),\n",
       "                                ('ordinalencoder',\n",
       "                                 OrdinalEncoder(encoded_missing_value=-2,\n",
       "                                                handle_unknown='use_encoded_value',\n",
       "                                                unknown_value=-1),\n",
       "                                 <sklearn.compose._column_transformer.make_column_selector object at 0x00000180AB6813D0>)])"
      ]
     },
     "execution_count": 137,
     "metadata": {},
     "output_type": "execute_result"
    }
   ],
   "source": [
    "cat_tree_processor = OrdinalEncoder(\n",
    "    handle_unknown=\"use_encoded_value\",\n",
    "    unknown_value=-1,\n",
    "    encoded_missing_value=-2,\n",
    ")\n",
    "num_tree_processor = SimpleImputer(strategy=\"mean\", add_indicator=True)\n",
    "\n",
    "tree_preprocessor = make_column_transformer(\n",
    "    (num_tree_processor, num_selector), (cat_tree_processor, cat_selector)\n",
    ")\n",
    "tree_preprocessor"
   ]
  },
  {
   "cell_type": "code",
   "execution_count": 138,
   "id": "b8853238-1ffe-41ba-a0c3-31bcb98d069b",
   "metadata": {
    "tags": []
   },
   "outputs": [
    {
     "data": {
      "text/html": [
       "<style>#sk-container-id-8 {color: black;}#sk-container-id-8 pre{padding: 0;}#sk-container-id-8 div.sk-toggleable {background-color: white;}#sk-container-id-8 label.sk-toggleable__label {cursor: pointer;display: block;width: 100%;margin-bottom: 0;padding: 0.3em;box-sizing: border-box;text-align: center;}#sk-container-id-8 label.sk-toggleable__label-arrow:before {content: \"▸\";float: left;margin-right: 0.25em;color: #696969;}#sk-container-id-8 label.sk-toggleable__label-arrow:hover:before {color: black;}#sk-container-id-8 div.sk-estimator:hover label.sk-toggleable__label-arrow:before {color: black;}#sk-container-id-8 div.sk-toggleable__content {max-height: 0;max-width: 0;overflow: hidden;text-align: left;background-color: #f0f8ff;}#sk-container-id-8 div.sk-toggleable__content pre {margin: 0.2em;color: black;border-radius: 0.25em;background-color: #f0f8ff;}#sk-container-id-8 input.sk-toggleable__control:checked~div.sk-toggleable__content {max-height: 200px;max-width: 100%;overflow: auto;}#sk-container-id-8 input.sk-toggleable__control:checked~label.sk-toggleable__label-arrow:before {content: \"▾\";}#sk-container-id-8 div.sk-estimator input.sk-toggleable__control:checked~label.sk-toggleable__label {background-color: #d4ebff;}#sk-container-id-8 div.sk-label input.sk-toggleable__control:checked~label.sk-toggleable__label {background-color: #d4ebff;}#sk-container-id-8 input.sk-hidden--visually {border: 0;clip: rect(1px 1px 1px 1px);clip: rect(1px, 1px, 1px, 1px);height: 1px;margin: -1px;overflow: hidden;padding: 0;position: absolute;width: 1px;}#sk-container-id-8 div.sk-estimator {font-family: monospace;background-color: #f0f8ff;border: 1px dotted black;border-radius: 0.25em;box-sizing: border-box;margin-bottom: 0.5em;}#sk-container-id-8 div.sk-estimator:hover {background-color: #d4ebff;}#sk-container-id-8 div.sk-parallel-item::after {content: \"\";width: 100%;border-bottom: 1px solid gray;flex-grow: 1;}#sk-container-id-8 div.sk-label:hover label.sk-toggleable__label {background-color: #d4ebff;}#sk-container-id-8 div.sk-serial::before {content: \"\";position: absolute;border-left: 1px solid gray;box-sizing: border-box;top: 0;bottom: 0;left: 50%;z-index: 0;}#sk-container-id-8 div.sk-serial {display: flex;flex-direction: column;align-items: center;background-color: white;padding-right: 0.2em;padding-left: 0.2em;position: relative;}#sk-container-id-8 div.sk-item {position: relative;z-index: 1;}#sk-container-id-8 div.sk-parallel {display: flex;align-items: stretch;justify-content: center;background-color: white;position: relative;}#sk-container-id-8 div.sk-item::before, #sk-container-id-8 div.sk-parallel-item::before {content: \"\";position: absolute;border-left: 1px solid gray;box-sizing: border-box;top: 0;bottom: 0;left: 50%;z-index: -1;}#sk-container-id-8 div.sk-parallel-item {display: flex;flex-direction: column;z-index: 1;position: relative;background-color: white;}#sk-container-id-8 div.sk-parallel-item:first-child::after {align-self: flex-end;width: 50%;}#sk-container-id-8 div.sk-parallel-item:last-child::after {align-self: flex-start;width: 50%;}#sk-container-id-8 div.sk-parallel-item:only-child::after {width: 0;}#sk-container-id-8 div.sk-dashed-wrapped {border: 1px dashed gray;margin: 0 0.4em 0.5em 0.4em;box-sizing: border-box;padding-bottom: 0.4em;background-color: white;}#sk-container-id-8 div.sk-label label {font-family: monospace;font-weight: bold;display: inline-block;line-height: 1.2em;}#sk-container-id-8 div.sk-label-container {text-align: center;}#sk-container-id-8 div.sk-container {/* jupyter's `normalize.less` sets `[hidden] { display: none; }` but bootstrap.min.css set `[hidden] { display: none !important; }` so we also need the `!important` here to be able to override the default hidden behavior on the sphinx rendered scikit-learn.org. See: https://github.com/scikit-learn/scikit-learn/issues/21755 */display: inline-block !important;position: relative;}#sk-container-id-8 div.sk-text-repr-fallback {display: none;}</style><div id=\"sk-container-id-8\" class=\"sk-top-container\"><div class=\"sk-text-repr-fallback\"><pre>Pipeline(steps=[(&#x27;columntransformer&#x27;,\n",
       "                 ColumnTransformer(transformers=[(&#x27;simpleimputer&#x27;,\n",
       "                                                  SimpleImputer(add_indicator=True),\n",
       "                                                  &lt;sklearn.compose._column_transformer.make_column_selector object at 0x00000180A96AF590&gt;),\n",
       "                                                 (&#x27;ordinalencoder&#x27;,\n",
       "                                                  OrdinalEncoder(encoded_missing_value=-2,\n",
       "                                                                 handle_unknown=&#x27;use_encoded_value&#x27;,\n",
       "                                                                 unknown_value=-1),\n",
       "                                                  &lt;sklearn.compose._column_transformer.make_column_selector object at 0x00000180AB6813D0&gt;)])),\n",
       "                (&#x27;randomforestregressor&#x27;,\n",
       "                 RandomForestRegressor(n_jobs=-1, random_state=0))])</pre><b>In a Jupyter environment, please rerun this cell to show the HTML representation or trust the notebook. <br />On GitHub, the HTML representation is unable to render, please try loading this page with nbviewer.org.</b></div><div class=\"sk-container\" hidden><div class=\"sk-item sk-dashed-wrapped\"><div class=\"sk-label-container\"><div class=\"sk-label sk-toggleable\"><input class=\"sk-toggleable__control sk-hidden--visually\" id=\"sk-estimator-id-40\" type=\"checkbox\" ><label for=\"sk-estimator-id-40\" class=\"sk-toggleable__label sk-toggleable__label-arrow\">Pipeline</label><div class=\"sk-toggleable__content\"><pre>Pipeline(steps=[(&#x27;columntransformer&#x27;,\n",
       "                 ColumnTransformer(transformers=[(&#x27;simpleimputer&#x27;,\n",
       "                                                  SimpleImputer(add_indicator=True),\n",
       "                                                  &lt;sklearn.compose._column_transformer.make_column_selector object at 0x00000180A96AF590&gt;),\n",
       "                                                 (&#x27;ordinalencoder&#x27;,\n",
       "                                                  OrdinalEncoder(encoded_missing_value=-2,\n",
       "                                                                 handle_unknown=&#x27;use_encoded_value&#x27;,\n",
       "                                                                 unknown_value=-1),\n",
       "                                                  &lt;sklearn.compose._column_transformer.make_column_selector object at 0x00000180AB6813D0&gt;)])),\n",
       "                (&#x27;randomforestregressor&#x27;,\n",
       "                 RandomForestRegressor(n_jobs=-1, random_state=0))])</pre></div></div></div><div class=\"sk-serial\"><div class=\"sk-item sk-dashed-wrapped\"><div class=\"sk-label-container\"><div class=\"sk-label sk-toggleable\"><input class=\"sk-toggleable__control sk-hidden--visually\" id=\"sk-estimator-id-41\" type=\"checkbox\" ><label for=\"sk-estimator-id-41\" class=\"sk-toggleable__label sk-toggleable__label-arrow\">columntransformer: ColumnTransformer</label><div class=\"sk-toggleable__content\"><pre>ColumnTransformer(transformers=[(&#x27;simpleimputer&#x27;,\n",
       "                                 SimpleImputer(add_indicator=True),\n",
       "                                 &lt;sklearn.compose._column_transformer.make_column_selector object at 0x00000180A96AF590&gt;),\n",
       "                                (&#x27;ordinalencoder&#x27;,\n",
       "                                 OrdinalEncoder(encoded_missing_value=-2,\n",
       "                                                handle_unknown=&#x27;use_encoded_value&#x27;,\n",
       "                                                unknown_value=-1),\n",
       "                                 &lt;sklearn.compose._column_transformer.make_column_selector object at 0x00000180AB6813D0&gt;)])</pre></div></div></div><div class=\"sk-parallel\"><div class=\"sk-parallel-item\"><div class=\"sk-item\"><div class=\"sk-label-container\"><div class=\"sk-label sk-toggleable\"><input class=\"sk-toggleable__control sk-hidden--visually\" id=\"sk-estimator-id-42\" type=\"checkbox\" ><label for=\"sk-estimator-id-42\" class=\"sk-toggleable__label sk-toggleable__label-arrow\">simpleimputer</label><div class=\"sk-toggleable__content\"><pre>&lt;sklearn.compose._column_transformer.make_column_selector object at 0x00000180A96AF590&gt;</pre></div></div></div><div class=\"sk-serial\"><div class=\"sk-item\"><div class=\"sk-estimator sk-toggleable\"><input class=\"sk-toggleable__control sk-hidden--visually\" id=\"sk-estimator-id-43\" type=\"checkbox\" ><label for=\"sk-estimator-id-43\" class=\"sk-toggleable__label sk-toggleable__label-arrow\">SimpleImputer</label><div class=\"sk-toggleable__content\"><pre>SimpleImputer(add_indicator=True)</pre></div></div></div></div></div></div><div class=\"sk-parallel-item\"><div class=\"sk-item\"><div class=\"sk-label-container\"><div class=\"sk-label sk-toggleable\"><input class=\"sk-toggleable__control sk-hidden--visually\" id=\"sk-estimator-id-44\" type=\"checkbox\" ><label for=\"sk-estimator-id-44\" class=\"sk-toggleable__label sk-toggleable__label-arrow\">ordinalencoder</label><div class=\"sk-toggleable__content\"><pre>&lt;sklearn.compose._column_transformer.make_column_selector object at 0x00000180AB6813D0&gt;</pre></div></div></div><div class=\"sk-serial\"><div class=\"sk-item\"><div class=\"sk-estimator sk-toggleable\"><input class=\"sk-toggleable__control sk-hidden--visually\" id=\"sk-estimator-id-45\" type=\"checkbox\" ><label for=\"sk-estimator-id-45\" class=\"sk-toggleable__label sk-toggleable__label-arrow\">OrdinalEncoder</label><div class=\"sk-toggleable__content\"><pre>OrdinalEncoder(encoded_missing_value=-2, handle_unknown=&#x27;use_encoded_value&#x27;,\n",
       "               unknown_value=-1)</pre></div></div></div></div></div></div></div></div><div class=\"sk-item\"><div class=\"sk-estimator sk-toggleable\"><input class=\"sk-toggleable__control sk-hidden--visually\" id=\"sk-estimator-id-46\" type=\"checkbox\" ><label for=\"sk-estimator-id-46\" class=\"sk-toggleable__label sk-toggleable__label-arrow\">RandomForestRegressor</label><div class=\"sk-toggleable__content\"><pre>RandomForestRegressor(n_jobs=-1, random_state=0)</pre></div></div></div></div></div></div></div>"
      ],
      "text/plain": [
       "Pipeline(steps=[('columntransformer',\n",
       "                 ColumnTransformer(transformers=[('simpleimputer',\n",
       "                                                  SimpleImputer(add_indicator=True),\n",
       "                                                  <sklearn.compose._column_transformer.make_column_selector object at 0x00000180A96AF590>),\n",
       "                                                 ('ordinalencoder',\n",
       "                                                  OrdinalEncoder(encoded_missing_value=-2,\n",
       "                                                                 handle_unknown='use_encoded_value',\n",
       "                                                                 unknown_value=-1),\n",
       "                                                  <sklearn.compose._column_transformer.make_column_selector object at 0x00000180AB6813D0>)])),\n",
       "                ('randomforestregressor',\n",
       "                 RandomForestRegressor(n_jobs=-1, random_state=0))])"
      ]
     },
     "execution_count": 138,
     "metadata": {},
     "output_type": "execute_result"
    }
   ],
   "source": [
    "rf_pipeline = make_pipeline(tree_preprocessor, RandomForestRegressor(random_state=0, n_jobs = -1))\n",
    "rf_pipeline"
   ]
  },
  {
   "cell_type": "code",
   "execution_count": 165,
   "id": "e98d677c-2f3b-49e6-a969-15fcdfaf4e9d",
   "metadata": {
    "tags": []
   },
   "outputs": [
    {
     "name": "stdout",
     "output_type": "stream",
     "text": [
      "Meilleurs paramètres: {'randomforestregressor__max_depth': 15, 'randomforestregressor__max_features': 4, 'randomforestregressor__min_samples_split': 14}\n",
      "Performance sur les données de test: 0.6748938245960021\n"
     ]
    }
   ],
   "source": [
    "from sklearn.model_selection import GridSearchCV\n",
    "from sklearn.model_selection import cross_val_score\n",
    "param_grid = {\n",
    "    # 'randomforestregressor__n_estimators': [100, 200, 300, 400],\n",
    "    'randomforestregressor__max_depth': [15, 30, 35],\n",
    "    'randomforestregressor__max_features': [2, 3, 4],\n",
    "    # 'randomforestregressor__min_samples_leaf': [2, 3, 4, 5],\n",
    "    'randomforestregressor__min_samples_split': [10, 12, 14]\n",
    "}\n",
    "\n",
    "grid_search = GridSearchCV(\n",
    "    rf_pipeline,\n",
    "    param_grid=param_grid,\n",
    "    scoring='r2',  # Choisissez la métrique appropriée\n",
    "    cv=kf\n",
    ")\n",
    "\n",
    "grid_search.fit(X_rf_train, y_rf_train.values.ravel())\n",
    "\n",
    "# Afficher les meilleurs paramètres\n",
    "print(\"Meilleurs paramètres:\", grid_search.best_params_)\n",
    "\n",
    "# Évaluer la performance du modèle sur les données de test\n",
    "test_score = cross_val_score(grid_search.best_estimator_, X_rf_test, y_rf_test.values.ravel(), cv=kf, scoring='r2')\n",
    "print(\"Performance sur les données de test:\", test_score.mean())"
   ]
  },
  {
   "cell_type": "code",
   "execution_count": 181,
   "id": "46a2fcd6-ac36-409d-b891-cf8d95eec1a4",
   "metadata": {
    "tags": []
   },
   "outputs": [
    {
     "name": "stdout",
     "output_type": "stream",
     "text": [
      "0.14810055282201862\n"
     ]
    },
    {
     "name": "stderr",
     "output_type": "stream",
     "text": [
      "C:\\Users\\plele\\anaconda3\\Lib\\site-packages\\seaborn\\_oldcore.py:1119: FutureWarning: use_inf_as_na option is deprecated and will be removed in a future version. Convert inf values to NaN before operating instead.\n",
      "  with pd.option_context('mode.use_inf_as_na', True):\n"
     ]
    },
    {
     "data": {
      "text/plain": [
       "<Axes: ylabel='Count'>"
      ]
     },
     "execution_count": 181,
     "metadata": {},
     "output_type": "execute_result"
    },
    {
     "data": {
      "image/png": "[encoded data removed]",
      "text/plain": [
       "<Figure size 640x480 with 1 Axes>"
      ]
     },
     "metadata": {},
     "output_type": "display_data"
    }
   ],
   "source": [
    "y_pred = grid_search.best_estimator_.predict(X_rf_test)\n",
    "print(grid_search.best_estimator_.score(X_rf_test, y_rf_test.values.ravel()))\n",
    "sns.histplot(data=y_pred-y_rf_test.values.ravel())"
   ]
  },
  {
   "cell_type": "code",
   "execution_count": 166,
   "id": "8211e864-4e46-446f-aec4-b23e4184f786",
   "metadata": {
    "tags": []
   },
   "outputs": [
    {
     "data": {
      "text/plain": [
       "<Axes: >"
      ]
     },
     "execution_count": 166,
     "metadata": {},
     "output_type": "execute_result"
    },
    {
     "data": {
      "image/png": "[encoded data removed]",
      "text/plain": [
       "<Figure size 640x480 with 1 Axes>"
      ]
     },
     "metadata": {},
     "output_type": "display_data"
    }
   ],
   "source": [
    "import matplotlib.pyplot as plt\n",
    "import seaborn as sns\n",
    "%matplotlib inline\n",
    "\n",
    "depth = grid_search.cv_results_['param_randomforestregressor__max_depth'].data\n",
    "features = grid_search.cv_results_['param_randomforestregressor__max_features'].data\n",
    "split = grid_search.cv_results_['param_randomforestregressor__min_samples_split'].data\n",
    "results = grid_search.cv_results_['mean_test_score']\n",
    "sns.pointplot(x=depth, y=results)"
   ]
  },
  {
   "cell_type": "code",
   "execution_count": 167,
   "id": "6071f104-4151-48f3-b057-2d003701a4f5",
   "metadata": {
    "tags": []
   },
   "outputs": [
    {
     "data": {
      "text/plain": [
       "<Axes: >"
      ]
     },
     "execution_count": 167,
     "metadata": {},
     "output_type": "execute_result"
    },
    {
     "data": {
      "image/png": "[encoded data removed]",
      "text/plain": [
       "<Figure size 640x480 with 1 Axes>"
      ]
     },
     "metadata": {},
     "output_type": "display_data"
    }
   ],
   "source": [
    "sns.pointplot(x=features, y=results)"
   ]
  },
  {
   "cell_type": "code",
   "execution_count": 168,
   "id": "1a963d54-0599-48d8-8bce-ccf54dd61c16",
   "metadata": {
    "tags": []
   },
   "outputs": [
    {
     "data": {
      "text/plain": [
       "<Axes: >"
      ]
     },
     "execution_count": 168,
     "metadata": {},
     "output_type": "execute_result"
    },
    {
     "data": {
      "image/png": "[encoded data removed]",
      "text/plain": [
       "<Figure size 640x480 with 1 Axes>"
      ]
     },
     "metadata": {},
     "output_type": "display_data"
    }
   ],
   "source": [
    "sns.pointplot(x=split, y=results)"
   ]
  },
  {
   "cell_type": "code",
   "execution_count": 170,
   "id": "3426656a-c045-4096-9bf6-c83ab532fe4f",
   "metadata": {
    "tags": []
   },
   "outputs": [
    {
     "data": {
      "text/plain": [
       "array([0.36792875, 0.36696718, 0.36646012, 0.37619591, 0.37885793,\n",
       "       0.37860551, 0.38256773, 0.38395756, 0.38619038, 0.36735975,\n",
       "       0.36674781, 0.36832565, 0.37459868, 0.37616116, 0.3761768 ,\n",
       "       0.37659708, 0.38000868, 0.38279035, 0.36611851, 0.36767072,\n",
       "       0.36867496, 0.37435098, 0.3757985 , 0.37679125, 0.3764589 ,\n",
       "       0.38033844, 0.38274381])"
      ]
     },
     "execution_count": 170,
     "metadata": {},
     "output_type": "execute_result"
    }
   ],
   "source": [
    "grid_search.cv_results_['mean_test_score']"
   ]
  },
  {
   "cell_type": "code",
   "execution_count": 177,
   "id": "150c95e0-4861-4eb8-a76e-5ba7eca939ff",
   "metadata": {
    "tags": []
   },
   "outputs": [
    {
     "name": "stderr",
     "output_type": "stream",
     "text": [
      "C:\\Users\\plele\\anaconda3\\Lib\\site-packages\\seaborn\\_oldcore.py:1119: FutureWarning: use_inf_as_na option is deprecated and will be removed in a future version. Convert inf values to NaN before operating instead.\n",
      "  with pd.option_context('mode.use_inf_as_na', True):\n"
     ]
    },
    {
     "data": {
      "text/plain": [
       "<Axes: ylabel='Count'>"
      ]
     },
     "execution_count": 177,
     "metadata": {},
     "output_type": "execute_result"
    },
    {
     "data": {
      "image/png": "[encoded data removed]",
      "text/plain": [
       "<Figure size 640x480 with 1 Axes>"
      ]
     },
     "metadata": {},
     "output_type": "display_data"
    }
   ],
   "source": [
    "rf_pipeline_test = make_pipeline(tree_preprocessor, RandomForestRegressor(max_depth=15, random_state=0, n_jobs = -1))\n",
    "rf_pipeline_test.fit(X_rf_train, y_rf_train.values.ravel())\n",
    "rf_pipeline_test.score(X_rf_test, y_rf_test.values.ravel())\n",
    "\n",
    "y_pred = rf_pipeline_test.predict(X_rf_test)\n",
    "\n",
    "sns.histplot(data=y_pred-y_rf_test.values.ravel())"
   ]
  },
  {
   "cell_type": "code",
   "execution_count": 108,
   "id": "301b9db6",
   "metadata": {
    "tags": []
   },
   "outputs": [
    {
     "ename": "ValueError",
     "evalue": "could not convert string to float: '2A'",
     "output_type": "error",
     "traceback": [
      "\u001b[1;31m---------------------------------------------------------------------------\u001b[0m",
      "\u001b[1;31mValueError\u001b[0m                                Traceback (most recent call last)",
      "Cell \u001b[1;32mIn[108], line 30\u001b[0m\n\u001b[0;32m     28\u001b[0m     \u001b[38;5;28;01mfor\u001b[39;00m prof \u001b[38;5;129;01min\u001b[39;00m l_profondeur:\n\u001b[0;32m     29\u001b[0m         rf \u001b[38;5;241m=\u001b[39m make_pipeline(RandomForestRegressor(max_depth\u001b[38;5;241m=\u001b[39mprof, random_state\u001b[38;5;241m=\u001b[39m\u001b[38;5;241m0\u001b[39m, n_jobs \u001b[38;5;241m=\u001b[39m \u001b[38;5;241m10\u001b[39m))\n\u001b[1;32m---> 30\u001b[0m         rf\u001b[38;5;241m.\u001b[39mfit(X_train, y_train)\n\u001b[0;32m     31\u001b[0m         rf_score\u001b[38;5;241m.\u001b[39mappend(rf\u001b[38;5;241m.\u001b[39mscore(X_test, y_test))\n\u001b[0;32m     33\u001b[0m res_rf_score \u001b[38;5;241m=\u001b[39m np\u001b[38;5;241m.\u001b[39mreshape(rf_score, [nb_kfold, l_profondeur\u001b[38;5;241m.\u001b[39mshape[\u001b[38;5;241m0\u001b[39m]])\n",
      "File \u001b[1;32m~\\anaconda3\\Lib\\site-packages\\sklearn\\base.py:1151\u001b[0m, in \u001b[0;36m_fit_context.<locals>.decorator.<locals>.wrapper\u001b[1;34m(estimator, *args, **kwargs)\u001b[0m\n\u001b[0;32m   1144\u001b[0m     estimator\u001b[38;5;241m.\u001b[39m_validate_params()\n\u001b[0;32m   1146\u001b[0m \u001b[38;5;28;01mwith\u001b[39;00m config_context(\n\u001b[0;32m   1147\u001b[0m     skip_parameter_validation\u001b[38;5;241m=\u001b[39m(\n\u001b[0;32m   1148\u001b[0m         prefer_skip_nested_validation \u001b[38;5;129;01mor\u001b[39;00m global_skip_validation\n\u001b[0;32m   1149\u001b[0m     )\n\u001b[0;32m   1150\u001b[0m ):\n\u001b[1;32m-> 1151\u001b[0m     \u001b[38;5;28;01mreturn\u001b[39;00m fit_method(estimator, \u001b[38;5;241m*\u001b[39margs, \u001b[38;5;241m*\u001b[39m\u001b[38;5;241m*\u001b[39mkwargs)\n",
      "File \u001b[1;32m~\\anaconda3\\Lib\\site-packages\\sklearn\\pipeline.py:420\u001b[0m, in \u001b[0;36mPipeline.fit\u001b[1;34m(self, X, y, **fit_params)\u001b[0m\n\u001b[0;32m    418\u001b[0m     \u001b[38;5;28;01mif\u001b[39;00m \u001b[38;5;28mself\u001b[39m\u001b[38;5;241m.\u001b[39m_final_estimator \u001b[38;5;241m!=\u001b[39m \u001b[38;5;124m\"\u001b[39m\u001b[38;5;124mpassthrough\u001b[39m\u001b[38;5;124m\"\u001b[39m:\n\u001b[0;32m    419\u001b[0m         fit_params_last_step \u001b[38;5;241m=\u001b[39m fit_params_steps[\u001b[38;5;28mself\u001b[39m\u001b[38;5;241m.\u001b[39msteps[\u001b[38;5;241m-\u001b[39m\u001b[38;5;241m1\u001b[39m][\u001b[38;5;241m0\u001b[39m]]\n\u001b[1;32m--> 420\u001b[0m         \u001b[38;5;28mself\u001b[39m\u001b[38;5;241m.\u001b[39m_final_estimator\u001b[38;5;241m.\u001b[39mfit(Xt, y, \u001b[38;5;241m*\u001b[39m\u001b[38;5;241m*\u001b[39mfit_params_last_step)\n\u001b[0;32m    422\u001b[0m \u001b[38;5;28;01mreturn\u001b[39;00m \u001b[38;5;28mself\u001b[39m\n",
      "File \u001b[1;32m~\\anaconda3\\Lib\\site-packages\\sklearn\\base.py:1151\u001b[0m, in \u001b[0;36m_fit_context.<locals>.decorator.<locals>.wrapper\u001b[1;34m(estimator, *args, **kwargs)\u001b[0m\n\u001b[0;32m   1144\u001b[0m     estimator\u001b[38;5;241m.\u001b[39m_validate_params()\n\u001b[0;32m   1146\u001b[0m \u001b[38;5;28;01mwith\u001b[39;00m config_context(\n\u001b[0;32m   1147\u001b[0m     skip_parameter_validation\u001b[38;5;241m=\u001b[39m(\n\u001b[0;32m   1148\u001b[0m         prefer_skip_nested_validation \u001b[38;5;129;01mor\u001b[39;00m global_skip_validation\n\u001b[0;32m   1149\u001b[0m     )\n\u001b[0;32m   1150\u001b[0m ):\n\u001b[1;32m-> 1151\u001b[0m     \u001b[38;5;28;01mreturn\u001b[39;00m fit_method(estimator, \u001b[38;5;241m*\u001b[39margs, \u001b[38;5;241m*\u001b[39m\u001b[38;5;241m*\u001b[39mkwargs)\n",
      "File \u001b[1;32m~\\anaconda3\\Lib\\site-packages\\sklearn\\ensemble\\_forest.py:348\u001b[0m, in \u001b[0;36mBaseForest.fit\u001b[1;34m(self, X, y, sample_weight)\u001b[0m\n\u001b[0;32m    346\u001b[0m \u001b[38;5;28;01mif\u001b[39;00m issparse(y):\n\u001b[0;32m    347\u001b[0m     \u001b[38;5;28;01mraise\u001b[39;00m \u001b[38;5;167;01mValueError\u001b[39;00m(\u001b[38;5;124m\"\u001b[39m\u001b[38;5;124msparse multilabel-indicator for y is not supported.\u001b[39m\u001b[38;5;124m\"\u001b[39m)\n\u001b[1;32m--> 348\u001b[0m X, y \u001b[38;5;241m=\u001b[39m \u001b[38;5;28mself\u001b[39m\u001b[38;5;241m.\u001b[39m_validate_data(\n\u001b[0;32m    349\u001b[0m     X, y, multi_output\u001b[38;5;241m=\u001b[39m\u001b[38;5;28;01mTrue\u001b[39;00m, accept_sparse\u001b[38;5;241m=\u001b[39m\u001b[38;5;124m\"\u001b[39m\u001b[38;5;124mcsc\u001b[39m\u001b[38;5;124m\"\u001b[39m, dtype\u001b[38;5;241m=\u001b[39mDTYPE\n\u001b[0;32m    350\u001b[0m )\n\u001b[0;32m    351\u001b[0m \u001b[38;5;28;01mif\u001b[39;00m sample_weight \u001b[38;5;129;01mis\u001b[39;00m \u001b[38;5;129;01mnot\u001b[39;00m \u001b[38;5;28;01mNone\u001b[39;00m:\n\u001b[0;32m    352\u001b[0m     sample_weight \u001b[38;5;241m=\u001b[39m _check_sample_weight(sample_weight, X)\n",
      "File \u001b[1;32m~\\anaconda3\\Lib\\site-packages\\sklearn\\base.py:621\u001b[0m, in \u001b[0;36mBaseEstimator._validate_data\u001b[1;34m(self, X, y, reset, validate_separately, cast_to_ndarray, **check_params)\u001b[0m\n\u001b[0;32m    619\u001b[0m         y \u001b[38;5;241m=\u001b[39m check_array(y, input_name\u001b[38;5;241m=\u001b[39m\u001b[38;5;124m\"\u001b[39m\u001b[38;5;124my\u001b[39m\u001b[38;5;124m\"\u001b[39m, \u001b[38;5;241m*\u001b[39m\u001b[38;5;241m*\u001b[39mcheck_y_params)\n\u001b[0;32m    620\u001b[0m     \u001b[38;5;28;01melse\u001b[39;00m:\n\u001b[1;32m--> 621\u001b[0m         X, y \u001b[38;5;241m=\u001b[39m check_X_y(X, y, \u001b[38;5;241m*\u001b[39m\u001b[38;5;241m*\u001b[39mcheck_params)\n\u001b[0;32m    622\u001b[0m     out \u001b[38;5;241m=\u001b[39m X, y\n\u001b[0;32m    624\u001b[0m \u001b[38;5;28;01mif\u001b[39;00m \u001b[38;5;129;01mnot\u001b[39;00m no_val_X \u001b[38;5;129;01mand\u001b[39;00m check_params\u001b[38;5;241m.\u001b[39mget(\u001b[38;5;124m\"\u001b[39m\u001b[38;5;124mensure_2d\u001b[39m\u001b[38;5;124m\"\u001b[39m, \u001b[38;5;28;01mTrue\u001b[39;00m):\n",
      "File \u001b[1;32m~\\anaconda3\\Lib\\site-packages\\sklearn\\utils\\validation.py:1147\u001b[0m, in \u001b[0;36mcheck_X_y\u001b[1;34m(X, y, accept_sparse, accept_large_sparse, dtype, order, copy, force_all_finite, ensure_2d, allow_nd, multi_output, ensure_min_samples, ensure_min_features, y_numeric, estimator)\u001b[0m\n\u001b[0;32m   1142\u001b[0m         estimator_name \u001b[38;5;241m=\u001b[39m _check_estimator_name(estimator)\n\u001b[0;32m   1143\u001b[0m     \u001b[38;5;28;01mraise\u001b[39;00m \u001b[38;5;167;01mValueError\u001b[39;00m(\n\u001b[0;32m   1144\u001b[0m         \u001b[38;5;124mf\u001b[39m\u001b[38;5;124m\"\u001b[39m\u001b[38;5;132;01m{\u001b[39;00mestimator_name\u001b[38;5;132;01m}\u001b[39;00m\u001b[38;5;124m requires y to be passed, but the target y is None\u001b[39m\u001b[38;5;124m\"\u001b[39m\n\u001b[0;32m   1145\u001b[0m     )\n\u001b[1;32m-> 1147\u001b[0m X \u001b[38;5;241m=\u001b[39m check_array(\n\u001b[0;32m   1148\u001b[0m     X,\n\u001b[0;32m   1149\u001b[0m     accept_sparse\u001b[38;5;241m=\u001b[39maccept_sparse,\n\u001b[0;32m   1150\u001b[0m     accept_large_sparse\u001b[38;5;241m=\u001b[39maccept_large_sparse,\n\u001b[0;32m   1151\u001b[0m     dtype\u001b[38;5;241m=\u001b[39mdtype,\n\u001b[0;32m   1152\u001b[0m     order\u001b[38;5;241m=\u001b[39morder,\n\u001b[0;32m   1153\u001b[0m     copy\u001b[38;5;241m=\u001b[39mcopy,\n\u001b[0;32m   1154\u001b[0m     force_all_finite\u001b[38;5;241m=\u001b[39mforce_all_finite,\n\u001b[0;32m   1155\u001b[0m     ensure_2d\u001b[38;5;241m=\u001b[39mensure_2d,\n\u001b[0;32m   1156\u001b[0m     allow_nd\u001b[38;5;241m=\u001b[39mallow_nd,\n\u001b[0;32m   1157\u001b[0m     ensure_min_samples\u001b[38;5;241m=\u001b[39mensure_min_samples,\n\u001b[0;32m   1158\u001b[0m     ensure_min_features\u001b[38;5;241m=\u001b[39mensure_min_features,\n\u001b[0;32m   1159\u001b[0m     estimator\u001b[38;5;241m=\u001b[39mestimator,\n\u001b[0;32m   1160\u001b[0m     input_name\u001b[38;5;241m=\u001b[39m\u001b[38;5;124m\"\u001b[39m\u001b[38;5;124mX\u001b[39m\u001b[38;5;124m\"\u001b[39m,\n\u001b[0;32m   1161\u001b[0m )\n\u001b[0;32m   1163\u001b[0m y \u001b[38;5;241m=\u001b[39m _check_y(y, multi_output\u001b[38;5;241m=\u001b[39mmulti_output, y_numeric\u001b[38;5;241m=\u001b[39my_numeric, estimator\u001b[38;5;241m=\u001b[39mestimator)\n\u001b[0;32m   1165\u001b[0m check_consistent_length(X, y)\n",
      "File \u001b[1;32m~\\anaconda3\\Lib\\site-packages\\sklearn\\utils\\validation.py:917\u001b[0m, in \u001b[0;36mcheck_array\u001b[1;34m(array, accept_sparse, accept_large_sparse, dtype, order, copy, force_all_finite, ensure_2d, allow_nd, ensure_min_samples, ensure_min_features, estimator, input_name)\u001b[0m\n\u001b[0;32m    915\u001b[0m         array \u001b[38;5;241m=\u001b[39m xp\u001b[38;5;241m.\u001b[39mastype(array, dtype, copy\u001b[38;5;241m=\u001b[39m\u001b[38;5;28;01mFalse\u001b[39;00m)\n\u001b[0;32m    916\u001b[0m     \u001b[38;5;28;01melse\u001b[39;00m:\n\u001b[1;32m--> 917\u001b[0m         array \u001b[38;5;241m=\u001b[39m _asarray_with_order(array, order\u001b[38;5;241m=\u001b[39morder, dtype\u001b[38;5;241m=\u001b[39mdtype, xp\u001b[38;5;241m=\u001b[39mxp)\n\u001b[0;32m    918\u001b[0m \u001b[38;5;28;01mexcept\u001b[39;00m ComplexWarning \u001b[38;5;28;01mas\u001b[39;00m complex_warning:\n\u001b[0;32m    919\u001b[0m     \u001b[38;5;28;01mraise\u001b[39;00m \u001b[38;5;167;01mValueError\u001b[39;00m(\n\u001b[0;32m    920\u001b[0m         \u001b[38;5;124m\"\u001b[39m\u001b[38;5;124mComplex data not supported\u001b[39m\u001b[38;5;130;01m\\n\u001b[39;00m\u001b[38;5;132;01m{}\u001b[39;00m\u001b[38;5;130;01m\\n\u001b[39;00m\u001b[38;5;124m\"\u001b[39m\u001b[38;5;241m.\u001b[39mformat(array)\n\u001b[0;32m    921\u001b[0m     ) \u001b[38;5;28;01mfrom\u001b[39;00m \u001b[38;5;21;01mcomplex_warning\u001b[39;00m\n",
      "File \u001b[1;32m~\\anaconda3\\Lib\\site-packages\\sklearn\\utils\\_array_api.py:380\u001b[0m, in \u001b[0;36m_asarray_with_order\u001b[1;34m(array, dtype, order, copy, xp)\u001b[0m\n\u001b[0;32m    378\u001b[0m     array \u001b[38;5;241m=\u001b[39m numpy\u001b[38;5;241m.\u001b[39marray(array, order\u001b[38;5;241m=\u001b[39morder, dtype\u001b[38;5;241m=\u001b[39mdtype)\n\u001b[0;32m    379\u001b[0m \u001b[38;5;28;01melse\u001b[39;00m:\n\u001b[1;32m--> 380\u001b[0m     array \u001b[38;5;241m=\u001b[39m numpy\u001b[38;5;241m.\u001b[39masarray(array, order\u001b[38;5;241m=\u001b[39morder, dtype\u001b[38;5;241m=\u001b[39mdtype)\n\u001b[0;32m    382\u001b[0m \u001b[38;5;66;03m# At this point array is a NumPy ndarray. We convert it to an array\u001b[39;00m\n\u001b[0;32m    383\u001b[0m \u001b[38;5;66;03m# container that is consistent with the input's namespace.\u001b[39;00m\n\u001b[0;32m    384\u001b[0m \u001b[38;5;28;01mreturn\u001b[39;00m xp\u001b[38;5;241m.\u001b[39masarray(array)\n",
      "File \u001b[1;32m~\\anaconda3\\Lib\\site-packages\\pandas\\core\\generic.py:2084\u001b[0m, in \u001b[0;36mNDFrame.__array__\u001b[1;34m(self, dtype)\u001b[0m\n\u001b[0;32m   2082\u001b[0m \u001b[38;5;28;01mdef\u001b[39;00m \u001b[38;5;21m__array__\u001b[39m(\u001b[38;5;28mself\u001b[39m, dtype: npt\u001b[38;5;241m.\u001b[39mDTypeLike \u001b[38;5;241m|\u001b[39m \u001b[38;5;28;01mNone\u001b[39;00m \u001b[38;5;241m=\u001b[39m \u001b[38;5;28;01mNone\u001b[39;00m) \u001b[38;5;241m-\u001b[39m\u001b[38;5;241m>\u001b[39m np\u001b[38;5;241m.\u001b[39mndarray:\n\u001b[0;32m   2083\u001b[0m     values \u001b[38;5;241m=\u001b[39m \u001b[38;5;28mself\u001b[39m\u001b[38;5;241m.\u001b[39m_values\n\u001b[1;32m-> 2084\u001b[0m     arr \u001b[38;5;241m=\u001b[39m np\u001b[38;5;241m.\u001b[39masarray(values, dtype\u001b[38;5;241m=\u001b[39mdtype)\n\u001b[0;32m   2085\u001b[0m     \u001b[38;5;28;01mif\u001b[39;00m (\n\u001b[0;32m   2086\u001b[0m         astype_is_view(values\u001b[38;5;241m.\u001b[39mdtype, arr\u001b[38;5;241m.\u001b[39mdtype)\n\u001b[0;32m   2087\u001b[0m         \u001b[38;5;129;01mand\u001b[39;00m using_copy_on_write()\n\u001b[0;32m   2088\u001b[0m         \u001b[38;5;129;01mand\u001b[39;00m \u001b[38;5;28mself\u001b[39m\u001b[38;5;241m.\u001b[39m_mgr\u001b[38;5;241m.\u001b[39mis_single_block\n\u001b[0;32m   2089\u001b[0m     ):\n\u001b[0;32m   2090\u001b[0m         \u001b[38;5;66;03m# Check if both conversions can be done without a copy\u001b[39;00m\n\u001b[0;32m   2091\u001b[0m         \u001b[38;5;28;01mif\u001b[39;00m astype_is_view(\u001b[38;5;28mself\u001b[39m\u001b[38;5;241m.\u001b[39mdtypes\u001b[38;5;241m.\u001b[39miloc[\u001b[38;5;241m0\u001b[39m], values\u001b[38;5;241m.\u001b[39mdtype) \u001b[38;5;129;01mand\u001b[39;00m astype_is_view(\n\u001b[0;32m   2092\u001b[0m             values\u001b[38;5;241m.\u001b[39mdtype, arr\u001b[38;5;241m.\u001b[39mdtype\n\u001b[0;32m   2093\u001b[0m         ):\n",
      "\u001b[1;31mValueError\u001b[0m: could not convert string to float: '2A'"
     ]
    }
   ],
   "source": [
    "        \n",
    "l_profondeur = np.arange(5, 30, 5)\n",
    "rf_score = []\n",
    "\n",
    "for train, test in kf.split(X_rf):\n",
    "    # X_train = X[train,:]\n",
    "    # y_train = y[train]\n",
    "    # X_test = X[test,:]\n",
    "    # y_test = y[test]\n",
    "    X_train = X_rf.iloc[train,:]\n",
    "    y_train = y_rf.iloc[train]\n",
    "    X_test = X_rf.iloc[test,:]\n",
    "    y_test = y_rf.iloc[test]\n",
    "    \n",
    "    for prof in l_profondeur:\n",
    "        rf = make_pipeline(RandomForestRegressor(max_depth=prof, random_state=0, n_jobs = 10))\n",
    "        rf.fit(X_train, y_train)\n",
    "        rf_score.append(rf.score(X_test, y_test))\n",
    "\n",
    "res_rf_score = np.reshape(rf_score, [nb_kfold, l_profondeur.shape[0]])\n",
    "res_rf_score = np.mean(res_rf_score, axis = 0)\n",
    "indice_max = np.unravel_index(np.argmax(res_rf_score), res_rf_score.shape)\n",
    "print('Indices Best score :', indice_max)\n",
    "print('Best score :', np.max(res_rf_score))\n",
    "print('Profondeur best score :', l_profondeur[indice_max])\n",
    "# data2=data1.sample(n=data1.shape[0],random_state=1)\n",
    "\n",
    "\n",
    "# data_train= data2[:16819]\n",
    "# data_test= data2[16820:data1.shape[0]]\n",
    "\n",
    "# X_train = data_train[['3_Population municipale', '3_Densité_hab_par_km2', '3_Superficie de la commune', '4_Superficie','4_Altitude Moyenne','4_lat','4_lon']]\n",
    "# y_train=data_train[['5_PrixMoyen_M2']]\n",
    "# X_test = data_test[['3_Population municipale', '3_Densité_hab_par_km2', '3_Superficie de la commune', '4_Superficie','4_Altitude Moyenne','4_lat','4_lon']]\n",
    "# y_test =data_test[['5_PrixMoyen_M2']]\n",
    "# rf = RandomForestRegressor(max_depth=20, random_state=0)\n",
    "\n",
    "# rf.fit(X_train, y_train)\n"
   ]
  },
  {
   "cell_type": "code",
   "execution_count": null,
   "id": "8a223fc8",
   "metadata": {},
   "outputs": [],
   "source": [
    "rf.score(X_test,y_test)"
   ]
  },
  {
   "cell_type": "code",
   "execution_count": null,
   "id": "707e0730",
   "metadata": {},
   "outputs": [],
   "source": [
    "Y_pred_rf=rf.predict(X_test)\n",
    "Delta_rf= y_test['5_PrixMoyen_M2'] - Y_pred_rf\n",
    "Delta_rf.describe()"
   ]
  },
  {
   "cell_type": "code",
   "execution_count": null,
   "id": "21f85c3b",
   "metadata": {},
   "outputs": [],
   "source": [
    "Y_pred_rf.shape"
   ]
  },
  {
   "cell_type": "code",
   "execution_count": null,
   "id": "cc9defec",
   "metadata": {},
   "outputs": [],
   "source": [
    "Y_pred[0:]"
   ]
  },
  {
   "cell_type": "code",
   "execution_count": null,
   "id": "2376dddb",
   "metadata": {},
   "outputs": [],
   "source": [
    "y_test['5_PrixMoyen_M2']"
   ]
  },
  {
   "cell_type": "code",
   "execution_count": null,
   "id": "5ff901eb",
   "metadata": {},
   "outputs": [],
   "source": [
    "y_test.shape"
   ]
  },
  {
   "cell_type": "code",
   "execution_count": null,
   "id": "b8819a4b",
   "metadata": {},
   "outputs": [],
   "source": [
    "Y_pred=rf.predict(X_test)"
   ]
  },
  {
   "cell_type": "code",
   "execution_count": null,
   "id": "cb3d52b0",
   "metadata": {},
   "outputs": [],
   "source": [
    "\n",
    "y_test"
   ]
  },
  {
   "cell_type": "markdown",
   "id": "9bf81195-8302-4691-a9ed-8daf58b23c43",
   "metadata": {
    "execution": {
     "iopub.execute_input": "2024-01-16T12:39:55.003158Z",
     "iopub.status.busy": "2024-01-16T12:39:55.003158Z",
     "iopub.status.idle": "2024-01-16T12:39:55.018784Z",
     "shell.execute_reply": "2024-01-16T12:39:55.018784Z",
     "shell.execute_reply.started": "2024-01-16T12:39:55.003158Z"
    }
   },
   "source": [
    "### G-Par Bayesian Ridge NICOLAS"
   ]
  },
  {
   "cell_type": "code",
   "execution_count": null,
   "id": "9d3d735a-106c-4c6b-8435-5d54c9e4b645",
   "metadata": {},
   "outputs": [],
   "source": []
  },
  {
   "cell_type": "markdown",
   "id": "0b3d753a-101b-4459-84bb-59fc56f28d89",
   "metadata": {},
   "source": [
    "### Idem avec Pipeline Example"
   ]
  },
  {
   "cell_type": "code",
   "execution_count": null,
   "id": "f5bb9bf3-2240-40da-8839-3bcf0718145d",
   "metadata": {},
   "outputs": [],
   "source": [
    "from sklearn.impute import IterativeImputer, SimpleImputer"
   ]
  },
  {
   "cell_type": "code",
   "execution_count": null,
   "id": "494054c6-b176-4993-bb2c-e22db9329598",
   "metadata": {},
   "outputs": [],
   "source": [
    "data1=df[['3_Population municipale', '3_Densité_hab_par_km2', '3_Superficie de la commune', '4_Superficie','4_Altitude Moyenne','4_lat','4_lon','5_PrixMoyen_M2']]\n",
    "data1=data1.dropna()\n",
    "data2=data1.sample(n=data1.shape[0],random_state=1)"
   ]
  },
  {
   "cell_type": "code",
   "execution_count": null,
   "id": "2d43c825-6ae6-4ee2-a1c3-bba0e604c729",
   "metadata": {},
   "outputs": [],
   "source": [
    "data_train= data2[:16819]\n",
    "data_test= data2[16820:data1.shape[0]]"
   ]
  },
  {
   "cell_type": "code",
   "execution_count": null,
   "id": "2910e4cd-71a5-49c3-9791-8da7fabaa24a",
   "metadata": {},
   "outputs": [],
   "source": [
    "X_train = data_train[['3_Population municipale', '3_Densité_hab_par_km2', '3_Superficie de la commune', '4_Superficie','4_Altitude Moyenne','4_lat','4_lon']]\n",
    "y_train=data_train[['5_PrixMoyen_M2']]\n",
    "X_test = data_test[['3_Population municipale', '3_Densité_hab_par_km2', '3_Superficie de la commune', '4_Superficie','4_Altitude Moyenne','4_lat','4_lon']]\n",
    "y_test =data_test[['5_PrixMoyen_M2']]"
   ]
  },
  {
   "cell_type": "code",
   "execution_count": null,
   "id": "f323bd9d-f7f5-4b05-b907-de07a5d9750a",
   "metadata": {},
   "outputs": [],
   "source": [
    "# Estimate the score after imputation (mean and median strategies)\n",
    "score_simple_imputer = pd.DataFrame()\n",
    "for strategy in (\"mean\", \"median\"):\n",
    "    estimator = make_pipeline(\n",
    "        SimpleImputer(missing_values=np.nan, strategy=strategy), br_estimator\n",
    "    )\n",
    "    score_simple_imputer[strategy] = cross_val_score(\n",
    "        estimator, X_missing, y_missing, scoring=\"neg_mean_squared_error\", cv=N_SPLITS\n",
    "    )"
   ]
  },
  {
   "cell_type": "code",
   "execution_count": null,
   "id": "deb27741-c364-4e9b-9e3f-ae2fc6302b18",
   "metadata": {},
   "outputs": [],
   "source": [
    "# Estimate the score after iterative imputation of the missing values\n",
    "# with different estimators\n",
    "estimators = [\n",
    "    BayesianRidge(),\n",
    "    RandomForestRegressor(\n",
    "        # We tuned the hyperparameters of the RandomForestRegressor to get a good\n",
    "        # enough predictive performance for a restricted execution time.\n",
    "        n_estimators=4,\n",
    "        max_depth=10,\n",
    "        bootstrap=True,\n",
    "        max_samples=0.5,\n",
    "        n_jobs=2,\n",
    "        random_state=0,\n",
    "    ),\n",
    "    make_pipeline(\n",
    "        Nystroem(kernel=\"polynomial\", degree=2, random_state=0), Ridge(alpha=1e3)\n",
    "    ),\n",
    "    KNeighborsRegressor(n_neighbors=15),\n",
    "]\n",
    "score_iterative_imputer = pd.DataFrame()\n",
    "# iterative imputer is sensible to the tolerance and\n",
    "# dependent on the estimator used internally.\n",
    "# we tuned the tolerance to keep this example run with limited computational\n",
    "# resources while not changing the results too much compared to keeping the\n",
    "# stricter default value for the tolerance parameter.\n",
    "tolerances = (1e-3, 1e-1, 1e-1, 1e-2)\n",
    "for impute_estimator, tol in zip(estimators, tolerances):\n",
    "    estimator = make_pipeline(\n",
    "        IterativeImputer(\n",
    "            random_state=0, estimator=impute_estimator, max_iter=25, tol=tol\n",
    "        ),\n",
    "        br_estimator,\n",
    "    )\n",
    "    score_iterative_imputer[impute_estimator.__class__.__name__] = cross_val_score(\n",
    "        estimator, X_missing, y_missing, scoring=\"neg_mean_squared_error\", cv=N_SPLITS\n",
    "    )"
   ]
  },
  {
   "cell_type": "markdown",
   "id": "d126653b-d6b7-456c-9024-ae1727ddeb87",
   "metadata": {
    "execution": {
     "iopub.execute_input": "2024-01-16T12:43:04.316131Z",
     "iopub.status.busy": "2024-01-16T12:43:04.316131Z",
     "iopub.status.idle": "2024-01-16T12:43:04.332690Z",
     "shell.execute_reply": "2024-01-16T12:43:04.331836Z",
     "shell.execute_reply.started": "2024-01-16T12:43:04.316131Z"
    }
   },
   "source": [
    "### Comparaison des différents du prix moyen au m2 NICOLAS"
   ]
  },
  {
   "cell_type": "code",
   "execution_count": null,
   "id": "2e2afe3a-4eae-4e31-a2b0-a85d5ac34ba1",
   "metadata": {},
   "outputs": [],
   "source": []
  }
 ],
 "metadata": {
  "kernelspec": {
   "display_name": "Python 3 (ipykernel)",
   "language": "python",
   "name": "python3"
  },
  "language_info": {
   "codemirror_mode": {
    "name": "ipython",
    "version": 3
   },
   "file_extension": ".py",
   "mimetype": "text/x-python",
   "name": "python",
   "nbconvert_exporter": "python",
   "pygments_lexer": "ipython3",
   "version": "3.11.4"
  },
  "toc-autonumbering": true
 },
 "nbformat": 4,
 "nbformat_minor": 5
}
