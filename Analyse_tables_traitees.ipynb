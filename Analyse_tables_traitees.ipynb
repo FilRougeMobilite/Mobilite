{
 "cells": [
  {
   "cell_type": "code",
   "execution_count": 1,
   "id": "db109aaf-eb9e-4042-8f98-791e317b2d1c",
   "metadata": {
    "execution": {
     "iopub.execute_input": "2024-01-31T09:35:38.970144Z",
     "iopub.status.busy": "2024-01-31T09:35:38.969176Z",
     "iopub.status.idle": "2024-01-31T09:35:40.459806Z",
     "shell.execute_reply": "2024-01-31T09:35:40.459806Z",
     "shell.execute_reply.started": "2024-01-31T09:35:38.970144Z"
    },
    "tags": []
   },
   "outputs": [],
   "source": [
    "import pandas as pd\n",
    "import glob\n",
    "import numpy as np\n",
    "# pd.set_option('display.max_rows', None)\n",
    "#pd.set_option('display.max_columns', None)\n",
    "import matplotlib.pyplot as plt\n",
    "import seaborn as sns"
   ]
  },
  {
   "cell_type": "code",
   "execution_count": 2,
   "id": "d8656e18-fe7f-4773-8072-67f826f2cffd",
   "metadata": {
    "execution": {
     "iopub.execute_input": "2024-01-31T09:35:40.459806Z",
     "iopub.status.busy": "2024-01-31T09:35:40.459806Z",
     "iopub.status.idle": "2024-01-31T09:35:40.782826Z",
     "shell.execute_reply": "2024-01-31T09:35:40.782826Z",
     "shell.execute_reply.started": "2024-01-31T09:35:40.459806Z"
    }
   },
   "outputs": [],
   "source": [
    "from sklearn.model_selection import train_test_split\n",
    "from sklearn.pipeline import Pipeline\n",
    "from sklearn.compose import ColumnTransformer\n",
    "from sklearn.preprocessing import OneHotEncoder, StandardScaler\n",
    "from sklearn.linear_model import LinearRegression, Lasso, LassoCV, BayesianRidge\n",
    "from sklearn.metrics import mean_squared_error, r2_score"
   ]
  },
  {
   "cell_type": "code",
   "execution_count": 3,
   "id": "bcca826d-a366-4199-a85f-f8caccc6ca9f",
   "metadata": {
    "execution": {
     "iopub.execute_input": "2024-01-31T09:35:40.782826Z",
     "iopub.status.busy": "2024-01-31T09:35:40.782826Z",
     "iopub.status.idle": "2024-01-31T09:35:40.882068Z",
     "shell.execute_reply": "2024-01-31T09:35:40.882068Z",
     "shell.execute_reply.started": "2024-01-31T09:35:40.782826Z"
    }
   },
   "outputs": [],
   "source": [
    "from sklearn.ensemble import RandomForestRegressor \n",
    "from sklearn.pipeline import make_pipeline\n",
    "from sklearn.compose import make_column_selector\n",
    "from sklearn.compose import make_column_transformer\n",
    "from sklearn.impute import SimpleImputer\n",
    "from sklearn.pipeline import make_pipeline\n",
    "from sklearn.preprocessing import OrdinalEncoder"
   ]
  },
  {
   "cell_type": "code",
   "execution_count": 4,
   "id": "a26d1132-df14-4514-ad54-384a1c252aec",
   "metadata": {
    "execution": {
     "iopub.execute_input": "2024-01-31T09:35:40.949077Z",
     "iopub.status.busy": "2024-01-31T09:35:40.948076Z",
     "iopub.status.idle": "2024-01-31T09:35:40.960317Z",
     "shell.execute_reply": "2024-01-31T09:35:40.959324Z",
     "shell.execute_reply.started": "2024-01-31T09:35:40.949077Z"
    }
   },
   "outputs": [
    {
     "data": {
      "text/plain": [
       "'C:\\\\Users\\\\nimod\\\\OneDrive - Université de Technologie de Troyes\\\\Fil_rouge'"
      ]
     },
     "execution_count": 4,
     "metadata": {},
     "output_type": "execute_result"
    }
   ],
   "source": [
    "pwd"
   ]
  },
  {
   "cell_type": "code",
   "execution_count": 5,
   "id": "49248214-918d-4685-8d1e-9947f33b1271",
   "metadata": {
    "execution": {
     "iopub.execute_input": "2024-01-31T09:35:41.648570Z",
     "iopub.status.busy": "2024-01-31T09:35:41.648570Z",
     "iopub.status.idle": "2024-01-31T09:35:41.660829Z",
     "shell.execute_reply": "2024-01-31T09:35:41.659825Z",
     "shell.execute_reply.started": "2024-01-31T09:35:41.648570Z"
    },
    "tags": []
   },
   "outputs": [
    {
     "data": {
      "text/plain": [
       "['./Tables_traitees\\\\Communes_manquantes.csv',\n",
       " './Tables_traitees\\\\Infos_communes.csv',\n",
       " './Tables_traitees\\\\Infos_communes_avec_prix_estimé.csv',\n",
       " './Tables_traitees\\\\Merge_des_tables_sans_estimation_sans_df_elec&df_carb.csv',\n",
       " './Tables_traitees\\\\Population-Superficie_communes.csv',\n",
       " './Tables_traitees\\\\PrixMoy_m2_avec_code_commune.csv',\n",
       " './Tables_traitees\\\\Stations_carburant_avec_code_commune.csv',\n",
       " './Tables_traitees\\\\Stations_electriques_avec_code_commune.csv',\n",
       " './Tables_traitees\\\\Table_avec_prixM2_estime.csv']"
      ]
     },
     "execution_count": 5,
     "metadata": {},
     "output_type": "execute_result"
    }
   ],
   "source": [
    "glob.glob('./Tables_traitees/*')"
   ]
  },
  {
   "cell_type": "markdown",
   "id": "c403829a-7da6-4aa4-94fc-a84c7213b55f",
   "metadata": {},
   "source": [
    "| N° | Dataframe | Description |\n",
    "| -- | -- | -- |  \n",
    "| 1. | df_elec | Bornes électriques |\n",
    "| 2. | df_carb | Stations Carburant | \n",
    "| 3. | df_pop | Population et superficie commune | \n",
    "| 4. | df_com | Infos communes | \n",
    "| 5. | df_commune_immo | Prix au m2 | \n",
    "| 6. | df_commune_adj | Communes adjacentes | |\n",
    "|    | df | Dataframe regroupant pop, com, commune_immo et commune adj |\n",
    "|    | df_train | =df moins 6000 valeurs, à utiliser pour l'entrainement des modèles, le reste sera pour comparer les estimations |\n",
    "|    | df_m2 | =df_train filtré par les valeurs qui ont un prix au m2 |\n",
    "|    | df_ridge | =df_train filtré par les valeurs qui ont un prix au m2 mais aussi filtré par les valeurs non NA de features |"
   ]
  },
  {
   "cell_type": "code",
   "execution_count": 6,
   "id": "41fdc751-a554-4c16-b783-024d28ede55d",
   "metadata": {
    "execution": {
     "iopub.execute_input": "2024-01-31T09:35:42.830424Z",
     "iopub.status.busy": "2024-01-31T09:35:42.830424Z",
     "iopub.status.idle": "2024-01-31T09:35:43.671353Z",
     "shell.execute_reply": "2024-01-31T09:35:43.670355Z",
     "shell.execute_reply.started": "2024-01-31T09:35:42.830424Z"
    },
    "scrolled": true,
    "tags": []
   },
   "outputs": [],
   "source": [
    "# Lecture du fichier des tables mergées\n",
    "df = pd.read_csv('./Tables_traitees/Merge_des_tables_sans_estimation_sans_df_elec&df_carb.csv',\n",
    "                 sep=';',dtype={'3_Code département':str, '3_Code INSEE (commune ou arrondissement)':str, \n",
    "                                '3_Code EPCI':str, '1_Code INSEE commune':str, '1_Num PDL':str,\n",
    "                                '1_longitude':str, '1_code_commune_n':str, '2_Code INSEE':str,\n",
    "                                '2_code_commune_n':str, '4_Code Postal':str, \"5_INSEE_DEP\":str, \"5_ID\":str,\n",
    "                                \"5_INSEE_COM\":str,\"5_code_commune_n\":str,\"6_insee\":str,\"4_Code INSEE\":str,\n",
    "                                \"4_Code Département\":str })"
   ]
  },
  {
   "cell_type": "code",
   "execution_count": 7,
   "id": "dc94e3d7-51fb-4316-a999-d67d0868d264",
   "metadata": {
    "execution": {
     "iopub.execute_input": "2024-01-31T09:35:43.673355Z",
     "iopub.status.busy": "2024-01-31T09:35:43.673355Z",
     "iopub.status.idle": "2024-01-31T09:35:44.611952Z",
     "shell.execute_reply": "2024-01-31T09:35:44.611952Z",
     "shell.execute_reply.started": "2024-01-31T09:35:43.673355Z"
    }
   },
   "outputs": [],
   "source": [
    "# Lecture du fichier des tables mergées avec les estimations m2 déjà enregistrées\n",
    "df = pd.read_csv('./Tables_traitees/Table_avec_prixM2_estime.csv',\n",
    "                 sep=';',dtype={'3_Code département':str, '3_Code INSEE (commune ou arrondissement)':str, \n",
    "                                '3_Code EPCI':str, '1_Code INSEE commune':str, '1_Num PDL':str,\n",
    "                                '1_longitude':str, '1_code_commune_n':str, '2_Code INSEE':str,\n",
    "                                '2_code_commune_n':str, '4_Code Postal':str, \"5_INSEE_DEP\":str, \"5_ID\":str,\n",
    "                                \"5_INSEE_COM\":str,\"5_code_commune_n\":str,\"6_insee\":str,\"4_Code INSEE\":str,\n",
    "                                \"4_Code Département\":str })"
   ]
  },
  {
   "cell_type": "code",
   "execution_count": 8,
   "id": "c3343101-4447-45c4-a6b7-609c8efaaa9f",
   "metadata": {
    "execution": {
     "iopub.execute_input": "2024-01-31T09:35:46.967262Z",
     "iopub.status.busy": "2024-01-31T09:35:46.967262Z",
     "iopub.status.idle": "2024-01-31T09:35:46.987032Z",
     "shell.execute_reply": "2024-01-31T09:35:46.986115Z",
     "shell.execute_reply.started": "2024-01-31T09:35:46.967262Z"
    }
   },
   "outputs": [
    {
     "data": {
      "text/plain": [
       "(36750, 62)"
      ]
     },
     "execution_count": 8,
     "metadata": {},
     "output_type": "execute_result"
    }
   ],
   "source": [
    "df.shape"
   ]
  },
  {
   "cell_type": "code",
   "execution_count": 9,
   "id": "b6eddb5c-8584-45ea-8db1-834dfed559a7",
   "metadata": {
    "execution": {
     "iopub.execute_input": "2024-01-31T09:35:47.434895Z",
     "iopub.status.busy": "2024-01-31T09:35:47.433896Z",
     "iopub.status.idle": "2024-01-31T09:35:47.454077Z",
     "shell.execute_reply": "2024-01-31T09:35:47.453156Z",
     "shell.execute_reply.started": "2024-01-31T09:35:47.434895Z"
    },
    "scrolled": true
   },
   "outputs": [
    {
     "data": {
      "text/plain": [
       "['3_Code région',\n",
       " '3_Nom de la région',\n",
       " '3_Code département',\n",
       " '3_Code commune',\n",
       " '3_Nom de la commune',\n",
       " '3_Population municipale',\n",
       " '3_Population comptée à part',\n",
       " '3_Population totale',\n",
       " '3_Année recensement',\n",
       " '3_Année utilisation',\n",
       " '3_Code INSEE (commune ou arrondissement)',\n",
       " '3_Superficie de la commune',\n",
       " '3_Statut',\n",
       " '3_Code EPCI',\n",
       " '3_EPCI',\n",
       " '3_Densité_hab_par_km2',\n",
       " '5_ID',\n",
       " '5_INSEE_COM',\n",
       " '5_INSEE_DEP',\n",
       " '5_INSEE_REG',\n",
       " '5_CODE_EPCI',\n",
       " '5_NOM_COM_M',\n",
       " '5_POPULATION',\n",
       " '5_Nb_Ventes',\n",
       " '5_PrixMoyen_M2',\n",
       " '5_nb_digits_code_INSEE',\n",
       " '5_code_commune_n',\n",
       " '4_Code INSEE',\n",
       " '4_Code Postal',\n",
       " '4_Commune',\n",
       " '4_Département',\n",
       " '4_Région',\n",
       " '4_Statut',\n",
       " '4_Altitude Moyenne',\n",
       " '4_Superficie',\n",
       " '4_Population',\n",
       " '4_geo_point_2d',\n",
       " '4_geo_shape',\n",
       " '4_ID Geofla',\n",
       " '4_Code Commune',\n",
       " '4_Code Canton',\n",
       " '4_Code Arrondissement',\n",
       " '4_Code Département',\n",
       " '4_Code Région',\n",
       " '4_lat',\n",
       " '4_lon',\n",
       " '4_Densité_hab_par_km2',\n",
       " '6_insee',\n",
       " '6_nom',\n",
       " '6_nb_voisins',\n",
       " '6_insee_voisins',\n",
       " '6_noms_voisins',\n",
       " '6_cap_voisins',\n",
       " '6_type',\n",
       " 'A_Prix_consolidé_vois_mean',\n",
       " 'A_Prix_estimé_vois_mean',\n",
       " 'B_Prix_consolidé_vois_median',\n",
       " 'B_Prix_estimé_vois_median',\n",
       " 'C_Prix_estime_mean',\n",
       " 'C1_Prix_estime_median',\n",
       " 'F_Prix_estimé_RFReg',\n",
       " 'G_Prix_estimé_LassoCV']"
      ]
     },
     "execution_count": 9,
     "metadata": {},
     "output_type": "execute_result"
    }
   ],
   "source": [
    "df.columns.to_list()"
   ]
  },
  {
   "cell_type": "code",
   "execution_count": 10,
   "id": "95ff8bca-15a9-42ca-9724-fa2ed39b00d3",
   "metadata": {
    "execution": {
     "iopub.execute_input": "2024-01-31T09:35:50.343220Z",
     "iopub.status.busy": "2024-01-31T09:35:50.343220Z",
     "iopub.status.idle": "2024-01-31T09:35:50.353179Z",
     "shell.execute_reply": "2024-01-31T09:35:50.352257Z",
     "shell.execute_reply.started": "2024-01-31T09:35:50.343220Z"
    },
    "tags": []
   },
   "outputs": [
    {
     "data": {
      "text/plain": [
       "(36750, 62)"
      ]
     },
     "execution_count": 10,
     "metadata": {},
     "output_type": "execute_result"
    }
   ],
   "source": [
    "df.shape"
   ]
  },
  {
   "cell_type": "code",
   "execution_count": 11,
   "id": "664bdbc4-6023-4ea8-91d5-95711b4efacf",
   "metadata": {
    "execution": {
     "iopub.execute_input": "2024-01-31T09:35:50.764121Z",
     "iopub.status.busy": "2024-01-31T09:35:50.763057Z",
     "iopub.status.idle": "2024-01-31T09:35:50.962363Z",
     "shell.execute_reply": "2024-01-31T09:35:50.961353Z",
     "shell.execute_reply.started": "2024-01-31T09:35:50.764121Z"
    },
    "scrolled": true
   },
   "outputs": [
    {
     "data": {
      "text/html": [
       "<div>\n",
       "<style scoped>\n",
       "    .dataframe tbody tr th:only-of-type {\n",
       "        vertical-align: middle;\n",
       "    }\n",
       "\n",
       "    .dataframe tbody tr th {\n",
       "        vertical-align: top;\n",
       "    }\n",
       "\n",
       "    .dataframe thead th {\n",
       "        text-align: right;\n",
       "    }\n",
       "</style>\n",
       "<table border=\"1\" class=\"dataframe\">\n",
       "  <thead>\n",
       "    <tr style=\"text-align: right;\">\n",
       "      <th></th>\n",
       "      <th>Variable</th>\n",
       "      <th>type</th>\n",
       "      <th>Nb_val_unique</th>\n",
       "      <th>Nb_manquant</th>\n",
       "    </tr>\n",
       "  </thead>\n",
       "  <tbody>\n",
       "    <tr>\n",
       "      <th>53</th>\n",
       "      <td>6_type</td>\n",
       "      <td>object</td>\n",
       "      <td>9</td>\n",
       "      <td>35990</td>\n",
       "    </tr>\n",
       "    <tr>\n",
       "      <th>23</th>\n",
       "      <td>5_Nb_Ventes</td>\n",
       "      <td>float64</td>\n",
       "      <td>554</td>\n",
       "      <td>9928</td>\n",
       "    </tr>\n",
       "    <tr>\n",
       "      <th>24</th>\n",
       "      <td>5_PrixMoyen_M2</td>\n",
       "      <td>float64</td>\n",
       "      <td>3709</td>\n",
       "      <td>9928</td>\n",
       "    </tr>\n",
       "    <tr>\n",
       "      <th>57</th>\n",
       "      <td>B_Prix_estimé_vois_median</td>\n",
       "      <td>float64</td>\n",
       "      <td>9337</td>\n",
       "      <td>2351</td>\n",
       "    </tr>\n",
       "    <tr>\n",
       "      <th>55</th>\n",
       "      <td>A_Prix_estimé_vois_mean</td>\n",
       "      <td>float64</td>\n",
       "      <td>29371</td>\n",
       "      <td>2351</td>\n",
       "    </tr>\n",
       "    <tr>\n",
       "      <th>...</th>\n",
       "      <td>...</td>\n",
       "      <td>...</td>\n",
       "      <td>...</td>\n",
       "      <td>...</td>\n",
       "    </tr>\n",
       "    <tr>\n",
       "      <th>8</th>\n",
       "      <td>3_Année recensement</td>\n",
       "      <td>int64</td>\n",
       "      <td>10</td>\n",
       "      <td>0</td>\n",
       "    </tr>\n",
       "    <tr>\n",
       "      <th>9</th>\n",
       "      <td>3_Année utilisation</td>\n",
       "      <td>int64</td>\n",
       "      <td>10</td>\n",
       "      <td>0</td>\n",
       "    </tr>\n",
       "    <tr>\n",
       "      <th>12</th>\n",
       "      <td>3_Statut</td>\n",
       "      <td>object</td>\n",
       "      <td>2</td>\n",
       "      <td>0</td>\n",
       "    </tr>\n",
       "    <tr>\n",
       "      <th>1</th>\n",
       "      <td>3_Nom de la région</td>\n",
       "      <td>object</td>\n",
       "      <td>36</td>\n",
       "      <td>0</td>\n",
       "    </tr>\n",
       "    <tr>\n",
       "      <th>0</th>\n",
       "      <td>3_Code région</td>\n",
       "      <td>float64</td>\n",
       "      <td>34</td>\n",
       "      <td>0</td>\n",
       "    </tr>\n",
       "  </tbody>\n",
       "</table>\n",
       "<p>62 rows × 4 columns</p>\n",
       "</div>"
      ],
      "text/plain": [
       "                     Variable     type  Nb_val_unique  Nb_manquant\n",
       "53                     6_type   object              9        35990\n",
       "23                5_Nb_Ventes  float64            554         9928\n",
       "24             5_PrixMoyen_M2  float64           3709         9928\n",
       "57  B_Prix_estimé_vois_median  float64           9337         2351\n",
       "55    A_Prix_estimé_vois_mean  float64          29371         2351\n",
       "..                        ...      ...            ...          ...\n",
       "8         3_Année recensement    int64             10            0\n",
       "9         3_Année utilisation    int64             10            0\n",
       "12                   3_Statut   object              2            0\n",
       "1          3_Nom de la région   object             36            0\n",
       "0               3_Code région  float64             34            0\n",
       "\n",
       "[62 rows x 4 columns]"
      ]
     },
     "execution_count": 11,
     "metadata": {},
     "output_type": "execute_result"
    }
   ],
   "source": [
    "# Valeurs uniques et manquant par colonne\n",
    "df_analyse = []\n",
    "manquantes = df.isna().sum()\n",
    "for t in df.columns:\n",
    "    row = {}\n",
    "    row['Variable']=t\n",
    "    row['type']= df[t].dtypes\n",
    "    row['Nb_val_unique']=len(df[t].unique())\n",
    "    row['Nb_manquant']=manquantes[t]\n",
    "    df_analyse.append(row)\n",
    "df_analyse = pd.DataFrame(df_analyse)\n",
    "df_analyse.sort_values(by='Nb_manquant',ascending=False)"
   ]
  },
  {
   "cell_type": "code",
   "execution_count": 12,
   "id": "269f9936-aed6-4f73-a7de-78cd93f3e155",
   "metadata": {
    "execution": {
     "iopub.execute_input": "2024-01-31T09:35:55.382552Z",
     "iopub.status.busy": "2024-01-31T09:35:55.382552Z",
     "iopub.status.idle": "2024-01-31T09:35:55.396915Z",
     "shell.execute_reply": "2024-01-31T09:35:55.395906Z",
     "shell.execute_reply.started": "2024-01-31T09:35:55.382552Z"
    },
    "tags": []
   },
   "outputs": [],
   "source": [
    "# correction d'une ligne (la seule, dont la superficie et la densité n'étaient pas remplies\n",
    "df.loc[31441, '3_Superficie de la commune'] = 8.71\n",
    "df.loc[31441, '3_Densité_hab_par_km2'] = 254.0/8.71\n",
    "# df.loc[31441,:]"
   ]
  },
  {
   "cell_type": "markdown",
   "id": "fee3c5a9-b8e6-4da9-921a-af8494b5931d",
   "metadata": {},
   "source": [
    "- Choisissons d'abord une liste d'index de 6000 valeurs\n",
    "- Nous n'utiliserons pas ces lignes pour les entrainements de modèles de ML, uniquement pour mesurer la précision de chaque modèle\n",
    "- SVP pour entrainer vos modèles, utiliser désormais df_train\n",
    "- Ensuite vous faites la prédictions sur tout le dataframe df\n",
    "- Pour la comparaison on utilisera que les lignes correspondantes aux index_to_remove, ainsi on peut comparer les résultats sur des données non entrainées"
   ]
  },
  {
   "cell_type": "code",
   "execution_count": 13,
   "id": "2a169952-0f37-4a5f-9155-8e44b61ba886",
   "metadata": {
    "execution": {
     "iopub.execute_input": "2024-01-31T09:35:56.183897Z",
     "iopub.status.busy": "2024-01-31T09:35:56.182900Z",
     "iopub.status.idle": "2024-01-31T09:35:56.227015Z",
     "shell.execute_reply": "2024-01-31T09:35:56.227015Z",
     "shell.execute_reply.started": "2024-01-31T09:35:56.183897Z"
    }
   },
   "outputs": [],
   "source": [
    "np.random.seed(97)\n",
    "index_to_remove = np.random.randint(0,len(df)+1, size=6000)\n",
    "df_train = df.drop(index_to_remove)"
   ]
  },
  {
   "cell_type": "code",
   "execution_count": 14,
   "id": "2acf624d-c661-4bb4-86da-824e5861ef60",
   "metadata": {
    "execution": {
     "iopub.execute_input": "2024-01-31T09:35:56.653768Z",
     "iopub.status.busy": "2024-01-31T09:35:56.652809Z",
     "iopub.status.idle": "2024-01-31T09:35:56.697151Z",
     "shell.execute_reply": "2024-01-31T09:35:56.696151Z",
     "shell.execute_reply.started": "2024-01-31T09:35:56.653768Z"
    }
   },
   "outputs": [],
   "source": [
    "df_m2 = df_train[df_train['5_PrixMoyen_M2'].isna()==False]\n",
    "# df_m2[sel_col]"
   ]
  },
  {
   "cell_type": "code",
   "execution_count": 15,
   "id": "da02045d-6f81-439d-81ab-005d89a08861",
   "metadata": {
    "execution": {
     "iopub.execute_input": "2024-01-31T09:35:57.360538Z",
     "iopub.status.busy": "2024-01-31T09:35:57.359461Z",
     "iopub.status.idle": "2024-01-31T09:35:57.374843Z",
     "shell.execute_reply": "2024-01-31T09:35:57.373925Z",
     "shell.execute_reply.started": "2024-01-31T09:35:57.360538Z"
    }
   },
   "outputs": [
    {
     "data": {
      "text/plain": [
       "Index(['3_Code région', '3_Nom de la région', '3_Code département',\n",
       "       '3_Code commune', '3_Nom de la commune', '3_Population municipale',\n",
       "       '3_Population comptée à part', '3_Population totale',\n",
       "       '3_Année recensement', '3_Année utilisation',\n",
       "       '3_Code INSEE (commune ou arrondissement)',\n",
       "       '3_Superficie de la commune', '3_Statut', '3_Code EPCI', '3_EPCI',\n",
       "       '3_Densité_hab_par_km2', '5_ID', '5_INSEE_COM', '5_INSEE_DEP',\n",
       "       '5_INSEE_REG', '5_CODE_EPCI', '5_NOM_COM_M', '5_POPULATION',\n",
       "       '5_Nb_Ventes', '5_PrixMoyen_M2', '5_nb_digits_code_INSEE',\n",
       "       '5_code_commune_n', '4_Code INSEE', '4_Code Postal', '4_Commune',\n",
       "       '4_Département', '4_Région', '4_Statut', '4_Altitude Moyenne',\n",
       "       '4_Superficie', '4_Population', '4_geo_point_2d', '4_geo_shape',\n",
       "       '4_ID Geofla', '4_Code Commune', '4_Code Canton',\n",
       "       '4_Code Arrondissement', '4_Code Département', '4_Code Région', '4_lat',\n",
       "       '4_lon', '4_Densité_hab_par_km2', '6_insee', '6_nom', '6_nb_voisins',\n",
       "       '6_insee_voisins', '6_noms_voisins', '6_cap_voisins', '6_type',\n",
       "       'A_Prix_consolidé_vois_mean', 'A_Prix_estimé_vois_mean',\n",
       "       'B_Prix_consolidé_vois_median', 'B_Prix_estimé_vois_median',\n",
       "       'C_Prix_estime_mean', 'C1_Prix_estime_median', 'F_Prix_estimé_RFReg',\n",
       "       'G_Prix_estimé_LassoCV'],\n",
       "      dtype='object')"
      ]
     },
     "execution_count": 15,
     "metadata": {},
     "output_type": "execute_result"
    }
   ],
   "source": [
    "df_m2.columns"
   ]
  },
  {
   "cell_type": "code",
   "execution_count": 16,
   "id": "76a16cd8-ef41-4ff2-8f83-298753aba84a",
   "metadata": {
    "execution": {
     "iopub.execute_input": "2024-01-31T09:36:00.117748Z",
     "iopub.status.busy": "2024-01-31T09:36:00.116742Z",
     "iopub.status.idle": "2024-01-31T09:36:00.128349Z",
     "shell.execute_reply": "2024-01-31T09:36:00.127335Z",
     "shell.execute_reply.started": "2024-01-31T09:36:00.117748Z"
    }
   },
   "outputs": [],
   "source": [
    "from sklearn.model_selection import KFold\n",
    "nb_kfold = 5\n",
    "rdm_state = 97\n",
    "kf = KFold(n_splits=nb_kfold,shuffle=True, random_state = rdm_state)"
   ]
  },
  {
   "cell_type": "markdown",
   "id": "ff29b936-0ee2-4581-a193-bf832774e7e2",
   "metadata": {},
   "source": [
    "# Estimation des manquants prix moyen m2 "
   ]
  },
  {
   "cell_type": "markdown",
   "id": "92959a83-406f-4e66-930e-62c78647991c",
   "metadata": {},
   "source": [
    "On commence par choisir les variables qui vont participer à l'imputation"
   ]
  },
  {
   "cell_type": "code",
   "execution_count": null,
   "id": "9d95b0fc-d1ee-41f6-835f-63b4e3eb4a70",
   "metadata": {
    "tags": []
   },
   "outputs": [],
   "source": [
    "sel_col = ['3_Code INSEE (commune ou arrondissement)','3_Code département', '5_PrixMoyen_M2', \n",
    "           'A_Prix_estimé_vois_mean', 'A_Prix_consolidé_vois_mean', 'B_Prix_estimé_vois_median', 'B_Prix_consolidé_vois_median', \n",
    "           '6_insee_voisins']"
   ]
  },
  {
   "cell_type": "markdown",
   "id": "42cd0c6b-0397-4713-a98d-b8c61af0861a",
   "metadata": {
    "execution": {
     "iopub.execute_input": "2024-01-16T12:32:06.719435Z",
     "iopub.status.busy": "2024-01-16T12:32:06.719435Z",
     "iopub.status.idle": "2024-01-16T12:32:06.732932Z",
     "shell.execute_reply": "2024-01-16T12:32:06.732305Z",
     "shell.execute_reply.started": "2024-01-16T12:32:06.719435Z"
    }
   },
   "source": [
    "## A-Par moyenne et B-médiane des communes avoisinantes"
   ]
  },
  {
   "cell_type": "code",
   "execution_count": null,
   "id": "aea791c2-1500-4cad-83b2-3fd3c8c5f5fa",
   "metadata": {
    "tags": []
   },
   "outputs": [],
   "source": [
    "# On initialise les nouvelles variables\n",
    "df['A_Prix_consolidé_vois_mean'] = np.nan\n",
    "df['A_Prix_estimé_vois_mean'] = np.nan\n",
    "df['B_Prix_consolidé_vois_median'] = np.nan\n",
    "df['B_Prix_estimé_vois_median'] = np.nan\n",
    "df['5_PrixMoyen_M2'] = df['5_PrixMoyen_M2'].astype(float)"
   ]
  },
  {
   "cell_type": "code",
   "execution_count": null,
   "id": "a64970ef-8ec5-4d5f-ba56-b4ef1686c7ad",
   "metadata": {},
   "outputs": [],
   "source": [
    "# On crée un dictionnaire pour aller plus vite dans la recherche des communes voisines \n",
    "voisins_dict = df.set_index('6_insee')['6_insee_voisins'].to_dict()\n",
    "df['A_Prix_consolidé_vois_mean'] = df['5_PrixMoyen_M2']\n",
    "df['B_Prix_consolidé_vois_median'] = df['5_PrixMoyen_M2']"
   ]
  },
  {
   "cell_type": "code",
   "execution_count": null,
   "id": "58ed3f9b-e77e-42cf-b6b9-100e9f26d744",
   "metadata": {
    "tags": []
   },
   "outputs": [],
   "source": [
    "def estim_prix(code, vois, prix_mean, prix_median):\n",
    "    try:\n",
    "        # voisins = df_commune_adj.loc[df_commune_adj['insee']==code,'insee_voisins'].values[0].split('|')\n",
    "        voisins = vois[str(code)].split('|')\n",
    "        # print(voisins)\n",
    "        prix_voisins_mean = list()\n",
    "        prix_voisins_median = list()\n",
    "        for v in voisins:\n",
    "            try:\n",
    "                # p = df.loc[df['Code INSEE (commune ou arrondissement)']==v,'Prix_consolidé'].values[0]\n",
    "                p1 = prix_mean[str(v)]\n",
    "                p2 = prix_median[str(v)]\n",
    "            except:\n",
    "                p1, p2 = None, None\n",
    "            # nb = df.loc[df['Code INSEE (commune ou arrondissement)']==v,'Nb_Ventes'].values[0]\n",
    "            prix_voisins_mean.append(float(p1))\n",
    "            prix_voisins_median.append(float(p2))\n",
    "        # print(code, voisins,prix_voisins)\n",
    "        mean = np.nanmean(prix_voisins_mean)\n",
    "        median = np.nanmedian(prix_voisins_median)\n",
    "    except:\n",
    "        mean = np.nan\n",
    "        median = np.nan\n",
    "    # print(code, mean, median)\n",
    "    # print('-------')\n",
    "    return pd.Series({'A_Prix_estimé_vois_mean': mean, 'B_Prix_estimé_vois_median': median})"
   ]
  },
  {
   "cell_type": "code",
   "execution_count": null,
   "id": "36f6b2c7-6174-4d16-9cec-669e307fd4c2",
   "metadata": {
    "scrolled": true,
    "tags": []
   },
   "outputs": [],
   "source": [
    "%%time\n",
    "n_iterations = 10\n",
    "i=0\n",
    "print('iteration:',i,'nbre de manquants:', sum(pd.isna(df['A_Prix_consolidé_vois_mean'])))\n",
    "while i<n_iterations:\n",
    "    Prix_consolidé_dict_mean = df.set_index('3_Code INSEE (commune ou arrondissement)')['A_Prix_consolidé_vois_mean'].to_dict()\n",
    "    Prix_consolidé_dict_median = df.set_index('3_Code INSEE (commune ou arrondissement)')['B_Prix_consolidé_vois_median'].to_dict()\n",
    "    df[['A_Prix_estimé_vois_mean', 'B_Prix_estimé_vois_median']] = df.apply(lambda x: estim_prix(x['3_Code INSEE (commune ou arrondissement)'], \n",
    "                                                                                      voisins_dict, Prix_consolidé_dict_mean, \n",
    "                                                                                       Prix_consolidé_dict_median ),axis=1)\n",
    "    df['A_Prix_consolidé_vois_mean'] = df['A_Prix_estimé_vois_mean']\n",
    "    df['B_Prix_consolidé_vois_median'] = df['B_Prix_estimé_vois_median']\n",
    "    df.loc[pd.notna(df['5_PrixMoyen_M2']),'A_Prix_consolidé_vois_mean'] = df.loc[pd.notna(df['5_PrixMoyen_M2']), '5_PrixMoyen_M2'] \n",
    "    df.loc[pd.notna(df['5_PrixMoyen_M2']),'B_Prix_consolidé_vois_median'] = df.loc[pd.notna(df['5_PrixMoyen_M2']), '5_PrixMoyen_M2'] \n",
    "    nb_manquants = sum(pd.isna(df['A_Prix_consolidé_vois_mean']))\n",
    "    i+=1\n",
    "    print('iteration:',i,'nbre de manquants:',nb_manquants)"
   ]
  },
  {
   "cell_type": "code",
   "execution_count": null,
   "id": "33f8a052-b49d-49d9-8d4c-1542ed0ab0c3",
   "metadata": {
    "tags": []
   },
   "outputs": [],
   "source": [
    "df_prix_na = df[df['A_Prix_consolidé_vois_mean'].isna()]"
   ]
  },
  {
   "cell_type": "code",
   "execution_count": null,
   "id": "8e4f29d7-61e5-4317-8188-d82fb5a60a05",
   "metadata": {
    "tags": []
   },
   "outputs": [],
   "source": [
    "df_prix_na.shape"
   ]
  },
  {
   "cell_type": "code",
   "execution_count": null,
   "id": "9fb2c700-bf1a-4a6f-bc62-676afc9161eb",
   "metadata": {
    "scrolled": true,
    "tags": []
   },
   "outputs": [],
   "source": [
    "print(len(df_prix_na.loc[pd.isna(df_prix_na['6_insee_voisins']),sel_col]))\n",
    "df_prix_na.loc[pd.isna(df_prix_na['6_insee_voisins']),sel_col]"
   ]
  },
  {
   "cell_type": "code",
   "execution_count": null,
   "id": "501789ff-1fca-436c-8931-0a355116d574",
   "metadata": {
    "scrolled": true,
    "tags": []
   },
   "outputs": [],
   "source": [
    "print(len(df_prix_na.loc[~pd.isna(df_prix_na['6_insee_voisins']),sel_col]))\n",
    "df_prix_na.loc[~pd.isna(df_prix_na['6_insee_voisins']),sel_col]"
   ]
  },
  {
   "cell_type": "code",
   "execution_count": null,
   "id": "59d47e03-5a65-48a2-8343-6dc2671746c4",
   "metadata": {},
   "outputs": [],
   "source": [
    "df_prix_na.loc[~pd.isna(df_prix_na['6_insee_voisins']),'3_Code département'].unique()"
   ]
  },
  {
   "cell_type": "markdown",
   "id": "0bcf26b8-87a9-4574-96ee-d9a82ed08873",
   "metadata": {},
   "source": [
    "2 cas pour ceux qui n'ont pas de prix consolidé\n",
    "- soit ils n'ont pas de voisins identifiés\n",
    "- soit ils ont des voisins mais n'ont pas de prix, en DOM TOM, départements 97X"
   ]
  },
  {
   "cell_type": "code",
   "execution_count": null,
   "id": "6bc05b72-a2d5-44eb-8bcb-cf533b6e0621",
   "metadata": {
    "tags": []
   },
   "outputs": [],
   "source": [
    "# Ceux qui n'ont pas de prix estimé parce les voisins n'en n'ont pas\n",
    "df_na = df[df['A_Prix_estimé_vois_mean'].isna() & df['6_insee_voisins'].notna()]\n",
    "len(df_na)\n",
    "df_na[:3]"
   ]
  },
  {
   "cell_type": "code",
   "execution_count": null,
   "id": "87f90edf-16ce-481d-bba2-fa5301f23253",
   "metadata": {},
   "outputs": [],
   "source": [
    "print(len(df[df['5_PrixMoyen_M2'].isna()]))\n",
    "print(len(df[df['A_Prix_consolidé_vois_mean'].isna()]))\n",
    "print(len(df[df['B_Prix_consolidé_vois_median'].isna()]))"
   ]
  },
  {
   "cell_type": "code",
   "execution_count": null,
   "id": "b103b370-ba9d-4882-a3c1-2c5da0059d85",
   "metadata": {},
   "outputs": [],
   "source": [
    "df[df['A_Prix_estimé_vois_mean'].isna() & df['A_Prix_consolidé_vois_mean'].notna()].head()"
   ]
  },
  {
   "cell_type": "code",
   "execution_count": null,
   "id": "e0e2d164-e7a5-4b6b-ad9f-4701b2f7d653",
   "metadata": {
    "tags": []
   },
   "outputs": [],
   "source": [
    "df_m2['A_Prix_estimé_vois_mean'] = df['A_Prix_estimé_vois_mean'][df['5_PrixMoyen_M2'].isna() == False]\n",
    "df_m2['B_Prix_estimé_vois_median'] = df['B_Prix_estimé_vois_median'][df['5_PrixMoyen_M2'].isna() == False]"
   ]
  },
  {
   "cell_type": "code",
   "execution_count": null,
   "id": "3db3512d-7538-4e39-9f3b-99e739ab4e9d",
   "metadata": {
    "tags": []
   },
   "outputs": [],
   "source": [
    "df_m2.shape"
   ]
  },
  {
   "cell_type": "markdown",
   "id": "6e5c4f24-7706-4f37-b994-9e34daa5a5ae",
   "metadata": {
    "execution": {
     "iopub.execute_input": "2024-01-16T12:38:33.219410Z",
     "iopub.status.busy": "2024-01-16T12:38:33.219410Z",
     "iopub.status.idle": "2024-01-16T12:38:33.226486Z",
     "shell.execute_reply": "2024-01-16T12:38:33.226486Z",
     "shell.execute_reply.started": "2024-01-16T12:38:33.219410Z"
    }
   },
   "source": [
    "## C-Par moyenne et C1-mediane de toute la variable PAUL"
   ]
  },
  {
   "cell_type": "code",
   "execution_count": null,
   "id": "1c587228-a677-462d-a928-2857e2d386ef",
   "metadata": {},
   "outputs": [],
   "source": [
    "df['5_PrixMoyen_M2'].describe()"
   ]
  },
  {
   "cell_type": "code",
   "execution_count": null,
   "id": "fd19d59b-01ff-4776-b1a3-6faad47885e2",
   "metadata": {},
   "outputs": [],
   "source": [
    "mean_value =  np.round(np.mean(df.loc[df['5_PrixMoyen_M2'].isna() == False, '5_PrixMoyen_M2']))\n",
    "mean_value"
   ]
  },
  {
   "cell_type": "code",
   "execution_count": null,
   "id": "3d1488d0-b0c5-421e-88f3-3746f17c33fb",
   "metadata": {
    "scrolled": true
   },
   "outputs": [],
   "source": [
    "median_value = np.round(np.median(df.loc[df['5_PrixMoyen_M2'].isna() == False, '5_PrixMoyen_M2']))\n",
    "median_value"
   ]
  },
  {
   "cell_type": "code",
   "execution_count": null,
   "id": "f6f2ae3b-1263-4337-85c0-bbf208293a97",
   "metadata": {
    "scrolled": true,
    "tags": []
   },
   "outputs": [],
   "source": [
    "df_m2.loc[df['5_PrixMoyen_M2'].isna() == False,'C_Prix_estime_mean'] = mean_value\n",
    "df_m2.loc[df['5_PrixMoyen_M2'].isna() == False,'C1_Prix_estime_median'] = median_value\n",
    "df.loc[df['5_PrixMoyen_M2'].isna() == False,'C_Prix_estime_mean'] = mean_value\n",
    "df.loc[df['5_PrixMoyen_M2'].isna() == False,'C1_Prix_estime_median'] = median_value\n",
    "df_m2.shape"
   ]
  },
  {
   "cell_type": "markdown",
   "id": "09519ce0-188a-4b36-96ef-8a3ace424230",
   "metadata": {},
   "source": [
    "## D-Par KNN OUMAR"
   ]
  },
  {
   "cell_type": "code",
   "execution_count": null,
   "id": "3f9607e0-adb1-4ad4-944f-925c450f2227",
   "metadata": {},
   "outputs": [],
   "source": [
    "import pandas as pd\n",
    "from sklearn.impute import KNNImputer\n",
    "from sklearn.preprocessing import MinMaxScaler\n",
    "from sklearn.metrics import mean_squared_error\n",
    "from math import sqrt\n",
    "\n",
    "# Sélection des caractéristiques\n",
    "features = ['3_Population municipale','5_PrixMoyen_M2', '3_Densité_hab_par_km2', '3_Superficie de la commune', '4_Superficie','4_Altitude Moyenne','4_lat','4_lon']\n",
    "\n",
    "# Création d'un DataFrame avec seulement les caractéristiques sélectionnées\n",
    "data_subset = df[features]\n",
    "\n",
    "# Remplacer les valeurs manquantes dans \"5_PrixMoyen_M2\" par NaN\n",
    "data_subset['5_PrixMoyen_M2'] = data_subset['5_PrixMoyen_M2'].replace(0, np.nan)  # Assurez-vous de choisir la valeur qui représente une valeur manquante\n",
    "data_subset['5_PrixMoyen_M2'] = pd.to_numeric(data_subset['5_PrixMoyen_M2'], errors='coerce')\n",
    "\n",
    "# Imputer les valeurs manquantes avec KNNImputer\n",
    "imputer = KNNImputer(n_neighbors=5)\n",
    "data_imputed = imputer.fit_transform(data_subset)\n",
    "\n",
    "# Normalisation des données\n",
    "scaler = MinMaxScaler()\n",
    "data_normalized = scaler.fit_transform(data_imputed)\n",
    "\n",
    "# Créer un DataFrame avec les données normalisées et le nom des colonnes\n",
    "columns = data_subset.columns\n",
    "data_normalized_df = pd.DataFrame(data_normalized, columns=columns)\n",
    "\n",
    "# Ajouter une colonne pour stocker les valeurs prédites par le KNN\n",
    "data_normalized_df['0_KNN_predicted'] = imputer.transform(data_subset)[:, 1]\n",
    "\n",
    "# Afficher toutes les données\n",
    "print(data_normalized_df)\n"
   ]
  },
  {
   "cell_type": "code",
   "execution_count": null,
   "id": "48b8e5d2",
   "metadata": {},
   "outputs": [],
   "source": [
    "df['5_PrixMoyen_M2']"
   ]
  },
  {
   "cell_type": "code",
   "execution_count": null,
   "id": "6b97659f",
   "metadata": {},
   "outputs": [],
   "source": [
    "data_normalized_df['0_KNN_predicted']"
   ]
  },
  {
   "cell_type": "code",
   "execution_count": null,
   "id": "9c1b8c0c",
   "metadata": {},
   "outputs": [],
   "source": [
    "# Vérifier les valeurs manquantes dans la colonne d'origine\n",
    "#missing_values_before = df['5_PrixMoyen_M2'].isnull().sum()\n",
    "#print(f\"Nombre de valeurs manquantes dans '5_PrixMoyen_M2' avant l'imputation : {missing_values_before}\")\n",
    "\n",
    "# Imputer les valeurs manquantes avec KNNImputer dans le DataFrame d'origine\n",
    "#df['5_PrixMoyen_M2'] = imputer.transform(df[features])[:, 1]\n",
    "\n",
    "# Vérifier à nouveau les valeurs manquantes après l'imputation\n",
    "#missing_values_after = df['5_PrixMoyen_M2'].isnull().sum()\n",
    "#print(f\"Nombre de valeurs manquantes dans '5_PrixMoyen_M2' après l'imputation : {missing_values_after}\")"
   ]
  },
  {
   "cell_type": "code",
   "execution_count": null,
   "id": "d9cbbe76",
   "metadata": {},
   "outputs": [],
   "source": [
    "import matplotlib.pyplot as plt\n",
    "\n",
    "# Extraire les valeurs réelles et prédites\n",
    "actual_values = data_subset['5_PrixMoyen_M2'].values\n",
    "predicted_values = data_normalized_df['5_PrixMoyen_M2_predicted'].values\n",
    "\n",
    "# Créer un graphique de dispersion\n",
    "plt.figure(figsize=(10, 6))\n",
    "plt.scatter(actual_values, predicted_values, alpha=0.5)\n",
    "plt.plot([min(actual_values), max(actual_values)], [min(actual_values), max(actual_values)], color='red', linestyle='--', linewidth=2)\n",
    "plt.title('Valeurs Réelles vs Valeurs Prédites')\n",
    "plt.xlabel('Valeurs Réelles')\n",
    "plt.ylabel('Valeurs Prédites')\n",
    "plt.show()\n"
   ]
  },
  {
   "cell_type": "code",
   "execution_count": null,
   "id": "8a0c6262",
   "metadata": {},
   "outputs": [],
   "source": [
    "import matplotlib.pyplot as plt\n",
    "\n",
    "# Extraire les valeurs réelles et prédites\n",
    "actual_values = data_subset['5_PrixMoyen_M2'].values\n",
    "predicted_values = data_normalized_df['5_PrixMoyen_M2_predicted'].values\n",
    "\n",
    "# Créer un histogramme\n",
    "plt.figure(figsize=(10, 6))\n",
    "plt.hist([actual_values, predicted_values], bins=30, label=['Réel', 'Prédit'], alpha=0.7)\n",
    "plt.legend()\n",
    "plt.title('Histogramme des Valeurs Réelles et Prédites')\n",
    "plt.xlabel('Valeurs')\n",
    "plt.ylabel('Fréquence')\n",
    "plt.show()\n"
   ]
  },
  {
   "cell_type": "code",
   "execution_count": null,
   "id": "f3bd12aa",
   "metadata": {},
   "outputs": [],
   "source": [
    "import seaborn as sns\n",
    "import matplotlib.pyplot as plt\n",
    "\n",
    "# Extraire les valeurs réelles et prédites\n",
    "actual_values = data_subset['5_PrixMoyen_M2'].values\n",
    "predicted_values = data_normalized_df['5_PrixMoyen_M2_predicted'].values\n",
    "\n",
    "# Créer un DataFrame pour Seaborn\n",
    "data_for_seaborn = pd.DataFrame({'Réel': actual_values, 'Prédit': predicted_values})\n",
    "\n",
    "# Créer un histogramme avec Seaborn\n",
    "plt.figure(figsize=(10, 6))\n",
    "sns.histplot(data=data_for_seaborn, bins=30, kde=True)\n",
    "plt.title('Histogramme des Valeurs Réelles et Prédites avec Seaborn')\n",
    "plt.xlabel('Valeurs')\n",
    "plt.ylabel('Fréquence')\n",
    "plt.show()\n"
   ]
  },
  {
   "cell_type": "code",
   "execution_count": null,
   "id": "3236a4e5",
   "metadata": {},
   "outputs": [],
   "source": [
    "Delta= y_test - Y_pred"
   ]
  },
  {
   "cell_type": "code",
   "execution_count": null,
   "id": "94809a1d",
   "metadata": {},
   "outputs": [],
   "source": [
    "df.columns"
   ]
  },
  {
   "cell_type": "markdown",
   "id": "db2a42bb-31b2-4175-895c-47a9854eb54e",
   "metadata": {
    "execution": {
     "iopub.execute_input": "2024-01-16T12:35:01.416140Z",
     "iopub.status.busy": "2024-01-16T12:35:01.415142Z",
     "iopub.status.idle": "2024-01-16T12:35:01.427777Z",
     "shell.execute_reply": "2024-01-16T12:35:01.427236Z",
     "shell.execute_reply.started": "2024-01-16T12:35:01.416140Z"
    }
   },
   "source": [
    "## E-Par KNeighborsRegressor OUMAR"
   ]
  },
  {
   "cell_type": "code",
   "execution_count": null,
   "id": "c957a5ae",
   "metadata": {},
   "outputs": [],
   "source": [
    "from sklearn.neighbors import KNeighborsRegressor \n",
    "\n",
    "data1=df[['3_Population municipale', '3_Densité_hab_par_km2', '3_Superficie de la commune', '4_Superficie','4_Altitude Moyenne','4_lat','4_lon','5_PrixMoyen_M2']]\n",
    "data1=data1.dropna()\n",
    "data2=data1.sample(n=data1.shape[0],random_state=1)\n",
    "\n",
    "\n",
    "data_train= data2[:16819]\n",
    "data_test= data2[16820:data1.shape[0]]\n",
    "\n",
    "X_train = data_train[['3_Population municipale', '3_Densité_hab_par_km2', '3_Superficie de la commune', '4_Superficie','4_Altitude Moyenne','4_lat','4_lon']]\n",
    "y_train=data_train[['5_PrixMoyen_M2']]\n",
    "X_test = data_test[['3_Population municipale', '3_Densité_hab_par_km2', '3_Superficie de la commune', '4_Superficie','4_Altitude Moyenne','4_lat','4_lon']]\n",
    "y_test =data_test[['5_PrixMoyen_M2']]\n",
    "neigh = KNeighborsRegressor(n_neighbors=50)\n",
    "\n",
    "neigh.fit(X_train, y_train)\n"
   ]
  },
  {
   "cell_type": "code",
   "execution_count": null,
   "id": "d31a9a28",
   "metadata": {},
   "outputs": [],
   "source": [
    "neigh.score(X_test,y_test)"
   ]
  },
  {
   "cell_type": "code",
   "execution_count": null,
   "id": "20f6885a",
   "metadata": {},
   "outputs": [],
   "source": [
    "Y_pred=neigh.predict(X_test)\n",
    "Delta= y_test - Y_pred\n"
   ]
  },
  {
   "cell_type": "code",
   "execution_count": null,
   "id": "8857fff0",
   "metadata": {},
   "outputs": [],
   "source": [
    "Delta.describe()"
   ]
  },
  {
   "cell_type": "markdown",
   "id": "794a8605-27cd-4cc1-8e3e-2728ca4db4bf",
   "metadata": {
    "execution": {
     "iopub.execute_input": "2024-01-16T12:35:35.158453Z",
     "iopub.status.busy": "2024-01-16T12:35:35.155661Z",
     "iopub.status.idle": "2024-01-16T12:35:35.165381Z",
     "shell.execute_reply": "2024-01-16T12:35:35.164377Z",
     "shell.execute_reply.started": "2024-01-16T12:35:35.158453Z"
    }
   },
   "source": [
    "## F-Par RandomForestRegressor PAUL"
   ]
  },
  {
   "cell_type": "code",
   "execution_count": null,
   "id": "e079e756-cc1a-41c6-ad98-abd069390cc9",
   "metadata": {
    "tags": []
   },
   "outputs": [],
   "source": [
    "# pd.set_option('display.max_columns', None)\n",
    "df_m2.head()\n",
    "# pd.reset_option('max_columns')"
   ]
  },
  {
   "cell_type": "code",
   "execution_count": null,
   "id": "39bb6264-ef2a-4149-8e5a-931bd2c9f144",
   "metadata": {
    "tags": []
   },
   "outputs": [],
   "source": [
    "df_verif_na = df_m2.drop(['6_type', '5_CODE_EPCI', '6_insee', '6_nom', '6_nb_voisins',\n",
    "                          '6_insee_voisins', '6_noms_voisins', '6_cap_voisins'], axis=1)"
   ]
  },
  {
   "cell_type": "code",
   "execution_count": null,
   "id": "2f76dda6-9c91-407e-8209-ff4350519857",
   "metadata": {
    "tags": []
   },
   "outputs": [],
   "source": [
    "df_verif_na[df_verif_na.isna().any(axis=1)]"
   ]
  },
  {
   "cell_type": "code",
   "execution_count": null,
   "id": "4a67e653-9aae-4d52-a53a-3655425d87c7",
   "metadata": {
    "tags": []
   },
   "outputs": [],
   "source": [
    "df_m2.columns"
   ]
  },
  {
   "cell_type": "code",
   "execution_count": null,
   "id": "0ed436ac-b8dc-49aa-9d0f-b82e70b5b3d5",
   "metadata": {
    "tags": []
   },
   "outputs": [],
   "source": [
    "# from sklearn.ensemble import RandomForestRegressor \n",
    "# from sklearn.pipeline import make_pipeline\n",
    "# from sklearn.compose import make_column_selector\n",
    "# from sklearn.compose import make_column_transformer\n",
    "# from sklearn.impute import SimpleImputer\n",
    "# from sklearn.pipeline import make_pipeline\n",
    "# from sklearn.preprocessing import OrdinalEncoder\n",
    "        \n",
    "# X=df_m2[['3_Code région', '3_Code département', '3_Population municipale', '3_Population comptée à part', \n",
    "#              '3_Population totale', '3_Densité_hab_par_km2', '3_Superficie de la commune', '3_Statut', \n",
    "#              '4_Superficie','4_Altitude Moyenne','4_lat','4_lon','5_PrixMoyen_M2']]\n",
    "X_rf = df_m2[['3_Code région', '3_Code département', '3_Population municipale', '3_Population comptée à part', \n",
    "             '3_Population totale', '3_Densité_hab_par_km2', '3_Superficie de la commune', '3_Statut']]\n",
    "y_rf = df_m2[['5_PrixMoyen_M2']]\n",
    "\n",
    "X_rf_train = X_rf.loc[:18000,:]\n",
    "y_rf_train = y_rf.loc[:18000]\n",
    "X_rf_test = X_rf.loc[18001:,:]\n",
    "y_rf_test = y_rf.loc[18001:]\n",
    "\n",
    "# X_rf_train = X_rf.loc[:10000,:]\n",
    "# y_rf_train = y_rf.loc[:10000]\n",
    "# X_rf_test = X_rf.loc[24001:,:]\n",
    "# y_rf_test = y_rf.loc[24001:]\n",
    "\n",
    "cat = ['3_Code région', '3_Code département', '3_Statut']\n",
    "for c in cat:\n",
    "     X_rf.loc[:,c] = X_rf.loc[:,c].astype(object)\n",
    "\n",
    "cat_selector = make_column_selector(dtype_include=object)\n",
    "num_selector = make_column_selector(dtype_include=np.number)\n",
    "print(cat_selector(X_rf))\n",
    "print(num_selector(X_rf))"
   ]
  },
  {
   "cell_type": "code",
   "execution_count": null,
   "id": "5426f0e1-22fd-49fe-b043-5b66e7f455a4",
   "metadata": {
    "tags": []
   },
   "outputs": [],
   "source": [
    "X_rf.shape"
   ]
  },
  {
   "cell_type": "code",
   "execution_count": null,
   "id": "d55a7b07-0123-41c8-867d-0c4faff1e9da",
   "metadata": {
    "tags": []
   },
   "outputs": [],
   "source": [
    "cat_tree_processor = OrdinalEncoder(\n",
    "    handle_unknown=\"use_encoded_value\",\n",
    "    unknown_value=-1,\n",
    "    encoded_missing_value=-2,\n",
    ")\n",
    "num_tree_processor = SimpleImputer(strategy=\"mean\", add_indicator=True)\n",
    "\n",
    "tree_preprocessor = make_column_transformer(\n",
    "    (num_tree_processor, num_selector), (cat_tree_processor, cat_selector)\n",
    ")\n",
    "tree_preprocessor"
   ]
  },
  {
   "cell_type": "code",
   "execution_count": null,
   "id": "b8853238-1ffe-41ba-a0c3-31bcb98d069b",
   "metadata": {
    "tags": []
   },
   "outputs": [],
   "source": [
    "rf_pipeline = make_pipeline(tree_preprocessor, RandomForestRegressor(random_state=0, n_jobs = -1))\n",
    "rf_pipeline"
   ]
  },
  {
   "cell_type": "code",
   "execution_count": null,
   "id": "e98d677c-2f3b-49e6-a969-15fcdfaf4e9d",
   "metadata": {
    "tags": []
   },
   "outputs": [],
   "source": [
    "# from sklearn.model_selection import GridSearchCV\n",
    "# from sklearn.model_selection import cross_val_score\n",
    "# param_grid = {\n",
    "#     # 'randomforestregressor__n_estimators': [100, 200, 300, 400],\n",
    "#     'randomforestregressor__max_depth': [15, 30, 35],\n",
    "#     'randomforestregressor__max_features': [2, 3, 4],\n",
    "#     # 'randomforestregressor__min_samples_leaf': [2, 3, 4, 5],\n",
    "#     'randomforestregressor__min_samples_split': [10, 12, 14]\n",
    "# }\n",
    "\n",
    "# grid_search = GridSearchCV(\n",
    "#     rf_pipeline,\n",
    "#     param_grid=param_grid,\n",
    "#     scoring='r2',  # Choisissez la métrique appropriée\n",
    "#     cv=kf\n",
    "# )\n",
    "\n",
    "# grid_search.fit(X_rf_train, y_rf_train.values.ravel())\n",
    "\n",
    "# # Afficher les meilleurs paramètres\n",
    "# print(\"Meilleurs paramètres:\", grid_search.best_params_)\n",
    "\n",
    "# # Évaluer la performance du modèle sur les données de test\n",
    "# test_score = cross_val_score(grid_search.best_estimator_, X_rf_test, y_rf_test.values.ravel(), cv=kf, scoring='r2')\n",
    "# print(\"Performance sur les données de test:\", test_score.mean())"
   ]
  },
  {
   "cell_type": "code",
   "execution_count": null,
   "id": "46a2fcd6-ac36-409d-b891-cf8d95eec1a4",
   "metadata": {
    "tags": []
   },
   "outputs": [],
   "source": [
    "# y_pred = grid_search.best_estimator_.predict(X_rf_test)\n",
    "# print(grid_search.best_estimator_.score(X_rf_test, y_rf_test.values.ravel()))\n",
    "# sns.histplot(data=y_pred-y_rf_test.values.ravel())"
   ]
  },
  {
   "cell_type": "code",
   "execution_count": null,
   "id": "8211e864-4e46-446f-aec4-b23e4184f786",
   "metadata": {
    "tags": []
   },
   "outputs": [],
   "source": [
    "# import matplotlib.pyplot as plt\n",
    "# import seaborn as sns\n",
    "# %matplotlib inline\n",
    "\n",
    "# depth = grid_search.cv_results_['param_randomforestregressor__max_depth'].data\n",
    "# features = grid_search.cv_results_['param_randomforestregressor__max_features'].data\n",
    "# split = grid_search.cv_results_['param_randomforestregressor__min_samples_split'].data\n",
    "# results = grid_search.cv_results_['mean_test_score']\n",
    "# sns.pointplot(x=depth, y=results)"
   ]
  },
  {
   "cell_type": "code",
   "execution_count": null,
   "id": "6071f104-4151-48f3-b057-2d003701a4f5",
   "metadata": {
    "tags": []
   },
   "outputs": [],
   "source": [
    "# sns.pointplot(x=features, y=results)"
   ]
  },
  {
   "cell_type": "code",
   "execution_count": null,
   "id": "1a963d54-0599-48d8-8bce-ccf54dd61c16",
   "metadata": {
    "tags": []
   },
   "outputs": [],
   "source": [
    "# sns.pointplot(x=split, y=results)"
   ]
  },
  {
   "cell_type": "code",
   "execution_count": null,
   "id": "3426656a-c045-4096-9bf6-c83ab532fe4f",
   "metadata": {
    "tags": []
   },
   "outputs": [],
   "source": [
    "# grid_search.cv_results_['mean_test_score']"
   ]
  },
  {
   "cell_type": "code",
   "execution_count": null,
   "id": "150c95e0-4861-4eb8-a76e-5ba7eca939ff",
   "metadata": {
    "tags": []
   },
   "outputs": [],
   "source": [
    "# rf_pipeline_test = make_pipeline(tree_preprocessor, RandomForestRegressor(max_depth=15, random_state=0, n_jobs = -1))\n",
    "# rf_pipeline_test.fit(X_rf_train, y_rf_train.values.ravel())\n",
    "# rf_pipeline_test.score(X_rf_test, y_rf_test.values.ravel())\n",
    "\n",
    "# y_pred = rf_pipeline_test.predict(X_rf_test)\n",
    "\n",
    "# sns.histplot(data=y_pred-y_rf_test.values.ravel())"
   ]
  },
  {
   "cell_type": "code",
   "execution_count": null,
   "id": "72047a70-c4a7-4f88-8ce1-b7c6b94c95e1",
   "metadata": {
    "tags": []
   },
   "outputs": [],
   "source": [
    "# rf_pipeline.get_params().keys()"
   ]
  },
  {
   "cell_type": "code",
   "execution_count": null,
   "id": "301b9db6",
   "metadata": {
    "tags": []
   },
   "outputs": [],
   "source": [
    "l_profondeur = np.arange(5, 30, 5)\n",
    "rf_score = []\n",
    "\n",
    "for train, test in kf.split(X_rf):\n",
    "    X_train = X_rf.iloc[train,:]\n",
    "    y_train = y_rf.iloc[train]\n",
    "    X_test = X_rf.iloc[test,:]\n",
    "    y_test = y_rf.iloc[test]\n",
    "    \n",
    "    for prof in l_profondeur:\n",
    "        rf_pipeline.set_params(**{'randomforestregressor__max_depth':prof})\n",
    "        # rf = make_pipeline(RandomForestRegressor(max_depth=prof, random_state=0, n_jobs = 10))\n",
    "        rf_pipeline.fit(X_train, y_train.values.ravel())\n",
    "        rf_score.append(rf_pipeline.score(X_test, y_test.values.ravel()))\n",
    "\n",
    "res_rf_score = np.reshape(rf_score, [nb_kfold, l_profondeur.shape[0]])\n",
    "res_rf_score = np.mean(res_rf_score, axis = 0)\n",
    "indice_max = np.unravel_index(np.argmax(res_rf_score), res_rf_score.shape)\n",
    "print('Indices Best score :', indice_max)\n",
    "print('Best score :', np.max(res_rf_score))\n",
    "print('Profondeur best score :', l_profondeur[indice_max])\n",
    "# data2=data1.sample(n=data1.shape[0],random_state=1)\n",
    "\n",
    "\n",
    "# data_train= data2[:16819]\n",
    "# data_test= data2[16820:data1.shape[0]]\n",
    "\n",
    "# X_train = data_train[['3_Population municipale', '3_Densité_hab_par_km2', '3_Superficie de la commune', '4_Superficie','4_Altitude Moyenne','4_lat','4_lon']]\n",
    "# y_train=data_train[['5_PrixMoyen_M2']]\n",
    "# X_test = data_test[['3_Population municipale', '3_Densité_hab_par_km2', '3_Superficie de la commune', '4_Superficie','4_Altitude Moyenne','4_lat','4_lon']]\n",
    "# y_test =data_test[['5_PrixMoyen_M2']]\n",
    "# rf = RandomForestRegressor(max_depth=20, random_state=0)\n",
    "\n",
    "# rf.fit(X_train, y_train)\n"
   ]
  },
  {
   "cell_type": "code",
   "execution_count": null,
   "id": "a85d5310-7dcb-446b-8279-1223d0cdda9e",
   "metadata": {
    "tags": []
   },
   "outputs": [],
   "source": [
    "sns.pointplot(x=l_profondeur, y=res_rf_score)"
   ]
  },
  {
   "cell_type": "code",
   "execution_count": null,
   "id": "90456bc8-4342-4634-a4e6-54aa35afd343",
   "metadata": {
    "tags": []
   },
   "outputs": [],
   "source": [
    "rf_pipeline.set_params(**{'randomforestregressor__max_depth':l_profondeur[indice_max]})\n",
    "rf_pipeline.fit(X_rf_train, y_rf_train.values.ravel())\n",
    "\n",
    "Y_pred_rf=rf_pipeline.predict(X_rf_test)\n",
    "rf_pipeline.score(X_rf_test, y_rf_test.values.ravel())"
   ]
  },
  {
   "cell_type": "code",
   "execution_count": null,
   "id": "d561a019-473c-499e-9d0c-a032c510ff8e",
   "metadata": {
    "tags": []
   },
   "outputs": [],
   "source": [
    "# sns.pointplot(x=Y_pred_rf, y=y_rf_test.values.ravel())"
   ]
  },
  {
   "cell_type": "code",
   "execution_count": null,
   "id": "8a223fc8",
   "metadata": {},
   "outputs": [],
   "source": [
    "# rf.score(X_test,y_test)"
   ]
  },
  {
   "cell_type": "code",
   "execution_count": null,
   "id": "707e0730",
   "metadata": {},
   "outputs": [],
   "source": [
    "# Y_pred_rf=rf.predict(X_test)\n",
    "# Delta_rf= y_test['5_PrixMoyen_M2'] - Y_pred_rf\n",
    "# Delta_rf.describe()"
   ]
  },
  {
   "cell_type": "code",
   "execution_count": null,
   "id": "21f85c3b",
   "metadata": {},
   "outputs": [],
   "source": [
    "# Y_pred_rf.shape"
   ]
  },
  {
   "cell_type": "code",
   "execution_count": null,
   "id": "cc9defec",
   "metadata": {},
   "outputs": [],
   "source": [
    "# Y_pred[0:]"
   ]
  },
  {
   "cell_type": "code",
   "execution_count": null,
   "id": "2376dddb",
   "metadata": {},
   "outputs": [],
   "source": [
    "# y_test['5_PrixMoyen_M2']"
   ]
  },
  {
   "cell_type": "code",
   "execution_count": null,
   "id": "5ff901eb",
   "metadata": {},
   "outputs": [],
   "source": [
    "# y_test.shape"
   ]
  },
  {
   "cell_type": "code",
   "execution_count": null,
   "id": "b8819a4b",
   "metadata": {},
   "outputs": [],
   "source": [
    "# Y_pred=rf.predict(X_test)"
   ]
  },
  {
   "cell_type": "code",
   "execution_count": null,
   "id": "cb3d52b0",
   "metadata": {},
   "outputs": [],
   "source": [
    "# y_test"
   ]
  },
  {
   "cell_type": "code",
   "execution_count": null,
   "id": "48956665-b855-40c0-9efd-5251da178b1d",
   "metadata": {},
   "outputs": [],
   "source": [
    "df['F_Prix_estimé_RFReg'] = np.nan\n",
    "features_RF = ['3_Code région', '3_Code département', '3_Population municipale', '3_Population comptée à part', \n",
    "             '3_Population totale', '3_Densité_hab_par_km2', '3_Superficie de la commune', '3_Statut']\n",
    "df.loc[df[features_RF].notna().all(axis=1),'F_Prix_estimé_RFReg'] = rf_pipeline.predict(df.loc[df[features_RF].notna().all(axis=1),features_RF])"
   ]
  },
  {
   "cell_type": "code",
   "execution_count": null,
   "id": "fcbb5bd6-516b-4c72-9031-039fc4b8e3bd",
   "metadata": {
    "scrolled": true
   },
   "outputs": [],
   "source": [
    "df.loc[:50,['5_PrixMoyen_M2','F_Prix_estimé_RFReg']]"
   ]
  },
  {
   "cell_type": "markdown",
   "id": "fc57950d-a698-4f17-95a2-9f920e910a20",
   "metadata": {
    "execution": {
     "iopub.execute_input": "2024-01-31T08:47:12.111843Z",
     "iopub.status.busy": "2024-01-31T08:47:12.111843Z",
     "iopub.status.idle": "2024-01-31T08:47:12.126049Z",
     "shell.execute_reply": "2024-01-31T08:47:12.125127Z",
     "shell.execute_reply.started": "2024-01-31T08:47:12.111843Z"
    }
   },
   "source": [
    "-------------------------------"
   ]
  },
  {
   "cell_type": "markdown",
   "id": "eebe014c-b7da-4539-ba62-2718625f7b67",
   "metadata": {
    "execution": {
     "iopub.execute_input": "2024-01-31T09:48:36.037092Z",
     "iopub.status.busy": "2024-01-31T09:48:36.036094Z",
     "iopub.status.idle": "2024-01-31T09:48:36.050210Z",
     "shell.execute_reply": "2024-01-31T09:48:36.049613Z",
     "shell.execute_reply.started": "2024-01-31T09:48:36.037092Z"
    }
   },
   "source": [
    "## RF Regressor sans encoding simplifié"
   ]
  },
  {
   "cell_type": "code",
   "execution_count": 74,
   "id": "e654c357-55b8-4988-9419-78e01fb7fb29",
   "metadata": {
    "execution": {
     "iopub.execute_input": "2024-01-31T10:05:05.439785Z",
     "iopub.status.busy": "2024-01-31T10:05:05.438786Z",
     "iopub.status.idle": "2024-01-31T10:05:05.455342Z",
     "shell.execute_reply": "2024-01-31T10:05:05.454253Z",
     "shell.execute_reply.started": "2024-01-31T10:05:05.439785Z"
    }
   },
   "outputs": [
    {
     "data": {
      "text/plain": [
       "(36750, 63)"
      ]
     },
     "execution_count": 74,
     "metadata": {},
     "output_type": "execute_result"
    }
   ],
   "source": [
    "df.shape"
   ]
  },
  {
   "cell_type": "code",
   "execution_count": 75,
   "id": "c5c39ff4-005e-4a26-819d-a9f6114b9397",
   "metadata": {
    "execution": {
     "iopub.execute_input": "2024-01-31T10:05:05.770534Z",
     "iopub.status.busy": "2024-01-31T10:05:05.770534Z",
     "iopub.status.idle": "2024-01-31T10:05:05.794771Z",
     "shell.execute_reply": "2024-01-31T10:05:05.792845Z",
     "shell.execute_reply.started": "2024-01-31T10:05:05.770534Z"
    }
   },
   "outputs": [
    {
     "data": {
      "text/plain": [
       "(31250, 62)"
      ]
     },
     "execution_count": 75,
     "metadata": {},
     "output_type": "execute_result"
    }
   ],
   "source": [
    "df_train.shape"
   ]
  },
  {
   "cell_type": "code",
   "execution_count": 76,
   "id": "a281d578-d964-4fbd-b27e-8320ae87496d",
   "metadata": {
    "execution": {
     "iopub.execute_input": "2024-01-31T10:05:06.070948Z",
     "iopub.status.busy": "2024-01-31T10:05:06.070045Z",
     "iopub.status.idle": "2024-01-31T10:05:06.088440Z",
     "shell.execute_reply": "2024-01-31T10:05:06.087195Z",
     "shell.execute_reply.started": "2024-01-31T10:05:06.070948Z"
    }
   },
   "outputs": [
    {
     "data": {
      "text/plain": [
       "(22801, 62)"
      ]
     },
     "execution_count": 76,
     "metadata": {},
     "output_type": "execute_result"
    }
   ],
   "source": [
    "df_m2.shape"
   ]
  },
  {
   "cell_type": "code",
   "execution_count": 77,
   "id": "2ae07681-7725-45e3-8f09-c42d95f818a8",
   "metadata": {
    "execution": {
     "iopub.execute_input": "2024-01-31T10:05:06.374205Z",
     "iopub.status.busy": "2024-01-31T10:05:06.374205Z",
     "iopub.status.idle": "2024-01-31T10:05:06.389689Z",
     "shell.execute_reply": "2024-01-31T10:05:06.388771Z",
     "shell.execute_reply.started": "2024-01-31T10:05:06.374205Z"
    }
   },
   "outputs": [],
   "source": [
    "# Sélection des caractéristiques\n",
    "features_RF2 = ['3_Population municipale', '3_Densité_hab_par_km2', '3_Superficie de la commune', '4_Altitude Moyenne','4_lat','4_lon']"
   ]
  },
  {
   "cell_type": "code",
   "execution_count": 78,
   "id": "72791b2e-372f-4795-9c63-e69dc4fe908f",
   "metadata": {
    "execution": {
     "iopub.execute_input": "2024-01-31T10:05:06.767006Z",
     "iopub.status.busy": "2024-01-31T10:05:06.765997Z",
     "iopub.status.idle": "2024-01-31T10:05:06.790128Z",
     "shell.execute_reply": "2024-01-31T10:05:06.789158Z",
     "shell.execute_reply.started": "2024-01-31T10:05:06.767006Z"
    },
    "scrolled": true
   },
   "outputs": [
    {
     "data": {
      "text/plain": [
       "['AIN',\n",
       " 'AISNE',\n",
       " 'ALLIER',\n",
       " 'ALPES-DE-HAUTE-PROVENCE',\n",
       " 'HAUTES-ALPES',\n",
       " 'ALPES-MARITIMES',\n",
       " 'ARDECHE',\n",
       " 'ARDENNES',\n",
       " 'ARIEGE',\n",
       " 'AUBE',\n",
       " 'AUDE',\n",
       " 'AVEYRON',\n",
       " 'BOUCHES-DU-RHONE',\n",
       " 'CALVADOS',\n",
       " nan,\n",
       " 'CANTAL',\n",
       " 'CHARENTE',\n",
       " 'CHARENTE-MARITIME',\n",
       " 'CHER',\n",
       " 'CORREZE',\n",
       " \"COTE-D'OR\",\n",
       " \"COTES-D'ARMOR\",\n",
       " 'CREUSE',\n",
       " 'DORDOGNE',\n",
       " 'DOUBS',\n",
       " 'DROME',\n",
       " 'EURE',\n",
       " 'EURE-ET-LOIR',\n",
       " 'FINISTERE',\n",
       " 'CORSE-DU-SUD',\n",
       " 'HAUTE-CORSE',\n",
       " 'GARD',\n",
       " 'HAUTE-GARONNE',\n",
       " 'GERS',\n",
       " 'GIRONDE',\n",
       " 'HERAULT',\n",
       " 'ILLE-ET-VILAINE',\n",
       " 'INDRE',\n",
       " 'INDRE-ET-LOIRE',\n",
       " 'ISERE',\n",
       " 'JURA',\n",
       " 'LANDES',\n",
       " 'LOIR-ET-CHER',\n",
       " 'LOIRE',\n",
       " 'HAUTE-LOIRE',\n",
       " 'LOIRE-ATLANTIQUE',\n",
       " 'LOIRET',\n",
       " 'LOT',\n",
       " 'LOT-ET-GARONNE',\n",
       " 'LOZERE',\n",
       " 'MAINE-ET-LOIRE',\n",
       " 'MANCHE',\n",
       " 'MARNE',\n",
       " 'HAUTE-MARNE',\n",
       " 'MAYENNE',\n",
       " 'MEURTHE-ET-MOSELLE',\n",
       " 'MEUSE',\n",
       " 'MORBIHAN',\n",
       " 'MOSELLE',\n",
       " 'NIEVRE',\n",
       " 'NORD',\n",
       " 'OISE',\n",
       " 'ORNE',\n",
       " 'PAS-DE-CALAIS',\n",
       " 'PUY-DE-DOME',\n",
       " 'PYRENEES-ATLANTIQUES',\n",
       " 'HAUTES-PYRENEES',\n",
       " 'PYRENEES-ORIENTALES',\n",
       " 'BAS-RHIN',\n",
       " 'HAUT-RHIN',\n",
       " 'RHONE',\n",
       " 'HAUTE-SAONE',\n",
       " 'SAONE-ET-LOIRE',\n",
       " 'SARTHE',\n",
       " 'SAVOIE',\n",
       " 'HAUTE-SAVOIE',\n",
       " 'PARIS',\n",
       " 'SEINE-MARITIME',\n",
       " 'SEINE-ET-MARNE',\n",
       " 'YVELINES',\n",
       " 'DEUX-SEVRES',\n",
       " 'SOMME',\n",
       " 'TARN',\n",
       " 'TARN-ET-GARONNE',\n",
       " 'VAR',\n",
       " 'VAUCLUSE',\n",
       " 'VENDEE',\n",
       " 'VIENNE',\n",
       " 'HAUTE-VIENNE',\n",
       " 'VOSGES',\n",
       " 'YONNE',\n",
       " 'TERRITOIRE DE BELFORT',\n",
       " 'ESSONNE',\n",
       " 'HAUTS-DE-SEINE',\n",
       " 'SEINE-SAINT-DENIS',\n",
       " 'VAL-DE-MARNE',\n",
       " \"VAL-D'OISE\",\n",
       " 'GUADELOUPE',\n",
       " 'MARTINIQUE',\n",
       " 'GUYANE',\n",
       " 'REUNION',\n",
       " 'MAYOTTE']"
      ]
     },
     "execution_count": 78,
     "metadata": {},
     "output_type": "execute_result"
    }
   ],
   "source": [
    "df['4_Département'].unique().tolist()"
   ]
  },
  {
   "cell_type": "code",
   "execution_count": 79,
   "id": "240cafc7-e2a7-40cc-8642-77c147120678",
   "metadata": {
    "execution": {
     "iopub.execute_input": "2024-01-31T10:05:07.355672Z",
     "iopub.status.busy": "2024-01-31T10:05:07.354673Z",
     "iopub.status.idle": "2024-01-31T10:05:07.373395Z",
     "shell.execute_reply": "2024-01-31T10:05:07.372481Z",
     "shell.execute_reply.started": "2024-01-31T10:05:07.355672Z"
    }
   },
   "outputs": [],
   "source": [
    "num_features = ['3_Population municipale', '3_Densité_hab_par_km2', '3_Superficie de la commune', '4_Altitude Moyenne','4_lat','4_lon']\n",
    "cat_features = ['4_Département']\n",
    "for c in cat_features:\n",
    "    df[c] = df[c].astype('category')\n",
    "    df_train[c] = df_train[c].astype('category')"
   ]
  },
  {
   "cell_type": "code",
   "execution_count": 80,
   "id": "8d0aa179-0dce-4794-9263-e16a9bd77652",
   "metadata": {
    "execution": {
     "iopub.execute_input": "2024-01-31T10:05:07.885838Z",
     "iopub.status.busy": "2024-01-31T10:05:07.885838Z",
     "iopub.status.idle": "2024-01-31T10:05:07.942895Z",
     "shell.execute_reply": "2024-01-31T10:05:07.941895Z",
     "shell.execute_reply.started": "2024-01-31T10:05:07.885838Z"
    }
   },
   "outputs": [
    {
     "data": {
      "text/plain": [
       "(22798, 62)"
      ]
     },
     "execution_count": 80,
     "metadata": {},
     "output_type": "execute_result"
    }
   ],
   "source": [
    "df_ridge = df_train[df_train[features_RF2].notna().all(axis=1) & df_train['5_PrixMoyen_M2'].notna()]\n",
    "df_ridge.shape"
   ]
  },
  {
   "cell_type": "code",
   "execution_count": 81,
   "id": "5d012739-bbbd-4672-ad73-9db04a72dfd0",
   "metadata": {
    "execution": {
     "iopub.execute_input": "2024-01-31T10:05:13.673215Z",
     "iopub.status.busy": "2024-01-31T10:05:13.673215Z",
     "iopub.status.idle": "2024-01-31T10:05:13.698062Z",
     "shell.execute_reply": "2024-01-31T10:05:13.697065Z",
     "shell.execute_reply.started": "2024-01-31T10:05:13.673215Z"
    }
   },
   "outputs": [],
   "source": [
    "y = df_ridge['5_PrixMoyen_M2']\n",
    "X = df_ridge[features_RF2]\n",
    "\n",
    "X_train, X_test, y_train, y_test = train_test_split(X, y, test_size=0.2, random_state=42)"
   ]
  },
  {
   "cell_type": "code",
   "execution_count": 82,
   "id": "cc83af96-9cb4-40dd-90b2-f0a6a4aff952",
   "metadata": {
    "execution": {
     "iopub.execute_input": "2024-01-31T10:05:14.155734Z",
     "iopub.status.busy": "2024-01-31T10:05:14.154728Z",
     "iopub.status.idle": "2024-01-31T10:05:14.185815Z",
     "shell.execute_reply": "2024-01-31T10:05:14.183862Z",
     "shell.execute_reply.started": "2024-01-31T10:05:14.155734Z"
    }
   },
   "outputs": [
    {
     "data": {
      "text/html": [
       "<div>\n",
       "<style scoped>\n",
       "    .dataframe tbody tr th:only-of-type {\n",
       "        vertical-align: middle;\n",
       "    }\n",
       "\n",
       "    .dataframe tbody tr th {\n",
       "        vertical-align: top;\n",
       "    }\n",
       "\n",
       "    .dataframe thead th {\n",
       "        text-align: right;\n",
       "    }\n",
       "</style>\n",
       "<table border=\"1\" class=\"dataframe\">\n",
       "  <thead>\n",
       "    <tr style=\"text-align: right;\">\n",
       "      <th></th>\n",
       "      <th>3_Population municipale</th>\n",
       "      <th>3_Densité_hab_par_km2</th>\n",
       "      <th>3_Superficie de la commune</th>\n",
       "      <th>4_Altitude Moyenne</th>\n",
       "      <th>4_lat</th>\n",
       "      <th>4_lon</th>\n",
       "    </tr>\n",
       "  </thead>\n",
       "  <tbody>\n",
       "    <tr>\n",
       "      <th>1</th>\n",
       "      <td>243.0</td>\n",
       "      <td>26.615553</td>\n",
       "      <td>9.13</td>\n",
       "      <td>483.0</td>\n",
       "      <td>46.009188</td>\n",
       "      <td>5.428017</td>\n",
       "    </tr>\n",
       "    <tr>\n",
       "      <th>4</th>\n",
       "      <td>110.0</td>\n",
       "      <td>18.242123</td>\n",
       "      <td>6.03</td>\n",
       "      <td>589.0</td>\n",
       "      <td>45.749499</td>\n",
       "      <td>5.594320</td>\n",
       "    </tr>\n",
       "    <tr>\n",
       "      <th>5</th>\n",
       "      <td>2684.0</td>\n",
       "      <td>79.904734</td>\n",
       "      <td>33.59</td>\n",
       "      <td>309.0</td>\n",
       "      <td>46.005591</td>\n",
       "      <td>5.357607</td>\n",
       "    </tr>\n",
       "    <tr>\n",
       "      <th>7</th>\n",
       "      <td>336.0</td>\n",
       "      <td>48.206600</td>\n",
       "      <td>6.97</td>\n",
       "      <td>294.0</td>\n",
       "      <td>45.787357</td>\n",
       "      <td>5.657883</td>\n",
       "    </tr>\n",
       "    <tr>\n",
       "      <th>8</th>\n",
       "      <td>1124.0</td>\n",
       "      <td>38.114615</td>\n",
       "      <td>29.49</td>\n",
       "      <td>706.0</td>\n",
       "      <td>45.909372</td>\n",
       "      <td>5.795160</td>\n",
       "    </tr>\n",
       "  </tbody>\n",
       "</table>\n",
       "</div>"
      ],
      "text/plain": [
       "   3_Population municipale  3_Densité_hab_par_km2  3_Superficie de la commune  \\\n",
       "1                    243.0              26.615553                        9.13   \n",
       "4                    110.0              18.242123                        6.03   \n",
       "5                   2684.0              79.904734                       33.59   \n",
       "7                    336.0              48.206600                        6.97   \n",
       "8                   1124.0              38.114615                       29.49   \n",
       "\n",
       "   4_Altitude Moyenne      4_lat     4_lon  \n",
       "1               483.0  46.009188  5.428017  \n",
       "4               589.0  45.749499  5.594320  \n",
       "5               309.0  46.005591  5.357607  \n",
       "7               294.0  45.787357  5.657883  \n",
       "8               706.0  45.909372  5.795160  "
      ]
     },
     "execution_count": 82,
     "metadata": {},
     "output_type": "execute_result"
    }
   ],
   "source": [
    "X[features_RF2].head()"
   ]
  },
  {
   "cell_type": "code",
   "execution_count": 83,
   "id": "34abb18b-5e5e-46b0-a2c4-22ff5b6cd485",
   "metadata": {
    "execution": {
     "iopub.execute_input": "2024-01-31T10:05:14.503416Z",
     "iopub.status.busy": "2024-01-31T10:05:14.501460Z",
     "iopub.status.idle": "2024-01-31T10:05:14.519755Z",
     "shell.execute_reply": "2024-01-31T10:05:14.518949Z",
     "shell.execute_reply.started": "2024-01-31T10:05:14.503416Z"
    }
   },
   "outputs": [
    {
     "data": {
      "text/plain": [
       "3_Population municipale       float64\n",
       "3_Densité_hab_par_km2         float64\n",
       "3_Superficie de la commune    float64\n",
       "4_Altitude Moyenne            float64\n",
       "4_lat                         float64\n",
       "4_lon                         float64\n",
       "dtype: object"
      ]
     },
     "execution_count": 83,
     "metadata": {},
     "output_type": "execute_result"
    }
   ],
   "source": [
    "X.dtypes"
   ]
  },
  {
   "cell_type": "code",
   "execution_count": 84,
   "id": "710c0163-0e6a-4fb4-af6c-f3c0c4cfdb9d",
   "metadata": {
    "execution": {
     "iopub.execute_input": "2024-01-31T10:05:15.159242Z",
     "iopub.status.busy": "2024-01-31T10:05:15.158194Z",
     "iopub.status.idle": "2024-01-31T10:05:39.931548Z",
     "shell.execute_reply": "2024-01-31T10:05:39.930550Z",
     "shell.execute_reply.started": "2024-01-31T10:05:15.159242Z"
    }
   },
   "outputs": [
    {
     "name": "stdout",
     "output_type": "stream",
     "text": [
      "CPU times: total: 16.1 s\n",
      "Wall time: 24.7 s\n"
     ]
    }
   ],
   "source": [
    "%%time\n",
    "rf = Pipeline(\n",
    "    steps=[\n",
    "        (\"RandomForest\", RandomForestRegressor(max_depth=15, random_state=0))])\n",
    "rf.fit(X_train, y_train)\n",
    "y_pred = rf.predict(X_test)"
   ]
  },
  {
   "cell_type": "code",
   "execution_count": 85,
   "id": "13186b1f-5574-4fb2-9354-faaf215a7045",
   "metadata": {
    "execution": {
     "iopub.execute_input": "2024-01-31T10:05:39.934056Z",
     "iopub.status.busy": "2024-01-31T10:05:39.932549Z",
     "iopub.status.idle": "2024-01-31T10:05:39.947580Z",
     "shell.execute_reply": "2024-01-31T10:05:39.946582Z",
     "shell.execute_reply.started": "2024-01-31T10:05:39.934056Z"
    }
   },
   "outputs": [
    {
     "name": "stdout",
     "output_type": "stream",
     "text": [
      "mse 261702.38700929048\n",
      "r2 0.6196001837606933\n"
     ]
    }
   ],
   "source": [
    "print(\"mse\",mean_squared_error(y_test, y_pred))\n",
    "print(\"r2\", r2_score(y_test, y_pred))"
   ]
  },
  {
   "cell_type": "code",
   "execution_count": 86,
   "id": "f6016876-7538-4560-a7fe-7432ee9c5788",
   "metadata": {
    "execution": {
     "iopub.execute_input": "2024-01-31T10:05:39.951146Z",
     "iopub.status.busy": "2024-01-31T10:05:39.950138Z",
     "iopub.status.idle": "2024-01-31T10:05:40.432696Z",
     "shell.execute_reply": "2024-01-31T10:05:40.432696Z",
     "shell.execute_reply.started": "2024-01-31T10:05:39.951146Z"
    }
   },
   "outputs": [],
   "source": [
    "df['F_Prix_estimé_RFReg2'] = np.nan\n",
    "df.loc[df[features_RF2].notna().all(axis=1),'F_Prix_estimé_RFReg2'] = rf.predict(df.loc[df[features_RF2].notna().all(axis=1),features_RF2])"
   ]
  },
  {
   "cell_type": "code",
   "execution_count": 87,
   "id": "39793a6b-0fbd-4b48-8b03-9f70fdb7e242",
   "metadata": {
    "execution": {
     "iopub.execute_input": "2024-01-31T10:05:40.434207Z",
     "iopub.status.busy": "2024-01-31T10:05:40.434207Z",
     "iopub.status.idle": "2024-01-31T10:05:40.465305Z",
     "shell.execute_reply": "2024-01-31T10:05:40.464304Z",
     "shell.execute_reply.started": "2024-01-31T10:05:40.434207Z"
    },
    "scrolled": true
   },
   "outputs": [
    {
     "data": {
      "text/html": [
       "<div>\n",
       "<style scoped>\n",
       "    .dataframe tbody tr th:only-of-type {\n",
       "        vertical-align: middle;\n",
       "    }\n",
       "\n",
       "    .dataframe tbody tr th {\n",
       "        vertical-align: top;\n",
       "    }\n",
       "\n",
       "    .dataframe thead th {\n",
       "        text-align: right;\n",
       "    }\n",
       "</style>\n",
       "<table border=\"1\" class=\"dataframe\">\n",
       "  <thead>\n",
       "    <tr style=\"text-align: right;\">\n",
       "      <th></th>\n",
       "      <th>5_PrixMoyen_M2</th>\n",
       "      <th>F_Prix_estimé_RFReg2</th>\n",
       "    </tr>\n",
       "  </thead>\n",
       "  <tbody>\n",
       "    <tr>\n",
       "      <th>0</th>\n",
       "      <td>1938.0</td>\n",
       "      <td>1671.362469</td>\n",
       "    </tr>\n",
       "    <tr>\n",
       "      <th>1</th>\n",
       "      <td>1130.0</td>\n",
       "      <td>1373.047803</td>\n",
       "    </tr>\n",
       "    <tr>\n",
       "      <th>2</th>\n",
       "      <td>2005.0</td>\n",
       "      <td>2914.367866</td>\n",
       "    </tr>\n",
       "    <tr>\n",
       "      <th>3</th>\n",
       "      <td>2442.0</td>\n",
       "      <td>2352.671366</td>\n",
       "    </tr>\n",
       "    <tr>\n",
       "      <th>4</th>\n",
       "      <td>1155.0</td>\n",
       "      <td>1289.164813</td>\n",
       "    </tr>\n",
       "    <tr>\n",
       "      <th>5</th>\n",
       "      <td>1963.0</td>\n",
       "      <td>1982.354819</td>\n",
       "    </tr>\n",
       "    <tr>\n",
       "      <th>6</th>\n",
       "      <td>1940.0</td>\n",
       "      <td>2050.619224</td>\n",
       "    </tr>\n",
       "    <tr>\n",
       "      <th>7</th>\n",
       "      <td>966.0</td>\n",
       "      <td>2040.083831</td>\n",
       "    </tr>\n",
       "    <tr>\n",
       "      <th>8</th>\n",
       "      <td>1970.0</td>\n",
       "      <td>1948.625364</td>\n",
       "    </tr>\n",
       "    <tr>\n",
       "      <th>9</th>\n",
       "      <td>889.0</td>\n",
       "      <td>1273.803267</td>\n",
       "    </tr>\n",
       "    <tr>\n",
       "      <th>10</th>\n",
       "      <td>1185.0</td>\n",
       "      <td>1325.586613</td>\n",
       "    </tr>\n",
       "    <tr>\n",
       "      <th>11</th>\n",
       "      <td>1182.0</td>\n",
       "      <td>1398.516123</td>\n",
       "    </tr>\n",
       "    <tr>\n",
       "      <th>12</th>\n",
       "      <td>2082.0</td>\n",
       "      <td>2066.347841</td>\n",
       "    </tr>\n",
       "    <tr>\n",
       "      <th>13</th>\n",
       "      <td>1065.0</td>\n",
       "      <td>1617.232343</td>\n",
       "    </tr>\n",
       "    <tr>\n",
       "      <th>14</th>\n",
       "      <td>672.0</td>\n",
       "      <td>1238.138370</td>\n",
       "    </tr>\n",
       "    <tr>\n",
       "      <th>15</th>\n",
       "      <td>968.0</td>\n",
       "      <td>1857.753112</td>\n",
       "    </tr>\n",
       "    <tr>\n",
       "      <th>16</th>\n",
       "      <td>NaN</td>\n",
       "      <td>1849.527077</td>\n",
       "    </tr>\n",
       "    <tr>\n",
       "      <th>17</th>\n",
       "      <td>2124.0</td>\n",
       "      <td>2459.495437</td>\n",
       "    </tr>\n",
       "    <tr>\n",
       "      <th>18</th>\n",
       "      <td>1498.0</td>\n",
       "      <td>2250.175244</td>\n",
       "    </tr>\n",
       "    <tr>\n",
       "      <th>19</th>\n",
       "      <td>NaN</td>\n",
       "      <td>1158.193839</td>\n",
       "    </tr>\n",
       "    <tr>\n",
       "      <th>20</th>\n",
       "      <td>2462.0</td>\n",
       "      <td>2062.075883</td>\n",
       "    </tr>\n",
       "    <tr>\n",
       "      <th>21</th>\n",
       "      <td>1742.0</td>\n",
       "      <td>1950.377362</td>\n",
       "    </tr>\n",
       "    <tr>\n",
       "      <th>22</th>\n",
       "      <td>1897.0</td>\n",
       "      <td>2005.344127</td>\n",
       "    </tr>\n",
       "    <tr>\n",
       "      <th>23</th>\n",
       "      <td>2287.0</td>\n",
       "      <td>2584.502326</td>\n",
       "    </tr>\n",
       "    <tr>\n",
       "      <th>24</th>\n",
       "      <td>2015.0</td>\n",
       "      <td>2008.542274</td>\n",
       "    </tr>\n",
       "    <tr>\n",
       "      <th>25</th>\n",
       "      <td>1391.0</td>\n",
       "      <td>1387.501173</td>\n",
       "    </tr>\n",
       "    <tr>\n",
       "      <th>26</th>\n",
       "      <td>1938.0</td>\n",
       "      <td>2392.533734</td>\n",
       "    </tr>\n",
       "    <tr>\n",
       "      <th>27</th>\n",
       "      <td>1552.0</td>\n",
       "      <td>2979.681052</td>\n",
       "    </tr>\n",
       "    <tr>\n",
       "      <th>28</th>\n",
       "      <td>2363.0</td>\n",
       "      <td>2479.699856</td>\n",
       "    </tr>\n",
       "    <tr>\n",
       "      <th>29</th>\n",
       "      <td>2015.0</td>\n",
       "      <td>3145.615118</td>\n",
       "    </tr>\n",
       "    <tr>\n",
       "      <th>30</th>\n",
       "      <td>1616.0</td>\n",
       "      <td>2125.085983</td>\n",
       "    </tr>\n",
       "    <tr>\n",
       "      <th>31</th>\n",
       "      <td>1534.0</td>\n",
       "      <td>1399.304165</td>\n",
       "    </tr>\n",
       "    <tr>\n",
       "      <th>32</th>\n",
       "      <td>1587.0</td>\n",
       "      <td>1533.656378</td>\n",
       "    </tr>\n",
       "    <tr>\n",
       "      <th>33</th>\n",
       "      <td>1574.0</td>\n",
       "      <td>1382.497665</td>\n",
       "    </tr>\n",
       "    <tr>\n",
       "      <th>34</th>\n",
       "      <td>1414.0</td>\n",
       "      <td>1421.378923</td>\n",
       "    </tr>\n",
       "    <tr>\n",
       "      <th>35</th>\n",
       "      <td>1577.0</td>\n",
       "      <td>1757.037662</td>\n",
       "    </tr>\n",
       "    <tr>\n",
       "      <th>36</th>\n",
       "      <td>1538.0</td>\n",
       "      <td>1378.651906</td>\n",
       "    </tr>\n",
       "    <tr>\n",
       "      <th>37</th>\n",
       "      <td>1520.0</td>\n",
       "      <td>1919.648747</td>\n",
       "    </tr>\n",
       "    <tr>\n",
       "      <th>38</th>\n",
       "      <td>2169.0</td>\n",
       "      <td>2017.859033</td>\n",
       "    </tr>\n",
       "    <tr>\n",
       "      <th>39</th>\n",
       "      <td>3681.0</td>\n",
       "      <td>3392.213479</td>\n",
       "    </tr>\n",
       "    <tr>\n",
       "      <th>40</th>\n",
       "      <td>2166.0</td>\n",
       "      <td>1932.882405</td>\n",
       "    </tr>\n",
       "    <tr>\n",
       "      <th>41</th>\n",
       "      <td>1984.0</td>\n",
       "      <td>1532.699618</td>\n",
       "    </tr>\n",
       "    <tr>\n",
       "      <th>42</th>\n",
       "      <td>1302.0</td>\n",
       "      <td>1830.689350</td>\n",
       "    </tr>\n",
       "    <tr>\n",
       "      <th>43</th>\n",
       "      <td>2350.0</td>\n",
       "      <td>2214.482052</td>\n",
       "    </tr>\n",
       "    <tr>\n",
       "      <th>44</th>\n",
       "      <td>2757.0</td>\n",
       "      <td>3007.638055</td>\n",
       "    </tr>\n",
       "    <tr>\n",
       "      <th>45</th>\n",
       "      <td>1132.0</td>\n",
       "      <td>1360.886074</td>\n",
       "    </tr>\n",
       "    <tr>\n",
       "      <th>46</th>\n",
       "      <td>1094.0</td>\n",
       "      <td>1079.259682</td>\n",
       "    </tr>\n",
       "    <tr>\n",
       "      <th>47</th>\n",
       "      <td>1341.0</td>\n",
       "      <td>1394.131975</td>\n",
       "    </tr>\n",
       "    <tr>\n",
       "      <th>48</th>\n",
       "      <td>1627.0</td>\n",
       "      <td>2311.925768</td>\n",
       "    </tr>\n",
       "    <tr>\n",
       "      <th>49</th>\n",
       "      <td>1608.0</td>\n",
       "      <td>2381.799988</td>\n",
       "    </tr>\n",
       "    <tr>\n",
       "      <th>50</th>\n",
       "      <td>1245.0</td>\n",
       "      <td>1460.506849</td>\n",
       "    </tr>\n",
       "  </tbody>\n",
       "</table>\n",
       "</div>"
      ],
      "text/plain": [
       "    5_PrixMoyen_M2  F_Prix_estimé_RFReg2\n",
       "0           1938.0           1671.362469\n",
       "1           1130.0           1373.047803\n",
       "2           2005.0           2914.367866\n",
       "3           2442.0           2352.671366\n",
       "4           1155.0           1289.164813\n",
       "5           1963.0           1982.354819\n",
       "6           1940.0           2050.619224\n",
       "7            966.0           2040.083831\n",
       "8           1970.0           1948.625364\n",
       "9            889.0           1273.803267\n",
       "10          1185.0           1325.586613\n",
       "11          1182.0           1398.516123\n",
       "12          2082.0           2066.347841\n",
       "13          1065.0           1617.232343\n",
       "14           672.0           1238.138370\n",
       "15           968.0           1857.753112\n",
       "16             NaN           1849.527077\n",
       "17          2124.0           2459.495437\n",
       "18          1498.0           2250.175244\n",
       "19             NaN           1158.193839\n",
       "20          2462.0           2062.075883\n",
       "21          1742.0           1950.377362\n",
       "22          1897.0           2005.344127\n",
       "23          2287.0           2584.502326\n",
       "24          2015.0           2008.542274\n",
       "25          1391.0           1387.501173\n",
       "26          1938.0           2392.533734\n",
       "27          1552.0           2979.681052\n",
       "28          2363.0           2479.699856\n",
       "29          2015.0           3145.615118\n",
       "30          1616.0           2125.085983\n",
       "31          1534.0           1399.304165\n",
       "32          1587.0           1533.656378\n",
       "33          1574.0           1382.497665\n",
       "34          1414.0           1421.378923\n",
       "35          1577.0           1757.037662\n",
       "36          1538.0           1378.651906\n",
       "37          1520.0           1919.648747\n",
       "38          2169.0           2017.859033\n",
       "39          3681.0           3392.213479\n",
       "40          2166.0           1932.882405\n",
       "41          1984.0           1532.699618\n",
       "42          1302.0           1830.689350\n",
       "43          2350.0           2214.482052\n",
       "44          2757.0           3007.638055\n",
       "45          1132.0           1360.886074\n",
       "46          1094.0           1079.259682\n",
       "47          1341.0           1394.131975\n",
       "48          1627.0           2311.925768\n",
       "49          1608.0           2381.799988\n",
       "50          1245.0           1460.506849"
      ]
     },
     "execution_count": 87,
     "metadata": {},
     "output_type": "execute_result"
    }
   ],
   "source": [
    "df.loc[:50,['5_PrixMoyen_M2','F_Prix_estimé_RFReg2']]"
   ]
  },
  {
   "cell_type": "markdown",
   "id": "f2a0ee98-5476-4e0b-b6e1-15925a9a55b3",
   "metadata": {
    "execution": {
     "iopub.execute_input": "2024-01-31T08:47:12.111843Z",
     "iopub.status.busy": "2024-01-31T08:47:12.111843Z",
     "iopub.status.idle": "2024-01-31T08:47:12.126049Z",
     "shell.execute_reply": "2024-01-31T08:47:12.125127Z",
     "shell.execute_reply.started": "2024-01-31T08:47:12.111843Z"
    }
   },
   "source": [
    "-------------------------------"
   ]
  },
  {
   "cell_type": "markdown",
   "id": "9bf81195-8302-4691-a9ed-8daf58b23c43",
   "metadata": {
    "execution": {
     "iopub.execute_input": "2024-01-16T12:39:55.003158Z",
     "iopub.status.busy": "2024-01-16T12:39:55.003158Z",
     "iopub.status.idle": "2024-01-16T12:39:55.018784Z",
     "shell.execute_reply": "2024-01-16T12:39:55.018784Z",
     "shell.execute_reply.started": "2024-01-16T12:39:55.003158Z"
    }
   },
   "source": [
    "## G-Par Bayesian Ridge NICOLAS"
   ]
  },
  {
   "cell_type": "code",
   "execution_count": 18,
   "id": "51860a9c-3c7b-481c-a8a4-336ec64bb018",
   "metadata": {
    "execution": {
     "iopub.execute_input": "2024-01-31T09:16:08.863818Z",
     "iopub.status.busy": "2024-01-31T09:16:08.862819Z",
     "iopub.status.idle": "2024-01-31T09:16:08.882229Z",
     "shell.execute_reply": "2024-01-31T09:16:08.881316Z",
     "shell.execute_reply.started": "2024-01-31T09:16:08.863818Z"
    }
   },
   "outputs": [],
   "source": [
    "# Sélection des caractéristiques\n",
    "features = ['4_Département','3_Population municipale', '3_Densité_hab_par_km2', '3_Superficie de la commune', '4_Altitude Moyenne','4_lat','4_lon']"
   ]
  },
  {
   "cell_type": "code",
   "execution_count": 22,
   "id": "b0d65ee2-d5ac-433e-ac3a-b62c2050d8ae",
   "metadata": {
    "execution": {
     "iopub.execute_input": "2024-01-31T09:21:52.437444Z",
     "iopub.status.busy": "2024-01-31T09:21:52.436412Z",
     "iopub.status.idle": "2024-01-31T09:21:52.459266Z",
     "shell.execute_reply": "2024-01-31T09:21:52.458349Z",
     "shell.execute_reply.started": "2024-01-31T09:21:52.437444Z"
    }
   },
   "outputs": [
    {
     "data": {
      "text/html": [
       "<div>\n",
       "<style scoped>\n",
       "    .dataframe tbody tr th:only-of-type {\n",
       "        vertical-align: middle;\n",
       "    }\n",
       "\n",
       "    .dataframe tbody tr th {\n",
       "        vertical-align: top;\n",
       "    }\n",
       "\n",
       "    .dataframe thead th {\n",
       "        text-align: right;\n",
       "    }\n",
       "</style>\n",
       "<table border=\"1\" class=\"dataframe\">\n",
       "  <thead>\n",
       "    <tr style=\"text-align: right;\">\n",
       "      <th></th>\n",
       "      <th>3_Code région</th>\n",
       "      <th>3_Nom de la région</th>\n",
       "      <th>3_Code département</th>\n",
       "      <th>3_Code commune</th>\n",
       "      <th>3_Nom de la commune</th>\n",
       "      <th>3_Population municipale</th>\n",
       "      <th>3_Population comptée à part</th>\n",
       "      <th>3_Population totale</th>\n",
       "      <th>3_Année recensement</th>\n",
       "      <th>3_Année utilisation</th>\n",
       "      <th>...</th>\n",
       "      <th>6_cap_voisins</th>\n",
       "      <th>6_type</th>\n",
       "      <th>A_Prix_consolidé_vois_mean</th>\n",
       "      <th>A_Prix_estimé_vois_mean</th>\n",
       "      <th>B_Prix_consolidé_vois_median</th>\n",
       "      <th>B_Prix_estimé_vois_median</th>\n",
       "      <th>C_Prix_estime_mean</th>\n",
       "      <th>C1_Prix_estime_median</th>\n",
       "      <th>F_Prix_estimé_RFReg</th>\n",
       "      <th>G_Prix_estimé_LassoCV</th>\n",
       "    </tr>\n",
       "  </thead>\n",
       "  <tbody>\n",
       "    <tr>\n",
       "      <th>21385</th>\n",
       "      <td>44.0</td>\n",
       "      <td>Grand Est</td>\n",
       "      <td>55</td>\n",
       "      <td>138.0</td>\n",
       "      <td>Culey</td>\n",
       "      <td>146.0</td>\n",
       "      <td>3.0</td>\n",
       "      <td>149.0</td>\n",
       "      <td>2016</td>\n",
       "      <td>2019</td>\n",
       "      <td>...</td>\n",
       "      <td>15|74|100|168|187|205|238|290|328</td>\n",
       "      <td>NaN</td>\n",
       "      <td>972.0</td>\n",
       "      <td>972.081118</td>\n",
       "      <td>972.0</td>\n",
       "      <td>1076.0000</td>\n",
       "      <td>1636.0</td>\n",
       "      <td>1450.0</td>\n",
       "      <td>1340.721902</td>\n",
       "      <td>NaN</td>\n",
       "    </tr>\n",
       "    <tr>\n",
       "      <th>30942</th>\n",
       "      <td>28.0</td>\n",
       "      <td>Normandie</td>\n",
       "      <td>76</td>\n",
       "      <td>95.0</td>\n",
       "      <td>Bihorel</td>\n",
       "      <td>8301.0</td>\n",
       "      <td>186.0</td>\n",
       "      <td>8487.0</td>\n",
       "      <td>2016</td>\n",
       "      <td>2019</td>\n",
       "      <td>...</td>\n",
       "      <td>64|227|330</td>\n",
       "      <td>NaN</td>\n",
       "      <td>2076.0</td>\n",
       "      <td>2578.666667</td>\n",
       "      <td>2076.0</td>\n",
       "      <td>2596.0000</td>\n",
       "      <td>1636.0</td>\n",
       "      <td>1450.0</td>\n",
       "      <td>2639.929309</td>\n",
       "      <td>NaN</td>\n",
       "    </tr>\n",
       "    <tr>\n",
       "      <th>31441</th>\n",
       "      <td>28.0</td>\n",
       "      <td>Normandie</td>\n",
       "      <td>76</td>\n",
       "      <td>601.0</td>\n",
       "      <td>Saint-Lucien</td>\n",
       "      <td>252.0</td>\n",
       "      <td>2.0</td>\n",
       "      <td>254.0</td>\n",
       "      <td>2016</td>\n",
       "      <td>2019</td>\n",
       "      <td>...</td>\n",
       "      <td>43|119|209|246|318</td>\n",
       "      <td>commune</td>\n",
       "      <td>1548.0</td>\n",
       "      <td>1445.800000</td>\n",
       "      <td>1548.0</td>\n",
       "      <td>1618.3125</td>\n",
       "      <td>1636.0</td>\n",
       "      <td>1450.0</td>\n",
       "      <td>1570.707589</td>\n",
       "      <td>NaN</td>\n",
       "    </tr>\n",
       "  </tbody>\n",
       "</table>\n",
       "<p>3 rows × 62 columns</p>\n",
       "</div>"
      ],
      "text/plain": [
       "       3_Code région 3_Nom de la région 3_Code département  3_Code commune  \\\n",
       "21385           44.0          Grand Est                 55           138.0   \n",
       "30942           28.0          Normandie                 76            95.0   \n",
       "31441           28.0          Normandie                 76           601.0   \n",
       "\n",
       "      3_Nom de la commune  3_Population municipale  \\\n",
       "21385               Culey                    146.0   \n",
       "30942             Bihorel                   8301.0   \n",
       "31441        Saint-Lucien                    252.0   \n",
       "\n",
       "       3_Population comptée à part  3_Population totale  3_Année recensement  \\\n",
       "21385                          3.0                149.0                 2016   \n",
       "30942                        186.0               8487.0                 2016   \n",
       "31441                          2.0                254.0                 2016   \n",
       "\n",
       "       3_Année utilisation  ...                      6_cap_voisins   6_type  \\\n",
       "21385                 2019  ...  15|74|100|168|187|205|238|290|328      NaN   \n",
       "30942                 2019  ...                         64|227|330      NaN   \n",
       "31441                 2019  ...                 43|119|209|246|318  commune   \n",
       "\n",
       "      A_Prix_consolidé_vois_mean A_Prix_estimé_vois_mean  \\\n",
       "21385                      972.0              972.081118   \n",
       "30942                     2076.0             2578.666667   \n",
       "31441                     1548.0             1445.800000   \n",
       "\n",
       "      B_Prix_consolidé_vois_median  B_Prix_estimé_vois_median  \\\n",
       "21385                        972.0                  1076.0000   \n",
       "30942                       2076.0                  2596.0000   \n",
       "31441                       1548.0                  1618.3125   \n",
       "\n",
       "      C_Prix_estime_mean C1_Prix_estime_median F_Prix_estimé_RFReg  \\\n",
       "21385             1636.0                1450.0         1340.721902   \n",
       "30942             1636.0                1450.0         2639.929309   \n",
       "31441             1636.0                1450.0         1570.707589   \n",
       "\n",
       "       G_Prix_estimé_LassoCV  \n",
       "21385                    NaN  \n",
       "30942                    NaN  \n",
       "31441                    NaN  \n",
       "\n",
       "[3 rows x 62 columns]"
      ]
     },
     "execution_count": 22,
     "metadata": {},
     "output_type": "execute_result"
    }
   ],
   "source": [
    "deltadf_ridge_m2 = df_m2[df_m2[features].isna().any(axis=1)]\n",
    "deltadf_ridge_m2"
   ]
  },
  {
   "cell_type": "code",
   "execution_count": null,
   "id": "8e9eb2b1-c7a8-4246-996b-849d6030d602",
   "metadata": {},
   "outputs": [],
   "source": [
    "# En fait df_ridge a 3 lignes en moins que df_m2 car d'autres features manquent"
   ]
  },
  {
   "cell_type": "code",
   "execution_count": null,
   "id": "2bc4768d-003d-46ed-b40b-3ffc9a3a8f39",
   "metadata": {},
   "outputs": [],
   "source": [
    "df_ridge = df_train[df_train[features].notna().all(axis=1) & df_train['5_PrixMoyen_M2'].notna()]\n",
    "df_ridge"
   ]
  },
  {
   "cell_type": "code",
   "execution_count": null,
   "id": "a5853aca-117d-4830-ae47-db29ee46c30f",
   "metadata": {},
   "outputs": [],
   "source": [
    "df_ridge.shape"
   ]
  },
  {
   "cell_type": "code",
   "execution_count": null,
   "id": "4be189ae-131b-43ed-8983-500391dd3f3e",
   "metadata": {},
   "outputs": [],
   "source": [
    "y = df_ridge['5_PrixMoyen_M2']\n",
    "X = df_ridge[['4_Département','3_Population municipale', '3_Densité_hab_par_km2', '3_Superficie de la commune',\n",
    "              '4_Altitude Moyenne','4_lat','4_lon']]\n",
    "X_train, X_test, y_train, y_test = train_test_split(X, y, test_size=0.2, random_state=42)"
   ]
  },
  {
   "cell_type": "code",
   "execution_count": null,
   "id": "5183b15a-6a97-4113-9971-c07c57eebe29",
   "metadata": {},
   "outputs": [],
   "source": [
    "num_features = ['3_Population municipale', '3_Densité_hab_par_km2', '3_Superficie de la commune',\n",
    "              '4_Altitude Moyenne','4_lat','4_lon']\n",
    "cat_features = ['4_Département']\n",
    "\n",
    "for c in cat_features:\n",
    "    X[c] = X[c].astype('category')"
   ]
  },
  {
   "cell_type": "code",
   "execution_count": null,
   "id": "120caff4-12e0-4a47-8e32-5ba8125179be",
   "metadata": {},
   "outputs": [],
   "source": [
    "X.dtypes"
   ]
  },
  {
   "cell_type": "code",
   "execution_count": null,
   "id": "c1fb3d29-022e-4bfa-b6a4-f96e6eee6fc5",
   "metadata": {},
   "outputs": [],
   "source": [
    "numeric_transformer = Pipeline(\n",
    "    steps=[ \n",
    "        (\"scaler\", StandardScaler()),\n",
    "    ])\n",
    "\n",
    "categorical_transformer = Pipeline(\n",
    "    steps=[(\"encoder\", OneHotEncoder(handle_unknown=\"ignore\"))\n",
    "          ])\n",
    "\n",
    "preprocessor = ColumnTransformer(\n",
    "    transformers=[\n",
    "        (\"num\", numeric_transformer, num_features),\n",
    "        (\"cat\", categorical_transformer, cat_features),\n",
    "    ])"
   ]
  },
  {
   "cell_type": "code",
   "execution_count": null,
   "id": "59f44f19-602e-4917-82ac-be85bdd96485",
   "metadata": {},
   "outputs": [],
   "source": [
    "%%time\n",
    "lasso_opti= Pipeline(\n",
    "    steps=[(\"preprocessor\", preprocessor), \n",
    "           (\"lassoCV\", LassoCV(cv=5, random_state=0))])#BayesianRidge())]) #\n",
    "lasso_opti.fit(X_train, y_train)\n",
    "y_pred = lasso_opti.predict(X_test)"
   ]
  },
  {
   "cell_type": "code",
   "execution_count": null,
   "id": "9d3d735a-106c-4c6b-8435-5d54c9e4b645",
   "metadata": {},
   "outputs": [],
   "source": [
    "lasso_opti.named_steps.lassoCV.alphas_"
   ]
  },
  {
   "cell_type": "code",
   "execution_count": null,
   "id": "e2b18165-70c7-473d-9757-82a76761a868",
   "metadata": {},
   "outputs": [],
   "source": [
    "lasso_opti.named_steps.lassoCV.alpha_"
   ]
  },
  {
   "cell_type": "code",
   "execution_count": null,
   "id": "57406b8c-aa27-45f2-b447-cc2ba86a3953",
   "metadata": {},
   "outputs": [],
   "source": [
    "print(\"mse\",mean_squared_error(y_test, y_pred))\n",
    "print(\"r2\", r2_score(y_test, y_pred))"
   ]
  },
  {
   "cell_type": "code",
   "execution_count": null,
   "id": "91b3f6e8-477b-4857-af34-cc2c3a535984",
   "metadata": {},
   "outputs": [],
   "source": [
    "df.loc[df[features].isna().any(axis=1),features]"
   ]
  },
  {
   "cell_type": "code",
   "execution_count": null,
   "id": "28a1cf81-57dd-460c-a246-b81b0ca938cf",
   "metadata": {},
   "outputs": [],
   "source": [
    "features"
   ]
  },
  {
   "cell_type": "code",
   "execution_count": null,
   "id": "f273aa26-fb93-4df6-9f06-03505d745507",
   "metadata": {},
   "outputs": [],
   "source": [
    "df['G_Prix_estimé_LassoCV'] = np.nan\n",
    "df.loc[df[features].notna().all(axis=1),'G_Prix_estimé_LassoCV'] = lasso_opti.predict(df.loc[df[features].notna().all(axis=1),['4_Département','3_Population municipale', '3_Densité_hab_par_km2', '3_Superficie de la commune',\n",
    "              '4_Altitude Moyenne','4_lat','4_lon']])"
   ]
  },
  {
   "cell_type": "code",
   "execution_count": null,
   "id": "7641d061-341a-416e-b2f2-2a25a823626e",
   "metadata": {
    "scrolled": true
   },
   "outputs": [],
   "source": [
    "df.loc[:40,['5_PrixMoyen_M2', 'G_Prix_estimé_LassoCV'] ]"
   ]
  },
  {
   "cell_type": "markdown",
   "id": "a62dd18d-637d-4c9e-a2a1-9726c9013729",
   "metadata": {
    "execution": {
     "iopub.execute_input": "2024-01-30T12:52:30.368138Z",
     "iopub.status.busy": "2024-01-30T12:52:30.367163Z",
     "iopub.status.idle": "2024-01-30T12:52:30.379802Z",
     "shell.execute_reply": "2024-01-30T12:52:30.378705Z",
     "shell.execute_reply.started": "2024-01-30T12:52:30.368138Z"
    }
   },
   "source": [
    "## Sauvegarde des datas"
   ]
  },
  {
   "cell_type": "code",
   "execution_count": null,
   "id": "ccc14865-67e7-4e36-9884-c4aa0ba99cd0",
   "metadata": {},
   "outputs": [],
   "source": [
    "df.columns"
   ]
  },
  {
   "cell_type": "code",
   "execution_count": 50,
   "id": "d943ab6d-c880-4588-a832-c4a00577997d",
   "metadata": {
    "execution": {
     "iopub.execute_input": "2024-01-31T09:47:46.515814Z",
     "iopub.status.busy": "2024-01-31T09:47:46.515814Z",
     "iopub.status.idle": "2024-01-31T09:47:48.264110Z",
     "shell.execute_reply": "2024-01-31T09:47:48.263194Z",
     "shell.execute_reply.started": "2024-01-31T09:47:46.515814Z"
    }
   },
   "outputs": [],
   "source": [
    "# df.to_csv('./Tables_traitees/Table_avec_prixM2_estime.csv', index=False, sep=';')"
   ]
  },
  {
   "cell_type": "markdown",
   "id": "d126653b-d6b7-456c-9024-ae1727ddeb87",
   "metadata": {
    "execution": {
     "iopub.execute_input": "2024-01-16T12:43:04.316131Z",
     "iopub.status.busy": "2024-01-16T12:43:04.316131Z",
     "iopub.status.idle": "2024-01-16T12:43:04.332690Z",
     "shell.execute_reply": "2024-01-16T12:43:04.331836Z",
     "shell.execute_reply.started": "2024-01-16T12:43:04.316131Z"
    }
   },
   "source": [
    "## Comparaison des différents du prix moyen au m2 NICOLAS"
   ]
  },
  {
   "cell_type": "code",
   "execution_count": 88,
   "id": "6cd00cb6-9166-4e08-ac04-70048746851b",
   "metadata": {
    "execution": {
     "iopub.execute_input": "2024-01-31T10:06:07.348454Z",
     "iopub.status.busy": "2024-01-31T10:06:07.348454Z",
     "iopub.status.idle": "2024-01-31T10:06:07.576573Z",
     "shell.execute_reply": "2024-01-31T10:06:07.575543Z",
     "shell.execute_reply.started": "2024-01-31T10:06:07.348454Z"
    },
    "scrolled": true
   },
   "outputs": [
    {
     "data": {
      "text/html": [
       "<div>\n",
       "<style scoped>\n",
       "    .dataframe tbody tr th:only-of-type {\n",
       "        vertical-align: middle;\n",
       "    }\n",
       "\n",
       "    .dataframe tbody tr th {\n",
       "        vertical-align: top;\n",
       "    }\n",
       "\n",
       "    .dataframe thead th {\n",
       "        text-align: right;\n",
       "    }\n",
       "</style>\n",
       "<table border=\"1\" class=\"dataframe\">\n",
       "  <thead>\n",
       "    <tr style=\"text-align: right;\">\n",
       "      <th></th>\n",
       "      <th>Variable</th>\n",
       "      <th>type</th>\n",
       "      <th>Nb_val_unique</th>\n",
       "      <th>Nb_manquant</th>\n",
       "    </tr>\n",
       "  </thead>\n",
       "  <tbody>\n",
       "    <tr>\n",
       "      <th>53</th>\n",
       "      <td>6_type</td>\n",
       "      <td>object</td>\n",
       "      <td>9</td>\n",
       "      <td>35990</td>\n",
       "    </tr>\n",
       "    <tr>\n",
       "      <th>23</th>\n",
       "      <td>5_Nb_Ventes</td>\n",
       "      <td>float64</td>\n",
       "      <td>554</td>\n",
       "      <td>9928</td>\n",
       "    </tr>\n",
       "    <tr>\n",
       "      <th>24</th>\n",
       "      <td>5_PrixMoyen_M2</td>\n",
       "      <td>float64</td>\n",
       "      <td>3709</td>\n",
       "      <td>9928</td>\n",
       "    </tr>\n",
       "    <tr>\n",
       "      <th>57</th>\n",
       "      <td>B_Prix_estimé_vois_median</td>\n",
       "      <td>float64</td>\n",
       "      <td>9337</td>\n",
       "      <td>2351</td>\n",
       "    </tr>\n",
       "    <tr>\n",
       "      <th>55</th>\n",
       "      <td>A_Prix_estimé_vois_mean</td>\n",
       "      <td>float64</td>\n",
       "      <td>29371</td>\n",
       "      <td>2351</td>\n",
       "    </tr>\n",
       "    <tr>\n",
       "      <th>...</th>\n",
       "      <td>...</td>\n",
       "      <td>...</td>\n",
       "      <td>...</td>\n",
       "      <td>...</td>\n",
       "    </tr>\n",
       "    <tr>\n",
       "      <th>8</th>\n",
       "      <td>3_Année recensement</td>\n",
       "      <td>int64</td>\n",
       "      <td>10</td>\n",
       "      <td>0</td>\n",
       "    </tr>\n",
       "    <tr>\n",
       "      <th>9</th>\n",
       "      <td>3_Année utilisation</td>\n",
       "      <td>int64</td>\n",
       "      <td>10</td>\n",
       "      <td>0</td>\n",
       "    </tr>\n",
       "    <tr>\n",
       "      <th>12</th>\n",
       "      <td>3_Statut</td>\n",
       "      <td>object</td>\n",
       "      <td>2</td>\n",
       "      <td>0</td>\n",
       "    </tr>\n",
       "    <tr>\n",
       "      <th>1</th>\n",
       "      <td>3_Nom de la région</td>\n",
       "      <td>object</td>\n",
       "      <td>36</td>\n",
       "      <td>0</td>\n",
       "    </tr>\n",
       "    <tr>\n",
       "      <th>0</th>\n",
       "      <td>3_Code région</td>\n",
       "      <td>float64</td>\n",
       "      <td>34</td>\n",
       "      <td>0</td>\n",
       "    </tr>\n",
       "  </tbody>\n",
       "</table>\n",
       "<p>63 rows × 4 columns</p>\n",
       "</div>"
      ],
      "text/plain": [
       "                     Variable     type  Nb_val_unique  Nb_manquant\n",
       "53                     6_type   object              9        35990\n",
       "23                5_Nb_Ventes  float64            554         9928\n",
       "24             5_PrixMoyen_M2  float64           3709         9928\n",
       "57  B_Prix_estimé_vois_median  float64           9337         2351\n",
       "55    A_Prix_estimé_vois_mean  float64          29371         2351\n",
       "..                        ...      ...            ...          ...\n",
       "8         3_Année recensement    int64             10            0\n",
       "9         3_Année utilisation    int64             10            0\n",
       "12                   3_Statut   object              2            0\n",
       "1          3_Nom de la région   object             36            0\n",
       "0               3_Code région  float64             34            0\n",
       "\n",
       "[63 rows x 4 columns]"
      ]
     },
     "execution_count": 88,
     "metadata": {},
     "output_type": "execute_result"
    }
   ],
   "source": [
    "# Valeurs uniques par colonne\n",
    "df_analyse = []\n",
    "manquantes = df.isna().sum()\n",
    "for t in df.columns:\n",
    "    row = {}\n",
    "    row['Variable']=t\n",
    "    row['type']= df[t].dtypes\n",
    "    row['Nb_val_unique']=len(df[t].unique())\n",
    "    row['Nb_manquant']=manquantes[t]\n",
    "    df_analyse.append(row)\n",
    "df_analyse = pd.DataFrame(df_analyse)\n",
    "df_analyse.sort_values(by='Nb_manquant',ascending=False)"
   ]
  },
  {
   "cell_type": "code",
   "execution_count": 89,
   "id": "2e2afe3a-4eae-4e31-a2b0-a85d5ac34ba1",
   "metadata": {
    "execution": {
     "iopub.execute_input": "2024-01-31T10:06:07.694662Z",
     "iopub.status.busy": "2024-01-31T10:06:07.693624Z",
     "iopub.status.idle": "2024-01-31T10:06:07.731710Z",
     "shell.execute_reply": "2024-01-31T10:06:07.730708Z",
     "shell.execute_reply.started": "2024-01-31T10:06:07.694662Z"
    }
   },
   "outputs": [],
   "source": [
    "def performance_of_simulations(titre, list_of_sim):\n",
    "\n",
    "    list_of_col = ['blue', 'orange', 'green', 'red', 'purple', 'brown', 'pink', 'gray', 'olive', 'teal']\n",
    "    \n",
    "    print(f\"{'RAPPEL: Nombre de prix moyen total / manquants:':50} {len(df)} / {len(df[df['5_PrixMoyen_M2'].isna()])}\")\n",
    "    \n",
    "    plt.figure(figsize=(15,3.5*len(list_of_sim)))\n",
    "    plt.suptitle(titre)\n",
    "    \n",
    "    for i,p in enumerate(list_of_sim):\n",
    "        \n",
    "        print(f\"{'Simulation:':50} {p}\")\n",
    "        print(f\"{'Nombre de prix estimés:':50} {len(df[df[p].notna()])}\")\n",
    "\n",
    "        df_eval = df.loc[index_to_remove,:].copy()\n",
    "        df_not_NA = df_eval[(df_eval[p].notna()) & df_eval['5_PrixMoyen_M2'].notna()].copy()\n",
    "        # df_not_NA = df[(df[p].notna()) & df['5_PrixMoyen_M2'].notna()].copy()\n",
    "        print(f\"{'Nombre de prix pour la comparaison:':50} {len(df_not_NA)}\")\n",
    "        \n",
    "        mse = mean_squared_error( df_not_NA['5_PrixMoyen_M2'], df_not_NA[p])\n",
    "        r2 = r2_score( df_not_NA['5_PrixMoyen_M2'], df_not_NA[p])\n",
    "        \n",
    "        df_not_NA['Delta_PrixMoyen_VS_estimé'] = df_not_NA[p] - df_not_NA['5_PrixMoyen_M2']\n",
    "\n",
    "        plt.subplot(len(list_of_sim),3,3*i+1)\n",
    "        sns.scatterplot(data=df_not_NA, x='5_PrixMoyen_M2', y=p, color=list_of_col[i])\n",
    "        sns.lineplot(x=[0,10000], y=[0,10000],color='r')\n",
    "        top = plt.gca().get_ylim()[1]\n",
    "        plt.text(0, top-1000, s=p)\n",
    "        plt.text(0,top-2000,s=f\"mse: {round(mse)}\")\n",
    "        plt.text(0,top-3000,s=f\"r2: {round(r2,3)}\")\n",
    "        if i<len(list_of_sim)-1: \n",
    "            plt.xlabel('')\n",
    "        else:\n",
    "            plt.xlabel('5_PrixMoyen_M2')\n",
    "\n",
    "        plt.subplot(len(list_of_sim),3,3*i+2) \n",
    "        sns.histplot(x=df_not_NA['Delta_PrixMoyen_VS_estimé'], color=list_of_col[i])\n",
    "        plt.xlim(-3000,3000)\n",
    "        if i<len(list_of_sim)-1: \n",
    "            plt.xlabel('')\n",
    "        else:\n",
    "            plt.xlabel('Delta_PrixMoyen_VS_estimé')\n",
    "\n",
    "        plt.subplot(len(list_of_sim),3,3*i+3)\n",
    "        sns.boxplot(x=df_not_NA['Delta_PrixMoyen_VS_estimé'],orient='h', color=list_of_col[i])\n",
    "        if i<len(list_of_sim)-1: \n",
    "            plt.xlabel('')\n",
    "        else:\n",
    "            plt.xlabel('Delta_PrixMoyen_VS_estimé')\n",
    "        print('Analyse de l\"écart entre Prix Moyen réel et prix estimé')\n",
    "        print(df_not_NA['Delta_PrixMoyen_VS_estimé'].describe()) #\n",
    "    plt.savefig(\"Comparaison des estimations du prix au M2.png\")\n",
    "    plt.show()\n",
    "    "
   ]
  },
  {
   "cell_type": "code",
   "execution_count": 90,
   "id": "a781d622-a37f-4b4c-a773-bca545d43aab",
   "metadata": {
    "execution": {
     "iopub.execute_input": "2024-01-31T10:06:08.151267Z",
     "iopub.status.busy": "2024-01-31T10:06:08.151267Z",
     "iopub.status.idle": "2024-01-31T10:06:13.145392Z",
     "shell.execute_reply": "2024-01-31T10:06:13.144471Z",
     "shell.execute_reply.started": "2024-01-31T10:06:08.151267Z"
    }
   },
   "outputs": [
    {
     "name": "stdout",
     "output_type": "stream",
     "text": [
      "RAPPEL: Nombre de prix moyen total / manquants:    36750 / 9928\n",
      "Simulation:                                        A_Prix_estimé_vois_mean\n",
      "Nombre de prix estimés:                            34399\n",
      "Nombre de prix pour la comparaison:                4363\n",
      "Analyse de l\"écart entre Prix Moyen réel et prix estimé\n",
      "count    4363.000000\n",
      "mean       -2.923004\n",
      "std       449.353243\n",
      "min     -3879.429164\n",
      "25%      -188.839996\n",
      "50%        25.000000\n",
      "75%       226.633333\n",
      "max      4384.000000\n",
      "Name: Delta_PrixMoyen_VS_estimé, dtype: float64\n",
      "Simulation:                                        B_Prix_estimé_vois_median\n",
      "Nombre de prix estimés:                            34399\n",
      "Nombre de prix pour la comparaison:                4363\n",
      "Analyse de l\"écart entre Prix Moyen réel et prix estimé\n",
      "count    4363.000000\n",
      "mean      -34.577739\n",
      "std       448.811375\n",
      "min     -4083.000000\n",
      "25%      -197.500000\n",
      "50%         0.000000\n",
      "75%       190.000000\n",
      "max      4384.000000\n",
      "Name: Delta_PrixMoyen_VS_estimé, dtype: float64\n",
      "Simulation:                                        C_Prix_estime_mean\n",
      "Nombre de prix estimés:                            36750\n",
      "Nombre de prix pour la comparaison:                4388\n",
      "Analyse de l\"écart entre Prix Moyen réel et prix estimé\n",
      "count     4388.000000\n",
      "mean         5.272334\n",
      "std        857.797148\n",
      "min     -10045.000000\n",
      "25%       -271.250000\n",
      "50%        183.000000\n",
      "75%        536.000000\n",
      "max       1285.000000\n",
      "Name: Delta_PrixMoyen_VS_estimé, dtype: float64\n",
      "Simulation:                                        C1_Prix_estime_median\n",
      "Nombre de prix estimés:                            36750\n",
      "Nombre de prix pour la comparaison:                4388\n",
      "Analyse de l\"écart entre Prix Moyen réel et prix estimé\n",
      "count     4388.000000\n",
      "mean      -180.727666\n",
      "std        857.797148\n",
      "min     -10231.000000\n",
      "25%       -457.250000\n",
      "50%         -3.000000\n",
      "75%        350.000000\n",
      "max       1099.000000\n",
      "Name: Delta_PrixMoyen_VS_estimé, dtype: float64\n",
      "Simulation:                                        F_Prix_estimé_RFReg\n",
      "Nombre de prix estimés:                            35928\n",
      "Nombre de prix pour la comparaison:                4388\n",
      "Analyse de l\"écart entre Prix Moyen réel et prix estimé\n",
      "count    4388.000000\n",
      "mean       25.885432\n",
      "std       725.729187\n",
      "min     -9293.408697\n",
      "25%      -251.348088\n",
      "50%       130.474181\n",
      "75%       425.531511\n",
      "max      2437.190351\n",
      "Name: Delta_PrixMoyen_VS_estimé, dtype: float64\n",
      "Simulation:                                        F_Prix_estimé_RFReg2\n",
      "Nombre de prix estimés:                            35924\n",
      "Nombre de prix pour la comparaison:                4388\n",
      "Analyse de l\"écart entre Prix Moyen réel et prix estimé\n",
      "count    4388.000000\n",
      "mean       10.208058\n",
      "std       501.422747\n",
      "min     -3924.327150\n",
      "25%      -198.633744\n",
      "50%        50.107249\n",
      "75%       272.766989\n",
      "max      2328.422172\n",
      "Name: Delta_PrixMoyen_VS_estimé, dtype: float64\n",
      "Simulation:                                        G_Prix_estimé_LassoCV\n",
      "Nombre de prix estimés:                            35924\n",
      "Nombre de prix pour la comparaison:                4388\n",
      "Analyse de l\"écart entre Prix Moyen réel et prix estimé\n",
      "count    4388.000000\n",
      "mean        3.822363\n",
      "std       590.951582\n",
      "min     -4105.387258\n",
      "25%      -258.512188\n",
      "50%        74.377302\n",
      "75%       344.529752\n",
      "max      4902.052830\n",
      "Name: Delta_PrixMoyen_VS_estimé, dtype: float64\n"
     ]
    },
    {
     "data": {
      "image/png": "[encoded data removed]",
      "text/plain": [
       "<Figure size 1500x2450 with 21 Axes>"
      ]
     },
     "metadata": {},
     "output_type": "display_data"
    }
   ],
   "source": [
    "performance_of_simulations('Comparaison des estimations de prix',  \n",
    "                           ['A_Prix_estimé_vois_mean', 'B_Prix_estimé_vois_median', \n",
    "                            'C_Prix_estime_mean', 'C1_Prix_estime_median',\n",
    "                            'F_Prix_estimé_RFReg',  'F_Prix_estimé_RFReg2',\n",
    "                            'G_Prix_estimé_LassoCV',\n",
    "                           ])"
   ]
  },
  {
   "cell_type": "code",
   "execution_count": null,
   "id": "a9febdcf-9bb2-4968-9c1a-984d57e71c51",
   "metadata": {},
   "outputs": [],
   "source": []
  }
 ],
 "metadata": {
  "kernelspec": {
   "display_name": "Python 3 (ipykernel)",
   "language": "python",
   "name": "python3"
  },
  "language_info": {
   "codemirror_mode": {
    "name": "ipython",
    "version": 3
   },
   "file_extension": ".py",
   "mimetype": "text/x-python",
   "name": "python",
   "nbconvert_exporter": "python",
   "pygments_lexer": "ipython3",
   "version": "3.9.18"
  },
  "toc-autonumbering": true
 },
 "nbformat": 4,
 "nbformat_minor": 5
}
