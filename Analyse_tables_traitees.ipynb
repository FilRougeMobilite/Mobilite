{
 "cells": [
  {
   "cell_type": "code",
   "execution_count": 1,
   "id": "db109aaf-eb9e-4042-8f98-791e317b2d1c",
   "metadata": {
    "execution": {
     "iopub.execute_input": "2024-01-24T13:02:53.082704Z",
     "iopub.status.busy": "2024-01-24T13:02:53.082704Z",
     "iopub.status.idle": "2024-01-24T13:02:54.379268Z",
     "shell.execute_reply": "2024-01-24T13:02:54.378169Z",
     "shell.execute_reply.started": "2024-01-24T13:02:53.082704Z"
    },
    "tags": []
   },
   "outputs": [],
   "source": [
    "import pandas as pd\n",
    "import glob\n",
    "import numpy as np\n",
    "#pd.set_option('display.max_rows', None)\n",
    "#pd.set_option('display.max_columns', None)\n",
    "import matplotlib.pyplot as plt\n",
    "import seaborn as sns"
   ]
  },
  {
   "cell_type": "code",
   "execution_count": 2,
   "id": "a26d1132-df14-4514-ad54-384a1c252aec",
   "metadata": {
    "execution": {
     "iopub.execute_input": "2024-01-24T13:02:54.379268Z",
     "iopub.status.busy": "2024-01-24T13:02:54.379268Z",
     "iopub.status.idle": "2024-01-24T13:02:54.389872Z",
     "shell.execute_reply": "2024-01-24T13:02:54.389626Z",
     "shell.execute_reply.started": "2024-01-24T13:02:54.379268Z"
    }
   },
   "outputs": [
    {
     "data": {
      "text/plain": [
       "'C:\\\\Users\\\\nimod\\\\OneDrive - Université de Technologie de Troyes\\\\Fil_rouge'"
      ]
     },
     "execution_count": 2,
     "metadata": {},
     "output_type": "execute_result"
    }
   ],
   "source": [
    "pwd"
   ]
  },
  {
   "cell_type": "code",
   "execution_count": 3,
   "id": "49248214-918d-4685-8d1e-9947f33b1271",
   "metadata": {
    "execution": {
     "iopub.execute_input": "2024-01-24T13:02:54.391540Z",
     "iopub.status.busy": "2024-01-24T13:02:54.391540Z",
     "iopub.status.idle": "2024-01-24T13:02:54.410570Z",
     "shell.execute_reply": "2024-01-24T13:02:54.409560Z",
     "shell.execute_reply.started": "2024-01-24T13:02:54.391540Z"
    },
    "tags": []
   },
   "outputs": [
    {
     "data": {
      "text/plain": [
       "['./Tables_traitees\\\\Communes_manquantes.csv',\n",
       " './Tables_traitees\\\\Infos_communes.csv',\n",
       " './Tables_traitees\\\\Infos_communes_avec_prix_estimé.csv',\n",
       " './Tables_traitees\\\\Population-Superficie_communes.csv',\n",
       " './Tables_traitees\\\\PrixMoy_m2_avec_code_commune.csv',\n",
       " './Tables_traitees\\\\Stations_carburant_avec_code_commune.csv',\n",
       " './Tables_traitees\\\\Stations_electriques_avec_code_commune.csv']"
      ]
     },
     "execution_count": 3,
     "metadata": {},
     "output_type": "execute_result"
    }
   ],
   "source": [
    "glob.glob('./Tables_traitees/*')"
   ]
  },
  {
   "cell_type": "markdown",
   "id": "c403829a-7da6-4aa4-94fc-a84c7213b55f",
   "metadata": {},
   "source": [
    "| N° | Dataframe | Description |\n",
    "| -- | -- | -- |  \n",
    "| 1. | df_elec | Bornes électriques |\n",
    "| 2. | df_carb | Stations Carburant | \n",
    "| 3. | df_pop | Population et superficie commune | \n",
    "| 4. | df_com | Infos communes | \n",
    "| 5. | df_commune_immo | Prix au m2 | \n",
    "| 6. | df_commune_adj | Communes adjacentes | |"
   ]
  },
  {
   "cell_type": "markdown",
   "id": "94ea35c2-a39d-4e24-bbbe-18a1a6d90811",
   "metadata": {
    "execution": {
     "iopub.execute_input": "2024-01-07T09:21:28.476863Z",
     "iopub.status.busy": "2024-01-07T09:21:28.476863Z",
     "iopub.status.idle": "2024-01-07T09:21:28.487862Z",
     "shell.execute_reply": "2024-01-07T09:21:28.486950Z",
     "shell.execute_reply.started": "2024-01-07T09:21:28.476863Z"
    }
   },
   "source": [
    "# Analyse des tables traitées"
   ]
  },
  {
   "cell_type": "markdown",
   "id": "b46b2c15-656c-4c09-b07c-3ddd6f1c0d9c",
   "metadata": {},
   "source": [
    "## df_elec - Bornes électriques"
   ]
  },
  {
   "cell_type": "code",
   "execution_count": 4,
   "id": "65249c0a-915a-48bb-9138-54b72f255bab",
   "metadata": {
    "execution": {
     "iopub.execute_input": "2024-01-24T13:02:54.412564Z",
     "iopub.status.busy": "2024-01-24T13:02:54.412564Z",
     "iopub.status.idle": "2024-01-24T13:02:55.188943Z",
     "shell.execute_reply": "2024-01-24T13:02:55.187934Z",
     "shell.execute_reply.started": "2024-01-24T13:02:54.412564Z"
    }
   },
   "outputs": [
    {
     "name": "stderr",
     "output_type": "stream",
     "text": [
      "C:\\Users\\nimod\\AppData\\Local\\Temp\\ipykernel_18212\\2994795067.py:1: DtypeWarning: Columns (12,52,63) have mixed types. Specify dtype option on import or set low_memory=False.\n",
      "  df_elec = pd.read_csv('./Tables_traitees\\\\Stations_electriques_avec_code_commune.csv', sep=';')\n"
     ]
    }
   ],
   "source": [
    "df_elec = pd.read_csv('./Tables_traitees\\\\Stations_electriques_avec_code_commune.csv', sep=';')"
   ]
  },
  {
   "cell_type": "code",
   "execution_count": 5,
   "id": "54317adf-64f7-4d6a-8b2d-f10d15d9d88f",
   "metadata": {
    "execution": {
     "iopub.execute_input": "2024-01-24T13:02:55.189943Z",
     "iopub.status.busy": "2024-01-24T13:02:55.189943Z",
     "iopub.status.idle": "2024-01-24T13:02:55.198772Z",
     "shell.execute_reply": "2024-01-24T13:02:55.197745Z",
     "shell.execute_reply.started": "2024-01-24T13:02:55.189943Z"
    }
   },
   "outputs": [],
   "source": [
    "rename = {col:\"1_\"+col for col in df_elec.columns}\n",
    "df_elec.rename(columns = rename, inplace=True)"
   ]
  },
  {
   "cell_type": "code",
   "execution_count": 6,
   "id": "9e0c119b-7a7c-42e3-91f5-7ccc0177c240",
   "metadata": {
    "execution": {
     "iopub.execute_input": "2024-01-24T13:02:55.199766Z",
     "iopub.status.busy": "2024-01-24T13:02:55.198772Z",
     "iopub.status.idle": "2024-01-24T13:02:55.209265Z",
     "shell.execute_reply": "2024-01-24T13:02:55.208241Z",
     "shell.execute_reply.started": "2024-01-24T13:02:55.199766Z"
    }
   },
   "outputs": [
    {
     "data": {
      "text/plain": [
       "(63715, 64)"
      ]
     },
     "execution_count": 6,
     "metadata": {},
     "output_type": "execute_result"
    }
   ],
   "source": [
    "df_elec.shape"
   ]
  },
  {
   "cell_type": "code",
   "execution_count": 7,
   "id": "3328bd72-1199-44a2-805d-0bb6b120084d",
   "metadata": {
    "execution": {
     "iopub.execute_input": "2024-01-24T13:02:55.209265Z",
     "iopub.status.busy": "2024-01-24T13:02:55.209265Z",
     "iopub.status.idle": "2024-01-24T13:02:55.216842Z",
     "shell.execute_reply": "2024-01-24T13:02:55.216842Z",
     "shell.execute_reply.started": "2024-01-24T13:02:55.209265Z"
    }
   },
   "outputs": [
    {
     "data": {
      "text/plain": [
       "Index(['1_Nom aménageur', '1_SIREN aménageur', '1_Contact aménageur',\n",
       "       '1_Nom opérateur', '1_Contact opérateur', '1_Téléphone opérateur',\n",
       "       '1_Nom enseigne', '1_ID station itinérance', '1_ID station local',\n",
       "       '1_Nom station', '1_Implantation station', '1_Adresse station',\n",
       "       '1_Code INSEE commune', '1_Coordonnées', '1_Nombre Points de charge',\n",
       "       '1_ID PDC itinérance', '1_ID PDC local', '1_Puissance nominale',\n",
       "       '1_Prise type E/F', '1_Prise type 2', '1_Prise type combo ccs',\n",
       "       '1_Prise type chademo', '1_Prise type autre', '1_Gratuit',\n",
       "       '1_Paiement acte', '1_Paiement CB', '1_Paiement autre',\n",
       "       '1_Tarification', '1_Condition accès', '1_Réservation', '1_Horaires',\n",
       "       '1_Accessibilité PMR', '1_Restriction gabarit', '1_Station deux roues',\n",
       "       '1_Raccordement', '1_Num PDL', '1_Date mise en service',\n",
       "       '1_Observations', '1_Date de Mise à Jour', '1_cable_t2_attache',\n",
       "       '1_Dernière modification', '1_datagouv dataset id',\n",
       "       '1_datagouv resource id', '1_datagouv organization or owner',\n",
       "       '1_created_at', '1_consolidated_longitude', '1_consolidated_latitude',\n",
       "       '1_consolidated_code_postal', '1_consolidated_commune',\n",
       "       '1_consolidated_is_lon_lat_correct',\n",
       "       '1_consolidated_is_code_insee_verified', '1_coord', '1_longitude',\n",
       "       '1_latitude', '1_point_geo',\n",
       "       '1_Nom de la commune ou de l'arrondissement municipal',\n",
       "       '1_Code de la commune ou de l'arrondissement', '1_Code EPCI',\n",
       "       '1_Nom de l'EPCI', '1_Code Officiel Département',\n",
       "       '1_Nom Officiel Département', '1_Code Officiel Région',\n",
       "       '1_Nom Officiel Région', '1_code_commune_n'],\n",
       "      dtype='object')"
      ]
     },
     "execution_count": 7,
     "metadata": {},
     "output_type": "execute_result"
    }
   ],
   "source": [
    "df_elec.columns"
   ]
  },
  {
   "cell_type": "code",
   "execution_count": 8,
   "id": "8fec07d6-f68a-46d9-89b7-fb54ee6aeaaa",
   "metadata": {
    "execution": {
     "iopub.execute_input": "2024-01-24T13:02:55.216842Z",
     "iopub.status.busy": "2024-01-24T13:02:55.216842Z",
     "iopub.status.idle": "2024-01-24T13:02:55.249289Z",
     "shell.execute_reply": "2024-01-24T13:02:55.248299Z",
     "shell.execute_reply.started": "2024-01-24T13:02:55.216842Z"
    }
   },
   "outputs": [
    {
     "data": {
      "text/plain": [
       "(55, 64)"
      ]
     },
     "execution_count": 8,
     "metadata": {},
     "output_type": "execute_result"
    }
   ],
   "source": [
    "df_elec[df_elec['1_code_commune_n'].isna()].shape"
   ]
  },
  {
   "cell_type": "code",
   "execution_count": 9,
   "id": "f47e5ada-6f8f-44ab-a406-837607a0b8cc",
   "metadata": {
    "execution": {
     "iopub.execute_input": "2024-01-24T13:02:55.250288Z",
     "iopub.status.busy": "2024-01-24T13:02:55.250288Z",
     "iopub.status.idle": "2024-01-24T13:02:55.257832Z",
     "shell.execute_reply": "2024-01-24T13:02:55.256764Z",
     "shell.execute_reply.started": "2024-01-24T13:02:55.250288Z"
    }
   },
   "outputs": [],
   "source": [
    "# df_elec[df_elec['1_code_commune_n'].isna()].to_csv('./Tables_traitees\\\\Communes_manquantes.csv', sep=';',index=False)"
   ]
  },
  {
   "cell_type": "markdown",
   "id": "463852c4-0007-4522-9fea-cd9d61fdb83a",
   "metadata": {},
   "source": [
    "## df_carb - Stations Carburant"
   ]
  },
  {
   "cell_type": "code",
   "execution_count": 10,
   "id": "3be16777-32c9-4d98-bfb5-5f7824d40a0a",
   "metadata": {
    "execution": {
     "iopub.execute_input": "2024-01-24T13:02:55.259129Z",
     "iopub.status.busy": "2024-01-24T13:02:55.258101Z",
     "iopub.status.idle": "2024-01-24T13:02:55.423607Z",
     "shell.execute_reply": "2024-01-24T13:02:55.422619Z",
     "shell.execute_reply.started": "2024-01-24T13:02:55.259129Z"
    }
   },
   "outputs": [],
   "source": [
    "df_carb = pd.read_csv('./Tables_traitees\\\\Stations_carburant_avec_code_commune.csv', sep=';')"
   ]
  },
  {
   "cell_type": "code",
   "execution_count": 11,
   "id": "af9215e9-3a85-4e84-a83c-e6929c5786d8",
   "metadata": {
    "execution": {
     "iopub.execute_input": "2024-01-24T13:02:55.424114Z",
     "iopub.status.busy": "2024-01-24T13:02:55.424114Z",
     "iopub.status.idle": "2024-01-24T13:02:55.432437Z",
     "shell.execute_reply": "2024-01-24T13:02:55.431432Z",
     "shell.execute_reply.started": "2024-01-24T13:02:55.424114Z"
    }
   },
   "outputs": [],
   "source": [
    "rename = {col:\"2_\"+col for col in df_carb.columns}\n",
    "df_carb.rename(columns = rename, inplace=True)"
   ]
  },
  {
   "cell_type": "code",
   "execution_count": 12,
   "id": "b671e293-d139-4c3b-ab20-7c63891d8bcb",
   "metadata": {
    "execution": {
     "iopub.execute_input": "2024-01-24T13:02:55.433952Z",
     "iopub.status.busy": "2024-01-24T13:02:55.432945Z",
     "iopub.status.idle": "2024-01-24T13:02:55.442546Z",
     "shell.execute_reply": "2024-01-24T13:02:55.441539Z",
     "shell.execute_reply.started": "2024-01-24T13:02:55.433952Z"
    }
   },
   "outputs": [
    {
     "data": {
      "text/plain": [
       "(12450, 25)"
      ]
     },
     "execution_count": 12,
     "metadata": {},
     "output_type": "execute_result"
    }
   ],
   "source": [
    "df_carb.shape"
   ]
  },
  {
   "cell_type": "code",
   "execution_count": 13,
   "id": "d2740704-c826-4d21-aa91-a60cff60321b",
   "metadata": {
    "execution": {
     "iopub.execute_input": "2024-01-24T13:02:55.446546Z",
     "iopub.status.busy": "2024-01-24T13:02:55.446546Z",
     "iopub.status.idle": "2024-01-24T13:02:55.455330Z",
     "shell.execute_reply": "2024-01-24T13:02:55.455330Z",
     "shell.execute_reply.started": "2024-01-24T13:02:55.446546Z"
    }
   },
   "outputs": [
    {
     "data": {
      "text/plain": [
       "Index(['2_Identifiant', '2_Code Postal', '2_Présence', '2_Adresse', '2_Ville',\n",
       "       '2_Automate 24-24', '2_Timetable', '2_Carburant', '2_Rupture',\n",
       "       '2_Mise à jour', '2_Prix Gazole', '2_Prix SP95', '2_Prix SP98',\n",
       "       '2_Prix GPLc', '2_Prix E10', '2_Prix E85', '2_Services', '2_Marque',\n",
       "       '2_Nom', '2_Geo Point', '2_Code INSEE', '2_Commune', '2_code_commune_n',\n",
       "       '2_lat', '2_lon'],\n",
       "      dtype='object')"
      ]
     },
     "execution_count": 13,
     "metadata": {},
     "output_type": "execute_result"
    }
   ],
   "source": [
    "df_carb.columns"
   ]
  },
  {
   "cell_type": "code",
   "execution_count": 14,
   "id": "936801fc-f329-4339-b0b2-f3361ac6f26c",
   "metadata": {
    "execution": {
     "iopub.execute_input": "2024-01-24T13:02:55.459422Z",
     "iopub.status.busy": "2024-01-24T13:02:55.459422Z",
     "iopub.status.idle": "2024-01-24T13:02:55.473428Z",
     "shell.execute_reply": "2024-01-24T13:02:55.471467Z",
     "shell.execute_reply.started": "2024-01-24T13:02:55.459422Z"
    }
   },
   "outputs": [
    {
     "data": {
      "text/plain": [
       "2_Identifiant         int64\n",
       "2_Code Postal         int64\n",
       "2_Présence           object\n",
       "2_Adresse            object\n",
       "2_Ville              object\n",
       "2_Automate 24-24     object\n",
       "2_Timetable          object\n",
       "2_Carburant          object\n",
       "2_Rupture            object\n",
       "2_Mise à jour        object\n",
       "2_Prix Gazole       float64\n",
       "2_Prix SP95         float64\n",
       "2_Prix SP98         float64\n",
       "2_Prix GPLc         float64\n",
       "2_Prix E10          float64\n",
       "2_Prix E85          float64\n",
       "2_Services           object\n",
       "2_Marque             object\n",
       "2_Nom                object\n",
       "2_Geo Point          object\n",
       "2_Code INSEE         object\n",
       "2_Commune            object\n",
       "2_code_commune_n     object\n",
       "2_lat               float64\n",
       "2_lon               float64\n",
       "dtype: object"
      ]
     },
     "execution_count": 14,
     "metadata": {},
     "output_type": "execute_result"
    }
   ],
   "source": [
    "df_carb.dtypes"
   ]
  },
  {
   "cell_type": "code",
   "execution_count": 15,
   "id": "7febbbdf-8aa5-4c45-a1c6-8f902823d825",
   "metadata": {
    "execution": {
     "iopub.execute_input": "2024-01-24T13:02:55.475148Z",
     "iopub.status.busy": "2024-01-24T13:02:55.474620Z",
     "iopub.status.idle": "2024-01-24T13:02:55.511506Z",
     "shell.execute_reply": "2024-01-24T13:02:55.508495Z",
     "shell.execute_reply.started": "2024-01-24T13:02:55.475148Z"
    }
   },
   "outputs": [
    {
     "data": {
      "text/html": [
       "<div>\n",
       "<style scoped>\n",
       "    .dataframe tbody tr th:only-of-type {\n",
       "        vertical-align: middle;\n",
       "    }\n",
       "\n",
       "    .dataframe tbody tr th {\n",
       "        vertical-align: top;\n",
       "    }\n",
       "\n",
       "    .dataframe thead th {\n",
       "        text-align: right;\n",
       "    }\n",
       "</style>\n",
       "<table border=\"1\" class=\"dataframe\">\n",
       "  <thead>\n",
       "    <tr style=\"text-align: right;\">\n",
       "      <th></th>\n",
       "      <th>2_Identifiant</th>\n",
       "      <th>2_Code Postal</th>\n",
       "      <th>2_Présence</th>\n",
       "      <th>2_Adresse</th>\n",
       "      <th>2_Ville</th>\n",
       "      <th>2_Automate 24-24</th>\n",
       "      <th>2_Timetable</th>\n",
       "      <th>2_Carburant</th>\n",
       "      <th>2_Rupture</th>\n",
       "      <th>2_Mise à jour</th>\n",
       "      <th>...</th>\n",
       "      <th>2_Prix E85</th>\n",
       "      <th>2_Services</th>\n",
       "      <th>2_Marque</th>\n",
       "      <th>2_Nom</th>\n",
       "      <th>2_Geo Point</th>\n",
       "      <th>2_Code INSEE</th>\n",
       "      <th>2_Commune</th>\n",
       "      <th>2_code_commune_n</th>\n",
       "      <th>2_lat</th>\n",
       "      <th>2_lon</th>\n",
       "    </tr>\n",
       "  </thead>\n",
       "  <tbody>\n",
       "    <tr>\n",
       "      <th>0</th>\n",
       "      <td>14730002</td>\n",
       "      <td>14730</td>\n",
       "      <td>A</td>\n",
       "      <td>Autoroute de Normandie</td>\n",
       "      <td>GIBERVILLE</td>\n",
       "      <td>NaN</td>\n",
       "      <td>NaN</td>\n",
       "      <td>Gazole</td>\n",
       "      <td>SP95,E85,GPLc</td>\n",
       "      <td>2020-01-06T12:44:00+01:00</td>\n",
       "      <td>...</td>\n",
       "      <td>NaN</td>\n",
       "      <td>NaN</td>\n",
       "      <td>Esso</td>\n",
       "      <td>ESSO GIBERVILLE</td>\n",
       "      <td>49.16711, -0.28803</td>\n",
       "      <td>14301</td>\n",
       "      <td>GIBERVILLE</td>\n",
       "      <td>14301</td>\n",
       "      <td>49.167110</td>\n",
       "      <td>-0.288030</td>\n",
       "    </tr>\n",
       "    <tr>\n",
       "      <th>1</th>\n",
       "      <td>84550001</td>\n",
       "      <td>84550</td>\n",
       "      <td>A</td>\n",
       "      <td>A7 AIRE DE MORNAS VILLAGE</td>\n",
       "      <td>MORNAS</td>\n",
       "      <td>NaN</td>\n",
       "      <td>NaN</td>\n",
       "      <td>Gazole,SP95,E85,GPLc,E10,SP98</td>\n",
       "      <td>NaN</td>\n",
       "      <td>2020-01-12T09:51:06+01:00</td>\n",
       "      <td>...</td>\n",
       "      <td>0.749000</td>\n",
       "      <td>Restauration à emporter,Carburant additivé,Toi...</td>\n",
       "      <td>Carrefour</td>\n",
       "      <td>AIRE DE MORNAS VILLAGE (LES CROUSILLES)</td>\n",
       "      <td>44.2036953693, 4.72398720666</td>\n",
       "      <td>84083</td>\n",
       "      <td>MORNAS</td>\n",
       "      <td>84083</td>\n",
       "      <td>44.203695</td>\n",
       "      <td>4.723987</td>\n",
       "    </tr>\n",
       "    <tr>\n",
       "      <th>2</th>\n",
       "      <td>67202004</td>\n",
       "      <td>67202</td>\n",
       "      <td>R</td>\n",
       "      <td>RN 4 Route de Saverne, Station Total Access</td>\n",
       "      <td>WOLFISHEIM</td>\n",
       "      <td>Oui</td>\n",
       "      <td>{\"Dimanche\": {\"fermeture\": \"20.00\", \"ouvert\": ...</td>\n",
       "      <td>E85,E10,SP98</td>\n",
       "      <td>GPLc,SP95</td>\n",
       "      <td>2022-11-22T08:52:37+01:00</td>\n",
       "      <td>...</td>\n",
       "      <td>0.000929</td>\n",
       "      <td>Relais colis,Boutique alimentaire,Boutique non...</td>\n",
       "      <td>NaN</td>\n",
       "      <td>NaN</td>\n",
       "      <td>NaN</td>\n",
       "      <td>67551</td>\n",
       "      <td>WOLFISHEIM</td>\n",
       "      <td>67551</td>\n",
       "      <td>NaN</td>\n",
       "      <td>NaN</td>\n",
       "    </tr>\n",
       "  </tbody>\n",
       "</table>\n",
       "<p>3 rows × 25 columns</p>\n",
       "</div>"
      ],
      "text/plain": [
       "   2_Identifiant  2_Code Postal 2_Présence  \\\n",
       "0       14730002          14730          A   \n",
       "1       84550001          84550          A   \n",
       "2       67202004          67202          R   \n",
       "\n",
       "                                     2_Adresse     2_Ville 2_Automate 24-24  \\\n",
       "0                       Autoroute de Normandie  GIBERVILLE              NaN   \n",
       "1                    A7 AIRE DE MORNAS VILLAGE      MORNAS              NaN   \n",
       "2  RN 4 Route de Saverne, Station Total Access  WOLFISHEIM              Oui   \n",
       "\n",
       "                                         2_Timetable  \\\n",
       "0                                                NaN   \n",
       "1                                                NaN   \n",
       "2  {\"Dimanche\": {\"fermeture\": \"20.00\", \"ouvert\": ...   \n",
       "\n",
       "                     2_Carburant      2_Rupture              2_Mise à jour  \\\n",
       "0                         Gazole  SP95,E85,GPLc  2020-01-06T12:44:00+01:00   \n",
       "1  Gazole,SP95,E85,GPLc,E10,SP98            NaN  2020-01-12T09:51:06+01:00   \n",
       "2                   E85,E10,SP98      GPLc,SP95  2022-11-22T08:52:37+01:00   \n",
       "\n",
       "   ...  2_Prix E85                                         2_Services  \\\n",
       "0  ...         NaN                                                NaN   \n",
       "1  ...    0.749000  Restauration à emporter,Carburant additivé,Toi...   \n",
       "2  ...    0.000929  Relais colis,Boutique alimentaire,Boutique non...   \n",
       "\n",
       "    2_Marque                                    2_Nom  \\\n",
       "0       Esso                          ESSO GIBERVILLE   \n",
       "1  Carrefour  AIRE DE MORNAS VILLAGE (LES CROUSILLES)   \n",
       "2        NaN                                      NaN   \n",
       "\n",
       "                    2_Geo Point  2_Code INSEE   2_Commune 2_code_commune_n  \\\n",
       "0            49.16711, -0.28803         14301  GIBERVILLE            14301   \n",
       "1  44.2036953693, 4.72398720666         84083      MORNAS            84083   \n",
       "2                           NaN         67551  WOLFISHEIM            67551   \n",
       "\n",
       "       2_lat     2_lon  \n",
       "0  49.167110 -0.288030  \n",
       "1  44.203695  4.723987  \n",
       "2        NaN       NaN  \n",
       "\n",
       "[3 rows x 25 columns]"
      ]
     },
     "execution_count": 15,
     "metadata": {},
     "output_type": "execute_result"
    }
   ],
   "source": [
    "df_carb[:3]"
   ]
  },
  {
   "cell_type": "code",
   "execution_count": 16,
   "id": "bdc234b7-d2bc-4c17-9c4f-38c1b28deafd",
   "metadata": {
    "execution": {
     "iopub.execute_input": "2024-01-24T13:02:55.514492Z",
     "iopub.status.busy": "2024-01-24T13:02:55.514492Z",
     "iopub.status.idle": "2024-01-24T13:02:55.524496Z",
     "shell.execute_reply": "2024-01-24T13:02:55.523588Z",
     "shell.execute_reply.started": "2024-01-24T13:02:55.514492Z"
    }
   },
   "outputs": [
    {
     "data": {
      "text/plain": [
       "10962"
      ]
     },
     "execution_count": 16,
     "metadata": {},
     "output_type": "execute_result"
    }
   ],
   "source": [
    "len(df_carb['2_Identifiant'].unique())"
   ]
  },
  {
   "cell_type": "code",
   "execution_count": 17,
   "id": "65204639-518f-458c-a098-2b8c31064179",
   "metadata": {
    "execution": {
     "iopub.execute_input": "2024-01-24T13:02:55.525494Z",
     "iopub.status.busy": "2024-01-24T13:02:55.525494Z",
     "iopub.status.idle": "2024-01-24T13:02:55.556356Z",
     "shell.execute_reply": "2024-01-24T13:02:55.554708Z",
     "shell.execute_reply.started": "2024-01-24T13:02:55.525494Z"
    },
    "scrolled": true
   },
   "outputs": [
    {
     "data": {
      "text/html": [
       "<div>\n",
       "<style scoped>\n",
       "    .dataframe tbody tr th:only-of-type {\n",
       "        vertical-align: middle;\n",
       "    }\n",
       "\n",
       "    .dataframe tbody tr th {\n",
       "        vertical-align: top;\n",
       "    }\n",
       "\n",
       "    .dataframe thead th {\n",
       "        text-align: right;\n",
       "    }\n",
       "</style>\n",
       "<table border=\"1\" class=\"dataframe\">\n",
       "  <thead>\n",
       "    <tr style=\"text-align: right;\">\n",
       "      <th></th>\n",
       "      <th>2_Identifiant</th>\n",
       "      <th>2_Code Postal</th>\n",
       "      <th>2_Présence</th>\n",
       "      <th>2_Adresse</th>\n",
       "      <th>2_Ville</th>\n",
       "      <th>2_Automate 24-24</th>\n",
       "      <th>2_Timetable</th>\n",
       "      <th>2_Carburant</th>\n",
       "      <th>2_Rupture</th>\n",
       "      <th>2_Mise à jour</th>\n",
       "      <th>...</th>\n",
       "      <th>2_Prix E85</th>\n",
       "      <th>2_Services</th>\n",
       "      <th>2_Marque</th>\n",
       "      <th>2_Nom</th>\n",
       "      <th>2_Geo Point</th>\n",
       "      <th>2_Code INSEE</th>\n",
       "      <th>2_Commune</th>\n",
       "      <th>2_code_commune_n</th>\n",
       "      <th>2_lat</th>\n",
       "      <th>2_lon</th>\n",
       "    </tr>\n",
       "  </thead>\n",
       "  <tbody>\n",
       "    <tr>\n",
       "      <th>79</th>\n",
       "      <td>13014014</td>\n",
       "      <td>13014</td>\n",
       "      <td>R</td>\n",
       "      <td>26 CHEMIN DE SAINTE MARTHE</td>\n",
       "      <td>MARSEILLE</td>\n",
       "      <td>Oui</td>\n",
       "      <td>{\"Mardi\": {\"ouverture\": \"00.00\", \"fermeture\": ...</td>\n",
       "      <td>Gazole,E10,SP98</td>\n",
       "      <td>NaN</td>\n",
       "      <td>2020-11-17T06:00:00+01:00</td>\n",
       "      <td>...</td>\n",
       "      <td>NaN</td>\n",
       "      <td>Carburant additivé,Toilettes publiques,Boutiqu...</td>\n",
       "      <td>NaN</td>\n",
       "      <td>NaN</td>\n",
       "      <td>NaN</td>\n",
       "      <td>NaN</td>\n",
       "      <td>NaN</td>\n",
       "      <td>11220</td>\n",
       "      <td>NaN</td>\n",
       "      <td>NaN</td>\n",
       "    </tr>\n",
       "    <tr>\n",
       "      <th>206</th>\n",
       "      <td>13012023</td>\n",
       "      <td>13012</td>\n",
       "      <td>R</td>\n",
       "      <td>56 rue Saint Jean du desert</td>\n",
       "      <td>MARSEILLE</td>\n",
       "      <td>NaN</td>\n",
       "      <td>NaN</td>\n",
       "      <td>SP95,SP98</td>\n",
       "      <td>E85,GPLc,E10</td>\n",
       "      <td>2018-05-18T09:32:57+02:00</td>\n",
       "      <td>...</td>\n",
       "      <td>NaN</td>\n",
       "      <td>Carburant additivé,Toilettes publiques,Boutiqu...</td>\n",
       "      <td>NaN</td>\n",
       "      <td>NaN</td>\n",
       "      <td>NaN</td>\n",
       "      <td>NaN</td>\n",
       "      <td>NaN</td>\n",
       "      <td>11220</td>\n",
       "      <td>NaN</td>\n",
       "      <td>NaN</td>\n",
       "    </tr>\n",
       "    <tr>\n",
       "      <th>221</th>\n",
       "      <td>13014008</td>\n",
       "      <td>13014</td>\n",
       "      <td>R</td>\n",
       "      <td>26 Chemin de Sainte-Marthe</td>\n",
       "      <td>MARSEILLE</td>\n",
       "      <td>NaN</td>\n",
       "      <td>NaN</td>\n",
       "      <td>Gazole,E10,SP98</td>\n",
       "      <td>SP95,E85,GPLc</td>\n",
       "      <td>2019-12-01T06:00:00+01:00</td>\n",
       "      <td>...</td>\n",
       "      <td>NaN</td>\n",
       "      <td>Carburant additivé,Toilettes publiques,Boutiqu...</td>\n",
       "      <td>Agip</td>\n",
       "      <td>AGIP MARSEILLE SAINTE MARTHE</td>\n",
       "      <td>43.3177505955, 5.37430169143</td>\n",
       "      <td>NaN</td>\n",
       "      <td>NaN</td>\n",
       "      <td>11220</td>\n",
       "      <td>43.317751</td>\n",
       "      <td>5.374302</td>\n",
       "    </tr>\n",
       "    <tr>\n",
       "      <th>275</th>\n",
       "      <td>13010012</td>\n",
       "      <td>13010</td>\n",
       "      <td>R</td>\n",
       "      <td>260 BOULEVARD PAUL CLAUDEL</td>\n",
       "      <td>MARSEILLE</td>\n",
       "      <td>Oui</td>\n",
       "      <td>{\"Dimanche\": {\"ouvert\": 0}, \"Jeudi\": {\"fermetu...</td>\n",
       "      <td>Gazole,SP98</td>\n",
       "      <td>E85,GPLc,E10,SP95</td>\n",
       "      <td>2022-09-29T15:20:30+02:00</td>\n",
       "      <td>...</td>\n",
       "      <td>NaN</td>\n",
       "      <td>Boutique non alimentaire,Restauration à emport...</td>\n",
       "      <td>NaN</td>\n",
       "      <td>NaN</td>\n",
       "      <td>NaN</td>\n",
       "      <td>NaN</td>\n",
       "      <td>NaN</td>\n",
       "      <td>11220</td>\n",
       "      <td>NaN</td>\n",
       "      <td>NaN</td>\n",
       "    </tr>\n",
       "    <tr>\n",
       "      <th>415</th>\n",
       "      <td>13012015</td>\n",
       "      <td>13012</td>\n",
       "      <td>R</td>\n",
       "      <td>7 Chemin des Amaryllis</td>\n",
       "      <td>MARSEILLE</td>\n",
       "      <td>Non</td>\n",
       "      <td>{\"Dimanche\": {\"ouvert\": 1}, \"Jeudi\": {\"ouvert\"...</td>\n",
       "      <td>Gazole</td>\n",
       "      <td>NaN</td>\n",
       "      <td>2021-08-05T08:00:00+02:00</td>\n",
       "      <td>...</td>\n",
       "      <td>NaN</td>\n",
       "      <td>DAB (Distributeur automatique de billets),Lava...</td>\n",
       "      <td>Carrefour Market</td>\n",
       "      <td>SUPERMARCHÉ CARREFOUR MARKET</td>\n",
       "      <td>43.31733, 5.43951</td>\n",
       "      <td>NaN</td>\n",
       "      <td>NaN</td>\n",
       "      <td>11220</td>\n",
       "      <td>43.317330</td>\n",
       "      <td>5.439510</td>\n",
       "    </tr>\n",
       "    <tr>\n",
       "      <th>...</th>\n",
       "      <td>...</td>\n",
       "      <td>...</td>\n",
       "      <td>...</td>\n",
       "      <td>...</td>\n",
       "      <td>...</td>\n",
       "      <td>...</td>\n",
       "      <td>...</td>\n",
       "      <td>...</td>\n",
       "      <td>...</td>\n",
       "      <td>...</td>\n",
       "      <td>...</td>\n",
       "      <td>...</td>\n",
       "      <td>...</td>\n",
       "      <td>...</td>\n",
       "      <td>...</td>\n",
       "      <td>...</td>\n",
       "      <td>...</td>\n",
       "      <td>...</td>\n",
       "      <td>...</td>\n",
       "      <td>...</td>\n",
       "      <td>...</td>\n",
       "    </tr>\n",
       "    <tr>\n",
       "      <th>11137</th>\n",
       "      <td>13012022</td>\n",
       "      <td>13012</td>\n",
       "      <td>R</td>\n",
       "      <td>67 AVENUE DES CAILLOLS</td>\n",
       "      <td>MARSEILLE</td>\n",
       "      <td>NaN</td>\n",
       "      <td>NaN</td>\n",
       "      <td>Gazole,E85,E10,SP98</td>\n",
       "      <td>GPLc</td>\n",
       "      <td>2023-10-14T00:01:00+02:00</td>\n",
       "      <td>...</td>\n",
       "      <td>0.000994</td>\n",
       "      <td>Boutique alimentaire,Restauration à emporter,S...</td>\n",
       "      <td>NaN</td>\n",
       "      <td>NaN</td>\n",
       "      <td>NaN</td>\n",
       "      <td>NaN</td>\n",
       "      <td>NaN</td>\n",
       "      <td>11220</td>\n",
       "      <td>NaN</td>\n",
       "      <td>NaN</td>\n",
       "    </tr>\n",
       "    <tr>\n",
       "      <th>11594</th>\n",
       "      <td>13003004</td>\n",
       "      <td>13003</td>\n",
       "      <td>R</td>\n",
       "      <td>83 BD DE PLOMBIERES</td>\n",
       "      <td>MARSEILLE</td>\n",
       "      <td>Non</td>\n",
       "      <td>{\"Dimanche\": {\"fermeture\": \"20.00\", \"ouvert\": ...</td>\n",
       "      <td>Gazole,E85,E10,SP98</td>\n",
       "      <td>GPLc</td>\n",
       "      <td>2023-10-14T00:01:00+02:00</td>\n",
       "      <td>...</td>\n",
       "      <td>0.000994</td>\n",
       "      <td>Boutique alimentaire,Boutique non alimentaire,...</td>\n",
       "      <td>NaN</td>\n",
       "      <td>NaN</td>\n",
       "      <td>NaN</td>\n",
       "      <td>NaN</td>\n",
       "      <td>NaN</td>\n",
       "      <td>11220</td>\n",
       "      <td>NaN</td>\n",
       "      <td>NaN</td>\n",
       "    </tr>\n",
       "    <tr>\n",
       "      <th>11595</th>\n",
       "      <td>13008014</td>\n",
       "      <td>13008</td>\n",
       "      <td>R</td>\n",
       "      <td>1 Avenue d'Odessa</td>\n",
       "      <td>MARSEILLE</td>\n",
       "      <td>Oui</td>\n",
       "      <td>{\"Dimanche\": {\"ouvert\": 1}, \"Jeudi\": {\"ouvert\"...</td>\n",
       "      <td>Gazole,SP95,SP98</td>\n",
       "      <td>E85,GPLc,E10,E85,GPLc,E10</td>\n",
       "      <td>2023-10-11T07:08:32+02:00</td>\n",
       "      <td>...</td>\n",
       "      <td>NaN</td>\n",
       "      <td>Boutique alimentaire,Boutique non alimentaire,...</td>\n",
       "      <td>NaN</td>\n",
       "      <td>NaN</td>\n",
       "      <td>NaN</td>\n",
       "      <td>NaN</td>\n",
       "      <td>NaN</td>\n",
       "      <td>11220</td>\n",
       "      <td>NaN</td>\n",
       "      <td>NaN</td>\n",
       "    </tr>\n",
       "    <tr>\n",
       "      <th>11596</th>\n",
       "      <td>13013016</td>\n",
       "      <td>13013</td>\n",
       "      <td>R</td>\n",
       "      <td>AVENUE FREDERIC MISTRAL</td>\n",
       "      <td>MARSEILLE</td>\n",
       "      <td>Oui</td>\n",
       "      <td>{\"Dimanche\": {\"ouvert\": 1}, \"Jeudi\": {\"ouvert\"...</td>\n",
       "      <td>Gazole,E85,GPLc,E10,SP98</td>\n",
       "      <td>SP95</td>\n",
       "      <td>2023-10-14T00:01:00+02:00</td>\n",
       "      <td>...</td>\n",
       "      <td>0.000994</td>\n",
       "      <td>Boutique alimentaire,Restauration à emporter,S...</td>\n",
       "      <td>NaN</td>\n",
       "      <td>NaN</td>\n",
       "      <td>NaN</td>\n",
       "      <td>NaN</td>\n",
       "      <td>NaN</td>\n",
       "      <td>11220</td>\n",
       "      <td>NaN</td>\n",
       "      <td>NaN</td>\n",
       "    </tr>\n",
       "    <tr>\n",
       "      <th>11806</th>\n",
       "      <td>13014010</td>\n",
       "      <td>13014</td>\n",
       "      <td>R</td>\n",
       "      <td>33 Avenue Alexandre Ansaldi</td>\n",
       "      <td>MARSEILLE</td>\n",
       "      <td>Non</td>\n",
       "      <td>{\"Dimanche\": {\"fermeture\": \"22.00\", \"ouvert\": ...</td>\n",
       "      <td>E85,E10,SP98</td>\n",
       "      <td>GPLc,SP95</td>\n",
       "      <td>2023-10-13T06:10:04+02:00</td>\n",
       "      <td>...</td>\n",
       "      <td>0.001199</td>\n",
       "      <td>Boutique alimentaire,Boutique non alimentaire,...</td>\n",
       "      <td>Avia</td>\n",
       "      <td>AVIA</td>\n",
       "      <td>43.3354, 5.40006</td>\n",
       "      <td>NaN</td>\n",
       "      <td>NaN</td>\n",
       "      <td>11220</td>\n",
       "      <td>43.335400</td>\n",
       "      <td>5.400060</td>\n",
       "    </tr>\n",
       "  </tbody>\n",
       "</table>\n",
       "<p>75 rows × 25 columns</p>\n",
       "</div>"
      ],
      "text/plain": [
       "       2_Identifiant  2_Code Postal 2_Présence                    2_Adresse  \\\n",
       "79          13014014          13014          R   26 CHEMIN DE SAINTE MARTHE   \n",
       "206         13012023          13012          R  56 rue Saint Jean du desert   \n",
       "221         13014008          13014          R   26 Chemin de Sainte-Marthe   \n",
       "275         13010012          13010          R   260 BOULEVARD PAUL CLAUDEL   \n",
       "415         13012015          13012          R       7 Chemin des Amaryllis   \n",
       "...              ...            ...        ...                          ...   \n",
       "11137       13012022          13012          R       67 AVENUE DES CAILLOLS   \n",
       "11594       13003004          13003          R          83 BD DE PLOMBIERES   \n",
       "11595       13008014          13008          R            1 Avenue d'Odessa   \n",
       "11596       13013016          13013          R      AVENUE FREDERIC MISTRAL   \n",
       "11806       13014010          13014          R  33 Avenue Alexandre Ansaldi   \n",
       "\n",
       "         2_Ville 2_Automate 24-24  \\\n",
       "79     MARSEILLE              Oui   \n",
       "206    MARSEILLE              NaN   \n",
       "221    MARSEILLE              NaN   \n",
       "275    MARSEILLE              Oui   \n",
       "415    MARSEILLE              Non   \n",
       "...          ...              ...   \n",
       "11137  MARSEILLE              NaN   \n",
       "11594  MARSEILLE              Non   \n",
       "11595  MARSEILLE              Oui   \n",
       "11596  MARSEILLE              Oui   \n",
       "11806  MARSEILLE              Non   \n",
       "\n",
       "                                             2_Timetable  \\\n",
       "79     {\"Mardi\": {\"ouverture\": \"00.00\", \"fermeture\": ...   \n",
       "206                                                  NaN   \n",
       "221                                                  NaN   \n",
       "275    {\"Dimanche\": {\"ouvert\": 0}, \"Jeudi\": {\"fermetu...   \n",
       "415    {\"Dimanche\": {\"ouvert\": 1}, \"Jeudi\": {\"ouvert\"...   \n",
       "...                                                  ...   \n",
       "11137                                                NaN   \n",
       "11594  {\"Dimanche\": {\"fermeture\": \"20.00\", \"ouvert\": ...   \n",
       "11595  {\"Dimanche\": {\"ouvert\": 1}, \"Jeudi\": {\"ouvert\"...   \n",
       "11596  {\"Dimanche\": {\"ouvert\": 1}, \"Jeudi\": {\"ouvert\"...   \n",
       "11806  {\"Dimanche\": {\"fermeture\": \"22.00\", \"ouvert\": ...   \n",
       "\n",
       "                    2_Carburant                  2_Rupture  \\\n",
       "79              Gazole,E10,SP98                        NaN   \n",
       "206                   SP95,SP98               E85,GPLc,E10   \n",
       "221             Gazole,E10,SP98              SP95,E85,GPLc   \n",
       "275                 Gazole,SP98          E85,GPLc,E10,SP95   \n",
       "415                      Gazole                        NaN   \n",
       "...                         ...                        ...   \n",
       "11137       Gazole,E85,E10,SP98                       GPLc   \n",
       "11594       Gazole,E85,E10,SP98                       GPLc   \n",
       "11595          Gazole,SP95,SP98  E85,GPLc,E10,E85,GPLc,E10   \n",
       "11596  Gazole,E85,GPLc,E10,SP98                       SP95   \n",
       "11806              E85,E10,SP98                  GPLc,SP95   \n",
       "\n",
       "                   2_Mise à jour  ...  2_Prix E85  \\\n",
       "79     2020-11-17T06:00:00+01:00  ...         NaN   \n",
       "206    2018-05-18T09:32:57+02:00  ...         NaN   \n",
       "221    2019-12-01T06:00:00+01:00  ...         NaN   \n",
       "275    2022-09-29T15:20:30+02:00  ...         NaN   \n",
       "415    2021-08-05T08:00:00+02:00  ...         NaN   \n",
       "...                          ...  ...         ...   \n",
       "11137  2023-10-14T00:01:00+02:00  ...    0.000994   \n",
       "11594  2023-10-14T00:01:00+02:00  ...    0.000994   \n",
       "11595  2023-10-11T07:08:32+02:00  ...         NaN   \n",
       "11596  2023-10-14T00:01:00+02:00  ...    0.000994   \n",
       "11806  2023-10-13T06:10:04+02:00  ...    0.001199   \n",
       "\n",
       "                                              2_Services          2_Marque  \\\n",
       "79     Carburant additivé,Toilettes publiques,Boutiqu...               NaN   \n",
       "206    Carburant additivé,Toilettes publiques,Boutiqu...               NaN   \n",
       "221    Carburant additivé,Toilettes publiques,Boutiqu...              Agip   \n",
       "275    Boutique non alimentaire,Restauration à emport...               NaN   \n",
       "415    DAB (Distributeur automatique de billets),Lava...  Carrefour Market   \n",
       "...                                                  ...               ...   \n",
       "11137  Boutique alimentaire,Restauration à emporter,S...               NaN   \n",
       "11594  Boutique alimentaire,Boutique non alimentaire,...               NaN   \n",
       "11595  Boutique alimentaire,Boutique non alimentaire,...               NaN   \n",
       "11596  Boutique alimentaire,Restauration à emporter,S...               NaN   \n",
       "11806  Boutique alimentaire,Boutique non alimentaire,...              Avia   \n",
       "\n",
       "                              2_Nom                   2_Geo Point  \\\n",
       "79                              NaN                           NaN   \n",
       "206                             NaN                           NaN   \n",
       "221    AGIP MARSEILLE SAINTE MARTHE  43.3177505955, 5.37430169143   \n",
       "275                             NaN                           NaN   \n",
       "415    SUPERMARCHÉ CARREFOUR MARKET             43.31733, 5.43951   \n",
       "...                             ...                           ...   \n",
       "11137                           NaN                           NaN   \n",
       "11594                           NaN                           NaN   \n",
       "11595                           NaN                           NaN   \n",
       "11596                           NaN                           NaN   \n",
       "11806                          AVIA              43.3354, 5.40006   \n",
       "\n",
       "       2_Code INSEE 2_Commune 2_code_commune_n      2_lat     2_lon  \n",
       "79              NaN       NaN            11220        NaN       NaN  \n",
       "206             NaN       NaN            11220        NaN       NaN  \n",
       "221             NaN       NaN            11220  43.317751  5.374302  \n",
       "275             NaN       NaN            11220        NaN       NaN  \n",
       "415             NaN       NaN            11220  43.317330  5.439510  \n",
       "...             ...       ...              ...        ...       ...  \n",
       "11137           NaN       NaN            11220        NaN       NaN  \n",
       "11594           NaN       NaN            11220        NaN       NaN  \n",
       "11595           NaN       NaN            11220        NaN       NaN  \n",
       "11596           NaN       NaN            11220        NaN       NaN  \n",
       "11806           NaN       NaN            11220  43.335400  5.400060  \n",
       "\n",
       "[75 rows x 25 columns]"
      ]
     },
     "execution_count": 17,
     "metadata": {},
     "output_type": "execute_result"
    }
   ],
   "source": [
    "df_carb[df_carb['2_code_commune_n']=='11220']"
   ]
  },
  {
   "cell_type": "markdown",
   "id": "86e0f060-4de2-456e-b9a8-7f70df94a34c",
   "metadata": {},
   "source": [
    "## df_pop - Population & superficie communes"
   ]
  },
  {
   "cell_type": "code",
   "execution_count": 18,
   "id": "72cd448f-15cf-49eb-9429-11d24b6c226d",
   "metadata": {
    "execution": {
     "iopub.execute_input": "2024-01-24T13:02:55.557924Z",
     "iopub.status.busy": "2024-01-24T13:02:55.557924Z",
     "iopub.status.idle": "2024-01-24T13:02:55.774689Z",
     "shell.execute_reply": "2024-01-24T13:02:55.773845Z",
     "shell.execute_reply.started": "2024-01-24T13:02:55.557924Z"
    }
   },
   "outputs": [],
   "source": [
    "df_pop = pd.read_csv('./Tables_traitees\\\\Population-Superficie_communes.csv', sep=';',dtype={'Code département':str,'Code INSEE (commune ou arrondissement)':str })"
   ]
  },
  {
   "cell_type": "code",
   "execution_count": 19,
   "id": "3b59c545-5cef-4fef-8741-647eba683649",
   "metadata": {
    "execution": {
     "iopub.execute_input": "2024-01-24T13:02:55.775731Z",
     "iopub.status.busy": "2024-01-24T13:02:55.775731Z",
     "iopub.status.idle": "2024-01-24T13:02:55.788603Z",
     "shell.execute_reply": "2024-01-24T13:02:55.788603Z",
     "shell.execute_reply.started": "2024-01-24T13:02:55.775731Z"
    }
   },
   "outputs": [],
   "source": [
    "rename = {col:\"3_\"+col for col in df_pop.columns}\n",
    "df_pop.rename(columns = rename, inplace=True)"
   ]
  },
  {
   "cell_type": "code",
   "execution_count": 20,
   "id": "0f15a9af-4780-4887-8b2f-f39ad2939764",
   "metadata": {
    "execution": {
     "iopub.execute_input": "2024-01-24T13:02:55.791231Z",
     "iopub.status.busy": "2024-01-24T13:02:55.791231Z",
     "iopub.status.idle": "2024-01-24T13:02:55.806033Z",
     "shell.execute_reply": "2024-01-24T13:02:55.804026Z",
     "shell.execute_reply.started": "2024-01-24T13:02:55.791231Z"
    }
   },
   "outputs": [
    {
     "data": {
      "text/plain": [
       "(36750, 16)"
      ]
     },
     "execution_count": 20,
     "metadata": {},
     "output_type": "execute_result"
    }
   ],
   "source": [
    "df_pop.shape"
   ]
  },
  {
   "cell_type": "code",
   "execution_count": 21,
   "id": "9b1103fe-ce99-4e8c-a085-424b6b683e0c",
   "metadata": {
    "execution": {
     "iopub.execute_input": "2024-01-24T13:02:55.807031Z",
     "iopub.status.busy": "2024-01-24T13:02:55.807031Z",
     "iopub.status.idle": "2024-01-24T13:02:55.827882Z",
     "shell.execute_reply": "2024-01-24T13:02:55.825626Z",
     "shell.execute_reply.started": "2024-01-24T13:02:55.807031Z"
    }
   },
   "outputs": [
    {
     "data": {
      "text/plain": [
       "Index(['3_Code région', '3_Nom de la région', '3_Code département',\n",
       "       '3_Code commune', '3_Nom de la commune', '3_Population municipale',\n",
       "       '3_Population comptée à part', '3_Population totale',\n",
       "       '3_Année recensement', '3_Année utilisation',\n",
       "       '3_Code INSEE (commune ou arrondissement)',\n",
       "       '3_Superficie de la commune', '3_Statut', '3_Code EPCI', '3_EPCI',\n",
       "       '3_Densité_hab_par_km2'],\n",
       "      dtype='object')"
      ]
     },
     "execution_count": 21,
     "metadata": {},
     "output_type": "execute_result"
    }
   ],
   "source": [
    "df_pop.columns"
   ]
  },
  {
   "cell_type": "code",
   "execution_count": 22,
   "id": "3eac2029-8508-476e-bfc7-1a5e79c965d6",
   "metadata": {
    "execution": {
     "iopub.execute_input": "2024-01-24T13:02:55.831891Z",
     "iopub.status.busy": "2024-01-24T13:02:55.830889Z",
     "iopub.status.idle": "2024-01-24T13:02:55.858558Z",
     "shell.execute_reply": "2024-01-24T13:02:55.857555Z",
     "shell.execute_reply.started": "2024-01-24T13:02:55.831891Z"
    }
   },
   "outputs": [
    {
     "data": {
      "text/html": [
       "<div>\n",
       "<style scoped>\n",
       "    .dataframe tbody tr th:only-of-type {\n",
       "        vertical-align: middle;\n",
       "    }\n",
       "\n",
       "    .dataframe tbody tr th {\n",
       "        vertical-align: top;\n",
       "    }\n",
       "\n",
       "    .dataframe thead th {\n",
       "        text-align: right;\n",
       "    }\n",
       "</style>\n",
       "<table border=\"1\" class=\"dataframe\">\n",
       "  <thead>\n",
       "    <tr style=\"text-align: right;\">\n",
       "      <th></th>\n",
       "      <th>3_Code région</th>\n",
       "      <th>3_Nom de la région</th>\n",
       "      <th>3_Code département</th>\n",
       "      <th>3_Code commune</th>\n",
       "      <th>3_Nom de la commune</th>\n",
       "      <th>3_Population municipale</th>\n",
       "      <th>3_Population comptée à part</th>\n",
       "      <th>3_Population totale</th>\n",
       "      <th>3_Année recensement</th>\n",
       "      <th>3_Année utilisation</th>\n",
       "      <th>3_Code INSEE (commune ou arrondissement)</th>\n",
       "      <th>3_Superficie de la commune</th>\n",
       "      <th>3_Statut</th>\n",
       "      <th>3_Code EPCI</th>\n",
       "      <th>3_EPCI</th>\n",
       "      <th>3_Densité_hab_par_km2</th>\n",
       "    </tr>\n",
       "  </thead>\n",
       "  <tbody>\n",
       "    <tr>\n",
       "      <th>0</th>\n",
       "      <td>84.0</td>\n",
       "      <td>Auvergne-Rhône-Alpes</td>\n",
       "      <td>01</td>\n",
       "      <td>1.0</td>\n",
       "      <td>L' Abergement-Clémenciat</td>\n",
       "      <td>767.0</td>\n",
       "      <td>18.0</td>\n",
       "      <td>785.0</td>\n",
       "      <td>2016</td>\n",
       "      <td>2019</td>\n",
       "      <td>01001</td>\n",
       "      <td>15.65</td>\n",
       "      <td>Commune</td>\n",
       "      <td>200035210</td>\n",
       "      <td>CC Chalaronne Centre</td>\n",
       "      <td>49.009585</td>\n",
       "    </tr>\n",
       "    <tr>\n",
       "      <th>1</th>\n",
       "      <td>84.0</td>\n",
       "      <td>Auvergne-Rhône-Alpes</td>\n",
       "      <td>01</td>\n",
       "      <td>2.0</td>\n",
       "      <td>L' Abergement-de-Varey</td>\n",
       "      <td>243.0</td>\n",
       "      <td>1.0</td>\n",
       "      <td>244.0</td>\n",
       "      <td>2016</td>\n",
       "      <td>2019</td>\n",
       "      <td>01002</td>\n",
       "      <td>9.13</td>\n",
       "      <td>Commune</td>\n",
       "      <td>240100883</td>\n",
       "      <td>CC de la Plaine de l'Ain</td>\n",
       "      <td>26.615553</td>\n",
       "    </tr>\n",
       "    <tr>\n",
       "      <th>2</th>\n",
       "      <td>84.0</td>\n",
       "      <td>Auvergne-Rhône-Alpes</td>\n",
       "      <td>01</td>\n",
       "      <td>4.0</td>\n",
       "      <td>Ambérieu-en-Bugey</td>\n",
       "      <td>14081.0</td>\n",
       "      <td>437.0</td>\n",
       "      <td>14518.0</td>\n",
       "      <td>2016</td>\n",
       "      <td>2019</td>\n",
       "      <td>01004</td>\n",
       "      <td>24.49</td>\n",
       "      <td>Commune</td>\n",
       "      <td>240100883</td>\n",
       "      <td>CC de la Plaine de l'Ain</td>\n",
       "      <td>574.969375</td>\n",
       "    </tr>\n",
       "  </tbody>\n",
       "</table>\n",
       "</div>"
      ],
      "text/plain": [
       "   3_Code région    3_Nom de la région 3_Code département  3_Code commune  \\\n",
       "0           84.0  Auvergne-Rhône-Alpes                 01             1.0   \n",
       "1           84.0  Auvergne-Rhône-Alpes                 01             2.0   \n",
       "2           84.0  Auvergne-Rhône-Alpes                 01             4.0   \n",
       "\n",
       "        3_Nom de la commune  3_Population municipale  \\\n",
       "0  L' Abergement-Clémenciat                    767.0   \n",
       "1    L' Abergement-de-Varey                    243.0   \n",
       "2         Ambérieu-en-Bugey                  14081.0   \n",
       "\n",
       "   3_Population comptée à part  3_Population totale  3_Année recensement  \\\n",
       "0                         18.0                785.0                 2016   \n",
       "1                          1.0                244.0                 2016   \n",
       "2                        437.0              14518.0                 2016   \n",
       "\n",
       "   3_Année utilisation 3_Code INSEE (commune ou arrondissement)  \\\n",
       "0                 2019                                    01001   \n",
       "1                 2019                                    01002   \n",
       "2                 2019                                    01004   \n",
       "\n",
       "   3_Superficie de la commune 3_Statut 3_Code EPCI                    3_EPCI  \\\n",
       "0                       15.65  Commune   200035210      CC Chalaronne Centre   \n",
       "1                        9.13  Commune   240100883  CC de la Plaine de l'Ain   \n",
       "2                       24.49  Commune   240100883  CC de la Plaine de l'Ain   \n",
       "\n",
       "   3_Densité_hab_par_km2  \n",
       "0              49.009585  \n",
       "1              26.615553  \n",
       "2             574.969375  "
      ]
     },
     "execution_count": 22,
     "metadata": {},
     "output_type": "execute_result"
    }
   ],
   "source": [
    "df_pop[:3]"
   ]
  },
  {
   "cell_type": "markdown",
   "id": "fae70b48-43ad-4a26-b917-a03a5a682d75",
   "metadata": {},
   "source": [
    "## df_com - Infos Communes"
   ]
  },
  {
   "cell_type": "code",
   "execution_count": 23,
   "id": "47b31129-34f7-4a3b-b0cf-01908d785c0b",
   "metadata": {
    "execution": {
     "iopub.execute_input": "2024-01-24T13:02:55.859558Z",
     "iopub.status.busy": "2024-01-24T13:02:55.859558Z",
     "iopub.status.idle": "2024-01-24T13:02:56.235323Z",
     "shell.execute_reply": "2024-01-24T13:02:56.235323Z",
     "shell.execute_reply.started": "2024-01-24T13:02:55.859558Z"
    }
   },
   "outputs": [],
   "source": [
    "df_com = pd.read_csv('./Tables_traitees\\\\Infos_communes.csv', sep=';')"
   ]
  },
  {
   "cell_type": "code",
   "execution_count": 24,
   "id": "a03029ff-3d2d-4418-905f-613b09ea909d",
   "metadata": {
    "execution": {
     "iopub.execute_input": "2024-01-24T13:02:56.235323Z",
     "iopub.status.busy": "2024-01-24T13:02:56.235323Z",
     "iopub.status.idle": "2024-01-24T13:02:56.244169Z",
     "shell.execute_reply": "2024-01-24T13:02:56.243168Z",
     "shell.execute_reply.started": "2024-01-24T13:02:56.235323Z"
    }
   },
   "outputs": [],
   "source": [
    "rename = {col:\"4_\"+col for col in df_com.columns}\n",
    "df_com.rename(columns = rename, inplace=True)"
   ]
  },
  {
   "cell_type": "code",
   "execution_count": 25,
   "id": "bee318f5-d2fd-428c-a2ad-da96a29806bb",
   "metadata": {
    "execution": {
     "iopub.execute_input": "2024-01-24T13:02:56.245172Z",
     "iopub.status.busy": "2024-01-24T13:02:56.245172Z",
     "iopub.status.idle": "2024-01-24T13:02:56.264165Z",
     "shell.execute_reply": "2024-01-24T13:02:56.264165Z",
     "shell.execute_reply.started": "2024-01-24T13:02:56.245172Z"
    }
   },
   "outputs": [
    {
     "data": {
      "text/plain": [
       "(36742, 20)"
      ]
     },
     "execution_count": 25,
     "metadata": {},
     "output_type": "execute_result"
    }
   ],
   "source": [
    "df_com.shape"
   ]
  },
  {
   "cell_type": "code",
   "execution_count": 26,
   "id": "149b102a-83c2-40cc-b5c1-31d73b11a903",
   "metadata": {
    "execution": {
     "iopub.execute_input": "2024-01-24T13:02:56.264165Z",
     "iopub.status.busy": "2024-01-24T13:02:56.264165Z",
     "iopub.status.idle": "2024-01-24T13:02:56.280321Z",
     "shell.execute_reply": "2024-01-24T13:02:56.279320Z",
     "shell.execute_reply.started": "2024-01-24T13:02:56.264165Z"
    }
   },
   "outputs": [
    {
     "data": {
      "text/plain": [
       "4_Code INSEE              object\n",
       "4_Code Postal             object\n",
       "4_Commune                 object\n",
       "4_Département             object\n",
       "4_Région                  object\n",
       "4_Statut                  object\n",
       "4_Altitude Moyenne       float64\n",
       "4_Superficie             float64\n",
       "4_Population             float64\n",
       "4_geo_point_2d            object\n",
       "4_geo_shape               object\n",
       "4_ID Geofla                int64\n",
       "4_Code Commune             int64\n",
       "4_Code Canton              int64\n",
       "4_Code Arrondissement      int64\n",
       "4_Code Département        object\n",
       "4_Code Région              int64\n",
       "4_lat                    float64\n",
       "4_lon                    float64\n",
       "4_Densité_hab_par_km2    float64\n",
       "dtype: object"
      ]
     },
     "execution_count": 26,
     "metadata": {},
     "output_type": "execute_result"
    }
   ],
   "source": [
    "df_com.dtypes"
   ]
  },
  {
   "cell_type": "markdown",
   "id": "3b037f4e-2f6e-4cac-8ee0-8d7be1d362d1",
   "metadata": {},
   "source": [
    "## df_commune_immo - Prix au m2"
   ]
  },
  {
   "cell_type": "code",
   "execution_count": 27,
   "id": "688cbd90-0256-4b7f-8db0-05df1361a907",
   "metadata": {
    "execution": {
     "iopub.execute_input": "2024-01-24T13:02:56.281321Z",
     "iopub.status.busy": "2024-01-24T13:02:56.281321Z",
     "iopub.status.idle": "2024-01-24T13:02:56.407213Z",
     "shell.execute_reply": "2024-01-24T13:02:56.406332Z",
     "shell.execute_reply.started": "2024-01-24T13:02:56.281321Z"
    }
   },
   "outputs": [],
   "source": [
    "df_commune_immo = pd.read_csv('./Tables_traitees\\\\PrixMoy_m2_avec_code_commune.csv', sep=';')"
   ]
  },
  {
   "cell_type": "code",
   "execution_count": 28,
   "id": "b0c326f9-b92f-40ce-b726-a02ad21dc94e",
   "metadata": {
    "execution": {
     "iopub.execute_input": "2024-01-24T13:02:56.408772Z",
     "iopub.status.busy": "2024-01-24T13:02:56.408221Z",
     "iopub.status.idle": "2024-01-24T13:02:56.426806Z",
     "shell.execute_reply": "2024-01-24T13:02:56.425801Z",
     "shell.execute_reply.started": "2024-01-24T13:02:56.408772Z"
    }
   },
   "outputs": [],
   "source": [
    "rename = {col:\"5_\"+col for col in df_commune_immo.columns}\n",
    "df_commune_immo.rename(columns = rename, inplace=True)"
   ]
  },
  {
   "cell_type": "code",
   "execution_count": 29,
   "id": "b20c464c-7b9e-4ca7-bf40-facfc93a8fb6",
   "metadata": {
    "execution": {
     "iopub.execute_input": "2024-01-24T13:02:56.427799Z",
     "iopub.status.busy": "2024-01-24T13:02:56.427799Z",
     "iopub.status.idle": "2024-01-24T13:02:56.433685Z",
     "shell.execute_reply": "2024-01-24T13:02:56.433685Z",
     "shell.execute_reply.started": "2024-01-24T13:02:56.427799Z"
    }
   },
   "outputs": [
    {
     "data": {
      "text/plain": [
       "(34886, 11)"
      ]
     },
     "execution_count": 29,
     "metadata": {},
     "output_type": "execute_result"
    }
   ],
   "source": [
    "df_commune_immo.shape"
   ]
  },
  {
   "cell_type": "code",
   "execution_count": 30,
   "id": "ad133b4a-8e33-49a7-93d9-90e61e906415",
   "metadata": {
    "execution": {
     "iopub.execute_input": "2024-01-24T13:02:56.433685Z",
     "iopub.status.busy": "2024-01-24T13:02:56.433685Z",
     "iopub.status.idle": "2024-01-24T13:02:56.450681Z",
     "shell.execute_reply": "2024-01-24T13:02:56.449690Z",
     "shell.execute_reply.started": "2024-01-24T13:02:56.433685Z"
    }
   },
   "outputs": [
    {
     "data": {
      "text/plain": [
       "Index(['5_ID', '5_INSEE_COM', '5_INSEE_DEP', '5_INSEE_REG', '5_CODE_EPCI',\n",
       "       '5_NOM_COM_M', '5_POPULATION', '5_Nb_Ventes', '5_PrixMoyen_M2',\n",
       "       '5_nb_digits_code_INSEE', '5_code_commune_n'],\n",
       "      dtype='object')"
      ]
     },
     "execution_count": 30,
     "metadata": {},
     "output_type": "execute_result"
    }
   ],
   "source": [
    "df_commune_immo.columns"
   ]
  },
  {
   "cell_type": "code",
   "execution_count": 31,
   "id": "ecd22742-57a2-421a-8f8b-e992c6a4f579",
   "metadata": {
    "execution": {
     "iopub.execute_input": "2024-01-24T13:02:56.451680Z",
     "iopub.status.busy": "2024-01-24T13:02:56.451680Z",
     "iopub.status.idle": "2024-01-24T13:02:56.474662Z",
     "shell.execute_reply": "2024-01-24T13:02:56.473383Z",
     "shell.execute_reply.started": "2024-01-24T13:02:56.451680Z"
    }
   },
   "outputs": [
    {
     "data": {
      "text/plain": [
       "5_ID                       object\n",
       "5_INSEE_COM                object\n",
       "5_INSEE_DEP                object\n",
       "5_INSEE_REG                 int64\n",
       "5_CODE_EPCI               float64\n",
       "5_NOM_COM_M                object\n",
       "5_POPULATION                int64\n",
       "5_Nb_Ventes               float64\n",
       "5_PrixMoyen_M2            float64\n",
       "5_nb_digits_code_INSEE      int64\n",
       "5_code_commune_n           object\n",
       "dtype: object"
      ]
     },
     "execution_count": 31,
     "metadata": {},
     "output_type": "execute_result"
    }
   ],
   "source": [
    "df_commune_immo.dtypes"
   ]
  },
  {
   "cell_type": "code",
   "execution_count": 32,
   "id": "13c03141-d24c-4cab-91b5-e9e5facbc06f",
   "metadata": {
    "execution": {
     "iopub.execute_input": "2024-01-24T13:02:56.476699Z",
     "iopub.status.busy": "2024-01-24T13:02:56.475696Z",
     "iopub.status.idle": "2024-01-24T13:02:56.490199Z",
     "shell.execute_reply": "2024-01-24T13:02:56.489203Z",
     "shell.execute_reply.started": "2024-01-24T13:02:56.476699Z"
    },
    "scrolled": true
   },
   "outputs": [
    {
     "data": {
      "text/html": [
       "<div>\n",
       "<style scoped>\n",
       "    .dataframe tbody tr th:only-of-type {\n",
       "        vertical-align: middle;\n",
       "    }\n",
       "\n",
       "    .dataframe tbody tr th {\n",
       "        vertical-align: top;\n",
       "    }\n",
       "\n",
       "    .dataframe thead th {\n",
       "        text-align: right;\n",
       "    }\n",
       "</style>\n",
       "<table border=\"1\" class=\"dataframe\">\n",
       "  <thead>\n",
       "    <tr style=\"text-align: right;\">\n",
       "      <th></th>\n",
       "      <th>5_ID</th>\n",
       "      <th>5_INSEE_COM</th>\n",
       "      <th>5_INSEE_DEP</th>\n",
       "      <th>5_INSEE_REG</th>\n",
       "      <th>5_CODE_EPCI</th>\n",
       "      <th>5_NOM_COM_M</th>\n",
       "      <th>5_POPULATION</th>\n",
       "      <th>5_Nb_Ventes</th>\n",
       "      <th>5_PrixMoyen_M2</th>\n",
       "      <th>5_nb_digits_code_INSEE</th>\n",
       "      <th>5_code_commune_n</th>\n",
       "    </tr>\n",
       "  </thead>\n",
       "  <tbody>\n",
       "    <tr>\n",
       "      <th>0</th>\n",
       "      <td>COMMUNE_0000000009760754</td>\n",
       "      <td>32216</td>\n",
       "      <td>32</td>\n",
       "      <td>76</td>\n",
       "      <td>200072320.0</td>\n",
       "      <td>LOURTIES MONBRUN</td>\n",
       "      <td>152</td>\n",
       "      <td>NaN</td>\n",
       "      <td>NaN</td>\n",
       "      <td>5</td>\n",
       "      <td>32216</td>\n",
       "    </tr>\n",
       "    <tr>\n",
       "      <th>1</th>\n",
       "      <td>COMMUNE_0000000009756744</td>\n",
       "      <td>47033</td>\n",
       "      <td>47</td>\n",
       "      <td>75</td>\n",
       "      <td>200036523.0</td>\n",
       "      <td>BOUDY DE BEAUREGARD</td>\n",
       "      <td>412</td>\n",
       "      <td>4.0</td>\n",
       "      <td>1421.0</td>\n",
       "      <td>5</td>\n",
       "      <td>47033</td>\n",
       "    </tr>\n",
       "    <tr>\n",
       "      <th>2</th>\n",
       "      <td>COMMUNE_0000000009760252</td>\n",
       "      <td>32009</td>\n",
       "      <td>32</td>\n",
       "      <td>76</td>\n",
       "      <td>243200425.0</td>\n",
       "      <td>ARMOUS ET CAU</td>\n",
       "      <td>86</td>\n",
       "      <td>NaN</td>\n",
       "      <td>NaN</td>\n",
       "      <td>5</td>\n",
       "      <td>32009</td>\n",
       "    </tr>\n",
       "  </tbody>\n",
       "</table>\n",
       "</div>"
      ],
      "text/plain": [
       "                       5_ID 5_INSEE_COM 5_INSEE_DEP  5_INSEE_REG  5_CODE_EPCI  \\\n",
       "0  COMMUNE_0000000009760754       32216          32           76  200072320.0   \n",
       "1  COMMUNE_0000000009756744       47033          47           75  200036523.0   \n",
       "2  COMMUNE_0000000009760252       32009          32           76  243200425.0   \n",
       "\n",
       "           5_NOM_COM_M  5_POPULATION  5_Nb_Ventes  5_PrixMoyen_M2  \\\n",
       "0     LOURTIES MONBRUN           152          NaN             NaN   \n",
       "1  BOUDY DE BEAUREGARD           412          4.0          1421.0   \n",
       "2        ARMOUS ET CAU            86          NaN             NaN   \n",
       "\n",
       "   5_nb_digits_code_INSEE 5_code_commune_n  \n",
       "0                       5            32216  \n",
       "1                       5            47033  \n",
       "2                       5            32009  "
      ]
     },
     "execution_count": 32,
     "metadata": {},
     "output_type": "execute_result"
    }
   ],
   "source": [
    "df_commune_immo[:3]"
   ]
  },
  {
   "cell_type": "code",
   "execution_count": 33,
   "id": "1cf9e261-9d00-4c5a-a906-733021ba5b9a",
   "metadata": {
    "execution": {
     "iopub.execute_input": "2024-01-24T13:02:56.492176Z",
     "iopub.status.busy": "2024-01-24T13:02:56.491617Z",
     "iopub.status.idle": "2024-01-24T13:02:56.523198Z",
     "shell.execute_reply": "2024-01-24T13:02:56.521241Z",
     "shell.execute_reply.started": "2024-01-24T13:02:56.492176Z"
    }
   },
   "outputs": [
    {
     "data": {
      "text/plain": [
       "34886"
      ]
     },
     "execution_count": 33,
     "metadata": {},
     "output_type": "execute_result"
    }
   ],
   "source": [
    "len(df_commune_immo['5_code_commune_n'].unique())"
   ]
  },
  {
   "cell_type": "markdown",
   "id": "9f3d00d7-7f20-419c-8f3d-5671f90b7a8f",
   "metadata": {},
   "source": [
    "## df_commune_adj - Communes adjacentes"
   ]
  },
  {
   "cell_type": "code",
   "execution_count": 34,
   "id": "f5e27a46-87ce-44fd-9faf-b99c648f979b",
   "metadata": {
    "execution": {
     "iopub.execute_input": "2024-01-24T13:02:56.525244Z",
     "iopub.status.busy": "2024-01-24T13:02:56.525244Z",
     "iopub.status.idle": "2024-01-24T13:02:56.706540Z",
     "shell.execute_reply": "2024-01-24T13:02:56.705374Z",
     "shell.execute_reply.started": "2024-01-24T13:02:56.525244Z"
    },
    "tags": []
   },
   "outputs": [],
   "source": [
    "df_commune_adj = pd.read_csv('.\\\\Tables_brutes\\\\Communes_adjacentes\\\\communes_adjacentes_2022.csv',sep=',',dtype= {'insee':str})"
   ]
  },
  {
   "cell_type": "code",
   "execution_count": 35,
   "id": "56510246-e996-4410-9f78-d3ad9ba9d2c4",
   "metadata": {
    "execution": {
     "iopub.execute_input": "2024-01-24T13:02:56.707767Z",
     "iopub.status.busy": "2024-01-24T13:02:56.706540Z",
     "iopub.status.idle": "2024-01-24T13:02:56.720142Z",
     "shell.execute_reply": "2024-01-24T13:02:56.720142Z",
     "shell.execute_reply.started": "2024-01-24T13:02:56.707548Z"
    }
   },
   "outputs": [],
   "source": [
    "rename = {col:\"6_\"+col for col in df_commune_adj.columns}\n",
    "df_commune_adj.rename(columns = rename, inplace=True)"
   ]
  },
  {
   "cell_type": "code",
   "execution_count": 36,
   "id": "cebb69c3-9ecb-42f3-abb6-7324a5894261",
   "metadata": {
    "execution": {
     "iopub.execute_input": "2024-01-24T13:02:56.726305Z",
     "iopub.status.busy": "2024-01-24T13:02:56.725282Z",
     "iopub.status.idle": "2024-01-24T13:02:56.734547Z",
     "shell.execute_reply": "2024-01-24T13:02:56.733454Z",
     "shell.execute_reply.started": "2024-01-24T13:02:56.726305Z"
    },
    "tags": []
   },
   "outputs": [
    {
     "data": {
      "text/plain": [
       "6_insee            object\n",
       "6_nom              object\n",
       "6_nb_voisins        int64\n",
       "6_insee_voisins    object\n",
       "6_noms_voisins     object\n",
       "6_cap_voisins      object\n",
       "6_type             object\n",
       "dtype: object"
      ]
     },
     "execution_count": 36,
     "metadata": {},
     "output_type": "execute_result"
    }
   ],
   "source": [
    "df_commune_adj.dtypes"
   ]
  },
  {
   "cell_type": "code",
   "execution_count": 37,
   "id": "f01f35ef-cfbd-499c-8ffd-40c9c05bd80f",
   "metadata": {
    "execution": {
     "iopub.execute_input": "2024-01-24T13:02:56.734547Z",
     "iopub.status.busy": "2024-01-24T13:02:56.734547Z",
     "iopub.status.idle": "2024-01-24T13:02:56.749812Z",
     "shell.execute_reply": "2024-01-24T13:02:56.748731Z",
     "shell.execute_reply.started": "2024-01-24T13:02:56.734547Z"
    },
    "tags": []
   },
   "outputs": [
    {
     "data": {
      "text/plain": [
       "(34990, 7)"
      ]
     },
     "execution_count": 37,
     "metadata": {},
     "output_type": "execute_result"
    }
   ],
   "source": [
    "df_commune_adj.shape"
   ]
  },
  {
   "cell_type": "code",
   "execution_count": 38,
   "id": "e5d4ab22-0899-4288-b2c1-bbe559cf3866",
   "metadata": {
    "execution": {
     "iopub.execute_input": "2024-01-24T13:02:56.750729Z",
     "iopub.status.busy": "2024-01-24T13:02:56.750729Z",
     "iopub.status.idle": "2024-01-24T13:02:56.765552Z",
     "shell.execute_reply": "2024-01-24T13:02:56.764653Z",
     "shell.execute_reply.started": "2024-01-24T13:02:56.750729Z"
    },
    "tags": []
   },
   "outputs": [
    {
     "data": {
      "text/html": [
       "<div>\n",
       "<style scoped>\n",
       "    .dataframe tbody tr th:only-of-type {\n",
       "        vertical-align: middle;\n",
       "    }\n",
       "\n",
       "    .dataframe tbody tr th {\n",
       "        vertical-align: top;\n",
       "    }\n",
       "\n",
       "    .dataframe thead th {\n",
       "        text-align: right;\n",
       "    }\n",
       "</style>\n",
       "<table border=\"1\" class=\"dataframe\">\n",
       "  <thead>\n",
       "    <tr style=\"text-align: right;\">\n",
       "      <th></th>\n",
       "      <th>6_insee</th>\n",
       "      <th>6_nom</th>\n",
       "      <th>6_nb_voisins</th>\n",
       "      <th>6_insee_voisins</th>\n",
       "      <th>6_noms_voisins</th>\n",
       "      <th>6_cap_voisins</th>\n",
       "      <th>6_type</th>\n",
       "    </tr>\n",
       "  </thead>\n",
       "  <tbody>\n",
       "    <tr>\n",
       "      <th>0</th>\n",
       "      <td>01001</td>\n",
       "      <td>L'Abergement-Clémenciat</td>\n",
       "      <td>6</td>\n",
       "      <td>01412|01093|01028|01146|01351|01188</td>\n",
       "      <td>Sulignat|Châtillon-sur-Chalaronne|Baneins|Domp...</td>\n",
       "      <td>48|144|203|234|260|322</td>\n",
       "      <td>NaN</td>\n",
       "    </tr>\n",
       "    <tr>\n",
       "      <th>1</th>\n",
       "      <td>01002</td>\n",
       "      <td>L'Abergement-de-Varey</td>\n",
       "      <td>6</td>\n",
       "      <td>01056|01277|01384|01007|01363|01199</td>\n",
       "      <td>Boyeux-Saint-Jérôme|Nivollet-Montgriffon|Saint...</td>\n",
       "      <td>43|115|172|265|302|344</td>\n",
       "      <td>NaN</td>\n",
       "    </tr>\n",
       "    <tr>\n",
       "      <th>2</th>\n",
       "      <td>01004</td>\n",
       "      <td>Ambérieu-en-Bugey</td>\n",
       "      <td>7</td>\n",
       "      <td>01384|01421|01041|01345|01089|01007|01149</td>\n",
       "      <td>Saint-Rambert-en-Bugey|Torcieu|Bettant|Saint-D...</td>\n",
       "      <td>102|151|190|250|284|347|360</td>\n",
       "      <td>NaN</td>\n",
       "    </tr>\n",
       "  </tbody>\n",
       "</table>\n",
       "</div>"
      ],
      "text/plain": [
       "  6_insee                    6_nom  6_nb_voisins  \\\n",
       "0   01001  L'Abergement-Clémenciat             6   \n",
       "1   01002    L'Abergement-de-Varey             6   \n",
       "2   01004        Ambérieu-en-Bugey             7   \n",
       "\n",
       "                             6_insee_voisins  \\\n",
       "0        01412|01093|01028|01146|01351|01188   \n",
       "1        01056|01277|01384|01007|01363|01199   \n",
       "2  01384|01421|01041|01345|01089|01007|01149   \n",
       "\n",
       "                                      6_noms_voisins  \\\n",
       "0  Sulignat|Châtillon-sur-Chalaronne|Baneins|Domp...   \n",
       "1  Boyeux-Saint-Jérôme|Nivollet-Montgriffon|Saint...   \n",
       "2  Saint-Rambert-en-Bugey|Torcieu|Bettant|Saint-D...   \n",
       "\n",
       "                 6_cap_voisins 6_type  \n",
       "0       48|144|203|234|260|322    NaN  \n",
       "1       43|115|172|265|302|344    NaN  \n",
       "2  102|151|190|250|284|347|360    NaN  "
      ]
     },
     "execution_count": 38,
     "metadata": {},
     "output_type": "execute_result"
    }
   ],
   "source": [
    "df_commune_adj[:3]"
   ]
  },
  {
   "cell_type": "code",
   "execution_count": 39,
   "id": "140a827a-388a-4f7a-841b-99285a2dbab6",
   "metadata": {
    "editable": true,
    "execution": {
     "iopub.execute_input": "2024-01-24T13:02:56.766550Z",
     "iopub.status.busy": "2024-01-24T13:02:56.766550Z",
     "iopub.status.idle": "2024-01-24T13:02:56.784247Z",
     "shell.execute_reply": "2024-01-24T13:02:56.784247Z",
     "shell.execute_reply.started": "2024-01-24T13:02:56.766550Z"
    },
    "scrolled": true,
    "slideshow": {
     "slide_type": ""
    },
    "tags": []
   },
   "outputs": [
    {
     "data": {
      "text/html": [
       "<div>\n",
       "<style scoped>\n",
       "    .dataframe tbody tr th:only-of-type {\n",
       "        vertical-align: middle;\n",
       "    }\n",
       "\n",
       "    .dataframe tbody tr th {\n",
       "        vertical-align: top;\n",
       "    }\n",
       "\n",
       "    .dataframe thead th {\n",
       "        text-align: right;\n",
       "    }\n",
       "</style>\n",
       "<table border=\"1\" class=\"dataframe\">\n",
       "  <thead>\n",
       "    <tr style=\"text-align: right;\">\n",
       "      <th></th>\n",
       "      <th>6_insee</th>\n",
       "      <th>6_nom</th>\n",
       "      <th>6_nb_voisins</th>\n",
       "      <th>6_insee_voisins</th>\n",
       "      <th>6_noms_voisins</th>\n",
       "      <th>6_cap_voisins</th>\n",
       "      <th>6_type</th>\n",
       "    </tr>\n",
       "  </thead>\n",
       "  <tbody>\n",
       "  </tbody>\n",
       "</table>\n",
       "</div>"
      ],
      "text/plain": [
       "Empty DataFrame\n",
       "Columns: [6_insee, 6_nom, 6_nb_voisins, 6_insee_voisins, 6_noms_voisins, 6_cap_voisins, 6_type]\n",
       "Index: []"
      ]
     },
     "execution_count": 39,
     "metadata": {},
     "output_type": "execute_result"
    }
   ],
   "source": [
    "df_commune_adj[df_commune_adj['6_insee']==\"01059\"]"
   ]
  },
  {
   "cell_type": "markdown",
   "id": "56a96b7a-12bc-4ad0-8ea4-0f760cefe0fe",
   "metadata": {
    "execution": {
     "iopub.execute_input": "2024-01-07T09:23:20.069214Z",
     "iopub.status.busy": "2024-01-07T09:23:20.069214Z",
     "iopub.status.idle": "2024-01-07T09:23:20.077981Z",
     "shell.execute_reply": "2024-01-07T09:23:20.077189Z",
     "shell.execute_reply.started": "2024-01-07T09:23:20.069214Z"
    }
   },
   "source": [
    "# Merge des dataframe"
   ]
  },
  {
   "cell_type": "code",
   "execution_count": 40,
   "id": "c9ef640a-204f-4758-8fe2-b09e0ba267da",
   "metadata": {
    "editable": true,
    "execution": {
     "iopub.execute_input": "2024-01-24T13:02:56.799851Z",
     "iopub.status.busy": "2024-01-24T13:02:56.799851Z",
     "iopub.status.idle": "2024-01-24T13:02:56.875078Z",
     "shell.execute_reply": "2024-01-24T13:02:56.874040Z",
     "shell.execute_reply.started": "2024-01-24T13:02:56.799851Z"
    },
    "slideshow": {
     "slide_type": ""
    },
    "tags": []
   },
   "outputs": [],
   "source": [
    "df = pd.DataFrame()\n",
    "df = pd.merge(df_pop,df_commune_immo, left_on=\"3_Code INSEE (commune ou arrondissement)\",\n",
    "              right_on=\"5_code_commune_n\",how=\"left\")"
   ]
  },
  {
   "cell_type": "code",
   "execution_count": 41,
   "id": "af0ea4d3-b124-46a0-a2e3-1e46a542fa2a",
   "metadata": {
    "execution": {
     "iopub.execute_input": "2024-01-24T13:02:56.877020Z",
     "iopub.status.busy": "2024-01-24T13:02:56.877020Z",
     "iopub.status.idle": "2024-01-24T13:02:56.974123Z",
     "shell.execute_reply": "2024-01-24T13:02:56.973098Z",
     "shell.execute_reply.started": "2024-01-24T13:02:56.877020Z"
    }
   },
   "outputs": [],
   "source": [
    "df = pd.merge(df,df_commune_adj, left_on=\"3_Code INSEE (commune ou arrondissement)\",\n",
    "              right_on=\"6_insee\",how=\"left\")"
   ]
  },
  {
   "cell_type": "code",
   "execution_count": 42,
   "id": "af843cc9-53a1-466b-a833-f9d0b6768d29",
   "metadata": {
    "execution": {
     "iopub.execute_input": "2024-01-24T13:02:56.975821Z",
     "iopub.status.busy": "2024-01-24T13:02:56.975821Z",
     "iopub.status.idle": "2024-01-24T13:02:57.090557Z",
     "shell.execute_reply": "2024-01-24T13:02:57.090557Z",
     "shell.execute_reply.started": "2024-01-24T13:02:56.975821Z"
    }
   },
   "outputs": [],
   "source": [
    "df = pd.merge(df, df_com, left_on=\"3_Code INSEE (commune ou arrondissement)\",\n",
    "              right_on=\"4_Code INSEE\",how=\"left\")"
   ]
  },
  {
   "cell_type": "code",
   "execution_count": 43,
   "id": "41fdc751-a554-4c16-b783-024d28ede55d",
   "metadata": {
    "execution": {
     "iopub.execute_input": "2024-01-24T13:02:57.090557Z",
     "iopub.status.busy": "2024-01-24T13:02:57.090557Z",
     "iopub.status.idle": "2024-01-24T13:02:57.107736Z",
     "shell.execute_reply": "2024-01-24T13:02:57.105843Z",
     "shell.execute_reply.started": "2024-01-24T13:02:57.090557Z"
    },
    "scrolled": true,
    "tags": []
   },
   "outputs": [],
   "source": [
    "# # ATTENTION\n",
    "# df['Prix_estimé'] = df.apply(lambda x: estim_prix(x['Code INSEE (commune ou arrondissement)']),axis=1)\n",
    "# df = pd.read_csv('./Tables_traitees\\\\Infos_communes_avec_prix_estimé.csv',sep=';',dtype={'Code département':str,'Code INSEE (commune ou arrondissement)':str,\n",
    "                    # \"INSEE_DEP\":str,\"ID\":str,\"INSEE_COM\":str,\"code_commune_n\":str,\"insee\":str,\"Code INSEE\":str,\"Code Département\":str })"
   ]
  },
  {
   "cell_type": "code",
   "execution_count": 44,
   "id": "95ff8bca-15a9-42ca-9724-fa2ed39b00d3",
   "metadata": {
    "execution": {
     "iopub.execute_input": "2024-01-24T13:02:57.109661Z",
     "iopub.status.busy": "2024-01-24T13:02:57.109661Z",
     "iopub.status.idle": "2024-01-24T13:02:57.121008Z",
     "shell.execute_reply": "2024-01-24T13:02:57.119948Z",
     "shell.execute_reply.started": "2024-01-24T13:02:57.109661Z"
    },
    "tags": []
   },
   "outputs": [
    {
     "data": {
      "text/plain": [
       "(36750, 54)"
      ]
     },
     "execution_count": 44,
     "metadata": {},
     "output_type": "execute_result"
    }
   ],
   "source": [
    "df.shape"
   ]
  },
  {
   "cell_type": "code",
   "execution_count": 45,
   "id": "664bdbc4-6023-4ea8-91d5-95711b4efacf",
   "metadata": {
    "execution": {
     "iopub.execute_input": "2024-01-24T13:02:57.121008Z",
     "iopub.status.busy": "2024-01-24T13:02:57.121008Z",
     "iopub.status.idle": "2024-01-24T13:02:57.369731Z",
     "shell.execute_reply": "2024-01-24T13:02:57.369495Z",
     "shell.execute_reply.started": "2024-01-24T13:02:57.121008Z"
    },
    "scrolled": true
   },
   "outputs": [
    {
     "data": {
      "text/html": [
       "<div>\n",
       "<style scoped>\n",
       "    .dataframe tbody tr th:only-of-type {\n",
       "        vertical-align: middle;\n",
       "    }\n",
       "\n",
       "    .dataframe tbody tr th {\n",
       "        vertical-align: top;\n",
       "    }\n",
       "\n",
       "    .dataframe thead th {\n",
       "        text-align: right;\n",
       "    }\n",
       "</style>\n",
       "<table border=\"1\" class=\"dataframe\">\n",
       "  <thead>\n",
       "    <tr style=\"text-align: right;\">\n",
       "      <th></th>\n",
       "      <th>Variable</th>\n",
       "      <th>type</th>\n",
       "      <th>Nb_val_unique</th>\n",
       "      <th>Nb_manquant</th>\n",
       "    </tr>\n",
       "  </thead>\n",
       "  <tbody>\n",
       "    <tr>\n",
       "      <th>33</th>\n",
       "      <td>6_type</td>\n",
       "      <td>object</td>\n",
       "      <td>9</td>\n",
       "      <td>35990</td>\n",
       "    </tr>\n",
       "    <tr>\n",
       "      <th>23</th>\n",
       "      <td>5_Nb_Ventes</td>\n",
       "      <td>float64</td>\n",
       "      <td>554</td>\n",
       "      <td>9928</td>\n",
       "    </tr>\n",
       "    <tr>\n",
       "      <th>24</th>\n",
       "      <td>5_PrixMoyen_M2</td>\n",
       "      <td>float64</td>\n",
       "      <td>3709</td>\n",
       "      <td>9928</td>\n",
       "    </tr>\n",
       "    <tr>\n",
       "      <th>20</th>\n",
       "      <td>5_CODE_EPCI</td>\n",
       "      <td>float64</td>\n",
       "      <td>1237</td>\n",
       "      <td>1916</td>\n",
       "    </tr>\n",
       "    <tr>\n",
       "      <th>18</th>\n",
       "      <td>5_INSEE_DEP</td>\n",
       "      <td>object</td>\n",
       "      <td>97</td>\n",
       "      <td>1867</td>\n",
       "    </tr>\n",
       "    <tr>\n",
       "      <th>25</th>\n",
       "      <td>5_nb_digits_code_INSEE</td>\n",
       "      <td>float64</td>\n",
       "      <td>2</td>\n",
       "      <td>1867</td>\n",
       "    </tr>\n",
       "    <tr>\n",
       "      <th>19</th>\n",
       "      <td>5_INSEE_REG</td>\n",
       "      <td>float64</td>\n",
       "      <td>14</td>\n",
       "      <td>1867</td>\n",
       "    </tr>\n",
       "    <tr>\n",
       "      <th>21</th>\n",
       "      <td>5_NOM_COM_M</td>\n",
       "      <td>object</td>\n",
       "      <td>32430</td>\n",
       "      <td>1867</td>\n",
       "    </tr>\n",
       "    <tr>\n",
       "      <th>22</th>\n",
       "      <td>5_POPULATION</td>\n",
       "      <td>float64</td>\n",
       "      <td>5734</td>\n",
       "      <td>1867</td>\n",
       "    </tr>\n",
       "    <tr>\n",
       "      <th>26</th>\n",
       "      <td>5_code_commune_n</td>\n",
       "      <td>object</td>\n",
       "      <td>34884</td>\n",
       "      <td>1867</td>\n",
       "    </tr>\n",
       "    <tr>\n",
       "      <th>17</th>\n",
       "      <td>5_INSEE_COM</td>\n",
       "      <td>object</td>\n",
       "      <td>34884</td>\n",
       "      <td>1867</td>\n",
       "    </tr>\n",
       "    <tr>\n",
       "      <th>16</th>\n",
       "      <td>5_ID</td>\n",
       "      <td>object</td>\n",
       "      <td>34884</td>\n",
       "      <td>1867</td>\n",
       "    </tr>\n",
       "    <tr>\n",
       "      <th>28</th>\n",
       "      <td>6_nom</td>\n",
       "      <td>object</td>\n",
       "      <td>32684</td>\n",
       "      <td>1813</td>\n",
       "    </tr>\n",
       "    <tr>\n",
       "      <th>29</th>\n",
       "      <td>6_nb_voisins</td>\n",
       "      <td>float64</td>\n",
       "      <td>23</td>\n",
       "      <td>1813</td>\n",
       "    </tr>\n",
       "    <tr>\n",
       "      <th>30</th>\n",
       "      <td>6_insee_voisins</td>\n",
       "      <td>object</td>\n",
       "      <td>34935</td>\n",
       "      <td>1813</td>\n",
       "    </tr>\n",
       "    <tr>\n",
       "      <th>31</th>\n",
       "      <td>6_noms_voisins</td>\n",
       "      <td>object</td>\n",
       "      <td>34935</td>\n",
       "      <td>1813</td>\n",
       "    </tr>\n",
       "    <tr>\n",
       "      <th>32</th>\n",
       "      <td>6_cap_voisins</td>\n",
       "      <td>object</td>\n",
       "      <td>34932</td>\n",
       "      <td>1813</td>\n",
       "    </tr>\n",
       "    <tr>\n",
       "      <th>27</th>\n",
       "      <td>6_insee</td>\n",
       "      <td>object</td>\n",
       "      <td>34938</td>\n",
       "      <td>1813</td>\n",
       "    </tr>\n",
       "    <tr>\n",
       "      <th>11</th>\n",
       "      <td>3_Superficie de la commune</td>\n",
       "      <td>float64</td>\n",
       "      <td>5236</td>\n",
       "      <td>823</td>\n",
       "    </tr>\n",
       "    <tr>\n",
       "      <th>15</th>\n",
       "      <td>3_Densité_hab_par_km2</td>\n",
       "      <td>float64</td>\n",
       "      <td>34727</td>\n",
       "      <td>823</td>\n",
       "    </tr>\n",
       "    <tr>\n",
       "      <th>14</th>\n",
       "      <td>3_EPCI</td>\n",
       "      <td>object</td>\n",
       "      <td>2216</td>\n",
       "      <td>26</td>\n",
       "    </tr>\n",
       "    <tr>\n",
       "      <th>13</th>\n",
       "      <td>3_Code EPCI</td>\n",
       "      <td>object</td>\n",
       "      <td>2143</td>\n",
       "      <td>26</td>\n",
       "    </tr>\n",
       "    <tr>\n",
       "      <th>38</th>\n",
       "      <td>4_Région</td>\n",
       "      <td>object</td>\n",
       "      <td>28</td>\n",
       "      <td>8</td>\n",
       "    </tr>\n",
       "    <tr>\n",
       "      <th>49</th>\n",
       "      <td>4_Code Département</td>\n",
       "      <td>object</td>\n",
       "      <td>98</td>\n",
       "      <td>8</td>\n",
       "    </tr>\n",
       "    <tr>\n",
       "      <th>40</th>\n",
       "      <td>4_Altitude Moyenne</td>\n",
       "      <td>float64</td>\n",
       "      <td>1653</td>\n",
       "      <td>8</td>\n",
       "    </tr>\n",
       "    <tr>\n",
       "      <th>41</th>\n",
       "      <td>4_Superficie</td>\n",
       "      <td>float64</td>\n",
       "      <td>5247</td>\n",
       "      <td>8</td>\n",
       "    </tr>\n",
       "    <tr>\n",
       "      <th>52</th>\n",
       "      <td>4_lon</td>\n",
       "      <td>float64</td>\n",
       "      <td>36743</td>\n",
       "      <td>8</td>\n",
       "    </tr>\n",
       "    <tr>\n",
       "      <th>51</th>\n",
       "      <td>4_lat</td>\n",
       "      <td>float64</td>\n",
       "      <td>36743</td>\n",
       "      <td>8</td>\n",
       "    </tr>\n",
       "    <tr>\n",
       "      <th>50</th>\n",
       "      <td>4_Code Région</td>\n",
       "      <td>float64</td>\n",
       "      <td>28</td>\n",
       "      <td>8</td>\n",
       "    </tr>\n",
       "    <tr>\n",
       "      <th>42</th>\n",
       "      <td>4_Population</td>\n",
       "      <td>float64</td>\n",
       "      <td>510</td>\n",
       "      <td>8</td>\n",
       "    </tr>\n",
       "    <tr>\n",
       "      <th>48</th>\n",
       "      <td>4_Code Arrondissement</td>\n",
       "      <td>float64</td>\n",
       "      <td>11</td>\n",
       "      <td>8</td>\n",
       "    </tr>\n",
       "    <tr>\n",
       "      <th>47</th>\n",
       "      <td>4_Code Canton</td>\n",
       "      <td>float64</td>\n",
       "      <td>95</td>\n",
       "      <td>8</td>\n",
       "    </tr>\n",
       "    <tr>\n",
       "      <th>46</th>\n",
       "      <td>4_Code Commune</td>\n",
       "      <td>float64</td>\n",
       "      <td>909</td>\n",
       "      <td>8</td>\n",
       "    </tr>\n",
       "    <tr>\n",
       "      <th>45</th>\n",
       "      <td>4_ID Geofla</td>\n",
       "      <td>float64</td>\n",
       "      <td>36614</td>\n",
       "      <td>8</td>\n",
       "    </tr>\n",
       "    <tr>\n",
       "      <th>44</th>\n",
       "      <td>4_geo_shape</td>\n",
       "      <td>object</td>\n",
       "      <td>36743</td>\n",
       "      <td>8</td>\n",
       "    </tr>\n",
       "    <tr>\n",
       "      <th>43</th>\n",
       "      <td>4_geo_point_2d</td>\n",
       "      <td>object</td>\n",
       "      <td>36743</td>\n",
       "      <td>8</td>\n",
       "    </tr>\n",
       "    <tr>\n",
       "      <th>39</th>\n",
       "      <td>4_Statut</td>\n",
       "      <td>object</td>\n",
       "      <td>28</td>\n",
       "      <td>8</td>\n",
       "    </tr>\n",
       "    <tr>\n",
       "      <th>53</th>\n",
       "      <td>4_Densité_hab_par_km2</td>\n",
       "      <td>float64</td>\n",
       "      <td>18651</td>\n",
       "      <td>8</td>\n",
       "    </tr>\n",
       "    <tr>\n",
       "      <th>37</th>\n",
       "      <td>4_Département</td>\n",
       "      <td>object</td>\n",
       "      <td>102</td>\n",
       "      <td>8</td>\n",
       "    </tr>\n",
       "    <tr>\n",
       "      <th>36</th>\n",
       "      <td>4_Commune</td>\n",
       "      <td>object</td>\n",
       "      <td>34131</td>\n",
       "      <td>8</td>\n",
       "    </tr>\n",
       "    <tr>\n",
       "      <th>35</th>\n",
       "      <td>4_Code Postal</td>\n",
       "      <td>object</td>\n",
       "      <td>6102</td>\n",
       "      <td>8</td>\n",
       "    </tr>\n",
       "    <tr>\n",
       "      <th>34</th>\n",
       "      <td>4_Code INSEE</td>\n",
       "      <td>object</td>\n",
       "      <td>36743</td>\n",
       "      <td>8</td>\n",
       "    </tr>\n",
       "    <tr>\n",
       "      <th>1</th>\n",
       "      <td>3_Nom de la région</td>\n",
       "      <td>object</td>\n",
       "      <td>36</td>\n",
       "      <td>0</td>\n",
       "    </tr>\n",
       "    <tr>\n",
       "      <th>12</th>\n",
       "      <td>3_Statut</td>\n",
       "      <td>object</td>\n",
       "      <td>2</td>\n",
       "      <td>0</td>\n",
       "    </tr>\n",
       "    <tr>\n",
       "      <th>10</th>\n",
       "      <td>3_Code INSEE (commune ou arrondissement)</td>\n",
       "      <td>object</td>\n",
       "      <td>36750</td>\n",
       "      <td>0</td>\n",
       "    </tr>\n",
       "    <tr>\n",
       "      <th>9</th>\n",
       "      <td>3_Année utilisation</td>\n",
       "      <td>int64</td>\n",
       "      <td>10</td>\n",
       "      <td>0</td>\n",
       "    </tr>\n",
       "    <tr>\n",
       "      <th>8</th>\n",
       "      <td>3_Année recensement</td>\n",
       "      <td>int64</td>\n",
       "      <td>10</td>\n",
       "      <td>0</td>\n",
       "    </tr>\n",
       "    <tr>\n",
       "      <th>7</th>\n",
       "      <td>3_Population totale</td>\n",
       "      <td>float64</td>\n",
       "      <td>5942</td>\n",
       "      <td>0</td>\n",
       "    </tr>\n",
       "    <tr>\n",
       "      <th>6</th>\n",
       "      <td>3_Population comptée à part</td>\n",
       "      <td>float64</td>\n",
       "      <td>793</td>\n",
       "      <td>0</td>\n",
       "    </tr>\n",
       "    <tr>\n",
       "      <th>5</th>\n",
       "      <td>3_Population municipale</td>\n",
       "      <td>float64</td>\n",
       "      <td>5845</td>\n",
       "      <td>0</td>\n",
       "    </tr>\n",
       "    <tr>\n",
       "      <th>4</th>\n",
       "      <td>3_Nom de la commune</td>\n",
       "      <td>object</td>\n",
       "      <td>34250</td>\n",
       "      <td>0</td>\n",
       "    </tr>\n",
       "    <tr>\n",
       "      <th>3</th>\n",
       "      <td>3_Code commune</td>\n",
       "      <td>float64</td>\n",
       "      <td>908</td>\n",
       "      <td>0</td>\n",
       "    </tr>\n",
       "    <tr>\n",
       "      <th>2</th>\n",
       "      <td>3_Code département</td>\n",
       "      <td>object</td>\n",
       "      <td>101</td>\n",
       "      <td>0</td>\n",
       "    </tr>\n",
       "    <tr>\n",
       "      <th>0</th>\n",
       "      <td>3_Code région</td>\n",
       "      <td>float64</td>\n",
       "      <td>34</td>\n",
       "      <td>0</td>\n",
       "    </tr>\n",
       "  </tbody>\n",
       "</table>\n",
       "</div>"
      ],
      "text/plain": [
       "                                    Variable     type  Nb_val_unique  \\\n",
       "33                                    6_type   object              9   \n",
       "23                               5_Nb_Ventes  float64            554   \n",
       "24                            5_PrixMoyen_M2  float64           3709   \n",
       "20                               5_CODE_EPCI  float64           1237   \n",
       "18                               5_INSEE_DEP   object             97   \n",
       "25                    5_nb_digits_code_INSEE  float64              2   \n",
       "19                               5_INSEE_REG  float64             14   \n",
       "21                               5_NOM_COM_M   object          32430   \n",
       "22                              5_POPULATION  float64           5734   \n",
       "26                          5_code_commune_n   object          34884   \n",
       "17                               5_INSEE_COM   object          34884   \n",
       "16                                      5_ID   object          34884   \n",
       "28                                     6_nom   object          32684   \n",
       "29                              6_nb_voisins  float64             23   \n",
       "30                           6_insee_voisins   object          34935   \n",
       "31                            6_noms_voisins   object          34935   \n",
       "32                             6_cap_voisins   object          34932   \n",
       "27                                   6_insee   object          34938   \n",
       "11                3_Superficie de la commune  float64           5236   \n",
       "15                     3_Densité_hab_par_km2  float64          34727   \n",
       "14                                    3_EPCI   object           2216   \n",
       "13                               3_Code EPCI   object           2143   \n",
       "38                                  4_Région   object             28   \n",
       "49                        4_Code Département   object             98   \n",
       "40                        4_Altitude Moyenne  float64           1653   \n",
       "41                              4_Superficie  float64           5247   \n",
       "52                                     4_lon  float64          36743   \n",
       "51                                     4_lat  float64          36743   \n",
       "50                             4_Code Région  float64             28   \n",
       "42                              4_Population  float64            510   \n",
       "48                     4_Code Arrondissement  float64             11   \n",
       "47                             4_Code Canton  float64             95   \n",
       "46                            4_Code Commune  float64            909   \n",
       "45                               4_ID Geofla  float64          36614   \n",
       "44                               4_geo_shape   object          36743   \n",
       "43                            4_geo_point_2d   object          36743   \n",
       "39                                  4_Statut   object             28   \n",
       "53                     4_Densité_hab_par_km2  float64          18651   \n",
       "37                             4_Département   object            102   \n",
       "36                                 4_Commune   object          34131   \n",
       "35                             4_Code Postal   object           6102   \n",
       "34                              4_Code INSEE   object          36743   \n",
       "1                         3_Nom de la région   object             36   \n",
       "12                                  3_Statut   object              2   \n",
       "10  3_Code INSEE (commune ou arrondissement)   object          36750   \n",
       "9                        3_Année utilisation    int64             10   \n",
       "8                        3_Année recensement    int64             10   \n",
       "7                        3_Population totale  float64           5942   \n",
       "6                3_Population comptée à part  float64            793   \n",
       "5                    3_Population municipale  float64           5845   \n",
       "4                        3_Nom de la commune   object          34250   \n",
       "3                             3_Code commune  float64            908   \n",
       "2                         3_Code département   object            101   \n",
       "0                              3_Code région  float64             34   \n",
       "\n",
       "    Nb_manquant  \n",
       "33        35990  \n",
       "23         9928  \n",
       "24         9928  \n",
       "20         1916  \n",
       "18         1867  \n",
       "25         1867  \n",
       "19         1867  \n",
       "21         1867  \n",
       "22         1867  \n",
       "26         1867  \n",
       "17         1867  \n",
       "16         1867  \n",
       "28         1813  \n",
       "29         1813  \n",
       "30         1813  \n",
       "31         1813  \n",
       "32         1813  \n",
       "27         1813  \n",
       "11          823  \n",
       "15          823  \n",
       "14           26  \n",
       "13           26  \n",
       "38            8  \n",
       "49            8  \n",
       "40            8  \n",
       "41            8  \n",
       "52            8  \n",
       "51            8  \n",
       "50            8  \n",
       "42            8  \n",
       "48            8  \n",
       "47            8  \n",
       "46            8  \n",
       "45            8  \n",
       "44            8  \n",
       "43            8  \n",
       "39            8  \n",
       "53            8  \n",
       "37            8  \n",
       "36            8  \n",
       "35            8  \n",
       "34            8  \n",
       "1             0  \n",
       "12            0  \n",
       "10            0  \n",
       "9             0  \n",
       "8             0  \n",
       "7             0  \n",
       "6             0  \n",
       "5             0  \n",
       "4             0  \n",
       "3             0  \n",
       "2             0  \n",
       "0             0  "
      ]
     },
     "execution_count": 45,
     "metadata": {},
     "output_type": "execute_result"
    }
   ],
   "source": [
    "# Valeurs uniques et manquant par colonne\n",
    "df_analyse = []\n",
    "manquantes = df.isna().sum()\n",
    "for t in df.columns:\n",
    "    row = {}\n",
    "    row['Variable']=t\n",
    "    row['type']= df[t].dtypes\n",
    "    row['Nb_val_unique']=len(df[t].unique())\n",
    "    row['Nb_manquant']=manquantes[t]\n",
    "    df_analyse.append(row)\n",
    "df_analyse = pd.DataFrame(df_analyse)\n",
    "df_analyse.sort_values(by='Nb_manquant',ascending=False)"
   ]
  },
  {
   "cell_type": "markdown",
   "id": "ff29b936-0ee2-4581-a193-bf832774e7e2",
   "metadata": {},
   "source": [
    "## Estimation des manquants prix moyen m2 "
   ]
  },
  {
   "cell_type": "markdown",
   "id": "92959a83-406f-4e66-930e-62c78647991c",
   "metadata": {},
   "source": [
    "On commence par choisir les variables qui vont participer à l'imputation"
   ]
  },
  {
   "cell_type": "code",
   "execution_count": 46,
   "id": "9d95b0fc-d1ee-41f6-835f-63b4e3eb4a70",
   "metadata": {
    "execution": {
     "iopub.execute_input": "2024-01-24T13:02:57.371733Z",
     "iopub.status.busy": "2024-01-24T13:02:57.370732Z",
     "iopub.status.idle": "2024-01-24T13:02:57.387477Z",
     "shell.execute_reply": "2024-01-24T13:02:57.386474Z",
     "shell.execute_reply.started": "2024-01-24T13:02:57.371733Z"
    },
    "tags": []
   },
   "outputs": [],
   "source": [
    "sel_col = ['3_Code INSEE (commune ou arrondissement)','3_Code département', '5_PrixMoyen_M2', \n",
    "           'A_Prix_estimé_mean', 'A_Prix_consolidé_mean', 'B_Prix_estimé_median', 'B_Prix_consolidé_median', \n",
    "           '6_insee_voisins']"
   ]
  },
  {
   "cell_type": "code",
   "execution_count": 47,
   "id": "269f9936-aed6-4f73-a7de-78cd93f3e155",
   "metadata": {
    "execution": {
     "iopub.execute_input": "2024-01-24T13:02:57.389477Z",
     "iopub.status.busy": "2024-01-24T13:02:57.388479Z",
     "iopub.status.idle": "2024-01-24T13:02:57.408624Z",
     "shell.execute_reply": "2024-01-24T13:02:57.408624Z",
     "shell.execute_reply.started": "2024-01-24T13:02:57.389477Z"
    },
    "tags": []
   },
   "outputs": [
    {
     "data": {
      "text/plain": [
       "3_Code région                                                                            28.0\n",
       "3_Nom de la région                                                                  Normandie\n",
       "3_Code département                                                                         76\n",
       "3_Code commune                                                                          601.0\n",
       "3_Nom de la commune                                                              Saint-Lucien\n",
       "3_Population municipale                                                                 252.0\n",
       "3_Population comptée à part                                                               2.0\n",
       "3_Population totale                                                                     254.0\n",
       "3_Année recensement                                                                      2016\n",
       "3_Année utilisation                                                                      2019\n",
       "3_Code INSEE (commune ou arrondissement)                                                76601\n",
       "3_Superficie de la commune                                                               8.71\n",
       "3_Statut                                                                              Commune\n",
       "3_Code EPCI                                                                               NaN\n",
       "3_EPCI                                                                                    NaN\n",
       "3_Densité_hab_par_km2                                                               29.161883\n",
       "5_ID                                                                 COMMUNE_0000002000704162\n",
       "5_INSEE_COM                                                                             76601\n",
       "5_INSEE_DEP                                                                                76\n",
       "5_INSEE_REG                                                                              28.0\n",
       "5_CODE_EPCI                                                                       200069730.0\n",
       "5_NOM_COM_M                                                                      SAINT LUCIEN\n",
       "5_POPULATION                                                                            252.0\n",
       "5_Nb_Ventes                                                                               6.0\n",
       "5_PrixMoyen_M2                                                                         1548.0\n",
       "5_nb_digits_code_INSEE                                                                    5.0\n",
       "5_code_commune_n                                                                        76601\n",
       "6_insee                                                                                 76601\n",
       "6_nom                                                                            Saint-Lucien\n",
       "6_nb_voisins                                                                              5.0\n",
       "6_insee_voisins                                                 76338|76469|76455|76358|76171\n",
       "6_noms_voisins                              La Hallotière|Nolléval|Morville-sur-Andelle|Le...\n",
       "6_cap_voisins                                                              43|119|209|246|318\n",
       "6_type                                                                                commune\n",
       "4_Code INSEE                                                                              NaN\n",
       "4_Code Postal                                                                             NaN\n",
       "4_Commune                                                                                 NaN\n",
       "4_Département                                                                             NaN\n",
       "4_Région                                                                                  NaN\n",
       "4_Statut                                                                                  NaN\n",
       "4_Altitude Moyenne                                                                        NaN\n",
       "4_Superficie                                                                              NaN\n",
       "4_Population                                                                              NaN\n",
       "4_geo_point_2d                                                                            NaN\n",
       "4_geo_shape                                                                               NaN\n",
       "4_ID Geofla                                                                               NaN\n",
       "4_Code Commune                                                                            NaN\n",
       "4_Code Canton                                                                             NaN\n",
       "4_Code Arrondissement                                                                     NaN\n",
       "4_Code Département                                                                        NaN\n",
       "4_Code Région                                                                             NaN\n",
       "4_lat                                                                                     NaN\n",
       "4_lon                                                                                     NaN\n",
       "4_Densité_hab_par_km2                                                                     NaN\n",
       "Name: 31441, dtype: object"
      ]
     },
     "execution_count": 47,
     "metadata": {},
     "output_type": "execute_result"
    }
   ],
   "source": [
    "# correction d'une ligne (la seule, dont la superficie et la densité n'étaient pas remplies\n",
    "df.loc[31441, '3_Superficie de la commune'] = 8.71\n",
    "df.loc[31441, '3_Densité_hab_par_km2'] = 254.0/8.71\n",
    "df.loc[31441,:]"
   ]
  },
  {
   "cell_type": "code",
   "execution_count": 48,
   "id": "2acf624d-c661-4bb4-86da-824e5861ef60",
   "metadata": {
    "execution": {
     "iopub.execute_input": "2024-01-24T13:02:57.408624Z",
     "iopub.status.busy": "2024-01-24T13:02:57.408624Z",
     "iopub.status.idle": "2024-01-24T13:02:57.456824Z",
     "shell.execute_reply": "2024-01-24T13:02:57.455802Z",
     "shell.execute_reply.started": "2024-01-24T13:02:57.408624Z"
    }
   },
   "outputs": [],
   "source": [
    "df_m2 = df[df['5_PrixMoyen_M2'].isna()==False]\n",
    "# df_m2[sel_col]"
   ]
  },
  {
   "cell_type": "code",
   "execution_count": 49,
   "id": "da02045d-6f81-439d-81ab-005d89a08861",
   "metadata": {
    "execution": {
     "iopub.execute_input": "2024-01-24T13:02:57.459062Z",
     "iopub.status.busy": "2024-01-24T13:02:57.458018Z",
     "iopub.status.idle": "2024-01-24T13:02:57.473157Z",
     "shell.execute_reply": "2024-01-24T13:02:57.471162Z",
     "shell.execute_reply.started": "2024-01-24T13:02:57.459062Z"
    }
   },
   "outputs": [
    {
     "data": {
      "text/plain": [
       "Index(['3_Code région', '3_Nom de la région', '3_Code département',\n",
       "       '3_Code commune', '3_Nom de la commune', '3_Population municipale',\n",
       "       '3_Population comptée à part', '3_Population totale',\n",
       "       '3_Année recensement', '3_Année utilisation',\n",
       "       '3_Code INSEE (commune ou arrondissement)',\n",
       "       '3_Superficie de la commune', '3_Statut', '3_Code EPCI', '3_EPCI',\n",
       "       '3_Densité_hab_par_km2', '5_ID', '5_INSEE_COM', '5_INSEE_DEP',\n",
       "       '5_INSEE_REG', '5_CODE_EPCI', '5_NOM_COM_M', '5_POPULATION',\n",
       "       '5_Nb_Ventes', '5_PrixMoyen_M2', '5_nb_digits_code_INSEE',\n",
       "       '5_code_commune_n', '6_insee', '6_nom', '6_nb_voisins',\n",
       "       '6_insee_voisins', '6_noms_voisins', '6_cap_voisins', '6_type',\n",
       "       '4_Code INSEE', '4_Code Postal', '4_Commune', '4_Département',\n",
       "       '4_Région', '4_Statut', '4_Altitude Moyenne', '4_Superficie',\n",
       "       '4_Population', '4_geo_point_2d', '4_geo_shape', '4_ID Geofla',\n",
       "       '4_Code Commune', '4_Code Canton', '4_Code Arrondissement',\n",
       "       '4_Code Département', '4_Code Région', '4_lat', '4_lon',\n",
       "       '4_Densité_hab_par_km2'],\n",
       "      dtype='object')"
      ]
     },
     "execution_count": 49,
     "metadata": {},
     "output_type": "execute_result"
    }
   ],
   "source": [
    "df_m2.columns"
   ]
  },
  {
   "cell_type": "code",
   "execution_count": 50,
   "id": "76a16cd8-ef41-4ff2-8f83-298753aba84a",
   "metadata": {
    "execution": {
     "iopub.execute_input": "2024-01-24T13:02:57.474688Z",
     "iopub.status.busy": "2024-01-24T13:02:57.474688Z",
     "iopub.status.idle": "2024-01-24T13:02:57.753875Z",
     "shell.execute_reply": "2024-01-24T13:02:57.753875Z",
     "shell.execute_reply.started": "2024-01-24T13:02:57.474688Z"
    }
   },
   "outputs": [],
   "source": [
    "from sklearn.model_selection import KFold\n",
    "nb_kfold = 5\n",
    "rdm_state = 97\n",
    "kf = KFold(n_splits=nb_kfold,shuffle=True, random_state = rdm_state)"
   ]
  },
  {
   "cell_type": "markdown",
   "id": "42cd0c6b-0397-4713-a98d-b8c61af0861a",
   "metadata": {
    "execution": {
     "iopub.execute_input": "2024-01-16T12:32:06.719435Z",
     "iopub.status.busy": "2024-01-16T12:32:06.719435Z",
     "iopub.status.idle": "2024-01-16T12:32:06.732932Z",
     "shell.execute_reply": "2024-01-16T12:32:06.732305Z",
     "shell.execute_reply.started": "2024-01-16T12:32:06.719435Z"
    }
   },
   "source": [
    "### A-Par moyenne et B-médiane des communes avoisinantes"
   ]
  },
  {
   "cell_type": "code",
   "execution_count": 51,
   "id": "aea791c2-1500-4cad-83b2-3fd3c8c5f5fa",
   "metadata": {
    "execution": {
     "iopub.execute_input": "2024-01-24T13:02:57.753875Z",
     "iopub.status.busy": "2024-01-24T13:02:57.753875Z",
     "iopub.status.idle": "2024-01-24T13:02:57.767981Z",
     "shell.execute_reply": "2024-01-24T13:02:57.767981Z",
     "shell.execute_reply.started": "2024-01-24T13:02:57.753875Z"
    },
    "tags": []
   },
   "outputs": [],
   "source": [
    "# On initialise les nouvelles variables\n",
    "df['A_Prix_consolidé_mean'] = np.nan\n",
    "df['A_Prix_estimé_mean'] = np.nan\n",
    "df['B_Prix_consolidé_median'] = np.nan\n",
    "df['B_Prix_estimé_median'] = np.nan\n",
    "df['5_PrixMoyen_M2'] = df['5_PrixMoyen_M2'].astype(float)"
   ]
  },
  {
   "cell_type": "code",
   "execution_count": 52,
   "id": "a64970ef-8ec5-4d5f-ba56-b4ef1686c7ad",
   "metadata": {
    "execution": {
     "iopub.execute_input": "2024-01-24T13:02:57.767981Z",
     "iopub.status.busy": "2024-01-24T13:02:57.767981Z",
     "iopub.status.idle": "2024-01-24T13:02:57.829461Z",
     "shell.execute_reply": "2024-01-24T13:02:57.828336Z",
     "shell.execute_reply.started": "2024-01-24T13:02:57.767981Z"
    }
   },
   "outputs": [],
   "source": [
    "# On crée un dictionnaire pour aller plus vite dans la recherche des communes voisines \n",
    "voisins_dict = df_commune_adj.set_index('6_insee')['6_insee_voisins'].to_dict()\n",
    "df['A_Prix_consolidé_mean'] = df['5_PrixMoyen_M2']\n",
    "df['B_Prix_consolidé_median'] = df['5_PrixMoyen_M2']"
   ]
  },
  {
   "cell_type": "code",
   "execution_count": 53,
   "id": "58ed3f9b-e77e-42cf-b6b9-100e9f26d744",
   "metadata": {
    "execution": {
     "iopub.execute_input": "2024-01-24T13:02:57.830359Z",
     "iopub.status.busy": "2024-01-24T13:02:57.830359Z",
     "iopub.status.idle": "2024-01-24T13:02:57.843586Z",
     "shell.execute_reply": "2024-01-24T13:02:57.843586Z",
     "shell.execute_reply.started": "2024-01-24T13:02:57.830359Z"
    },
    "tags": []
   },
   "outputs": [],
   "source": [
    "def estim_prix(code, vois, prix_mean, prix_median):\n",
    "    try:\n",
    "        # voisins = df_commune_adj.loc[df_commune_adj['insee']==code,'insee_voisins'].values[0].split('|')\n",
    "        voisins = vois[str(code)].split('|')\n",
    "        # print(voisins)\n",
    "        prix_voisins_mean = list()\n",
    "        prix_voisins_median = list()\n",
    "        for v in voisins:\n",
    "            try:\n",
    "                # p = df.loc[df['Code INSEE (commune ou arrondissement)']==v,'Prix_consolidé'].values[0]\n",
    "                p1 = prix_mean[str(v)]\n",
    "                p2 = prix_median[str(v)]\n",
    "            except:\n",
    "                p1, p2 = None, None\n",
    "            # nb = df.loc[df['Code INSEE (commune ou arrondissement)']==v,'Nb_Ventes'].values[0]\n",
    "            prix_voisins_mean.append(float(p1))\n",
    "            prix_voisins_median.append(float(p2))\n",
    "        # print(code, voisins,prix_voisins)\n",
    "        mean = np.nanmean(prix_voisins_mean)\n",
    "        median = np.nanmedian(prix_voisins_median)\n",
    "    except:\n",
    "        mean = np.nan\n",
    "        median = np.nan\n",
    "    # print(code, mean, median)\n",
    "    # print('-------')\n",
    "    return pd.Series({'A_Prix_estimé_mean': mean, 'B_Prix_estimé_median': median})"
   ]
  },
  {
   "cell_type": "code",
   "execution_count": 54,
   "id": "36f6b2c7-6174-4d16-9cec-669e307fd4c2",
   "metadata": {
    "execution": {
     "iopub.execute_input": "2024-01-24T13:02:57.845550Z",
     "iopub.status.busy": "2024-01-24T13:02:57.845550Z",
     "iopub.status.idle": "2024-01-24T13:03:59.255708Z",
     "shell.execute_reply": "2024-01-24T13:03:59.254701Z",
     "shell.execute_reply.started": "2024-01-24T13:02:57.845550Z"
    },
    "scrolled": true,
    "tags": []
   },
   "outputs": [
    {
     "name": "stdout",
     "output_type": "stream",
     "text": [
      "iteration: 0 nbre de manquants: 9928\n"
     ]
    },
    {
     "name": "stderr",
     "output_type": "stream",
     "text": [
      "C:\\Users\\nimod\\AppData\\Local\\Temp\\ipykernel_18212\\3912908387.py:19: RuntimeWarning: Mean of empty slice\n",
      "  mean = np.nanmean(prix_voisins_mean)\n",
      "C:\\Users\\nimod\\AppData\\Local\\Temp\\ipykernel_18212\\3912908387.py:20: RuntimeWarning: All-NaN slice encountered\n",
      "  median = np.nanmedian(prix_voisins_median)\n"
     ]
    },
    {
     "name": "stdout",
     "output_type": "stream",
     "text": [
      "iteration: 1 nbre de manquants: 4075\n"
     ]
    },
    {
     "name": "stderr",
     "output_type": "stream",
     "text": [
      "C:\\Users\\nimod\\AppData\\Local\\Temp\\ipykernel_18212\\3912908387.py:19: RuntimeWarning: Mean of empty slice\n",
      "  mean = np.nanmean(prix_voisins_mean)\n",
      "C:\\Users\\nimod\\AppData\\Local\\Temp\\ipykernel_18212\\3912908387.py:20: RuntimeWarning: All-NaN slice encountered\n",
      "  median = np.nanmedian(prix_voisins_median)\n"
     ]
    },
    {
     "name": "stdout",
     "output_type": "stream",
     "text": [
      "iteration: 2 nbre de manquants: 3495\n"
     ]
    },
    {
     "name": "stderr",
     "output_type": "stream",
     "text": [
      "C:\\Users\\nimod\\AppData\\Local\\Temp\\ipykernel_18212\\3912908387.py:19: RuntimeWarning: Mean of empty slice\n",
      "  mean = np.nanmean(prix_voisins_mean)\n",
      "C:\\Users\\nimod\\AppData\\Local\\Temp\\ipykernel_18212\\3912908387.py:20: RuntimeWarning: All-NaN slice encountered\n",
      "  median = np.nanmedian(prix_voisins_median)\n"
     ]
    },
    {
     "name": "stdout",
     "output_type": "stream",
     "text": [
      "iteration: 3 nbre de manquants: 3238\n"
     ]
    },
    {
     "name": "stderr",
     "output_type": "stream",
     "text": [
      "C:\\Users\\nimod\\AppData\\Local\\Temp\\ipykernel_18212\\3912908387.py:19: RuntimeWarning: Mean of empty slice\n",
      "  mean = np.nanmean(prix_voisins_mean)\n",
      "C:\\Users\\nimod\\AppData\\Local\\Temp\\ipykernel_18212\\3912908387.py:20: RuntimeWarning: All-NaN slice encountered\n",
      "  median = np.nanmedian(prix_voisins_median)\n"
     ]
    },
    {
     "name": "stdout",
     "output_type": "stream",
     "text": [
      "iteration: 4 nbre de manquants: 3047\n"
     ]
    },
    {
     "name": "stderr",
     "output_type": "stream",
     "text": [
      "C:\\Users\\nimod\\AppData\\Local\\Temp\\ipykernel_18212\\3912908387.py:19: RuntimeWarning: Mean of empty slice\n",
      "  mean = np.nanmean(prix_voisins_mean)\n",
      "C:\\Users\\nimod\\AppData\\Local\\Temp\\ipykernel_18212\\3912908387.py:20: RuntimeWarning: All-NaN slice encountered\n",
      "  median = np.nanmedian(prix_voisins_median)\n"
     ]
    },
    {
     "name": "stdout",
     "output_type": "stream",
     "text": [
      "iteration: 5 nbre de manquants: 2868\n",
      "CPU times: total: 45.9 s\n",
      "Wall time: 1min 1s\n"
     ]
    }
   ],
   "source": [
    "%%time\n",
    "n_iterations = 5\n",
    "i=0\n",
    "print('iteration:',i,'nbre de manquants:', sum(pd.isna(df['A_Prix_consolidé_mean'])))\n",
    "while i<n_iterations:\n",
    "    Prix_consolidé_dict_mean = df.set_index('3_Code INSEE (commune ou arrondissement)')['A_Prix_consolidé_mean'].to_dict()\n",
    "    Prix_consolidé_dict_median = df.set_index('3_Code INSEE (commune ou arrondissement)')['B_Prix_consolidé_median'].to_dict()\n",
    "    df[['A_Prix_estimé_mean', 'B_Prix_estimé_median']] = df.apply(lambda x: estim_prix(x['3_Code INSEE (commune ou arrondissement)'], \n",
    "                                                                                      voisins_dict, Prix_consolidé_dict_mean, \n",
    "                                                                                       Prix_consolidé_dict_median ),axis=1)\n",
    "    df['A_Prix_consolidé_mean'] = df['A_Prix_estimé_mean']\n",
    "    df['B_Prix_consolidé_median'] = df['B_Prix_estimé_median']\n",
    "    df.loc[pd.notna(df['5_PrixMoyen_M2']),'A_Prix_consolidé_mean'] = df.loc[pd.notna(df['5_PrixMoyen_M2']), '5_PrixMoyen_M2'] \n",
    "    df.loc[pd.notna(df['5_PrixMoyen_M2']),'B_Prix_consolidé_median'] = df.loc[pd.notna(df['5_PrixMoyen_M2']), '5_PrixMoyen_M2'] \n",
    "    nb_manquants = sum(pd.isna(df['A_Prix_consolidé_mean']))\n",
    "    i+=1\n",
    "    print('iteration:',i,'nbre de manquants:',nb_manquants)"
   ]
  },
  {
   "cell_type": "code",
   "execution_count": 55,
   "id": "aaa7283e-b032-4486-bc36-556a4470c2ba",
   "metadata": {
    "execution": {
     "iopub.execute_input": "2024-01-24T13:03:59.277178Z",
     "iopub.status.busy": "2024-01-24T13:03:59.277178Z",
     "iopub.status.idle": "2024-01-24T13:03:59.291512Z",
     "shell.execute_reply": "2024-01-24T13:03:59.290530Z",
     "shell.execute_reply.started": "2024-01-24T13:03:59.277178Z"
    },
    "scrolled": true
   },
   "outputs": [
    {
     "data": {
      "text/plain": [
       "A_Prix_estimé_mean      2167.5\n",
       "B_Prix_estimé_median    2080.5\n",
       "dtype: float64"
      ]
     },
     "execution_count": 55,
     "metadata": {},
     "output_type": "execute_result"
    }
   ],
   "source": [
    "estim_prix(df.loc[0,'3_Code INSEE (commune ou arrondissement)'], voisins_dict, Prix_consolidé_dict_mean, Prix_consolidé_dict_median)"
   ]
  },
  {
   "cell_type": "code",
   "execution_count": null,
   "id": "7142c6e9-aaee-449d-8549-b97d3b2e301e",
   "metadata": {
    "scrolled": true
   },
   "outputs": [],
   "source": [
    "estim_prix(df.loc[53,'3_Code INSEE (commune ou arrondissement)'], voisins_dict, Prix_consolidé_dict_mean, Prix_consolidé_dict_median)"
   ]
  },
  {
   "cell_type": "code",
   "execution_count": null,
   "id": "33102f1f-fa73-4d99-9311-5b86c8038123",
   "metadata": {
    "scrolled": true
   },
   "outputs": [],
   "source": [
    "estim_prix(df.loc[36745,'3_Code INSEE (commune ou arrondissement)'], voisins_dict, Prix_consolidé_dict_mean, Prix_consolidé_dict_median)"
   ]
  },
  {
   "cell_type": "code",
   "execution_count": null,
   "id": "4bc649d7-a6b7-409b-a923-077b64fb6cbf",
   "metadata": {
    "tags": []
   },
   "outputs": [],
   "source": [
    "df.loc[:20, sel_col]"
   ]
  },
  {
   "cell_type": "code",
   "execution_count": null,
   "id": "33f8a052-b49d-49d9-8d4c-1542ed0ab0c3",
   "metadata": {
    "tags": []
   },
   "outputs": [],
   "source": [
    "df_prix_na = df[df['A_Prix_consolidé_mean'].isna()]"
   ]
  },
  {
   "cell_type": "code",
   "execution_count": null,
   "id": "8e4f29d7-61e5-4317-8188-d82fb5a60a05",
   "metadata": {
    "tags": []
   },
   "outputs": [],
   "source": [
    "df_prix_na.shape"
   ]
  },
  {
   "cell_type": "code",
   "execution_count": null,
   "id": "9fb2c700-bf1a-4a6f-bc62-676afc9161eb",
   "metadata": {
    "scrolled": true,
    "tags": []
   },
   "outputs": [],
   "source": [
    "print(len(df_prix_na.loc[pd.isna(df_prix_na['6_insee_voisins']),sel_col]))\n",
    "df_prix_na.loc[pd.isna(df_prix_na['6_insee_voisins']),sel_col]"
   ]
  },
  {
   "cell_type": "code",
   "execution_count": null,
   "id": "501789ff-1fca-436c-8931-0a355116d574",
   "metadata": {
    "scrolled": true,
    "tags": []
   },
   "outputs": [],
   "source": [
    "print(len(df_prix_na.loc[~pd.isna(df_prix_na['6_insee_voisins']),sel_col]))\n",
    "df_prix_na.loc[~pd.isna(df_prix_na['6_insee_voisins']),sel_col]"
   ]
  },
  {
   "cell_type": "code",
   "execution_count": null,
   "id": "59d47e03-5a65-48a2-8343-6dc2671746c4",
   "metadata": {},
   "outputs": [],
   "source": [
    "df_prix_na.loc[~pd.isna(df_prix_na['6_insee_voisins']),'3_Code département'].unique()"
   ]
  },
  {
   "cell_type": "markdown",
   "id": "0bcf26b8-87a9-4574-96ee-d9a82ed08873",
   "metadata": {},
   "source": [
    "2 cas pour ceux qui n'ont pas de prix consolidé\n",
    "- soit ils n'ont pas de voisins identifiés\n",
    "- soit ils ont des voisins mais n'ont pas de prix, en DOM TOM, départements 97X"
   ]
  },
  {
   "cell_type": "code",
   "execution_count": null,
   "id": "6bc05b72-a2d5-44eb-8bcb-cf533b6e0621",
   "metadata": {
    "tags": []
   },
   "outputs": [],
   "source": [
    "# Ceux qui n'ont pas de prix estimé parce les voisins n'en n'ont pas\n",
    "df_na = df[df['A_Prix_estimé_mean'].isna() & df['6_insee_voisins'].notna()]\n",
    "len(df_na)\n",
    "df_na[:3]"
   ]
  },
  {
   "cell_type": "code",
   "execution_count": null,
   "id": "87f90edf-16ce-481d-bba2-fa5301f23253",
   "metadata": {},
   "outputs": [],
   "source": [
    "print(len(df[df['5_PrixMoyen_M2'].isna()]))\n",
    "print(len(df[df['A_Prix_consolidé_mean'].isna()]))\n",
    "print(len(df[df['B_Prix_consolidé_median'].isna()]))"
   ]
  },
  {
   "cell_type": "code",
   "execution_count": null,
   "id": "b103b370-ba9d-4882-a3c1-2c5da0059d85",
   "metadata": {},
   "outputs": [],
   "source": [
    "df[df['A_Prix_estimé_mean'].isna() & df['A_Prix_consolidé_mean'].notna()].head()"
   ]
  },
  {
   "cell_type": "code",
   "execution_count": null,
   "id": "f7d9f0e3-388a-43bb-a11b-bfb68ba4c624",
   "metadata": {},
   "outputs": [],
   "source": [
    "for i,x in df.iterrows():\n",
    "    if pd.notna(x['5_PrixMoyen_M2']) & pd.notna(x['A_Prix_estimé_mean']):\n",
    "        df.loc[i,'A_delta_prix_mean']=x['5_PrixMoyen_M2']-x['A_Prix_estimé_mean']\n",
    "        df.loc[i,'B_delta_prix_median']=x['5_PrixMoyen_M2']-x['B_Prix_estimé_median']\n",
    "    else:\n",
    "        df.loc[i,'A_delta_prix_mean']= np.nan\n",
    "        df.loc[i,'B_delta_prix_median']= np.nan"
   ]
  },
  {
   "cell_type": "code",
   "execution_count": null,
   "id": "0864e103-f6be-4c1c-80ea-1f4d904bef0b",
   "metadata": {},
   "outputs": [],
   "source": [
    "# df.to_csv(r'C:\\Users\\nimod\\OneDrive - Université de Technologie de Troyes\\Fil_rouge\\Tables_traitees\\Infos_communes_avec_prix_estimé.csv',sep=';',index=False)"
   ]
  },
  {
   "cell_type": "code",
   "execution_count": null,
   "id": "436c5f61-305b-4284-b392-604954e816ba",
   "metadata": {},
   "outputs": [],
   "source": [
    "sns.histplot(data=df, x='A_delta_prix_mean', bins=50, kde=False, color='blue')\n",
    "sns.histplot(data=df, x='B_delta_prix_median', bins=50, kde=False, color='orange')"
   ]
  },
  {
   "cell_type": "code",
   "execution_count": null,
   "id": "f47c730a-d50f-4cd6-a18e-f79422fe78e4",
   "metadata": {},
   "outputs": [],
   "source": [
    "df[['A_delta_prix_mean','B_delta_prix_median']].describe()"
   ]
  },
  {
   "cell_type": "code",
   "execution_count": null,
   "id": "2d1512e3-62a9-4bb3-86fa-24b7da54c5ed",
   "metadata": {
    "tags": []
   },
   "outputs": [],
   "source": [
    "sns.boxplot(data=df[['A_delta_prix_mean','B_delta_prix_median']])"
   ]
  },
  {
   "cell_type": "code",
   "execution_count": null,
   "id": "1dc96611-2e45-40ba-af9c-a13828990ba0",
   "metadata": {
    "tags": []
   },
   "outputs": [],
   "source": [
    "df.columns"
   ]
  },
  {
   "cell_type": "code",
   "execution_count": null,
   "id": "a4f92225-b0ce-4450-bd58-46c0750f24ad",
   "metadata": {
    "tags": []
   },
   "outputs": [],
   "source": [
    "df_m2.shape"
   ]
  },
  {
   "cell_type": "code",
   "execution_count": null,
   "id": "e0e2d164-e7a5-4b6b-ad9f-4701b2f7d653",
   "metadata": {
    "tags": []
   },
   "outputs": [],
   "source": [
    "df_m2['A_Prix_estimé_mean'] = df['A_Prix_estimé_mean'][df['5_PrixMoyen_M2'].isna() == False]\n",
    "df_m2['B_Prix_estimé_median'] = df['B_Prix_estimé_median'][df['5_PrixMoyen_M2'].isna() == False]"
   ]
  },
  {
   "cell_type": "code",
   "execution_count": null,
   "id": "3db3512d-7538-4e39-9f3b-99e739ab4e9d",
   "metadata": {
    "tags": []
   },
   "outputs": [],
   "source": [
    "df_m2.shape"
   ]
  },
  {
   "cell_type": "markdown",
   "id": "6e5c4f24-7706-4f37-b994-9e34daa5a5ae",
   "metadata": {
    "execution": {
     "iopub.execute_input": "2024-01-16T12:38:33.219410Z",
     "iopub.status.busy": "2024-01-16T12:38:33.219410Z",
     "iopub.status.idle": "2024-01-16T12:38:33.226486Z",
     "shell.execute_reply": "2024-01-16T12:38:33.226486Z",
     "shell.execute_reply.started": "2024-01-16T12:38:33.219410Z"
    }
   },
   "source": [
    "### C-Par moyenne et C1-mediane de toute la variable PAUL"
   ]
  },
  {
   "cell_type": "code",
   "execution_count": null,
   "id": "f6f2ae3b-1263-4337-85c0-bbf208293a97",
   "metadata": {
    "tags": []
   },
   "outputs": [],
   "source": [
    "df_m2['C_Prix_estime_mean'] = np.round(np.mean(df_m2['5_PrixMoyen_M2']))\n",
    "df_m2.shape"
   ]
  },
  {
   "cell_type": "markdown",
   "id": "09519ce0-188a-4b36-96ef-8a3ace424230",
   "metadata": {},
   "source": [
    "### D-Par KNN OUMAR"
   ]
  },
  {
   "cell_type": "code",
   "execution_count": null,
   "id": "3f9607e0-adb1-4ad4-944f-925c450f2227",
   "metadata": {},
   "outputs": [],
   "source": [
    "import pandas as pd\n",
    "from sklearn.impute import KNNImputer\n",
    "from sklearn.preprocessing import MinMaxScaler\n",
    "from sklearn.metrics import mean_squared_error\n",
    "from math import sqrt\n",
    "\n",
    "# Sélection des caractéristiques\n",
    "features = ['3_Population municipale','5_PrixMoyen_M2', '3_Densité_hab_par_km2', '3_Superficie de la commune', '4_Superficie','4_Altitude Moyenne','4_lat','4_lon']\n",
    "\n",
    "# Création d'un DataFrame avec seulement les caractéristiques sélectionnées\n",
    "data_subset = df[features]\n",
    "\n",
    "# Remplacer les valeurs manquantes dans \"5_PrixMoyen_M2\" par NaN\n",
    "data_subset['5_PrixMoyen_M2'] = data_subset['5_PrixMoyen_M2'].replace(0, np.nan)  # Assurez-vous de choisir la valeur qui représente une valeur manquante\n",
    "data_subset['5_PrixMoyen_M2'] = pd.to_numeric(data_subset['5_PrixMoyen_M2'], errors='coerce')\n",
    "\n",
    "# Imputer les valeurs manquantes avec KNNImputer\n",
    "imputer = KNNImputer(n_neighbors=5)\n",
    "data_imputed = imputer.fit_transform(data_subset)\n",
    "\n",
    "# Normalisation des données\n",
    "scaler = MinMaxScaler()\n",
    "data_normalized = scaler.fit_transform(data_imputed)\n",
    "\n",
    "# Créer un DataFrame avec les données normalisées et le nom des colonnes\n",
    "columns = data_subset.columns\n",
    "data_normalized_df = pd.DataFrame(data_normalized, columns=columns)\n",
    "\n",
    "# Ajouter une colonne pour stocker les valeurs prédites par le KNN\n",
    "data_normalized_df['0_KNN_predicted'] = imputer.transform(data_subset)[:, 1]\n",
    "\n",
    "# Afficher toutes les données\n",
    "print(data_normalized_df)\n"
   ]
  },
  {
   "cell_type": "code",
   "execution_count": null,
   "id": "48b8e5d2",
   "metadata": {},
   "outputs": [],
   "source": [
    "df['5_PrixMoyen_M2']"
   ]
  },
  {
   "cell_type": "code",
   "execution_count": null,
   "id": "6b97659f",
   "metadata": {},
   "outputs": [],
   "source": [
    "data_normalized_df['0_KNN_predicted']"
   ]
  },
  {
   "cell_type": "code",
   "execution_count": null,
   "id": "9c1b8c0c",
   "metadata": {},
   "outputs": [],
   "source": [
    "# Vérifier les valeurs manquantes dans la colonne d'origine\n",
    "#missing_values_before = df['5_PrixMoyen_M2'].isnull().sum()\n",
    "#print(f\"Nombre de valeurs manquantes dans '5_PrixMoyen_M2' avant l'imputation : {missing_values_before}\")\n",
    "\n",
    "# Imputer les valeurs manquantes avec KNNImputer dans le DataFrame d'origine\n",
    "#df['5_PrixMoyen_M2'] = imputer.transform(df[features])[:, 1]\n",
    "\n",
    "# Vérifier à nouveau les valeurs manquantes après l'imputation\n",
    "#missing_values_after = df['5_PrixMoyen_M2'].isnull().sum()\n",
    "#print(f\"Nombre de valeurs manquantes dans '5_PrixMoyen_M2' après l'imputation : {missing_values_after}\")"
   ]
  },
  {
   "cell_type": "code",
   "execution_count": null,
   "id": "d9cbbe76",
   "metadata": {},
   "outputs": [],
   "source": [
    "import matplotlib.pyplot as plt\n",
    "\n",
    "# Extraire les valeurs réelles et prédites\n",
    "actual_values = data_subset['5_PrixMoyen_M2'].values\n",
    "predicted_values = data_normalized_df['5_PrixMoyen_M2_predicted'].values\n",
    "\n",
    "# Créer un graphique de dispersion\n",
    "plt.figure(figsize=(10, 6))\n",
    "plt.scatter(actual_values, predicted_values, alpha=0.5)\n",
    "plt.plot([min(actual_values), max(actual_values)], [min(actual_values), max(actual_values)], color='red', linestyle='--', linewidth=2)\n",
    "plt.title('Valeurs Réelles vs Valeurs Prédites')\n",
    "plt.xlabel('Valeurs Réelles')\n",
    "plt.ylabel('Valeurs Prédites')\n",
    "plt.show()\n"
   ]
  },
  {
   "cell_type": "code",
   "execution_count": null,
   "id": "8a0c6262",
   "metadata": {},
   "outputs": [],
   "source": [
    "import matplotlib.pyplot as plt\n",
    "\n",
    "# Extraire les valeurs réelles et prédites\n",
    "actual_values = data_subset['5_PrixMoyen_M2'].values\n",
    "predicted_values = data_normalized_df['5_PrixMoyen_M2_predicted'].values\n",
    "\n",
    "# Créer un histogramme\n",
    "plt.figure(figsize=(10, 6))\n",
    "plt.hist([actual_values, predicted_values], bins=30, label=['Réel', 'Prédit'], alpha=0.7)\n",
    "plt.legend()\n",
    "plt.title('Histogramme des Valeurs Réelles et Prédites')\n",
    "plt.xlabel('Valeurs')\n",
    "plt.ylabel('Fréquence')\n",
    "plt.show()\n"
   ]
  },
  {
   "cell_type": "code",
   "execution_count": null,
   "id": "f3bd12aa",
   "metadata": {},
   "outputs": [],
   "source": [
    "import seaborn as sns\n",
    "import matplotlib.pyplot as plt\n",
    "\n",
    "# Extraire les valeurs réelles et prédites\n",
    "actual_values = data_subset['5_PrixMoyen_M2'].values\n",
    "predicted_values = data_normalized_df['5_PrixMoyen_M2_predicted'].values\n",
    "\n",
    "# Créer un DataFrame pour Seaborn\n",
    "data_for_seaborn = pd.DataFrame({'Réel': actual_values, 'Prédit': predicted_values})\n",
    "\n",
    "# Créer un histogramme avec Seaborn\n",
    "plt.figure(figsize=(10, 6))\n",
    "sns.histplot(data=data_for_seaborn, bins=30, kde=True)\n",
    "plt.title('Histogramme des Valeurs Réelles et Prédites avec Seaborn')\n",
    "plt.xlabel('Valeurs')\n",
    "plt.ylabel('Fréquence')\n",
    "plt.show()\n"
   ]
  },
  {
   "cell_type": "code",
   "execution_count": null,
   "id": "3236a4e5",
   "metadata": {},
   "outputs": [],
   "source": [
    "Delta= y_test - Y_pred"
   ]
  },
  {
   "cell_type": "code",
   "execution_count": null,
   "id": "94809a1d",
   "metadata": {},
   "outputs": [],
   "source": [
    "df.columns"
   ]
  },
  {
   "cell_type": "markdown",
   "id": "db2a42bb-31b2-4175-895c-47a9854eb54e",
   "metadata": {
    "execution": {
     "iopub.execute_input": "2024-01-16T12:35:01.416140Z",
     "iopub.status.busy": "2024-01-16T12:35:01.415142Z",
     "iopub.status.idle": "2024-01-16T12:35:01.427777Z",
     "shell.execute_reply": "2024-01-16T12:35:01.427236Z",
     "shell.execute_reply.started": "2024-01-16T12:35:01.416140Z"
    }
   },
   "source": [
    "### E-Par KNeighborsRegressor OUMAR"
   ]
  },
  {
   "cell_type": "code",
   "execution_count": null,
   "id": "c957a5ae",
   "metadata": {},
   "outputs": [],
   "source": [
    "from sklearn.neighbors import KNeighborsRegressor \n",
    "\n",
    "data1=df[['3_Population municipale', '3_Densité_hab_par_km2', '3_Superficie de la commune', '4_Superficie','4_Altitude Moyenne','4_lat','4_lon','5_PrixMoyen_M2']]\n",
    "data1=data1.dropna()\n",
    "data2=data1.sample(n=data1.shape[0],random_state=1)\n",
    "\n",
    "\n",
    "data_train= data2[:16819]\n",
    "data_test= data2[16820:data1.shape[0]]\n",
    "\n",
    "X_train = data_train[['3_Population municipale', '3_Densité_hab_par_km2', '3_Superficie de la commune', '4_Superficie','4_Altitude Moyenne','4_lat','4_lon']]\n",
    "y_train=data_train[['5_PrixMoyen_M2']]\n",
    "X_test = data_test[['3_Population municipale', '3_Densité_hab_par_km2', '3_Superficie de la commune', '4_Superficie','4_Altitude Moyenne','4_lat','4_lon']]\n",
    "y_test =data_test[['5_PrixMoyen_M2']]\n",
    "neigh = KNeighborsRegressor(n_neighbors=50)\n",
    "\n",
    "neigh.fit(X_train, y_train)\n"
   ]
  },
  {
   "cell_type": "code",
   "execution_count": null,
   "id": "d31a9a28",
   "metadata": {},
   "outputs": [],
   "source": [
    "neigh.score(X_test,y_test)"
   ]
  },
  {
   "cell_type": "code",
   "execution_count": null,
   "id": "20f6885a",
   "metadata": {},
   "outputs": [],
   "source": [
    "Y_pred=neigh.predict(X_test)\n",
    "Delta= y_test - Y_pred\n"
   ]
  },
  {
   "cell_type": "code",
   "execution_count": null,
   "id": "8857fff0",
   "metadata": {},
   "outputs": [],
   "source": [
    "Delta.describe()"
   ]
  },
  {
   "cell_type": "markdown",
   "id": "794a8605-27cd-4cc1-8e3e-2728ca4db4bf",
   "metadata": {
    "execution": {
     "iopub.execute_input": "2024-01-16T12:35:35.158453Z",
     "iopub.status.busy": "2024-01-16T12:35:35.155661Z",
     "iopub.status.idle": "2024-01-16T12:35:35.165381Z",
     "shell.execute_reply": "2024-01-16T12:35:35.164377Z",
     "shell.execute_reply.started": "2024-01-16T12:35:35.158453Z"
    }
   },
   "source": [
    "### F-Par RandomForestRegressor PAUL"
   ]
  },
  {
   "cell_type": "code",
   "execution_count": null,
   "id": "e079e756-cc1a-41c6-ad98-abd069390cc9",
   "metadata": {
    "tags": []
   },
   "outputs": [],
   "source": [
    "pd.set_option('display.max_columns', None)\n",
    "df_m2.head()\n",
    "# pd.reset_option('max_columns')"
   ]
  },
  {
   "cell_type": "code",
   "execution_count": null,
   "id": "39bb6264-ef2a-4149-8e5a-931bd2c9f144",
   "metadata": {
    "tags": []
   },
   "outputs": [],
   "source": [
    "df_verif_na = df_m2.drop(['6_type', 'A_Prix_estimé_mean', 'B_Prix_estimé_median', 'C_Prix_estime_mean', '5_CODE_EPCI', \n",
    "                         '6_insee', '6_nom', '6_nb_voisins', '6_insee_voisins', '6_noms_voisins', '6_cap_voisins'], axis=1)"
   ]
  },
  {
   "cell_type": "code",
   "execution_count": null,
   "id": "2f76dda6-9c91-407e-8209-ff4350519857",
   "metadata": {
    "tags": []
   },
   "outputs": [],
   "source": [
    "df_verif_na[df_verif_na.isna().any(axis=1)]"
   ]
  },
  {
   "cell_type": "code",
   "execution_count": null,
   "id": "4a67e653-9aae-4d52-a53a-3655425d87c7",
   "metadata": {
    "tags": []
   },
   "outputs": [],
   "source": [
    "df_m2.columns"
   ]
  },
  {
   "cell_type": "code",
   "execution_count": null,
   "id": "95ed99af-11cf-47e1-a090-500117a07818",
   "metadata": {
    "tags": []
   },
   "outputs": [],
   "source": [
    "X_rf.loc[:,'3_Code département'].astype(object)"
   ]
  },
  {
   "cell_type": "code",
   "execution_count": null,
   "id": "0725de62-5446-411e-b4f2-551ffd6d440f",
   "metadata": {
    "tags": []
   },
   "outputs": [],
   "source": [
    "26822*0.9\n"
   ]
  },
  {
   "cell_type": "code",
   "execution_count": null,
   "id": "0ed436ac-b8dc-49aa-9d0f-b82e70b5b3d5",
   "metadata": {
    "tags": []
   },
   "outputs": [],
   "source": [
    "from sklearn.ensemble import RandomForestRegressor \n",
    "from sklearn.pipeline import make_pipeline\n",
    "from sklearn.compose import make_column_selector\n",
    "from sklearn.compose import make_column_transformer\n",
    "from sklearn.impute import SimpleImputer\n",
    "from sklearn.pipeline import make_pipeline\n",
    "from sklearn.preprocessing import OrdinalEncoder\n",
    "        \n",
    "# X=df_m2[['3_Code région', '3_Code département', '3_Population municipale', '3_Population comptée à part', \n",
    "#              '3_Population totale', '3_Densité_hab_par_km2', '3_Superficie de la commune', '3_Statut', \n",
    "#              '4_Superficie','4_Altitude Moyenne','4_lat','4_lon','5_PrixMoyen_M2']]\n",
    "X_rf = df_m2[['3_Code région', '3_Code département', '3_Population municipale', '3_Population comptée à part', \n",
    "             '3_Population totale', '3_Densité_hab_par_km2', '3_Superficie de la commune', '3_Statut']]\n",
    "y_rf = df_m2[['5_PrixMoyen_M2']]\n",
    "\n",
    "X_rf_train = X_rf.loc[:24000,:]\n",
    "y_rf_train = y_rf.loc[:24000]\n",
    "X_rf_test = X_rf.loc[24001:,:]\n",
    "y_rf_test = y_rf.loc[24001:]\n",
    "\n",
    "# X_rf_train = X_rf.loc[:10000,:]\n",
    "# y_rf_train = y_rf.loc[:10000]\n",
    "# X_rf_test = X_rf.loc[24001:,:]\n",
    "# y_rf_test = y_rf.loc[24001:]\n",
    "\n",
    "cat = ['3_Code région', '3_Code département', '3_Statut']\n",
    "for c in cat:\n",
    "     X_rf.loc[:,c] = X_rf.loc[:,c].astype(object)\n",
    "\n",
    "cat_selector = make_column_selector(dtype_include=object)\n",
    "num_selector = make_column_selector(dtype_include=np.number)\n",
    "print(cat_selector(X_rf))\n",
    "print(num_selector(X_rf))"
   ]
  },
  {
   "cell_type": "code",
   "execution_count": null,
   "id": "d55a7b07-0123-41c8-867d-0c4faff1e9da",
   "metadata": {
    "tags": []
   },
   "outputs": [],
   "source": [
    "cat_tree_processor = OrdinalEncoder(\n",
    "    handle_unknown=\"use_encoded_value\",\n",
    "    unknown_value=-1,\n",
    "    encoded_missing_value=-2,\n",
    ")\n",
    "num_tree_processor = SimpleImputer(strategy=\"mean\", add_indicator=True)\n",
    "\n",
    "tree_preprocessor = make_column_transformer(\n",
    "    (num_tree_processor, num_selector), (cat_tree_processor, cat_selector)\n",
    ")\n",
    "tree_preprocessor"
   ]
  },
  {
   "cell_type": "code",
   "execution_count": null,
   "id": "b8853238-1ffe-41ba-a0c3-31bcb98d069b",
   "metadata": {
    "tags": []
   },
   "outputs": [],
   "source": [
    "rf_pipeline = make_pipeline(tree_preprocessor, RandomForestRegressor(random_state=0, n_jobs = -1))\n",
    "rf_pipeline"
   ]
  },
  {
   "cell_type": "code",
   "execution_count": null,
   "id": "e98d677c-2f3b-49e6-a969-15fcdfaf4e9d",
   "metadata": {
    "tags": []
   },
   "outputs": [],
   "source": [
    "from sklearn.model_selection import GridSearchCV\n",
    "from sklearn.model_selection import cross_val_score\n",
    "param_grid = {\n",
    "    # 'randomforestregressor__n_estimators': [100, 200, 300, 400],\n",
    "    'randomforestregressor__max_depth': [15, 30, 35],\n",
    "    'randomforestregressor__max_features': [2, 3, 4],\n",
    "    # 'randomforestregressor__min_samples_leaf': [2, 3, 4, 5],\n",
    "    'randomforestregressor__min_samples_split': [10, 12, 14]\n",
    "}\n",
    "\n",
    "grid_search = GridSearchCV(\n",
    "    rf_pipeline,\n",
    "    param_grid=param_grid,\n",
    "    scoring='r2',  # Choisissez la métrique appropriée\n",
    "    cv=kf\n",
    ")\n",
    "\n",
    "grid_search.fit(X_rf_train, y_rf_train.values.ravel())\n",
    "\n",
    "# Afficher les meilleurs paramètres\n",
    "print(\"Meilleurs paramètres:\", grid_search.best_params_)\n",
    "\n",
    "# Évaluer la performance du modèle sur les données de test\n",
    "test_score = cross_val_score(grid_search.best_estimator_, X_rf_test, y_rf_test.values.ravel(), cv=kf, scoring='r2')\n",
    "print(\"Performance sur les données de test:\", test_score.mean())"
   ]
  },
  {
   "cell_type": "code",
   "execution_count": null,
   "id": "46a2fcd6-ac36-409d-b891-cf8d95eec1a4",
   "metadata": {
    "tags": []
   },
   "outputs": [],
   "source": [
    "y_pred = grid_search.best_estimator_.predict(X_rf_test)\n",
    "print(grid_search.best_estimator_.score(X_rf_test, y_rf_test.values.ravel()))\n",
    "sns.histplot(data=y_pred-y_rf_test.values.ravel())"
   ]
  },
  {
   "cell_type": "code",
   "execution_count": null,
   "id": "8211e864-4e46-446f-aec4-b23e4184f786",
   "metadata": {
    "tags": []
   },
   "outputs": [],
   "source": [
    "import matplotlib.pyplot as plt\n",
    "import seaborn as sns\n",
    "%matplotlib inline\n",
    "\n",
    "depth = grid_search.cv_results_['param_randomforestregressor__max_depth'].data\n",
    "features = grid_search.cv_results_['param_randomforestregressor__max_features'].data\n",
    "split = grid_search.cv_results_['param_randomforestregressor__min_samples_split'].data\n",
    "results = grid_search.cv_results_['mean_test_score']\n",
    "sns.pointplot(x=depth, y=results)"
   ]
  },
  {
   "cell_type": "code",
   "execution_count": null,
   "id": "6071f104-4151-48f3-b057-2d003701a4f5",
   "metadata": {
    "tags": []
   },
   "outputs": [],
   "source": [
    "sns.pointplot(x=features, y=results)"
   ]
  },
  {
   "cell_type": "code",
   "execution_count": null,
   "id": "1a963d54-0599-48d8-8bce-ccf54dd61c16",
   "metadata": {
    "tags": []
   },
   "outputs": [],
   "source": [
    "sns.pointplot(x=split, y=results)"
   ]
  },
  {
   "cell_type": "code",
   "execution_count": null,
   "id": "3426656a-c045-4096-9bf6-c83ab532fe4f",
   "metadata": {
    "tags": []
   },
   "outputs": [],
   "source": [
    "grid_search.cv_results_['mean_test_score']"
   ]
  },
  {
   "cell_type": "code",
   "execution_count": null,
   "id": "150c95e0-4861-4eb8-a76e-5ba7eca939ff",
   "metadata": {
    "tags": []
   },
   "outputs": [],
   "source": [
    "rf_pipeline_test = make_pipeline(tree_preprocessor, RandomForestRegressor(max_depth=15, random_state=0, n_jobs = -1))\n",
    "rf_pipeline_test.fit(X_rf_train, y_rf_train.values.ravel())\n",
    "rf_pipeline_test.score(X_rf_test, y_rf_test.values.ravel())\n",
    "\n",
    "y_pred = rf_pipeline_test.predict(X_rf_test)\n",
    "\n",
    "sns.histplot(data=y_pred-y_rf_test.values.ravel())"
   ]
  },
  {
   "cell_type": "code",
   "execution_count": null,
   "id": "301b9db6",
   "metadata": {
    "tags": []
   },
   "outputs": [],
   "source": [
    "        \n",
    "l_profondeur = np.arange(5, 30, 5)\n",
    "rf_score = []\n",
    "\n",
    "for train, test in kf.split(X_rf):\n",
    "    # X_train = X[train,:]\n",
    "    # y_train = y[train]\n",
    "    # X_test = X[test,:]\n",
    "    # y_test = y[test]\n",
    "    X_train = X_rf.iloc[train,:]\n",
    "    y_train = y_rf.iloc[train]\n",
    "    X_test = X_rf.iloc[test,:]\n",
    "    y_test = y_rf.iloc[test]\n",
    "    \n",
    "    for prof in l_profondeur:\n",
    "        rf = make_pipeline(RandomForestRegressor(max_depth=prof, random_state=0, n_jobs = 10))\n",
    "        rf.fit(X_train, y_train)\n",
    "        rf_score.append(rf.score(X_test, y_test))\n",
    "\n",
    "res_rf_score = np.reshape(rf_score, [nb_kfold, l_profondeur.shape[0]])\n",
    "res_rf_score = np.mean(res_rf_score, axis = 0)\n",
    "indice_max = np.unravel_index(np.argmax(res_rf_score), res_rf_score.shape)\n",
    "print('Indices Best score :', indice_max)\n",
    "print('Best score :', np.max(res_rf_score))\n",
    "print('Profondeur best score :', l_profondeur[indice_max])\n",
    "# data2=data1.sample(n=data1.shape[0],random_state=1)\n",
    "\n",
    "\n",
    "# data_train= data2[:16819]\n",
    "# data_test= data2[16820:data1.shape[0]]\n",
    "\n",
    "# X_train = data_train[['3_Population municipale', '3_Densité_hab_par_km2', '3_Superficie de la commune', '4_Superficie','4_Altitude Moyenne','4_lat','4_lon']]\n",
    "# y_train=data_train[['5_PrixMoyen_M2']]\n",
    "# X_test = data_test[['3_Population municipale', '3_Densité_hab_par_km2', '3_Superficie de la commune', '4_Superficie','4_Altitude Moyenne','4_lat','4_lon']]\n",
    "# y_test =data_test[['5_PrixMoyen_M2']]\n",
    "# rf = RandomForestRegressor(max_depth=20, random_state=0)\n",
    "\n",
    "# rf.fit(X_train, y_train)\n"
   ]
  },
  {
   "cell_type": "code",
   "execution_count": null,
   "id": "8a223fc8",
   "metadata": {},
   "outputs": [],
   "source": [
    "rf.score(X_test,y_test)"
   ]
  },
  {
   "cell_type": "code",
   "execution_count": null,
   "id": "707e0730",
   "metadata": {},
   "outputs": [],
   "source": [
    "Y_pred_rf=rf.predict(X_test)\n",
    "Delta_rf= y_test['5_PrixMoyen_M2'] - Y_pred_rf\n",
    "Delta_rf.describe()"
   ]
  },
  {
   "cell_type": "code",
   "execution_count": null,
   "id": "21f85c3b",
   "metadata": {},
   "outputs": [],
   "source": [
    "Y_pred_rf.shape"
   ]
  },
  {
   "cell_type": "code",
   "execution_count": null,
   "id": "cc9defec",
   "metadata": {},
   "outputs": [],
   "source": [
    "Y_pred[0:]"
   ]
  },
  {
   "cell_type": "code",
   "execution_count": null,
   "id": "2376dddb",
   "metadata": {},
   "outputs": [],
   "source": [
    "y_test['5_PrixMoyen_M2']"
   ]
  },
  {
   "cell_type": "code",
   "execution_count": null,
   "id": "5ff901eb",
   "metadata": {},
   "outputs": [],
   "source": [
    "y_test.shape"
   ]
  },
  {
   "cell_type": "code",
   "execution_count": null,
   "id": "b8819a4b",
   "metadata": {},
   "outputs": [],
   "source": [
    "Y_pred=rf.predict(X_test)"
   ]
  },
  {
   "cell_type": "code",
   "execution_count": null,
   "id": "cb3d52b0",
   "metadata": {},
   "outputs": [],
   "source": [
    "\n",
    "y_test"
   ]
  },
  {
   "cell_type": "markdown",
   "id": "9bf81195-8302-4691-a9ed-8daf58b23c43",
   "metadata": {
    "execution": {
     "iopub.execute_input": "2024-01-16T12:39:55.003158Z",
     "iopub.status.busy": "2024-01-16T12:39:55.003158Z",
     "iopub.status.idle": "2024-01-16T12:39:55.018784Z",
     "shell.execute_reply": "2024-01-16T12:39:55.018784Z",
     "shell.execute_reply.started": "2024-01-16T12:39:55.003158Z"
    }
   },
   "source": [
    "### G-Par Bayesian Ridge NICOLAS"
   ]
  },
  {
   "cell_type": "code",
   "execution_count": 139,
   "id": "d8656e18-fe7f-4773-8072-67f826f2cffd",
   "metadata": {
    "execution": {
     "iopub.execute_input": "2024-01-24T13:46:14.227298Z",
     "iopub.status.busy": "2024-01-24T13:46:14.227298Z",
     "iopub.status.idle": "2024-01-24T13:46:14.568401Z",
     "shell.execute_reply": "2024-01-24T13:46:14.565886Z",
     "shell.execute_reply.started": "2024-01-24T13:46:14.227298Z"
    }
   },
   "outputs": [],
   "source": [
    "from sklearn.model_selection import train_test_split\n",
    "from sklearn.pipeline import Pipeline\n",
    "from sklearn.compose import ColumnTransformer\n",
    "from sklearn.preprocessing import OneHotEncoder, StandardScaler\n",
    "from sklearn.linear_model import LinearRegression, Lasso, LassoCV\n",
    "from sklearn.metrics import mean_squared_error, r2_score"
   ]
  },
  {
   "cell_type": "code",
   "execution_count": 133,
   "id": "51860a9c-3c7b-481c-a8a4-336ec64bb018",
   "metadata": {
    "execution": {
     "iopub.execute_input": "2024-01-24T13:43:15.143770Z",
     "iopub.status.busy": "2024-01-24T13:43:15.142770Z",
     "iopub.status.idle": "2024-01-24T13:43:15.166421Z",
     "shell.execute_reply": "2024-01-24T13:43:15.164495Z",
     "shell.execute_reply.started": "2024-01-24T13:43:15.143770Z"
    }
   },
   "outputs": [],
   "source": [
    "# Sélection des caractéristiques\n",
    "features = ['4_Département','3_Population municipale','5_PrixMoyen_M2', '3_Densité_hab_par_km2', '3_Superficie de la commune', '4_Altitude Moyenne','4_lat','4_lon']"
   ]
  },
  {
   "cell_type": "code",
   "execution_count": 193,
   "id": "2bc4768d-003d-46ed-b40b-3ffc9a3a8f39",
   "metadata": {
    "execution": {
     "iopub.execute_input": "2024-01-24T14:11:32.983144Z",
     "iopub.status.busy": "2024-01-24T14:11:32.982144Z",
     "iopub.status.idle": "2024-01-24T14:11:33.043150Z",
     "shell.execute_reply": "2024-01-24T14:11:33.041537Z",
     "shell.execute_reply.started": "2024-01-24T14:11:32.983144Z"
    }
   },
   "outputs": [
    {
     "data": {
      "text/html": [
       "<div>\n",
       "<style scoped>\n",
       "    .dataframe tbody tr th:only-of-type {\n",
       "        vertical-align: middle;\n",
       "    }\n",
       "\n",
       "    .dataframe tbody tr th {\n",
       "        vertical-align: top;\n",
       "    }\n",
       "\n",
       "    .dataframe thead th {\n",
       "        text-align: right;\n",
       "    }\n",
       "</style>\n",
       "<table border=\"1\" class=\"dataframe\">\n",
       "  <thead>\n",
       "    <tr style=\"text-align: right;\">\n",
       "      <th></th>\n",
       "      <th>3_Code région</th>\n",
       "      <th>3_Nom de la région</th>\n",
       "      <th>3_Code département</th>\n",
       "      <th>3_Code commune</th>\n",
       "      <th>3_Nom de la commune</th>\n",
       "      <th>3_Population municipale</th>\n",
       "      <th>3_Population comptée à part</th>\n",
       "      <th>3_Population totale</th>\n",
       "      <th>3_Année recensement</th>\n",
       "      <th>3_Année utilisation</th>\n",
       "      <th>...</th>\n",
       "      <th>4_Code Département</th>\n",
       "      <th>4_Code Région</th>\n",
       "      <th>4_lat</th>\n",
       "      <th>4_lon</th>\n",
       "      <th>4_Densité_hab_par_km2</th>\n",
       "      <th>A_Prix_consolidé_mean</th>\n",
       "      <th>A_Prix_estimé_mean</th>\n",
       "      <th>B_Prix_consolidé_median</th>\n",
       "      <th>B_Prix_estimé_median</th>\n",
       "      <th>G_Prix_estimé_LassoCV</th>\n",
       "    </tr>\n",
       "  </thead>\n",
       "  <tbody>\n",
       "    <tr>\n",
       "      <th>0</th>\n",
       "      <td>84.0</td>\n",
       "      <td>Auvergne-Rhône-Alpes</td>\n",
       "      <td>01</td>\n",
       "      <td>1.0</td>\n",
       "      <td>L' Abergement-Clémenciat</td>\n",
       "      <td>767.0</td>\n",
       "      <td>18.0</td>\n",
       "      <td>785.0</td>\n",
       "      <td>2016</td>\n",
       "      <td>2019</td>\n",
       "      <td>...</td>\n",
       "      <td>01</td>\n",
       "      <td>82.0</td>\n",
       "      <td>46.153426</td>\n",
       "      <td>4.926114</td>\n",
       "      <td>51.118211</td>\n",
       "      <td>1938.0</td>\n",
       "      <td>2167.500000</td>\n",
       "      <td>1938.0</td>\n",
       "      <td>2080.5</td>\n",
       "      <td>1914.911569</td>\n",
       "    </tr>\n",
       "    <tr>\n",
       "      <th>1</th>\n",
       "      <td>84.0</td>\n",
       "      <td>Auvergne-Rhône-Alpes</td>\n",
       "      <td>01</td>\n",
       "      <td>2.0</td>\n",
       "      <td>L' Abergement-de-Varey</td>\n",
       "      <td>243.0</td>\n",
       "      <td>1.0</td>\n",
       "      <td>244.0</td>\n",
       "      <td>2016</td>\n",
       "      <td>2019</td>\n",
       "      <td>...</td>\n",
       "      <td>01</td>\n",
       "      <td>82.0</td>\n",
       "      <td>46.009188</td>\n",
       "      <td>5.428017</td>\n",
       "      <td>21.929825</td>\n",
       "      <td>1130.0</td>\n",
       "      <td>1503.894444</td>\n",
       "      <td>1130.0</td>\n",
       "      <td>1458.5</td>\n",
       "      <td>1852.991005</td>\n",
       "    </tr>\n",
       "    <tr>\n",
       "      <th>2</th>\n",
       "      <td>84.0</td>\n",
       "      <td>Auvergne-Rhône-Alpes</td>\n",
       "      <td>01</td>\n",
       "      <td>4.0</td>\n",
       "      <td>Ambérieu-en-Bugey</td>\n",
       "      <td>14081.0</td>\n",
       "      <td>437.0</td>\n",
       "      <td>14518.0</td>\n",
       "      <td>2016</td>\n",
       "      <td>2019</td>\n",
       "      <td>...</td>\n",
       "      <td>01</td>\n",
       "      <td>82.0</td>\n",
       "      <td>45.960848</td>\n",
       "      <td>5.372926</td>\n",
       "      <td>547.385621</td>\n",
       "      <td>2005.0</td>\n",
       "      <td>1725.714286</td>\n",
       "      <td>2005.0</td>\n",
       "      <td>1678.0</td>\n",
       "      <td>2019.555202</td>\n",
       "    </tr>\n",
       "    <tr>\n",
       "      <th>3</th>\n",
       "      <td>84.0</td>\n",
       "      <td>Auvergne-Rhône-Alpes</td>\n",
       "      <td>01</td>\n",
       "      <td>5.0</td>\n",
       "      <td>Ambérieux-en-Dombes</td>\n",
       "      <td>1671.0</td>\n",
       "      <td>34.0</td>\n",
       "      <td>1705.0</td>\n",
       "      <td>2016</td>\n",
       "      <td>2019</td>\n",
       "      <td>...</td>\n",
       "      <td>01</td>\n",
       "      <td>82.0</td>\n",
       "      <td>45.996180</td>\n",
       "      <td>4.912273</td>\n",
       "      <td>99.688474</td>\n",
       "      <td>2442.0</td>\n",
       "      <td>2647.857143</td>\n",
       "      <td>2442.0</td>\n",
       "      <td>2701.0</td>\n",
       "      <td>1921.085942</td>\n",
       "    </tr>\n",
       "    <tr>\n",
       "      <th>4</th>\n",
       "      <td>84.0</td>\n",
       "      <td>Auvergne-Rhône-Alpes</td>\n",
       "      <td>01</td>\n",
       "      <td>6.0</td>\n",
       "      <td>Ambléon</td>\n",
       "      <td>110.0</td>\n",
       "      <td>6.0</td>\n",
       "      <td>116.0</td>\n",
       "      <td>2016</td>\n",
       "      <td>2019</td>\n",
       "      <td>...</td>\n",
       "      <td>01</td>\n",
       "      <td>82.0</td>\n",
       "      <td>45.749499</td>\n",
       "      <td>5.594320</td>\n",
       "      <td>16.611296</td>\n",
       "      <td>1155.0</td>\n",
       "      <td>1460.333333</td>\n",
       "      <td>1155.0</td>\n",
       "      <td>1287.0</td>\n",
       "      <td>1836.544279</td>\n",
       "    </tr>\n",
       "  </tbody>\n",
       "</table>\n",
       "<p>5 rows × 59 columns</p>\n",
       "</div>"
      ],
      "text/plain": [
       "   3_Code région    3_Nom de la région 3_Code département  3_Code commune  \\\n",
       "0           84.0  Auvergne-Rhône-Alpes                 01             1.0   \n",
       "1           84.0  Auvergne-Rhône-Alpes                 01             2.0   \n",
       "2           84.0  Auvergne-Rhône-Alpes                 01             4.0   \n",
       "3           84.0  Auvergne-Rhône-Alpes                 01             5.0   \n",
       "4           84.0  Auvergne-Rhône-Alpes                 01             6.0   \n",
       "\n",
       "        3_Nom de la commune  3_Population municipale  \\\n",
       "0  L' Abergement-Clémenciat                    767.0   \n",
       "1    L' Abergement-de-Varey                    243.0   \n",
       "2         Ambérieu-en-Bugey                  14081.0   \n",
       "3       Ambérieux-en-Dombes                   1671.0   \n",
       "4                   Ambléon                    110.0   \n",
       "\n",
       "   3_Population comptée à part  3_Population totale  3_Année recensement  \\\n",
       "0                         18.0                785.0                 2016   \n",
       "1                          1.0                244.0                 2016   \n",
       "2                        437.0              14518.0                 2016   \n",
       "3                         34.0               1705.0                 2016   \n",
       "4                          6.0                116.0                 2016   \n",
       "\n",
       "   3_Année utilisation  ... 4_Code Département  4_Code Région      4_lat  \\\n",
       "0                 2019  ...                 01           82.0  46.153426   \n",
       "1                 2019  ...                 01           82.0  46.009188   \n",
       "2                 2019  ...                 01           82.0  45.960848   \n",
       "3                 2019  ...                 01           82.0  45.996180   \n",
       "4                 2019  ...                 01           82.0  45.749499   \n",
       "\n",
       "      4_lon 4_Densité_hab_par_km2  A_Prix_consolidé_mean A_Prix_estimé_mean  \\\n",
       "0  4.926114             51.118211                 1938.0        2167.500000   \n",
       "1  5.428017             21.929825                 1130.0        1503.894444   \n",
       "2  5.372926            547.385621                 2005.0        1725.714286   \n",
       "3  4.912273             99.688474                 2442.0        2647.857143   \n",
       "4  5.594320             16.611296                 1155.0        1460.333333   \n",
       "\n",
       "  B_Prix_consolidé_median B_Prix_estimé_median  G_Prix_estimé_LassoCV  \n",
       "0                  1938.0               2080.5            1914.911569  \n",
       "1                  1130.0               1458.5            1852.991005  \n",
       "2                  2005.0               1678.0            2019.555202  \n",
       "3                  2442.0               2701.0            1921.085942  \n",
       "4                  1155.0               1287.0            1836.544279  \n",
       "\n",
       "[5 rows x 59 columns]"
      ]
     },
     "execution_count": 193,
     "metadata": {},
     "output_type": "execute_result"
    }
   ],
   "source": [
    "df_ridge = df[df[features].notna().all(axis=1)]\n",
    "df_ridge.head()"
   ]
  },
  {
   "cell_type": "code",
   "execution_count": 163,
   "id": "4be189ae-131b-43ed-8983-500391dd3f3e",
   "metadata": {
    "execution": {
     "iopub.execute_input": "2024-01-24T13:55:55.157547Z",
     "iopub.status.busy": "2024-01-24T13:55:55.156542Z",
     "iopub.status.idle": "2024-01-24T13:55:55.186374Z",
     "shell.execute_reply": "2024-01-24T13:55:55.185044Z",
     "shell.execute_reply.started": "2024-01-24T13:55:55.157547Z"
    }
   },
   "outputs": [],
   "source": [
    "y = df_ridge['5_PrixMoyen_M2']\n",
    "X = df_ridge[['4_Département','3_Population municipale', '3_Densité_hab_par_km2', '3_Superficie de la commune',\n",
    "              '4_Altitude Moyenne','4_lat','4_lon']]\n",
    "X_train, X_test, y_train, y_test = train_test_split(X, y, test_size=0.2, random_state=42)"
   ]
  },
  {
   "cell_type": "code",
   "execution_count": 164,
   "id": "5183b15a-6a97-4113-9971-c07c57eebe29",
   "metadata": {
    "execution": {
     "iopub.execute_input": "2024-01-24T13:55:55.570773Z",
     "iopub.status.busy": "2024-01-24T13:55:55.569759Z",
     "iopub.status.idle": "2024-01-24T13:55:55.586323Z",
     "shell.execute_reply": "2024-01-24T13:55:55.584790Z",
     "shell.execute_reply.started": "2024-01-24T13:55:55.570773Z"
    }
   },
   "outputs": [
    {
     "name": "stderr",
     "output_type": "stream",
     "text": [
      "C:\\Users\\nimod\\AppData\\Local\\Temp\\ipykernel_18212\\3675673117.py:6: SettingWithCopyWarning: \n",
      "A value is trying to be set on a copy of a slice from a DataFrame.\n",
      "Try using .loc[row_indexer,col_indexer] = value instead\n",
      "\n",
      "See the caveats in the documentation: https://pandas.pydata.org/pandas-docs/stable/user_guide/indexing.html#returning-a-view-versus-a-copy\n",
      "  X[c] = X[c].astype('category')\n"
     ]
    }
   ],
   "source": [
    "num_features = ['3_Population municipale', '3_Densité_hab_par_km2', '3_Superficie de la commune',\n",
    "              '4_Altitude Moyenne','4_lat','4_lon']\n",
    "cat_features = ['4_Département']\n",
    "\n",
    "for c in cat_features:\n",
    "    X[c] = X[c].astype('category')"
   ]
  },
  {
   "cell_type": "code",
   "execution_count": 165,
   "id": "120caff4-12e0-4a47-8e32-5ba8125179be",
   "metadata": {
    "execution": {
     "iopub.execute_input": "2024-01-24T13:55:56.943597Z",
     "iopub.status.busy": "2024-01-24T13:55:56.942596Z",
     "iopub.status.idle": "2024-01-24T13:55:56.954058Z",
     "shell.execute_reply": "2024-01-24T13:55:56.952843Z",
     "shell.execute_reply.started": "2024-01-24T13:55:56.943597Z"
    }
   },
   "outputs": [
    {
     "data": {
      "text/plain": [
       "4_Département                 category\n",
       "3_Population municipale        float64\n",
       "3_Densité_hab_par_km2          float64\n",
       "3_Superficie de la commune     float64\n",
       "4_Altitude Moyenne             float64\n",
       "4_lat                          float64\n",
       "4_lon                          float64\n",
       "dtype: object"
      ]
     },
     "execution_count": 165,
     "metadata": {},
     "output_type": "execute_result"
    }
   ],
   "source": [
    "X.dtypes"
   ]
  },
  {
   "cell_type": "code",
   "execution_count": 166,
   "id": "c1fb3d29-022e-4bfa-b6a4-f96e6eee6fc5",
   "metadata": {
    "execution": {
     "iopub.execute_input": "2024-01-24T13:55:58.298080Z",
     "iopub.status.busy": "2024-01-24T13:55:58.297065Z",
     "iopub.status.idle": "2024-01-24T13:55:58.315082Z",
     "shell.execute_reply": "2024-01-24T13:55:58.314083Z",
     "shell.execute_reply.started": "2024-01-24T13:55:58.298080Z"
    }
   },
   "outputs": [],
   "source": [
    "numeric_transformer = Pipeline(\n",
    "    steps=[ \n",
    "        (\"scaler\", StandardScaler()),\n",
    "    ])\n",
    "\n",
    "categorical_transformer = Pipeline(\n",
    "    steps=[(\"encoder\", OneHotEncoder(handle_unknown=\"ignore\"))\n",
    "          ])\n",
    "\n",
    "preprocessor = ColumnTransformer(\n",
    "    transformers=[\n",
    "        (\"num\", numeric_transformer, num_features),\n",
    "        (\"cat\", categorical_transformer, cat_features),\n",
    "    ])"
   ]
  },
  {
   "cell_type": "code",
   "execution_count": 167,
   "id": "59f44f19-602e-4917-82ac-be85bdd96485",
   "metadata": {
    "execution": {
     "iopub.execute_input": "2024-01-24T13:55:58.965219Z",
     "iopub.status.busy": "2024-01-24T13:55:58.964220Z",
     "iopub.status.idle": "2024-01-24T13:56:39.189868Z",
     "shell.execute_reply": "2024-01-24T13:56:39.188870Z",
     "shell.execute_reply.started": "2024-01-24T13:55:58.965219Z"
    }
   },
   "outputs": [
    {
     "name": "stdout",
     "output_type": "stream",
     "text": [
      "CPU times: total: 1min 56s\n",
      "Wall time: 40.2 s\n"
     ]
    }
   ],
   "source": [
    "%%time\n",
    "lasso_opti= Pipeline(\n",
    "    steps=[(\"preprocessor\", preprocessor), \n",
    "           (\"lassoCV\", LassoCV(cv=5, random_state=0))])\n",
    "lasso_opti.fit(X_train, y_train)\n",
    "y_pred = lasso_opti.predict(X_test)"
   ]
  },
  {
   "cell_type": "code",
   "execution_count": 168,
   "id": "9d3d735a-106c-4c6b-8435-5d54c9e4b645",
   "metadata": {
    "execution": {
     "iopub.execute_input": "2024-01-24T13:56:43.341857Z",
     "iopub.status.busy": "2024-01-24T13:56:43.341857Z",
     "iopub.status.idle": "2024-01-24T13:56:43.363587Z",
     "shell.execute_reply": "2024-01-24T13:56:43.362313Z",
     "shell.execute_reply.started": "2024-01-24T13:56:43.341857Z"
    }
   },
   "outputs": [
    {
     "data": {
      "text/plain": [
       "array([384.79635946, 358.8623727 , 334.67624985, 312.12019073,\n",
       "       291.08433451, 271.46622459, 253.17030962, 236.10747808,\n",
       "       220.19462428, 205.35424357, 191.51405485, 178.60664853,\n",
       "       166.56915819, 155.34295442, 144.87335921, 135.10937967,\n",
       "       126.00345968, 117.51124821, 109.59138338, 102.20529093,\n",
       "        95.31699639,  88.89294985,  82.90186254,  77.31455447,\n",
       "        72.10381226,  67.24425664,  62.7122188 ,  58.48562514,\n",
       "        54.54388975,  50.86781414,  47.43949371,  44.24223061,\n",
       "        41.26045234,  38.47963595,  35.88623727,  33.46762499,\n",
       "        31.21201907,  29.10843345,  27.14662246,  25.31703096,\n",
       "        23.61074781,  22.01946243,  20.53542436,  19.15140549,\n",
       "        17.86066485,  16.65691582,  15.53429544,  14.48733592,\n",
       "        13.51093797,  12.60034597,  11.75112482,  10.95913834,\n",
       "        10.22052909,   9.53169964,   8.88929498,   8.29018625,\n",
       "         7.73145545,   7.21038123,   6.72442566,   6.27122188,\n",
       "         5.84856251,   5.45438898,   5.08678141,   4.74394937,\n",
       "         4.42422306,   4.12604523,   3.84796359,   3.58862373,\n",
       "         3.3467625 ,   3.12120191,   2.91084335,   2.71466225,\n",
       "         2.5317031 ,   2.36107478,   2.20194624,   2.05354244,\n",
       "         1.91514055,   1.78606649,   1.66569158,   1.55342954,\n",
       "         1.44873359,   1.3510938 ,   1.2600346 ,   1.17511248,\n",
       "         1.09591383,   1.02205291,   0.95316996,   0.8889295 ,\n",
       "         0.82901863,   0.77314554,   0.72103812,   0.67244257,\n",
       "         0.62712219,   0.58485625,   0.5454389 ,   0.50867814,\n",
       "         0.47439494,   0.44242231,   0.41260452,   0.38479636])"
      ]
     },
     "execution_count": 168,
     "metadata": {},
     "output_type": "execute_result"
    }
   ],
   "source": [
    "lasso_opti.named_steps.lassoCV.alphas_"
   ]
  },
  {
   "cell_type": "code",
   "execution_count": 169,
   "id": "e2b18165-70c7-473d-9757-82a76761a868",
   "metadata": {
    "execution": {
     "iopub.execute_input": "2024-01-24T13:56:45.887564Z",
     "iopub.status.busy": "2024-01-24T13:56:45.886551Z",
     "iopub.status.idle": "2024-01-24T13:56:45.897621Z",
     "shell.execute_reply": "2024-01-24T13:56:45.896481Z",
     "shell.execute_reply.started": "2024-01-24T13:56:45.887564Z"
    }
   },
   "outputs": [
    {
     "data": {
      "text/plain": [
       "0.38479635946079915"
      ]
     },
     "execution_count": 169,
     "metadata": {},
     "output_type": "execute_result"
    }
   ],
   "source": [
    "lasso_opti.named_steps.lassoCV.alpha_"
   ]
  },
  {
   "cell_type": "code",
   "execution_count": 170,
   "id": "57406b8c-aa27-45f2-b447-cc2ba86a3953",
   "metadata": {
    "execution": {
     "iopub.execute_input": "2024-01-24T13:56:47.116920Z",
     "iopub.status.busy": "2024-01-24T13:56:47.115917Z",
     "iopub.status.idle": "2024-01-24T13:56:47.130988Z",
     "shell.execute_reply": "2024-01-24T13:56:47.129802Z",
     "shell.execute_reply.started": "2024-01-24T13:56:47.116920Z"
    }
   },
   "outputs": [
    {
     "name": "stdout",
     "output_type": "stream",
     "text": [
      "mse 420855.53395922837\n",
      "r2 0.4241208588056924\n"
     ]
    }
   ],
   "source": [
    "print(\"mse\",mean_squared_error(y_test, y_pred))\n",
    "print(\"r2\", r2_score(y_test, y_pred))"
   ]
  },
  {
   "cell_type": "code",
   "execution_count": 179,
   "id": "f273aa26-fb93-4df6-9f06-03505d745507",
   "metadata": {
    "execution": {
     "iopub.execute_input": "2024-01-24T14:03:44.499160Z",
     "iopub.status.busy": "2024-01-24T14:03:44.498155Z",
     "iopub.status.idle": "2024-01-24T14:03:44.549753Z",
     "shell.execute_reply": "2024-01-24T14:03:44.549753Z",
     "shell.execute_reply.started": "2024-01-24T14:03:44.499160Z"
    }
   },
   "outputs": [],
   "source": [
    "df['G_Prix_estimé_LassoCV'] = np.nan\n",
    "df.loc[df[features].notna().all(axis=1),'G_Prix_estimé_LassoCV'] = lasso_opti.predict(df.loc[df[features].notna().all(axis=1),['4_Département','3_Population municipale', '3_Densité_hab_par_km2', '3_Superficie de la commune',\n",
    "              '4_Altitude Moyenne','4_lat','4_lon']])"
   ]
  },
  {
   "cell_type": "code",
   "execution_count": 180,
   "id": "7641d061-341a-416e-b2f2-2a25a823626e",
   "metadata": {
    "execution": {
     "iopub.execute_input": "2024-01-24T14:04:17.384218Z",
     "iopub.status.busy": "2024-01-24T14:04:17.384218Z",
     "iopub.status.idle": "2024-01-24T14:04:17.402265Z",
     "shell.execute_reply": "2024-01-24T14:04:17.401348Z",
     "shell.execute_reply.started": "2024-01-24T14:04:17.384218Z"
    }
   },
   "outputs": [
    {
     "data": {
      "text/html": [
       "<div>\n",
       "<style scoped>\n",
       "    .dataframe tbody tr th:only-of-type {\n",
       "        vertical-align: middle;\n",
       "    }\n",
       "\n",
       "    .dataframe tbody tr th {\n",
       "        vertical-align: top;\n",
       "    }\n",
       "\n",
       "    .dataframe thead th {\n",
       "        text-align: right;\n",
       "    }\n",
       "</style>\n",
       "<table border=\"1\" class=\"dataframe\">\n",
       "  <thead>\n",
       "    <tr style=\"text-align: right;\">\n",
       "      <th></th>\n",
       "      <th>5_PrixMoyen_M2</th>\n",
       "      <th>G_Prix_estimé_LassoCV</th>\n",
       "    </tr>\n",
       "  </thead>\n",
       "  <tbody>\n",
       "    <tr>\n",
       "      <th>0</th>\n",
       "      <td>1938.0</td>\n",
       "      <td>1914.911569</td>\n",
       "    </tr>\n",
       "    <tr>\n",
       "      <th>1</th>\n",
       "      <td>1130.0</td>\n",
       "      <td>1852.991005</td>\n",
       "    </tr>\n",
       "    <tr>\n",
       "      <th>2</th>\n",
       "      <td>2005.0</td>\n",
       "      <td>2019.555202</td>\n",
       "    </tr>\n",
       "    <tr>\n",
       "      <th>3</th>\n",
       "      <td>2442.0</td>\n",
       "      <td>1921.085942</td>\n",
       "    </tr>\n",
       "    <tr>\n",
       "      <th>4</th>\n",
       "      <td>1155.0</td>\n",
       "      <td>1836.544279</td>\n",
       "    </tr>\n",
       "    <tr>\n",
       "      <th>...</th>\n",
       "      <td>...</td>\n",
       "      <td>...</td>\n",
       "    </tr>\n",
       "    <tr>\n",
       "      <th>36745</th>\n",
       "      <td>NaN</td>\n",
       "      <td>NaN</td>\n",
       "    </tr>\n",
       "    <tr>\n",
       "      <th>36746</th>\n",
       "      <td>NaN</td>\n",
       "      <td>NaN</td>\n",
       "    </tr>\n",
       "    <tr>\n",
       "      <th>36747</th>\n",
       "      <td>NaN</td>\n",
       "      <td>NaN</td>\n",
       "    </tr>\n",
       "    <tr>\n",
       "      <th>36748</th>\n",
       "      <td>NaN</td>\n",
       "      <td>NaN</td>\n",
       "    </tr>\n",
       "    <tr>\n",
       "      <th>36749</th>\n",
       "      <td>NaN</td>\n",
       "      <td>NaN</td>\n",
       "    </tr>\n",
       "  </tbody>\n",
       "</table>\n",
       "<p>36750 rows × 2 columns</p>\n",
       "</div>"
      ],
      "text/plain": [
       "       5_PrixMoyen_M2  G_Prix_estimé_LassoCV\n",
       "0              1938.0            1914.911569\n",
       "1              1130.0            1852.991005\n",
       "2              2005.0            2019.555202\n",
       "3              2442.0            1921.085942\n",
       "4              1155.0            1836.544279\n",
       "...               ...                    ...\n",
       "36745             NaN                    NaN\n",
       "36746             NaN                    NaN\n",
       "36747             NaN                    NaN\n",
       "36748             NaN                    NaN\n",
       "36749             NaN                    NaN\n",
       "\n",
       "[36750 rows x 2 columns]"
      ]
     },
     "execution_count": 180,
     "metadata": {},
     "output_type": "execute_result"
    }
   ],
   "source": [
    "df[['5_PrixMoyen_M2', 'G_Prix_estimé_LassoCV'] ]"
   ]
  },
  {
   "cell_type": "markdown",
   "id": "d126653b-d6b7-456c-9024-ae1727ddeb87",
   "metadata": {
    "execution": {
     "iopub.execute_input": "2024-01-16T12:43:04.316131Z",
     "iopub.status.busy": "2024-01-16T12:43:04.316131Z",
     "iopub.status.idle": "2024-01-16T12:43:04.332690Z",
     "shell.execute_reply": "2024-01-16T12:43:04.331836Z",
     "shell.execute_reply.started": "2024-01-16T12:43:04.316131Z"
    }
   },
   "source": [
    "### Comparaison des différents du prix moyen au m2 NICOLAS"
   ]
  },
  {
   "cell_type": "code",
   "execution_count": 192,
   "id": "6cd00cb6-9166-4e08-ac04-70048746851b",
   "metadata": {
    "execution": {
     "iopub.execute_input": "2024-01-24T14:11:15.628467Z",
     "iopub.status.busy": "2024-01-24T14:11:15.626560Z",
     "iopub.status.idle": "2024-01-24T14:11:15.883051Z",
     "shell.execute_reply": "2024-01-24T14:11:15.883051Z",
     "shell.execute_reply.started": "2024-01-24T14:11:15.628467Z"
    },
    "scrolled": true
   },
   "outputs": [
    {
     "data": {
      "text/html": [
       "<div>\n",
       "<style scoped>\n",
       "    .dataframe tbody tr th:only-of-type {\n",
       "        vertical-align: middle;\n",
       "    }\n",
       "\n",
       "    .dataframe tbody tr th {\n",
       "        vertical-align: top;\n",
       "    }\n",
       "\n",
       "    .dataframe thead th {\n",
       "        text-align: right;\n",
       "    }\n",
       "</style>\n",
       "<table border=\"1\" class=\"dataframe\">\n",
       "  <thead>\n",
       "    <tr style=\"text-align: right;\">\n",
       "      <th></th>\n",
       "      <th>Variable</th>\n",
       "      <th>type</th>\n",
       "      <th>Nb_val_unique</th>\n",
       "      <th>Nb_manquant</th>\n",
       "    </tr>\n",
       "  </thead>\n",
       "  <tbody>\n",
       "    <tr>\n",
       "      <th>33</th>\n",
       "      <td>6_type</td>\n",
       "      <td>object</td>\n",
       "      <td>9</td>\n",
       "      <td>35990</td>\n",
       "    </tr>\n",
       "    <tr>\n",
       "      <th>58</th>\n",
       "      <td>G_Prix_estimé_LassoCV</td>\n",
       "      <td>float64</td>\n",
       "      <td>26820</td>\n",
       "      <td>9931</td>\n",
       "    </tr>\n",
       "    <tr>\n",
       "      <th>24</th>\n",
       "      <td>5_PrixMoyen_M2</td>\n",
       "      <td>float64</td>\n",
       "      <td>3709</td>\n",
       "      <td>9928</td>\n",
       "    </tr>\n",
       "    <tr>\n",
       "      <th>23</th>\n",
       "      <td>5_Nb_Ventes</td>\n",
       "      <td>float64</td>\n",
       "      <td>554</td>\n",
       "      <td>9928</td>\n",
       "    </tr>\n",
       "    <tr>\n",
       "      <th>57</th>\n",
       "      <td>B_Prix_estimé_median</td>\n",
       "      <td>float64</td>\n",
       "      <td>8138</td>\n",
       "      <td>2985</td>\n",
       "    </tr>\n",
       "    <tr>\n",
       "      <th>55</th>\n",
       "      <td>A_Prix_estimé_mean</td>\n",
       "      <td>float64</td>\n",
       "      <td>28641</td>\n",
       "      <td>2985</td>\n",
       "    </tr>\n",
       "    <tr>\n",
       "      <th>56</th>\n",
       "      <td>B_Prix_consolidé_median</td>\n",
       "      <td>float64</td>\n",
       "      <td>6226</td>\n",
       "      <td>2868</td>\n",
       "    </tr>\n",
       "    <tr>\n",
       "      <th>54</th>\n",
       "      <td>A_Prix_consolidé_mean</td>\n",
       "      <td>float64</td>\n",
       "      <td>10317</td>\n",
       "      <td>2868</td>\n",
       "    </tr>\n",
       "    <tr>\n",
       "      <th>20</th>\n",
       "      <td>5_CODE_EPCI</td>\n",
       "      <td>float64</td>\n",
       "      <td>1237</td>\n",
       "      <td>1916</td>\n",
       "    </tr>\n",
       "    <tr>\n",
       "      <th>19</th>\n",
       "      <td>5_INSEE_REG</td>\n",
       "      <td>float64</td>\n",
       "      <td>14</td>\n",
       "      <td>1867</td>\n",
       "    </tr>\n",
       "    <tr>\n",
       "      <th>18</th>\n",
       "      <td>5_INSEE_DEP</td>\n",
       "      <td>object</td>\n",
       "      <td>97</td>\n",
       "      <td>1867</td>\n",
       "    </tr>\n",
       "    <tr>\n",
       "      <th>17</th>\n",
       "      <td>5_INSEE_COM</td>\n",
       "      <td>object</td>\n",
       "      <td>34884</td>\n",
       "      <td>1867</td>\n",
       "    </tr>\n",
       "    <tr>\n",
       "      <th>16</th>\n",
       "      <td>5_ID</td>\n",
       "      <td>object</td>\n",
       "      <td>34884</td>\n",
       "      <td>1867</td>\n",
       "    </tr>\n",
       "    <tr>\n",
       "      <th>21</th>\n",
       "      <td>5_NOM_COM_M</td>\n",
       "      <td>object</td>\n",
       "      <td>32430</td>\n",
       "      <td>1867</td>\n",
       "    </tr>\n",
       "    <tr>\n",
       "      <th>25</th>\n",
       "      <td>5_nb_digits_code_INSEE</td>\n",
       "      <td>float64</td>\n",
       "      <td>2</td>\n",
       "      <td>1867</td>\n",
       "    </tr>\n",
       "    <tr>\n",
       "      <th>26</th>\n",
       "      <td>5_code_commune_n</td>\n",
       "      <td>object</td>\n",
       "      <td>34884</td>\n",
       "      <td>1867</td>\n",
       "    </tr>\n",
       "    <tr>\n",
       "      <th>22</th>\n",
       "      <td>5_POPULATION</td>\n",
       "      <td>float64</td>\n",
       "      <td>5734</td>\n",
       "      <td>1867</td>\n",
       "    </tr>\n",
       "    <tr>\n",
       "      <th>28</th>\n",
       "      <td>6_nom</td>\n",
       "      <td>object</td>\n",
       "      <td>32684</td>\n",
       "      <td>1813</td>\n",
       "    </tr>\n",
       "    <tr>\n",
       "      <th>30</th>\n",
       "      <td>6_insee_voisins</td>\n",
       "      <td>object</td>\n",
       "      <td>34935</td>\n",
       "      <td>1813</td>\n",
       "    </tr>\n",
       "    <tr>\n",
       "      <th>31</th>\n",
       "      <td>6_noms_voisins</td>\n",
       "      <td>object</td>\n",
       "      <td>34935</td>\n",
       "      <td>1813</td>\n",
       "    </tr>\n",
       "    <tr>\n",
       "      <th>32</th>\n",
       "      <td>6_cap_voisins</td>\n",
       "      <td>object</td>\n",
       "      <td>34932</td>\n",
       "      <td>1813</td>\n",
       "    </tr>\n",
       "    <tr>\n",
       "      <th>27</th>\n",
       "      <td>6_insee</td>\n",
       "      <td>object</td>\n",
       "      <td>34938</td>\n",
       "      <td>1813</td>\n",
       "    </tr>\n",
       "    <tr>\n",
       "      <th>29</th>\n",
       "      <td>6_nb_voisins</td>\n",
       "      <td>float64</td>\n",
       "      <td>23</td>\n",
       "      <td>1813</td>\n",
       "    </tr>\n",
       "    <tr>\n",
       "      <th>15</th>\n",
       "      <td>3_Densité_hab_par_km2</td>\n",
       "      <td>float64</td>\n",
       "      <td>34728</td>\n",
       "      <td>822</td>\n",
       "    </tr>\n",
       "    <tr>\n",
       "      <th>11</th>\n",
       "      <td>3_Superficie de la commune</td>\n",
       "      <td>float64</td>\n",
       "      <td>5236</td>\n",
       "      <td>822</td>\n",
       "    </tr>\n",
       "    <tr>\n",
       "      <th>14</th>\n",
       "      <td>3_EPCI</td>\n",
       "      <td>object</td>\n",
       "      <td>2216</td>\n",
       "      <td>26</td>\n",
       "    </tr>\n",
       "    <tr>\n",
       "      <th>13</th>\n",
       "      <td>3_Code EPCI</td>\n",
       "      <td>object</td>\n",
       "      <td>2143</td>\n",
       "      <td>26</td>\n",
       "    </tr>\n",
       "    <tr>\n",
       "      <th>53</th>\n",
       "      <td>4_Densité_hab_par_km2</td>\n",
       "      <td>float64</td>\n",
       "      <td>18651</td>\n",
       "      <td>8</td>\n",
       "    </tr>\n",
       "    <tr>\n",
       "      <th>52</th>\n",
       "      <td>4_lon</td>\n",
       "      <td>float64</td>\n",
       "      <td>36743</td>\n",
       "      <td>8</td>\n",
       "    </tr>\n",
       "    <tr>\n",
       "      <th>51</th>\n",
       "      <td>4_lat</td>\n",
       "      <td>float64</td>\n",
       "      <td>36743</td>\n",
       "      <td>8</td>\n",
       "    </tr>\n",
       "    <tr>\n",
       "      <th>50</th>\n",
       "      <td>4_Code Région</td>\n",
       "      <td>float64</td>\n",
       "      <td>28</td>\n",
       "      <td>8</td>\n",
       "    </tr>\n",
       "    <tr>\n",
       "      <th>40</th>\n",
       "      <td>4_Altitude Moyenne</td>\n",
       "      <td>float64</td>\n",
       "      <td>1653</td>\n",
       "      <td>8</td>\n",
       "    </tr>\n",
       "    <tr>\n",
       "      <th>48</th>\n",
       "      <td>4_Code Arrondissement</td>\n",
       "      <td>float64</td>\n",
       "      <td>11</td>\n",
       "      <td>8</td>\n",
       "    </tr>\n",
       "    <tr>\n",
       "      <th>47</th>\n",
       "      <td>4_Code Canton</td>\n",
       "      <td>float64</td>\n",
       "      <td>95</td>\n",
       "      <td>8</td>\n",
       "    </tr>\n",
       "    <tr>\n",
       "      <th>46</th>\n",
       "      <td>4_Code Commune</td>\n",
       "      <td>float64</td>\n",
       "      <td>909</td>\n",
       "      <td>8</td>\n",
       "    </tr>\n",
       "    <tr>\n",
       "      <th>45</th>\n",
       "      <td>4_ID Geofla</td>\n",
       "      <td>float64</td>\n",
       "      <td>36614</td>\n",
       "      <td>8</td>\n",
       "    </tr>\n",
       "    <tr>\n",
       "      <th>44</th>\n",
       "      <td>4_geo_shape</td>\n",
       "      <td>object</td>\n",
       "      <td>36743</td>\n",
       "      <td>8</td>\n",
       "    </tr>\n",
       "    <tr>\n",
       "      <th>43</th>\n",
       "      <td>4_geo_point_2d</td>\n",
       "      <td>object</td>\n",
       "      <td>36743</td>\n",
       "      <td>8</td>\n",
       "    </tr>\n",
       "    <tr>\n",
       "      <th>42</th>\n",
       "      <td>4_Population</td>\n",
       "      <td>float64</td>\n",
       "      <td>510</td>\n",
       "      <td>8</td>\n",
       "    </tr>\n",
       "    <tr>\n",
       "      <th>49</th>\n",
       "      <td>4_Code Département</td>\n",
       "      <td>object</td>\n",
       "      <td>98</td>\n",
       "      <td>8</td>\n",
       "    </tr>\n",
       "    <tr>\n",
       "      <th>41</th>\n",
       "      <td>4_Superficie</td>\n",
       "      <td>float64</td>\n",
       "      <td>5247</td>\n",
       "      <td>8</td>\n",
       "    </tr>\n",
       "    <tr>\n",
       "      <th>39</th>\n",
       "      <td>4_Statut</td>\n",
       "      <td>object</td>\n",
       "      <td>28</td>\n",
       "      <td>8</td>\n",
       "    </tr>\n",
       "    <tr>\n",
       "      <th>37</th>\n",
       "      <td>4_Département</td>\n",
       "      <td>object</td>\n",
       "      <td>102</td>\n",
       "      <td>8</td>\n",
       "    </tr>\n",
       "    <tr>\n",
       "      <th>36</th>\n",
       "      <td>4_Commune</td>\n",
       "      <td>object</td>\n",
       "      <td>34131</td>\n",
       "      <td>8</td>\n",
       "    </tr>\n",
       "    <tr>\n",
       "      <th>35</th>\n",
       "      <td>4_Code Postal</td>\n",
       "      <td>object</td>\n",
       "      <td>6102</td>\n",
       "      <td>8</td>\n",
       "    </tr>\n",
       "    <tr>\n",
       "      <th>34</th>\n",
       "      <td>4_Code INSEE</td>\n",
       "      <td>object</td>\n",
       "      <td>36743</td>\n",
       "      <td>8</td>\n",
       "    </tr>\n",
       "    <tr>\n",
       "      <th>38</th>\n",
       "      <td>4_Région</td>\n",
       "      <td>object</td>\n",
       "      <td>28</td>\n",
       "      <td>8</td>\n",
       "    </tr>\n",
       "    <tr>\n",
       "      <th>12</th>\n",
       "      <td>3_Statut</td>\n",
       "      <td>object</td>\n",
       "      <td>2</td>\n",
       "      <td>0</td>\n",
       "    </tr>\n",
       "    <tr>\n",
       "      <th>2</th>\n",
       "      <td>3_Code département</td>\n",
       "      <td>object</td>\n",
       "      <td>101</td>\n",
       "      <td>0</td>\n",
       "    </tr>\n",
       "    <tr>\n",
       "      <th>3</th>\n",
       "      <td>3_Code commune</td>\n",
       "      <td>float64</td>\n",
       "      <td>908</td>\n",
       "      <td>0</td>\n",
       "    </tr>\n",
       "    <tr>\n",
       "      <th>4</th>\n",
       "      <td>3_Nom de la commune</td>\n",
       "      <td>object</td>\n",
       "      <td>34250</td>\n",
       "      <td>0</td>\n",
       "    </tr>\n",
       "    <tr>\n",
       "      <th>5</th>\n",
       "      <td>3_Population municipale</td>\n",
       "      <td>float64</td>\n",
       "      <td>5845</td>\n",
       "      <td>0</td>\n",
       "    </tr>\n",
       "    <tr>\n",
       "      <th>9</th>\n",
       "      <td>3_Année utilisation</td>\n",
       "      <td>int64</td>\n",
       "      <td>10</td>\n",
       "      <td>0</td>\n",
       "    </tr>\n",
       "    <tr>\n",
       "      <th>10</th>\n",
       "      <td>3_Code INSEE (commune ou arrondissement)</td>\n",
       "      <td>object</td>\n",
       "      <td>36750</td>\n",
       "      <td>0</td>\n",
       "    </tr>\n",
       "    <tr>\n",
       "      <th>1</th>\n",
       "      <td>3_Nom de la région</td>\n",
       "      <td>object</td>\n",
       "      <td>36</td>\n",
       "      <td>0</td>\n",
       "    </tr>\n",
       "    <tr>\n",
       "      <th>8</th>\n",
       "      <td>3_Année recensement</td>\n",
       "      <td>int64</td>\n",
       "      <td>10</td>\n",
       "      <td>0</td>\n",
       "    </tr>\n",
       "    <tr>\n",
       "      <th>7</th>\n",
       "      <td>3_Population totale</td>\n",
       "      <td>float64</td>\n",
       "      <td>5942</td>\n",
       "      <td>0</td>\n",
       "    </tr>\n",
       "    <tr>\n",
       "      <th>6</th>\n",
       "      <td>3_Population comptée à part</td>\n",
       "      <td>float64</td>\n",
       "      <td>793</td>\n",
       "      <td>0</td>\n",
       "    </tr>\n",
       "    <tr>\n",
       "      <th>0</th>\n",
       "      <td>3_Code région</td>\n",
       "      <td>float64</td>\n",
       "      <td>34</td>\n",
       "      <td>0</td>\n",
       "    </tr>\n",
       "  </tbody>\n",
       "</table>\n",
       "</div>"
      ],
      "text/plain": [
       "                                    Variable     type  Nb_val_unique  \\\n",
       "33                                    6_type   object              9   \n",
       "58                     G_Prix_estimé_LassoCV  float64          26820   \n",
       "24                            5_PrixMoyen_M2  float64           3709   \n",
       "23                               5_Nb_Ventes  float64            554   \n",
       "57                      B_Prix_estimé_median  float64           8138   \n",
       "55                        A_Prix_estimé_mean  float64          28641   \n",
       "56                   B_Prix_consolidé_median  float64           6226   \n",
       "54                     A_Prix_consolidé_mean  float64          10317   \n",
       "20                               5_CODE_EPCI  float64           1237   \n",
       "19                               5_INSEE_REG  float64             14   \n",
       "18                               5_INSEE_DEP   object             97   \n",
       "17                               5_INSEE_COM   object          34884   \n",
       "16                                      5_ID   object          34884   \n",
       "21                               5_NOM_COM_M   object          32430   \n",
       "25                    5_nb_digits_code_INSEE  float64              2   \n",
       "26                          5_code_commune_n   object          34884   \n",
       "22                              5_POPULATION  float64           5734   \n",
       "28                                     6_nom   object          32684   \n",
       "30                           6_insee_voisins   object          34935   \n",
       "31                            6_noms_voisins   object          34935   \n",
       "32                             6_cap_voisins   object          34932   \n",
       "27                                   6_insee   object          34938   \n",
       "29                              6_nb_voisins  float64             23   \n",
       "15                     3_Densité_hab_par_km2  float64          34728   \n",
       "11                3_Superficie de la commune  float64           5236   \n",
       "14                                    3_EPCI   object           2216   \n",
       "13                               3_Code EPCI   object           2143   \n",
       "53                     4_Densité_hab_par_km2  float64          18651   \n",
       "52                                     4_lon  float64          36743   \n",
       "51                                     4_lat  float64          36743   \n",
       "50                             4_Code Région  float64             28   \n",
       "40                        4_Altitude Moyenne  float64           1653   \n",
       "48                     4_Code Arrondissement  float64             11   \n",
       "47                             4_Code Canton  float64             95   \n",
       "46                            4_Code Commune  float64            909   \n",
       "45                               4_ID Geofla  float64          36614   \n",
       "44                               4_geo_shape   object          36743   \n",
       "43                            4_geo_point_2d   object          36743   \n",
       "42                              4_Population  float64            510   \n",
       "49                        4_Code Département   object             98   \n",
       "41                              4_Superficie  float64           5247   \n",
       "39                                  4_Statut   object             28   \n",
       "37                             4_Département   object            102   \n",
       "36                                 4_Commune   object          34131   \n",
       "35                             4_Code Postal   object           6102   \n",
       "34                              4_Code INSEE   object          36743   \n",
       "38                                  4_Région   object             28   \n",
       "12                                  3_Statut   object              2   \n",
       "2                         3_Code département   object            101   \n",
       "3                             3_Code commune  float64            908   \n",
       "4                        3_Nom de la commune   object          34250   \n",
       "5                    3_Population municipale  float64           5845   \n",
       "9                        3_Année utilisation    int64             10   \n",
       "10  3_Code INSEE (commune ou arrondissement)   object          36750   \n",
       "1                         3_Nom de la région   object             36   \n",
       "8                        3_Année recensement    int64             10   \n",
       "7                        3_Population totale  float64           5942   \n",
       "6                3_Population comptée à part  float64            793   \n",
       "0                              3_Code région  float64             34   \n",
       "\n",
       "    Nb_manquant  \n",
       "33        35990  \n",
       "58         9931  \n",
       "24         9928  \n",
       "23         9928  \n",
       "57         2985  \n",
       "55         2985  \n",
       "56         2868  \n",
       "54         2868  \n",
       "20         1916  \n",
       "19         1867  \n",
       "18         1867  \n",
       "17         1867  \n",
       "16         1867  \n",
       "21         1867  \n",
       "25         1867  \n",
       "26         1867  \n",
       "22         1867  \n",
       "28         1813  \n",
       "30         1813  \n",
       "31         1813  \n",
       "32         1813  \n",
       "27         1813  \n",
       "29         1813  \n",
       "15          822  \n",
       "11          822  \n",
       "14           26  \n",
       "13           26  \n",
       "53            8  \n",
       "52            8  \n",
       "51            8  \n",
       "50            8  \n",
       "40            8  \n",
       "48            8  \n",
       "47            8  \n",
       "46            8  \n",
       "45            8  \n",
       "44            8  \n",
       "43            8  \n",
       "42            8  \n",
       "49            8  \n",
       "41            8  \n",
       "39            8  \n",
       "37            8  \n",
       "36            8  \n",
       "35            8  \n",
       "34            8  \n",
       "38            8  \n",
       "12            0  \n",
       "2             0  \n",
       "3             0  \n",
       "4             0  \n",
       "5             0  \n",
       "9             0  \n",
       "10            0  \n",
       "1             0  \n",
       "8             0  \n",
       "7             0  \n",
       "6             0  \n",
       "0             0  "
      ]
     },
     "execution_count": 192,
     "metadata": {},
     "output_type": "execute_result"
    }
   ],
   "source": [
    "# Valeurs uniques par colonne\n",
    "df_analyse = []\n",
    "manquantes = df.isna().sum()\n",
    "for t in df.columns:\n",
    "    row = {}\n",
    "    row['Variable']=t\n",
    "    row['type']= df[t].dtypes\n",
    "    row['Nb_val_unique']=len(df[t].unique())\n",
    "    row['Nb_manquant']=manquantes[t]\n",
    "    df_analyse.append(row)\n",
    "df_analyse = pd.DataFrame(df_analyse)\n",
    "df_analyse.sort_values(by='Nb_manquant',ascending=False)"
   ]
  },
  {
   "cell_type": "code",
   "execution_count": 190,
   "id": "2e2afe3a-4eae-4e31-a2b0-a85d5ac34ba1",
   "metadata": {
    "execution": {
     "iopub.execute_input": "2024-01-24T14:10:12.846640Z",
     "iopub.status.busy": "2024-01-24T14:10:12.846640Z",
     "iopub.status.idle": "2024-01-24T14:10:12.878166Z",
     "shell.execute_reply": "2024-01-24T14:10:12.877159Z",
     "shell.execute_reply.started": "2024-01-24T14:10:12.846640Z"
    }
   },
   "outputs": [],
   "source": [
    "def performance_of_simulations(titre, list_of_sim):\n",
    "\n",
    "    list_of_col = ['blue', 'orange', 'green', 'red', 'purple', 'brown', 'pink', 'gray', 'olive', 'teal']\n",
    "    \n",
    "    print(f\"{'RAPPEL: Nombre de prix moyen total / manquants:':50} {len(df)} / {len(df[df['5_PrixMoyen_M2'].isna()])}\")\n",
    "    \n",
    "    plt.figure(figsize=(15,3.5*len(list_of_sim)))\n",
    "    plt.suptitle(titre)\n",
    "    \n",
    "    for i,p in enumerate(list_of_sim):\n",
    "        \n",
    "        print(f\"{'Simulation:':50} {p}\")\n",
    "        print(f\"{'Nombre de prix estimés:':50} {len(df[df[p].notna()])}\")\n",
    "        \n",
    "        df_not_NA = df[(df[p].notna()) & df['5_PrixMoyen_M2'].notna()].copy()\n",
    "        print(f\"{'Nombre de prix pour la comparaison:':50} {len(df_not_NA)}\")\n",
    "        \n",
    "        mse = mean_squared_error( df_not_NA['5_PrixMoyen_M2'], df_not_NA[p])\n",
    "        r2 = r2_score( df_not_NA['5_PrixMoyen_M2'], df_not_NA[p])\n",
    "        \n",
    "        df_not_NA['Delta_PrixMoyen_VS_estimé'] = df_not_NA[p] - df_not_NA['5_PrixMoyen_M2']\n",
    "\n",
    "        plt.subplot(len(list_of_sim),3,3*i+1)\n",
    "        sns.scatterplot(data=df_not_NA, x='5_PrixMoyen_M2', y=p, color=list_of_col[i])\n",
    "        sns.lineplot(x=[0,10000], y=[0,10000],color='r')\n",
    "        top = plt.gca().get_ylim()[1]\n",
    "        plt.text(0, top-1000, s=p)\n",
    "        plt.text(0,top-2000,s=f\"mse: {round(mse)}\")\n",
    "        plt.text(0,top-3000,s=f\"r2: {round(r2,3)}\")\n",
    "        if i<len(list_of_sim)-1: \n",
    "            plt.xlabel('')\n",
    "        else:\n",
    "            plt.xlabel('5_PrixMoyen_M2')\n",
    "\n",
    "        plt.subplot(len(list_of_sim),3,3*i+2) \n",
    "        sns.histplot(x=df_not_NA['Delta_PrixMoyen_VS_estimé'], color=list_of_col[i])\n",
    "        plt.xlim(-3000,3000)\n",
    "        if i<len(list_of_sim)-1: \n",
    "            plt.xlabel('')\n",
    "        else:\n",
    "            plt.xlabel('Delta_PrixMoyen_VS_estimé')\n",
    "\n",
    "        plt.subplot(len(list_of_sim),3,3*i+3)\n",
    "        sns.boxplot(x=df_not_NA['Delta_PrixMoyen_VS_estimé'],orient='h', color=list_of_col[i])\n",
    "        if i<len(list_of_sim)-1: \n",
    "            plt.xlabel('')\n",
    "        else:\n",
    "            plt.xlabel('Delta_PrixMoyen_VS_estimé')\n",
    "        # print(df_not_NA['Delta_PrixMoyen_VS_estimé'].describe()) #\n",
    "    plt.show()"
   ]
  },
  {
   "cell_type": "code",
   "execution_count": 191,
   "id": "a781d622-a37f-4b4c-a773-bca545d43aab",
   "metadata": {
    "execution": {
     "iopub.execute_input": "2024-01-24T14:10:13.210563Z",
     "iopub.status.busy": "2024-01-24T14:10:13.210563Z",
     "iopub.status.idle": "2024-01-24T14:10:17.909919Z",
     "shell.execute_reply": "2024-01-24T14:10:17.908651Z",
     "shell.execute_reply.started": "2024-01-24T14:10:13.210563Z"
    }
   },
   "outputs": [
    {
     "name": "stdout",
     "output_type": "stream",
     "text": [
      "RAPPEL: Nombre de prix moyen total / manquants:    36750 / 9928\n",
      "Simulation:                                        A_Prix_estimé_mean\n",
      "Nombre de prix estimés:                            33765\n",
      "Nombre de prix pour la comparaison:                26705\n",
      "Simulation:                                        B_Prix_estimé_median\n",
      "Nombre de prix estimés:                            33765\n",
      "Nombre de prix pour la comparaison:                26705\n",
      "Simulation:                                        G_Prix_estimé_LassoCV\n",
      "Nombre de prix estimés:                            26819\n",
      "Nombre de prix pour la comparaison:                26819\n"
     ]
    },
    {
     "data": {
      "image/png": "[encoded data removed]",
      "text/plain": [
       "<Figure size 1500x1050 with 9 Axes>"
      ]
     },
     "metadata": {},
     "output_type": "display_data"
    }
   ],
   "source": [
    "performance_of_simulations('Comparaison des estimations de prix',  ['A_Prix_estimé_mean', 'B_Prix_estimé_median', 'G_Prix_estimé_LassoCV'])"
   ]
  },
  {
   "cell_type": "code",
   "execution_count": null,
   "id": "a9febdcf-9bb2-4968-9c1a-984d57e71c51",
   "metadata": {},
   "outputs": [],
   "source": []
  }
 ],
 "metadata": {
  "kernelspec": {
   "display_name": "Python 3 (ipykernel)",
   "language": "python",
   "name": "python3"
  },
  "language_info": {
   "codemirror_mode": {
    "name": "ipython",
    "version": 3
   },
   "file_extension": ".py",
   "mimetype": "text/x-python",
   "name": "python",
   "nbconvert_exporter": "python",
   "pygments_lexer": "ipython3",
   "version": "3.9.18"
  },
  "toc-autonumbering": true
 },
 "nbformat": 4,
 "nbformat_minor": 5
}
